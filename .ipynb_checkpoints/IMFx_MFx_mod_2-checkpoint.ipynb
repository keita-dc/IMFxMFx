{
 "cells": [
  {
   "cell_type": "code",
   "execution_count": 1,
   "metadata": {},
   "outputs": [],
   "source": [
    "import pandas as pd\n",
    "import numpy as np"
   ]
  },
  {
   "cell_type": "code",
   "execution_count": 13,
   "metadata": {},
   "outputs": [],
   "source": [
    "bahamas = pd.read_excel(\"data/Module2_Caribbean_Assessment_File.xlsx\", \n",
    "                        sheet_name=\"Bahamas\",\n",
    "                        index_col=0, \n",
    "                        header=[0, 1])"
   ]
  },
  {
   "cell_type": "code",
   "execution_count": 15,
   "metadata": {},
   "outputs": [],
   "source": [
    "jamaica = pd.read_excel(\"data/Module2_Caribbean_Assessment_File.xlsx\", \n",
    "                        sheet_name=\"Jamaica\",\n",
    "                        index_col=0, \n",
    "                        header=[0, 1])"
   ]
  },
  {
   "cell_type": "code",
   "execution_count": 16,
   "metadata": {},
   "outputs": [],
   "source": [
    "trinidad = pd.read_excel(\"data/Module2_Caribbean_Assessment_File.xlsx\", \n",
    "                        sheet_name=\"Trinidad\",\n",
    "                        index_col=0, \n",
    "                        header=[0, 1])"
   ]
  },
  {
   "cell_type": "code",
   "execution_count": 17,
   "metadata": {},
   "outputs": [],
   "source": [
    "dominican = pd.read_excel(\"data/Module2_Caribbean_Assessment_File.xlsx\", \n",
    "                        sheet_name=\"Dominican\",\n",
    "                        index_col=0, \n",
    "                        header=[0, 1])"
   ]
  },
  {
   "cell_type": "code",
   "execution_count": 18,
   "metadata": {},
   "outputs": [],
   "source": [
    "atlantis = pd.read_excel(\"data/Module2_Caribbean_Assessment_File.xlsx\", \n",
    "                        sheet_name=\"Atlantis\",\n",
    "                        index_col=0, \n",
    "                        header=[0, 1])"
   ]
  },
  {
   "cell_type": "code",
   "execution_count": null,
   "metadata": {},
   "outputs": [],
   "source": []
  }
 ],
 "metadata": {
  "kernelspec": {
   "display_name": "Python 3",
   "language": "python",
   "name": "python3"
  },
  "language_info": {
   "codemirror_mode": {
    "name": "ipython",
    "version": 3
   },
   "file_extension": ".py",
   "mimetype": "text/x-python",
   "name": "python",
   "nbconvert_exporter": "python",
   "pygments_lexer": "ipython3",
   "version": "3.7.3"
  }
 },
 "nbformat": 4,
 "nbformat_minor": 2
}
