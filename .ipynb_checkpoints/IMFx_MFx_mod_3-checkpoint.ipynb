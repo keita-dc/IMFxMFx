{
 "cells": [
  {
   "cell_type": "code",
   "execution_count": 28,
   "metadata": {},
   "outputs": [],
   "source": [
    "import matplotlib.pyplot as plt\n",
    "import numpy as np\n",
    "import pandas as pd\n",
    "import seaborn as sns\n",
    "import statsmodels.api as sm\n",
    "import statsmodels.formula.api as smf\n",
    "import statsmodels.stats as st\n",
    "import statsmodels.tsa as ts\n",
    "\n",
    "from statsmodels.graphics.tsaplots import plot_acf, plot_pacf\n",
    "\n",
    "%matplotlib inline\n",
    "plt.style.use(\"ggplot\")\n",
    "sns.set_context(\"talk\")"
   ]
  },
  {
   "cell_type": "markdown",
   "metadata": {},
   "source": [
    "## Question 3.8"
   ]
  },
  {
   "cell_type": "code",
   "execution_count": 3,
   "metadata": {},
   "outputs": [],
   "source": [
    "df = pd.read_csv(\"data/module3_data_Identifying_ARMA.csv\")"
   ]
  },
  {
   "cell_type": "code",
   "execution_count": 4,
   "metadata": {},
   "outputs": [
    {
     "data": {
      "text/html": [
       "<div>\n",
       "<style scoped>\n",
       "    .dataframe tbody tr th:only-of-type {\n",
       "        vertical-align: middle;\n",
       "    }\n",
       "\n",
       "    .dataframe tbody tr th {\n",
       "        vertical-align: top;\n",
       "    }\n",
       "\n",
       "    .dataframe thead th {\n",
       "        text-align: right;\n",
       "    }\n",
       "</style>\n",
       "<table border=\"1\" class=\"dataframe\">\n",
       "  <thead>\n",
       "    <tr style=\"text-align: right;\">\n",
       "      <th></th>\n",
       "      <th>et</th>\n",
       "    </tr>\n",
       "  </thead>\n",
       "  <tbody>\n",
       "    <tr>\n",
       "      <th>count</th>\n",
       "      <td>500.000000</td>\n",
       "    </tr>\n",
       "    <tr>\n",
       "      <th>mean</th>\n",
       "      <td>-0.028460</td>\n",
       "    </tr>\n",
       "    <tr>\n",
       "      <th>std</th>\n",
       "      <td>0.982000</td>\n",
       "    </tr>\n",
       "    <tr>\n",
       "      <th>min</th>\n",
       "      <td>-3.106688</td>\n",
       "    </tr>\n",
       "    <tr>\n",
       "      <th>25%</th>\n",
       "      <td>-0.722506</td>\n",
       "    </tr>\n",
       "    <tr>\n",
       "      <th>50%</th>\n",
       "      <td>-0.025935</td>\n",
       "    </tr>\n",
       "    <tr>\n",
       "      <th>75%</th>\n",
       "      <td>0.620061</td>\n",
       "    </tr>\n",
       "    <tr>\n",
       "      <th>max</th>\n",
       "      <td>2.988090</td>\n",
       "    </tr>\n",
       "  </tbody>\n",
       "</table>\n",
       "</div>"
      ],
      "text/plain": [
       "               et\n",
       "count  500.000000\n",
       "mean    -0.028460\n",
       "std      0.982000\n",
       "min     -3.106688\n",
       "25%     -0.722506\n",
       "50%     -0.025935\n",
       "75%      0.620061\n",
       "max      2.988090"
      ]
     },
     "execution_count": 4,
     "metadata": {},
     "output_type": "execute_result"
    }
   ],
   "source": [
    "df.describe()"
   ]
  },
  {
   "cell_type": "code",
   "execution_count": 6,
   "metadata": {},
   "outputs": [
    {
     "data": {
      "image/png": "[encoded data removed]",
      "text/plain": [
       "<Figure size 432x288 with 1 Axes>"
      ]
     },
     "metadata": {
      "needs_background": "light"
     },
     "output_type": "display_data"
    }
   ],
   "source": [
    "plt.plot(df.et)\n",
    "plt.show()"
   ]
  },
  {
   "cell_type": "code",
   "execution_count": 9,
   "metadata": {},
   "outputs": [
    {
     "data": {
      "text/html": [
       "<div>\n",
       "<style scoped>\n",
       "    .dataframe tbody tr th:only-of-type {\n",
       "        vertical-align: middle;\n",
       "    }\n",
       "\n",
       "    .dataframe tbody tr th {\n",
       "        vertical-align: top;\n",
       "    }\n",
       "\n",
       "    .dataframe thead th {\n",
       "        text-align: right;\n",
       "    }\n",
       "</style>\n",
       "<table border=\"1\" class=\"dataframe\">\n",
       "  <thead>\n",
       "    <tr style=\"text-align: right;\">\n",
       "      <th></th>\n",
       "      <th>et</th>\n",
       "    </tr>\n",
       "  </thead>\n",
       "  <tbody>\n",
       "    <tr>\n",
       "      <th>0</th>\n",
       "      <td>-1.213866</td>\n",
       "    </tr>\n",
       "    <tr>\n",
       "      <th>1</th>\n",
       "      <td>-0.285460</td>\n",
       "    </tr>\n",
       "    <tr>\n",
       "      <th>2</th>\n",
       "      <td>0.590270</td>\n",
       "    </tr>\n",
       "    <tr>\n",
       "      <th>3</th>\n",
       "      <td>0.828546</td>\n",
       "    </tr>\n",
       "    <tr>\n",
       "      <th>4</th>\n",
       "      <td>-0.995426</td>\n",
       "    </tr>\n",
       "  </tbody>\n",
       "</table>\n",
       "</div>"
      ],
      "text/plain": [
       "         et\n",
       "0 -1.213866\n",
       "1 -0.285460\n",
       "2  0.590270\n",
       "3  0.828546\n",
       "4 -0.995426"
      ]
     },
     "execution_count": 9,
     "metadata": {},
     "output_type": "execute_result"
    }
   ],
   "source": [
    "df.head()"
   ]
  },
  {
   "cell_type": "markdown",
   "metadata": {},
   "source": [
    "## Question 3.9\n",
    "\n",
    "Using et as the white noise disturbance, and assuming the initial value of y to be equal to zero generate a new random variable yar, which follows the following AR(1) process:\n",
    "\n",
    "yt = 3.0 + 0.55 yt-1 + et\n",
    "\n",
    "Enter the value of the 5th observation of variable yar (to three decimal places, without any rounding):"
   ]
  },
  {
   "cell_type": "code",
   "execution_count": 20,
   "metadata": {},
   "outputs": [],
   "source": [
    "y = [0]\n",
    "for i in range(1, 500):\n",
    "    y.append(3+0.55*y[i-1]+df.et.iloc[i])\n",
    "ar = pd.DataFrame(y)"
   ]
  },
  {
   "cell_type": "code",
   "execution_count": 22,
   "metadata": {},
   "outputs": [
    {
     "data": {
      "text/html": [
       "<div>\n",
       "<style scoped>\n",
       "    .dataframe tbody tr th:only-of-type {\n",
       "        vertical-align: middle;\n",
       "    }\n",
       "\n",
       "    .dataframe tbody tr th {\n",
       "        vertical-align: top;\n",
       "    }\n",
       "\n",
       "    .dataframe thead th {\n",
       "        text-align: right;\n",
       "    }\n",
       "</style>\n",
       "<table border=\"1\" class=\"dataframe\">\n",
       "  <thead>\n",
       "    <tr style=\"text-align: right;\">\n",
       "      <th></th>\n",
       "      <th>0</th>\n",
       "    </tr>\n",
       "  </thead>\n",
       "  <tbody>\n",
       "    <tr>\n",
       "      <th>0</th>\n",
       "      <td>0.000000</td>\n",
       "    </tr>\n",
       "    <tr>\n",
       "      <th>1</th>\n",
       "      <td>2.714540</td>\n",
       "    </tr>\n",
       "    <tr>\n",
       "      <th>2</th>\n",
       "      <td>5.083267</td>\n",
       "    </tr>\n",
       "    <tr>\n",
       "      <th>3</th>\n",
       "      <td>6.624343</td>\n",
       "    </tr>\n",
       "    <tr>\n",
       "      <th>4</th>\n",
       "      <td>5.647963</td>\n",
       "    </tr>\n",
       "  </tbody>\n",
       "</table>\n",
       "</div>"
      ],
      "text/plain": [
       "          0\n",
       "0  0.000000\n",
       "1  2.714540\n",
       "2  5.083267\n",
       "3  6.624343\n",
       "4  5.647963"
      ]
     },
     "execution_count": 22,
     "metadata": {},
     "output_type": "execute_result"
    }
   ],
   "source": [
    "ar.head()"
   ]
  },
  {
   "cell_type": "markdown",
   "metadata": {},
   "source": [
    "## Question 3.10\n",
    "Also using et as the white noise disturbance and again assuming that the initial value of y is equal to zero, generate the variable yma which follows the following MA(1) process:\n",
    "\n",
    "yt = -2.5 + et + 0.70et-1\n",
    "\n",
    "Enter the value of the 5th observation of variable yma (to three decimal places, without any rounding):"
   ]
  },
  {
   "cell_type": "code",
   "execution_count": 23,
   "metadata": {},
   "outputs": [
    {
     "data": {
      "text/html": [
       "<div>\n",
       "<style scoped>\n",
       "    .dataframe tbody tr th:only-of-type {\n",
       "        vertical-align: middle;\n",
       "    }\n",
       "\n",
       "    .dataframe tbody tr th {\n",
       "        vertical-align: top;\n",
       "    }\n",
       "\n",
       "    .dataframe thead th {\n",
       "        text-align: right;\n",
       "    }\n",
       "</style>\n",
       "<table border=\"1\" class=\"dataframe\">\n",
       "  <thead>\n",
       "    <tr style=\"text-align: right;\">\n",
       "      <th></th>\n",
       "      <th>0</th>\n",
       "    </tr>\n",
       "  </thead>\n",
       "  <tbody>\n",
       "    <tr>\n",
       "      <th>0</th>\n",
       "      <td>0.000000</td>\n",
       "    </tr>\n",
       "    <tr>\n",
       "      <th>1</th>\n",
       "      <td>-3.635166</td>\n",
       "    </tr>\n",
       "    <tr>\n",
       "      <th>2</th>\n",
       "      <td>-2.109552</td>\n",
       "    </tr>\n",
       "    <tr>\n",
       "      <th>3</th>\n",
       "      <td>-1.258265</td>\n",
       "    </tr>\n",
       "    <tr>\n",
       "      <th>4</th>\n",
       "      <td>-2.915444</td>\n",
       "    </tr>\n",
       "  </tbody>\n",
       "</table>\n",
       "</div>"
      ],
      "text/plain": [
       "          0\n",
       "0  0.000000\n",
       "1 -3.635166\n",
       "2 -2.109552\n",
       "3 -1.258265\n",
       "4 -2.915444"
      ]
     },
     "execution_count": 23,
     "metadata": {},
     "output_type": "execute_result"
    }
   ],
   "source": [
    "y = [0]\n",
    "for i in range(1, 500):\n",
    "    y.append(-2.5+df.et.iloc[i]+0.7*df.et.iloc[i-1])\n",
    "ma = pd.DataFrame(y)\n",
    "ma.head()"
   ]
  },
  {
   "cell_type": "markdown",
   "metadata": {},
   "source": [
    "## Question 3.11\n",
    "\n",
    "Based on the patterns of ACF and PACF observed in the past lecture for an AR(1) process, which of the following statements is true?"
   ]
  },
  {
   "cell_type": "code",
   "execution_count": 47,
   "metadata": {},
   "outputs": [
    {
     "name": "stderr",
     "output_type": "stream",
     "text": [
      "/Users/kmiyaki/anaconda3/lib/python3.7/site-packages/statsmodels/regression/linear_model.py:1283: RuntimeWarning: invalid value encountered in sqrt\n",
      "  return rho, np.sqrt(sigmasq)\n"
     ]
    },
    {
     "data": {
      "image/png": "[encoded data removed]",
      "text/plain": [
       "<Figure size 864x576 with 2 Axes>"
      ]
     },
     "metadata": {},
     "output_type": "display_data"
    }
   ],
   "source": [
    "fig, ax = plt.subplots(2, 1, figsize=(12,8))\n",
    "\n",
    "plot_acf(ar[:20], ax = ax[0])\n",
    "plot_pacf(ar[:20], ax = ax[1])\n",
    "plt.tight_layout()\n",
    "plt.show()"
   ]
  },
  {
   "cell_type": "code",
   "execution_count": 48,
   "metadata": {
    "scrolled": true
   },
   "outputs": [
    {
     "data": {
      "image/png": "[encoded data removed]",
      "text/plain": [
       "<Figure size 864x576 with 2 Axes>"
      ]
     },
     "metadata": {},
     "output_type": "display_data"
    }
   ],
   "source": [
    "fig, ax = plt.subplots(2, 1, figsize=(12,8))\n",
    "\n",
    "plot_acf(ma[:20], ax = ax[0])\n",
    "plot_pacf(ma[:20], ax = ax[1])\n",
    "plt.tight_layout()\n",
    "plt.show()"
   ]
  },
  {
   "cell_type": "markdown",
   "metadata": {},
   "source": [
    "## Question 3.12\n",
    "\n",
    "Lastly, also using et as the white noise disturbance and assuming that the initial value of y is equal to zero, generate variable yarma which follows an ARMA(1,1) process:\n",
    "\n",
    "yt = 0.5 + 0.55yt-1 + et + 0.70et-1\n",
    "\n",
    "Enter the value of the 5th observation of yarma (to three decimal places, without any rounding):"
   ]
  },
  {
   "cell_type": "code",
   "execution_count": 50,
   "metadata": {},
   "outputs": [
    {
     "data": {
      "text/html": [
       "<div>\n",
       "<style scoped>\n",
       "    .dataframe tbody tr th:only-of-type {\n",
       "        vertical-align: middle;\n",
       "    }\n",
       "\n",
       "    .dataframe tbody tr th {\n",
       "        vertical-align: top;\n",
       "    }\n",
       "\n",
       "    .dataframe thead th {\n",
       "        text-align: right;\n",
       "    }\n",
       "</style>\n",
       "<table border=\"1\" class=\"dataframe\">\n",
       "  <thead>\n",
       "    <tr style=\"text-align: right;\">\n",
       "      <th></th>\n",
       "      <th>0</th>\n",
       "    </tr>\n",
       "  </thead>\n",
       "  <tbody>\n",
       "    <tr>\n",
       "      <th>0</th>\n",
       "      <td>0.000000</td>\n",
       "    </tr>\n",
       "    <tr>\n",
       "      <th>1</th>\n",
       "      <td>-0.635166</td>\n",
       "    </tr>\n",
       "    <tr>\n",
       "      <th>2</th>\n",
       "      <td>0.541107</td>\n",
       "    </tr>\n",
       "    <tr>\n",
       "      <th>3</th>\n",
       "      <td>2.039344</td>\n",
       "    </tr>\n",
       "    <tr>\n",
       "      <th>4</th>\n",
       "      <td>1.206196</td>\n",
       "    </tr>\n",
       "  </tbody>\n",
       "</table>\n",
       "</div>"
      ],
      "text/plain": [
       "          0\n",
       "0  0.000000\n",
       "1 -0.635166\n",
       "2  0.541107\n",
       "3  2.039344\n",
       "4  1.206196"
      ]
     },
     "execution_count": 50,
     "metadata": {},
     "output_type": "execute_result"
    }
   ],
   "source": [
    "y = [0]\n",
    "for i in range(1, 500):\n",
    "    y.append(0.5+0.55*y[i-1]+df.et.iloc[i]+0.7*df.et.iloc[i-1])\n",
    "arma = pd.DataFrame(y)\n",
    "arma.head()"
   ]
  },
  {
   "cell_type": "markdown",
   "metadata": {},
   "source": [
    "## Question 3.13\n",
    "\n",
    "Using EViews, compute the ACF at lags 1-20 for the four series: et and Variables yar,yma and yarma.\n",
    "\n",
    "Enter the values (using 3 decimal places, without rounding) of the ACF at one lag for each series below:"
   ]
  },
  {
   "cell_type": "code",
   "execution_count": 51,
   "metadata": {},
   "outputs": [
    {
     "data": {
      "image/png": "[encoded data removed]",
      "text/plain": [
       "<Figure size 864x576 with 2 Axes>"
      ]
     },
     "metadata": {},
     "output_type": "display_data"
    }
   ],
   "source": [
    "fig, ax = plt.subplots(2, 1, figsize=(12,8))\n",
    "\n",
    "plot_acf(arma[:20], ax = ax[0])\n",
    "plot_pacf(arma[:20], ax = ax[1])\n",
    "plt.tight_layout()\n",
    "plt.show()"
   ]
  },
  {
   "cell_type": "code",
   "execution_count": 57,
   "metadata": {},
   "outputs": [
    {
     "data": {
      "text/html": [
       "<div>\n",
       "<style scoped>\n",
       "    .dataframe tbody tr th:only-of-type {\n",
       "        vertical-align: middle;\n",
       "    }\n",
       "\n",
       "    .dataframe tbody tr th {\n",
       "        vertical-align: top;\n",
       "    }\n",
       "\n",
       "    .dataframe thead th {\n",
       "        text-align: right;\n",
       "    }\n",
       "</style>\n",
       "<table border=\"1\" class=\"dataframe\">\n",
       "  <thead>\n",
       "    <tr style=\"text-align: right;\">\n",
       "      <th></th>\n",
       "      <th>e_acf</th>\n",
       "      <th>e_pacf</th>\n",
       "      <th>ar_acf</th>\n",
       "      <th>ar_pacf</th>\n",
       "      <th>ma_acf</th>\n",
       "      <th>ma_pacf</th>\n",
       "      <th>arma_acf</th>\n",
       "      <th>arma_pacf</th>\n",
       "    </tr>\n",
       "  </thead>\n",
       "  <tbody>\n",
       "    <tr>\n",
       "      <th>0</th>\n",
       "      <td>1.000000</td>\n",
       "      <td>1.000000</td>\n",
       "      <td>1.000000</td>\n",
       "      <td>1.000000</td>\n",
       "      <td>1.000000</td>\n",
       "      <td>1.000000</td>\n",
       "      <td>1.000000</td>\n",
       "      <td>1.000000</td>\n",
       "    </tr>\n",
       "    <tr>\n",
       "      <th>1</th>\n",
       "      <td>0.023594</td>\n",
       "      <td>0.023641</td>\n",
       "      <td>0.521210</td>\n",
       "      <td>0.522255</td>\n",
       "      <td>0.426138</td>\n",
       "      <td>0.426992</td>\n",
       "      <td>0.726569</td>\n",
       "      <td>0.728025</td>\n",
       "    </tr>\n",
       "    <tr>\n",
       "      <th>2</th>\n",
       "      <td>-0.099056</td>\n",
       "      <td>-0.100069</td>\n",
       "      <td>0.206370</td>\n",
       "      <td>-0.090136</td>\n",
       "      <td>-0.101540</td>\n",
       "      <td>-0.347655</td>\n",
       "      <td>0.330865</td>\n",
       "      <td>-0.420928</td>\n",
       "    </tr>\n",
       "    <tr>\n",
       "      <th>3</th>\n",
       "      <td>-0.035888</td>\n",
       "      <td>-0.031485</td>\n",
       "      <td>0.101498</td>\n",
       "      <td>0.043281</td>\n",
       "      <td>-0.068151</td>\n",
       "      <td>0.192736</td>\n",
       "      <td>0.155564</td>\n",
       "      <td>0.308512</td>\n",
       "    </tr>\n",
       "    <tr>\n",
       "      <th>4</th>\n",
       "      <td>0.013577</td>\n",
       "      <td>0.005448</td>\n",
       "      <td>0.088785</td>\n",
       "      <td>0.044648</td>\n",
       "      <td>0.016686</td>\n",
       "      <td>-0.098503</td>\n",
       "      <td>0.107213</td>\n",
       "      <td>-0.151185</td>\n",
       "    </tr>\n",
       "    <tr>\n",
       "      <th>5</th>\n",
       "      <td>0.051095</td>\n",
       "      <td>0.044981</td>\n",
       "      <td>0.082768</td>\n",
       "      <td>0.023223</td>\n",
       "      <td>0.050354</td>\n",
       "      <td>0.107029</td>\n",
       "      <td>0.084684</td>\n",
       "      <td>0.108509</td>\n",
       "    </tr>\n",
       "    <tr>\n",
       "      <th>6</th>\n",
       "      <td>-0.001467</td>\n",
       "      <td>-0.002975</td>\n",
       "      <td>0.041493</td>\n",
       "      <td>-0.023010</td>\n",
       "      <td>0.008557</td>\n",
       "      <td>-0.086032</td>\n",
       "      <td>0.042258</td>\n",
       "      <td>-0.118035</td>\n",
       "    </tr>\n",
       "    <tr>\n",
       "      <th>7</th>\n",
       "      <td>-0.023221</td>\n",
       "      <td>-0.013609</td>\n",
       "      <td>0.007945</td>\n",
       "      <td>-0.009869</td>\n",
       "      <td>-0.028397</td>\n",
       "      <td>0.038946</td>\n",
       "      <td>0.002135</td>\n",
       "      <td>0.067002</td>\n",
       "    </tr>\n",
       "    <tr>\n",
       "      <th>8</th>\n",
       "      <td>-0.003434</td>\n",
       "      <td>-0.000108</td>\n",
       "      <td>-0.002512</td>\n",
       "      <td>-0.002472</td>\n",
       "      <td>-0.033987</td>\n",
       "      <td>-0.058222</td>\n",
       "      <td>-0.017059</td>\n",
       "      <td>-0.064260</td>\n",
       "    </tr>\n",
       "    <tr>\n",
       "      <th>9</th>\n",
       "      <td>-0.037518</td>\n",
       "      <td>-0.043278</td>\n",
       "      <td>-0.018883</td>\n",
       "      <td>-0.025816</td>\n",
       "      <td>-0.037287</td>\n",
       "      <td>-0.002448</td>\n",
       "      <td>-0.017943</td>\n",
       "      <td>0.046820</td>\n",
       "    </tr>\n",
       "    <tr>\n",
       "      <th>10</th>\n",
       "      <td>0.001835</td>\n",
       "      <td>0.000029</td>\n",
       "      <td>0.002684</td>\n",
       "      <td>0.031525</td>\n",
       "      <td>0.001880</td>\n",
       "      <td>0.020287</td>\n",
       "      <td>0.005007</td>\n",
       "      <td>0.018002</td>\n",
       "    </tr>\n",
       "    <tr>\n",
       "      <th>11</th>\n",
       "      <td>0.028262</td>\n",
       "      <td>0.021751</td>\n",
       "      <td>0.028925</td>\n",
       "      <td>0.024881</td>\n",
       "      <td>0.045005</td>\n",
       "      <td>0.029324</td>\n",
       "      <td>0.029184</td>\n",
       "      <td>0.009750</td>\n",
       "    </tr>\n",
       "    <tr>\n",
       "      <th>12</th>\n",
       "      <td>0.044674</td>\n",
       "      <td>0.044877</td>\n",
       "      <td>0.016417</td>\n",
       "      <td>-0.015999</td>\n",
       "      <td>0.034280</td>\n",
       "      <td>0.002227</td>\n",
       "      <td>0.020376</td>\n",
       "      <td>-0.040492</td>\n",
       "    </tr>\n",
       "    <tr>\n",
       "      <th>13</th>\n",
       "      <td>-0.043683</td>\n",
       "      <td>-0.041907</td>\n",
       "      <td>-0.036357</td>\n",
       "      <td>-0.056400</td>\n",
       "      <td>-0.034548</td>\n",
       "      <td>-0.054869</td>\n",
       "      <td>-0.011830</td>\n",
       "      <td>-0.011319</td>\n",
       "    </tr>\n",
       "    <tr>\n",
       "      <th>14</th>\n",
       "      <td>-0.030778</td>\n",
       "      <td>-0.016450</td>\n",
       "      <td>-0.044318</td>\n",
       "      <td>0.002521</td>\n",
       "      <td>-0.030963</td>\n",
       "      <td>0.043457</td>\n",
       "      <td>-0.011339</td>\n",
       "      <td>0.058674</td>\n",
       "    </tr>\n",
       "    <tr>\n",
       "      <th>15</th>\n",
       "      <td>0.023208</td>\n",
       "      <td>0.018952</td>\n",
       "      <td>-0.002812</td>\n",
       "      <td>0.033648</td>\n",
       "      <td>0.042402</td>\n",
       "      <td>0.024267</td>\n",
       "      <td>0.026633</td>\n",
       "      <td>0.012813</td>\n",
       "    </tr>\n",
       "    <tr>\n",
       "      <th>16</th>\n",
       "      <td>0.052657</td>\n",
       "      <td>0.042428</td>\n",
       "      <td>0.024062</td>\n",
       "      <td>0.011554</td>\n",
       "      <td>0.079839</td>\n",
       "      <td>0.051561</td>\n",
       "      <td>0.045915</td>\n",
       "      <td>-0.012032</td>\n",
       "    </tr>\n",
       "    <tr>\n",
       "      <th>17</th>\n",
       "      <td>0.023081</td>\n",
       "      <td>0.021495</td>\n",
       "      <td>-0.000590</td>\n",
       "      <td>-0.028850</td>\n",
       "      <td>0.028564</td>\n",
       "      <td>-0.034904</td>\n",
       "      <td>0.009815</td>\n",
       "      <td>-0.068672</td>\n",
       "    </tr>\n",
       "    <tr>\n",
       "      <th>18</th>\n",
       "      <td>-0.054474</td>\n",
       "      <td>-0.044087</td>\n",
       "      <td>-0.041326</td>\n",
       "      <td>-0.036069</td>\n",
       "      <td>-0.039571</td>\n",
       "      <td>-0.010143</td>\n",
       "      <td>-0.042540</td>\n",
       "      <td>-0.000150</td>\n",
       "    </tr>\n",
       "    <tr>\n",
       "      <th>19</th>\n",
       "      <td>0.003674</td>\n",
       "      <td>0.016976</td>\n",
       "      <td>-0.032638</td>\n",
       "      <td>0.014198</td>\n",
       "      <td>-0.074931</td>\n",
       "      <td>-0.067063</td>\n",
       "      <td>-0.070750</td>\n",
       "      <td>-0.047335</td>\n",
       "    </tr>\n",
       "  </tbody>\n",
       "</table>\n",
       "</div>"
      ],
      "text/plain": [
       "       e_acf    e_pacf    ar_acf   ar_pacf    ma_acf   ma_pacf  arma_acf  \\\n",
       "0   1.000000  1.000000  1.000000  1.000000  1.000000  1.000000  1.000000   \n",
       "1   0.023594  0.023641  0.521210  0.522255  0.426138  0.426992  0.726569   \n",
       "2  -0.099056 -0.100069  0.206370 -0.090136 -0.101540 -0.347655  0.330865   \n",
       "3  -0.035888 -0.031485  0.101498  0.043281 -0.068151  0.192736  0.155564   \n",
       "4   0.013577  0.005448  0.088785  0.044648  0.016686 -0.098503  0.107213   \n",
       "5   0.051095  0.044981  0.082768  0.023223  0.050354  0.107029  0.084684   \n",
       "6  -0.001467 -0.002975  0.041493 -0.023010  0.008557 -0.086032  0.042258   \n",
       "7  -0.023221 -0.013609  0.007945 -0.009869 -0.028397  0.038946  0.002135   \n",
       "8  -0.003434 -0.000108 -0.002512 -0.002472 -0.033987 -0.058222 -0.017059   \n",
       "9  -0.037518 -0.043278 -0.018883 -0.025816 -0.037287 -0.002448 -0.017943   \n",
       "10  0.001835  0.000029  0.002684  0.031525  0.001880  0.020287  0.005007   \n",
       "11  0.028262  0.021751  0.028925  0.024881  0.045005  0.029324  0.029184   \n",
       "12  0.044674  0.044877  0.016417 -0.015999  0.034280  0.002227  0.020376   \n",
       "13 -0.043683 -0.041907 -0.036357 -0.056400 -0.034548 -0.054869 -0.011830   \n",
       "14 -0.030778 -0.016450 -0.044318  0.002521 -0.030963  0.043457 -0.011339   \n",
       "15  0.023208  0.018952 -0.002812  0.033648  0.042402  0.024267  0.026633   \n",
       "16  0.052657  0.042428  0.024062  0.011554  0.079839  0.051561  0.045915   \n",
       "17  0.023081  0.021495 -0.000590 -0.028850  0.028564 -0.034904  0.009815   \n",
       "18 -0.054474 -0.044087 -0.041326 -0.036069 -0.039571 -0.010143 -0.042540   \n",
       "19  0.003674  0.016976 -0.032638  0.014198 -0.074931 -0.067063 -0.070750   \n",
       "\n",
       "    arma_pacf  \n",
       "0    1.000000  \n",
       "1    0.728025  \n",
       "2   -0.420928  \n",
       "3    0.308512  \n",
       "4   -0.151185  \n",
       "5    0.108509  \n",
       "6   -0.118035  \n",
       "7    0.067002  \n",
       "8   -0.064260  \n",
       "9    0.046820  \n",
       "10   0.018002  \n",
       "11   0.009750  \n",
       "12  -0.040492  \n",
       "13  -0.011319  \n",
       "14   0.058674  \n",
       "15   0.012813  \n",
       "16  -0.012032  \n",
       "17  -0.068672  \n",
       "18  -0.000150  \n",
       "19  -0.047335  "
      ]
     },
     "execution_count": 57,
     "metadata": {},
     "output_type": "execute_result"
    }
   ],
   "source": [
    "pd.DataFrame([ts.stattools.acf(df.et),\n",
    "              ts.stattools.pacf(df.et),\n",
    "              ts.stattools.acf(ar),\n",
    "              ts.stattools.pacf(ar),\n",
    "              ts.stattools.acf(ma),\n",
    "              ts.stattools.pacf(ma),\n",
    "              ts.stattools.acf(arma),\n",
    "              ts.stattools.pacf(arma)\n",
    "             ],\n",
    "             index=[\"e_acf\",\n",
    "                    \"e_pacf\",\n",
    "                    \"ar_acf\",\n",
    "                    \"ar_pacf\",\n",
    "                    \"ma_acf\",\n",
    "                    \"ma_pacf\",\n",
    "                    \"arma_acf\",\n",
    "                    \"arma_pacf\"\n",
    "                   ]\n",
    "            ).T.head(20)"
   ]
  },
  {
   "cell_type": "markdown",
   "metadata": {},
   "source": [
    "Consider the following three models that have been estimated for pe_ind (the stock market price-earnings ratio in India).\n",
    "\n",
    "Model 1 is an AR(1); \n",
    "Model 2 has AR terms at lags 1 and 8 only;\n",
    "Model 3 has AR terms at lags 1 and 8, and an MA term at lag 8.\n",
    "\n",
    "For each model, the regression results and the ACF, PACF and Q-Statistics for the residuals are shown below:\n",
    "\n",
    "## Question 3.20\n",
    "\n",
    "Which model has the lowest Sum of Squared Residuals (SSR)?"
   ]
  },
  {
   "cell_type": "code",
   "execution_count": 84,
   "metadata": {},
   "outputs": [],
   "source": [
    "df_pe = pd.read_csv(\"data/module3_data_PE_Ratios.csv\")"
   ]
  },
  {
   "cell_type": "code",
   "execution_count": 85,
   "metadata": {},
   "outputs": [
    {
     "name": "stderr",
     "output_type": "stream",
     "text": [
      "/Users/kmiyaki/anaconda3/lib/python3.7/site-packages/statsmodels/tsa/base/tsa_model.py:221: ValueWarning: An unsupported index was provided and will be ignored when e.g. forecasting.\n",
      "  ' ignored when e.g. forecasting.', ValueWarning)\n"
     ]
    },
    {
     "data": {
      "text/html": [
       "<table class=\"simpletable\">\n",
       "<caption>ARMA Model Results</caption>\n",
       "<tr>\n",
       "  <th>Dep. Variable:</th>      <td>pe_ind</td>      <th>  No. Observations:  </th>    <td>182</td>  \n",
       "</tr>\n",
       "<tr>\n",
       "  <th>Model:</th>            <td>ARMA(1, 0)</td>    <th>  Log Likelihood     </th> <td>-311.138</td>\n",
       "</tr>\n",
       "<tr>\n",
       "  <th>Method:</th>             <td>css-mle</td>     <th>  S.D. of innovations</th>   <td>1.331</td> \n",
       "</tr>\n",
       "<tr>\n",
       "  <th>Date:</th>          <td>Thu, 07 Nov 2019</td> <th>  AIC                </th>  <td>628.276</td>\n",
       "</tr>\n",
       "<tr>\n",
       "  <th>Time:</th>              <td>16:53:36</td>     <th>  BIC                </th>  <td>637.888</td>\n",
       "</tr>\n",
       "<tr>\n",
       "  <th>Sample:</th>                <td>0</td>        <th>  HQIC               </th>  <td>632.173</td>\n",
       "</tr>\n",
       "<tr>\n",
       "  <th></th>                       <td> </td>        <th>                     </th>     <td> </td>   \n",
       "</tr>\n",
       "</table>\n",
       "<table class=\"simpletable\">\n",
       "<tr>\n",
       "        <td></td>          <th>coef</th>     <th>std err</th>      <th>z</th>      <th>P>|z|</th>  <th>[0.025</th>    <th>0.975]</th>  \n",
       "</tr>\n",
       "<tr>\n",
       "  <th>const</th>        <td>   17.3198</td> <td>    1.019</td> <td>   16.998</td> <td> 0.000</td> <td>   15.323</td> <td>   19.317</td>\n",
       "</tr>\n",
       "<tr>\n",
       "  <th>ar.L1.pe_ind</th> <td>    0.9079</td> <td>    0.030</td> <td>   30.223</td> <td> 0.000</td> <td>    0.849</td> <td>    0.967</td>\n",
       "</tr>\n",
       "</table>\n",
       "<table class=\"simpletable\">\n",
       "<caption>Roots</caption>\n",
       "<tr>\n",
       "    <td></td>   <th>            Real</th>  <th>         Imaginary</th> <th>         Modulus</th>  <th>        Frequency</th>\n",
       "</tr>\n",
       "<tr>\n",
       "  <th>AR.1</th> <td>           1.1014</td> <td>          +0.0000j</td> <td>           1.1014</td> <td>           0.0000</td>\n",
       "</tr>\n",
       "</table>"
      ],
      "text/plain": [
       "<class 'statsmodels.iolib.summary.Summary'>\n",
       "\"\"\"\n",
       "                              ARMA Model Results                              \n",
       "==============================================================================\n",
       "Dep. Variable:                 pe_ind   No. Observations:                  182\n",
       "Model:                     ARMA(1, 0)   Log Likelihood                -311.138\n",
       "Method:                       css-mle   S.D. of innovations              1.331\n",
       "Date:                Thu, 07 Nov 2019   AIC                            628.276\n",
       "Time:                        16:53:36   BIC                            637.888\n",
       "Sample:                             0   HQIC                           632.173\n",
       "                                                                              \n",
       "================================================================================\n",
       "                   coef    std err          z      P>|z|      [0.025      0.975]\n",
       "--------------------------------------------------------------------------------\n",
       "const           17.3198      1.019     16.998      0.000      15.323      19.317\n",
       "ar.L1.pe_ind     0.9079      0.030     30.223      0.000       0.849       0.967\n",
       "                                    Roots                                    \n",
       "=============================================================================\n",
       "                  Real          Imaginary           Modulus         Frequency\n",
       "-----------------------------------------------------------------------------\n",
       "AR.1            1.1014           +0.0000j            1.1014            0.0000\n",
       "-----------------------------------------------------------------------------\n",
       "\"\"\""
      ]
     },
     "execution_count": 85,
     "metadata": {},
     "output_type": "execute_result"
    }
   ],
   "source": [
    "ar = ts.arima_model.ARIMA(endog=df_pe.pe_ind, order=(1, 0, 0), missing=\"drop\").fit()\n",
    "ar.summary()"
   ]
  },
  {
   "cell_type": "code",
   "execution_count": 94,
   "metadata": {},
   "outputs": [
    {
     "data": {
      "text/plain": [
       "(array([ 1.97958632,  1.99696074,  2.00550771,  2.02633269,  2.46289892,\n",
       "         4.83156719,  5.17426507, 14.34508106, 14.80826028, 15.13254478,\n",
       "        15.95802307, 15.9660261 , 16.00478434, 18.09235257, 18.17716208,\n",
       "        18.31697917, 18.54284457, 19.08322555, 19.57415178, 19.72914719,\n",
       "        19.73268373, 19.87787148, 20.28219143, 22.63800446, 22.6466019 ,\n",
       "        23.53883281, 25.66089104, 25.93416729, 26.36153088, 28.68044963,\n",
       "        28.89150507, 29.42803505, 29.49242927, 29.65463936, 29.71296846,\n",
       "        29.85356627, 31.82167625, 32.22481134, 32.44273281, 36.8131937 ]),\n",
       " array([0.15943399, 0.36843891, 0.57126435, 0.73091539, 0.78207191,\n",
       "        0.56559048, 0.63870623, 0.07320269, 0.09633918, 0.12730372,\n",
       "        0.14269643, 0.19279709, 0.2488716 , 0.20260694, 0.25346622,\n",
       "        0.30566483, 0.35539419, 0.38671537, 0.42059995, 0.47498342,\n",
       "        0.53824533, 0.59067903, 0.62483425, 0.5412427 , 0.59819108,\n",
       "        0.60231696, 0.53747606, 0.57666333, 0.60610998, 0.53442561,\n",
       "        0.57488394, 0.59735758, 0.64250025, 0.68060539, 0.72107633,\n",
       "        0.75503222, 0.71023001, 0.73295439, 0.76177316, 0.61451094]))"
      ]
     },
     "execution_count": 94,
     "metadata": {},
     "output_type": "execute_result"
    }
   ],
   "source": [
    "st.diagnostic.acorr_ljungbox(ar.resid)"
   ]
  },
  {
   "cell_type": "markdown",
   "metadata": {},
   "source": [
    "## Question 3.25\n",
    "\n",
    "Note that the series y was simulated following the model (where the error term is a white noise):\n",
    "\n",
    "yt = 1.2yt-1 -0.5yt-2 +et\n",
    "\n",
    "Plot the series by double clicking on y and then View->Graph. Based on the equation above, series y is simulated as what of process?"
   ]
  },
  {
   "cell_type": "code",
   "execution_count": 74,
   "metadata": {},
   "outputs": [],
   "source": [
    "df_arma = pd.read_csv(\"data/module3_data_Simulated_ARMA.csv\")"
   ]
  },
  {
   "cell_type": "code",
   "execution_count": 75,
   "metadata": {},
   "outputs": [
    {
     "data": {
      "text/html": [
       "<div>\n",
       "<style scoped>\n",
       "    .dataframe tbody tr th:only-of-type {\n",
       "        vertical-align: middle;\n",
       "    }\n",
       "\n",
       "    .dataframe tbody tr th {\n",
       "        vertical-align: top;\n",
       "    }\n",
       "\n",
       "    .dataframe thead th {\n",
       "        text-align: right;\n",
       "    }\n",
       "</style>\n",
       "<table border=\"1\" class=\"dataframe\">\n",
       "  <thead>\n",
       "    <tr style=\"text-align: right;\">\n",
       "      <th></th>\n",
       "      <th>dateid01</th>\n",
       "      <th>dateid</th>\n",
       "      <th>y</th>\n",
       "      <th>z</th>\n",
       "    </tr>\n",
       "  </thead>\n",
       "  <tbody>\n",
       "    <tr>\n",
       "      <th>0</th>\n",
       "      <td>1900-01-01</td>\n",
       "      <td>1900-01-31 23:59:59.999</td>\n",
       "      <td>0.000000</td>\n",
       "      <td>0.000000</td>\n",
       "    </tr>\n",
       "    <tr>\n",
       "      <th>1</th>\n",
       "      <td>1900-02-01</td>\n",
       "      <td>1900-02-28 23:59:59.999</td>\n",
       "      <td>0.000000</td>\n",
       "      <td>-0.698508</td>\n",
       "    </tr>\n",
       "    <tr>\n",
       "      <th>2</th>\n",
       "      <td>1900-03-01</td>\n",
       "      <td>1900-03-31 23:59:59.999</td>\n",
       "      <td>-0.142965</td>\n",
       "      <td>0.290892</td>\n",
       "    </tr>\n",
       "    <tr>\n",
       "      <th>3</th>\n",
       "      <td>1900-04-01</td>\n",
       "      <td>1900-04-30 23:59:59.999</td>\n",
       "      <td>0.627469</td>\n",
       "      <td>0.418416</td>\n",
       "    </tr>\n",
       "    <tr>\n",
       "      <th>4</th>\n",
       "      <td>1900-05-01</td>\n",
       "      <td>1900-05-31 23:59:59.999</td>\n",
       "      <td>0.407678</td>\n",
       "      <td>2.434994</td>\n",
       "    </tr>\n",
       "  </tbody>\n",
       "</table>\n",
       "</div>"
      ],
      "text/plain": [
       "     dateid01                   dateid         y         z\n",
       "0  1900-01-01  1900-01-31 23:59:59.999  0.000000  0.000000\n",
       "1  1900-02-01  1900-02-28 23:59:59.999  0.000000 -0.698508\n",
       "2  1900-03-01  1900-03-31 23:59:59.999 -0.142965  0.290892\n",
       "3  1900-04-01  1900-04-30 23:59:59.999  0.627469  0.418416\n",
       "4  1900-05-01  1900-05-31 23:59:59.999  0.407678  2.434994"
      ]
     },
     "execution_count": 75,
     "metadata": {},
     "output_type": "execute_result"
    }
   ],
   "source": [
    "df_arma.head()"
   ]
  },
  {
   "cell_type": "code",
   "execution_count": 78,
   "metadata": {},
   "outputs": [
    {
     "data": {
      "image/png": "[encoded data removed]",
      "text/plain": [
       "<Figure size 864x432 with 1 Axes>"
      ]
     },
     "metadata": {},
     "output_type": "display_data"
    }
   ],
   "source": [
    "plt.figure(figsize=(12,6))\n",
    "plt.plot(df_arma.y)\n",
    "plt.show()"
   ]
  },
  {
   "cell_type": "markdown",
   "metadata": {},
   "source": [
    "## Question 3.26\n",
    "\n",
    "Enter the SBC (Schwarz criterion) for each model (to three decimal places, without any rounding):"
   ]
  },
  {
   "cell_type": "code",
   "execution_count": 97,
   "metadata": {
    "scrolled": true
   },
   "outputs": [
    {
     "data": {
      "text/html": [
       "<table class=\"simpletable\">\n",
       "<caption>ARMA Model Results</caption>\n",
       "<tr>\n",
       "  <th>Dep. Variable:</th>         <td>y</td>        <th>  No. Observations:  </th>   <td>1382</td>   \n",
       "</tr>\n",
       "<tr>\n",
       "  <th>Model:</th>            <td>ARMA(1, 0)</td>    <th>  Log Likelihood     </th> <td>-2133.221</td>\n",
       "</tr>\n",
       "<tr>\n",
       "  <th>Method:</th>             <td>css-mle</td>     <th>  S.D. of innovations</th>   <td>1.132</td>  \n",
       "</tr>\n",
       "<tr>\n",
       "  <th>Date:</th>          <td>Thu, 07 Nov 2019</td> <th>  AIC                </th> <td>4272.442</td> \n",
       "</tr>\n",
       "<tr>\n",
       "  <th>Time:</th>              <td>17:00:08</td>     <th>  BIC                </th> <td>4288.135</td> \n",
       "</tr>\n",
       "<tr>\n",
       "  <th>Sample:</th>                <td>0</td>        <th>  HQIC               </th> <td>4278.312</td> \n",
       "</tr>\n",
       "<tr>\n",
       "  <th></th>                       <td> </td>        <th>                     </th>     <td> </td>    \n",
       "</tr>\n",
       "</table>\n",
       "<table class=\"simpletable\">\n",
       "<tr>\n",
       "     <td></td>        <th>coef</th>     <th>std err</th>      <th>z</th>      <th>P>|z|</th>  <th>[0.025</th>    <th>0.975]</th>  \n",
       "</tr>\n",
       "<tr>\n",
       "  <th>const</th>   <td>    0.0711</td> <td>    0.158</td> <td>    0.449</td> <td> 0.654</td> <td>   -0.239</td> <td>    0.382</td>\n",
       "</tr>\n",
       "<tr>\n",
       "  <th>ar.L1.y</th> <td>    0.8083</td> <td>    0.016</td> <td>   51.159</td> <td> 0.000</td> <td>    0.777</td> <td>    0.839</td>\n",
       "</tr>\n",
       "</table>\n",
       "<table class=\"simpletable\">\n",
       "<caption>Roots</caption>\n",
       "<tr>\n",
       "    <td></td>   <th>            Real</th>  <th>         Imaginary</th> <th>         Modulus</th>  <th>        Frequency</th>\n",
       "</tr>\n",
       "<tr>\n",
       "  <th>AR.1</th> <td>           1.2371</td> <td>          +0.0000j</td> <td>           1.2371</td> <td>           0.0000</td>\n",
       "</tr>\n",
       "</table>"
      ],
      "text/plain": [
       "<class 'statsmodels.iolib.summary.Summary'>\n",
       "\"\"\"\n",
       "                              ARMA Model Results                              \n",
       "==============================================================================\n",
       "Dep. Variable:                      y   No. Observations:                 1382\n",
       "Model:                     ARMA(1, 0)   Log Likelihood               -2133.221\n",
       "Method:                       css-mle   S.D. of innovations              1.132\n",
       "Date:                Thu, 07 Nov 2019   AIC                           4272.442\n",
       "Time:                        17:00:08   BIC                           4288.135\n",
       "Sample:                             0   HQIC                          4278.312\n",
       "                                                                              \n",
       "==============================================================================\n",
       "                 coef    std err          z      P>|z|      [0.025      0.975]\n",
       "------------------------------------------------------------------------------\n",
       "const          0.0711      0.158      0.449      0.654      -0.239       0.382\n",
       "ar.L1.y        0.8083      0.016     51.159      0.000       0.777       0.839\n",
       "                                    Roots                                    \n",
       "=============================================================================\n",
       "                  Real          Imaginary           Modulus         Frequency\n",
       "-----------------------------------------------------------------------------\n",
       "AR.1            1.2371           +0.0000j            1.2371            0.0000\n",
       "-----------------------------------------------------------------------------\n",
       "\"\"\""
      ]
     },
     "execution_count": 97,
     "metadata": {},
     "output_type": "execute_result"
    }
   ],
   "source": [
    "ar1 = ts.arima_model.ARIMA(endog=df_arma.y, order=(1, 0, 0)).fit()\n",
    "ar1.summary()"
   ]
  },
  {
   "cell_type": "code",
   "execution_count": 82,
   "metadata": {},
   "outputs": [
    {
     "data": {
      "text/plain": [
       "3.1028473227206947"
      ]
     },
     "execution_count": 82,
     "metadata": {},
     "output_type": "execute_result"
    }
   ],
   "source": [
    "4288.135/1382"
   ]
  },
  {
   "cell_type": "code",
   "execution_count": 80,
   "metadata": {},
   "outputs": [
    {
     "data": {
      "text/html": [
       "<table class=\"simpletable\">\n",
       "<caption>ARMA Model Results</caption>\n",
       "<tr>\n",
       "  <th>Dep. Variable:</th>         <td>y</td>        <th>  No. Observations:  </th>   <td>1382</td>   \n",
       "</tr>\n",
       "<tr>\n",
       "  <th>Model:</th>            <td>ARMA(2, 0)</td>    <th>  Log Likelihood     </th> <td>-1939.334</td>\n",
       "</tr>\n",
       "<tr>\n",
       "  <th>Method:</th>             <td>css-mle</td>     <th>  S.D. of innovations</th>   <td>0.984</td>  \n",
       "</tr>\n",
       "<tr>\n",
       "  <th>Date:</th>          <td>Thu, 07 Nov 2019</td> <th>  AIC                </th> <td>3886.669</td> \n",
       "</tr>\n",
       "<tr>\n",
       "  <th>Time:</th>              <td>16:06:04</td>     <th>  BIC                </th> <td>3907.594</td> \n",
       "</tr>\n",
       "<tr>\n",
       "  <th>Sample:</th>                <td>0</td>        <th>  HQIC               </th> <td>3894.496</td> \n",
       "</tr>\n",
       "<tr>\n",
       "  <th></th>                       <td> </td>        <th>                     </th>     <td> </td>    \n",
       "</tr>\n",
       "</table>\n",
       "<table class=\"simpletable\">\n",
       "<tr>\n",
       "     <td></td>        <th>coef</th>     <th>std err</th>      <th>z</th>      <th>P>|z|</th>  <th>[0.025</th>    <th>0.975]</th>  \n",
       "</tr>\n",
       "<tr>\n",
       "  <th>const</th>   <td>    0.0692</td> <td>    0.093</td> <td>    0.747</td> <td> 0.455</td> <td>   -0.112</td> <td>    0.250</td>\n",
       "</tr>\n",
       "<tr>\n",
       "  <th>ar.L1.y</th> <td>    1.2087</td> <td>    0.023</td> <td>   51.716</td> <td> 0.000</td> <td>    1.163</td> <td>    1.254</td>\n",
       "</tr>\n",
       "<tr>\n",
       "  <th>ar.L2.y</th> <td>   -0.4946</td> <td>    0.023</td> <td>  -21.170</td> <td> 0.000</td> <td>   -0.540</td> <td>   -0.449</td>\n",
       "</tr>\n",
       "</table>\n",
       "<table class=\"simpletable\">\n",
       "<caption>Roots</caption>\n",
       "<tr>\n",
       "    <td></td>   <th>            Real</th>  <th>         Imaginary</th> <th>         Modulus</th>  <th>        Frequency</th>\n",
       "</tr>\n",
       "<tr>\n",
       "  <th>AR.1</th> <td>           1.2219</td> <td>          -0.7272j</td> <td>           1.4219</td> <td>          -0.0854</td>\n",
       "</tr>\n",
       "<tr>\n",
       "  <th>AR.2</th> <td>           1.2219</td> <td>          +0.7272j</td> <td>           1.4219</td> <td>           0.0854</td>\n",
       "</tr>\n",
       "</table>"
      ],
      "text/plain": [
       "<class 'statsmodels.iolib.summary.Summary'>\n",
       "\"\"\"\n",
       "                              ARMA Model Results                              \n",
       "==============================================================================\n",
       "Dep. Variable:                      y   No. Observations:                 1382\n",
       "Model:                     ARMA(2, 0)   Log Likelihood               -1939.334\n",
       "Method:                       css-mle   S.D. of innovations              0.984\n",
       "Date:                Thu, 07 Nov 2019   AIC                           3886.669\n",
       "Time:                        16:06:04   BIC                           3907.594\n",
       "Sample:                             0   HQIC                          3894.496\n",
       "                                                                              \n",
       "==============================================================================\n",
       "                 coef    std err          z      P>|z|      [0.025      0.975]\n",
       "------------------------------------------------------------------------------\n",
       "const          0.0692      0.093      0.747      0.455      -0.112       0.250\n",
       "ar.L1.y        1.2087      0.023     51.716      0.000       1.163       1.254\n",
       "ar.L2.y       -0.4946      0.023    -21.170      0.000      -0.540      -0.449\n",
       "                                    Roots                                    \n",
       "=============================================================================\n",
       "                  Real          Imaginary           Modulus         Frequency\n",
       "-----------------------------------------------------------------------------\n",
       "AR.1            1.2219           -0.7272j            1.4219           -0.0854\n",
       "AR.2            1.2219           +0.7272j            1.4219            0.0854\n",
       "-----------------------------------------------------------------------------\n",
       "\"\"\""
      ]
     },
     "execution_count": 80,
     "metadata": {},
     "output_type": "execute_result"
    }
   ],
   "source": [
    "ar2 = ts.arima_model.ARIMA(endog=df_arma.y, order=(2, 0, 0)).fit()\n",
    "ar2.summary()"
   ]
  },
  {
   "cell_type": "code",
   "execution_count": 83,
   "metadata": {},
   "outputs": [
    {
     "data": {
      "text/plain": [
       "2.8274920405209842"
      ]
     },
     "execution_count": 83,
     "metadata": {},
     "output_type": "execute_result"
    }
   ],
   "source": [
    "3907.594/1382"
   ]
  },
  {
   "cell_type": "markdown",
   "metadata": {},
   "source": [
    "## Question 3.27\n",
    "\n",
    "Enter the p-value (to three decimal places, without any rounding) for the lag 12 Q-test on the regression residuals for each model:"
   ]
  },
  {
   "cell_type": "code",
   "execution_count": 98,
   "metadata": {},
   "outputs": [
    {
     "data": {
      "text/plain": [
       "(array([222.00869244, 222.89680104, 297.23112342, 382.9535034 ,\n",
       "        420.78181115, 434.26330142, 434.96157928, 434.96269258,\n",
       "        436.273895  , 436.97149946, 437.13239117, 438.42152417,\n",
       "        443.50400614, 444.78323815, 445.02784967, 446.40382469,\n",
       "        450.97660533, 458.51596111, 461.18496801, 461.28325384,\n",
       "        462.11666394, 465.78398232, 469.22527699, 471.68002294,\n",
       "        472.53614526, 472.56751363, 472.85502152, 472.90676687,\n",
       "        473.25753649, 473.51573843, 473.72221749, 473.80922879,\n",
       "        474.89033325, 475.65860034, 479.32048717, 480.38103151,\n",
       "        480.38105756, 481.13056393, 481.65300101, 481.65687141]),\n",
       " array([3.29796005e-50, 3.96802716e-49, 3.95387248e-64, 1.33992844e-81,\n",
       "        9.82624424e-89, 1.19491979e-90, 7.52085400e-90, 6.15418583e-89,\n",
       "        2.46165690e-88, 1.25404468e-87, 7.87347920e-87, 2.71067517e-86,\n",
       "        1.40681700e-86, 4.50555063e-86, 2.30109617e-85, 6.55948766e-85,\n",
       "        3.86841806e-85, 5.33279020e-86, 7.56422649e-86, 3.60992248e-85,\n",
       "        1.17980607e-84, 9.70620269e-85, 8.74952869e-85, 1.24242825e-84,\n",
       "        3.71181639e-84, 1.60942636e-83, 6.05914553e-83, 2.50298676e-82,\n",
       "        8.81599481e-82, 3.18836053e-81, 1.16187723e-80, 4.40567630e-80,\n",
       "        1.03304949e-79, 2.76554061e-79, 1.89844541e-79, 4.33210283e-79,\n",
       "        1.59705458e-78, 4.10484587e-78, 1.15771046e-77, 4.09653532e-77]))"
      ]
     },
     "execution_count": 98,
     "metadata": {},
     "output_type": "execute_result"
    }
   ],
   "source": [
    "st.diagnostic.acorr_ljungbox(ar1.resid)"
   ]
  },
  {
   "cell_type": "code",
   "execution_count": 99,
   "metadata": {},
   "outputs": [
    {
     "data": {
      "text/plain": [
       "(array([ 0.22881801,  0.23569045,  0.46521062,  0.47025152,  2.7822248 ,\n",
       "         2.82780314,  4.15847134,  4.41378038,  5.19347105,  5.22743657,\n",
       "         5.52512849,  5.52746935,  8.44410369,  8.55777309,  9.29310791,\n",
       "         9.29531531,  9.55492291, 11.55991203, 12.04071559, 13.17782233,\n",
       "        13.17866474, 14.71182711, 15.35701685, 16.30679831, 16.86969749,\n",
       "        17.15352983, 17.2417439 , 17.8826151 , 18.94369308, 19.38225784,\n",
       "        19.46813271, 19.57201702, 22.46964715, 22.52611181, 26.69199563,\n",
       "        27.31639741, 28.01825672, 29.25360402, 29.562634  , 29.5646681 ]),\n",
       " array([0.63240165, 0.88883361, 0.92646524, 0.97633163, 0.73351663,\n",
       "        0.8301283 , 0.76135445, 0.81799585, 0.81712722, 0.87547628,\n",
       "        0.90309937, 0.93800745, 0.81351342, 0.85829465, 0.86169977,\n",
       "        0.90075523, 0.92123036, 0.86910624, 0.88387761, 0.86962472,\n",
       "        0.90223708, 0.87430528, 0.8813831 , 0.87668509, 0.88646552,\n",
       "        0.90437141, 0.92498977, 0.92906741, 0.92272335, 0.93163959,\n",
       "        0.94653206, 0.95829739, 0.91662093, 0.93384221, 0.84210783,\n",
       "        0.85065495, 0.85627946, 0.84481809, 0.86263368, 0.88699978]))"
      ]
     },
     "execution_count": 99,
     "metadata": {},
     "output_type": "execute_result"
    }
   ],
   "source": [
    "st.diagnostic.acorr_ljungbox(ar2.resid)"
   ]
  },
  {
   "cell_type": "markdown",
   "metadata": {},
   "source": [
    "## Question 3.30\n",
    "\n",
    "Which model was chosen as the best?"
   ]
  },
  {
   "cell_type": "code",
   "execution_count": null,
   "metadata": {},
   "outputs": [],
   "source": [
    "results = []\n",
    "for p in range(1,7):\n",
    "    for q in range(1,7):\n",
    "        model = ts.arima_model.ARIMA(endog=df_arma.y, order=(p, 0, q)).fit()\n",
    "        results.append([p, q, model.aic, model.bic])"
   ]
  },
  {
   "cell_type": "raw",
   "metadata": {},
   "source": []
  }
 ],
 "metadata": {
  "kernelspec": {
   "display_name": "Python 3",
   "language": "python",
   "name": "python3"
  },
  "language_info": {
   "codemirror_mode": {
    "name": "ipython",
    "version": 3
   },
   "file_extension": ".py",
   "mimetype": "text/x-python",
   "name": "python",
   "nbconvert_exporter": "python",
   "pygments_lexer": "ipython3",
   "version": "3.7.3"
  }
 },
 "nbformat": 4,
 "nbformat_minor": 2
}
