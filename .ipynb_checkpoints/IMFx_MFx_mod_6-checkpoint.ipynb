{
 "cells": [
  {
   "cell_type": "code",
   "execution_count": 1,
   "metadata": {},
   "outputs": [],
   "source": [
    "import matplotlib.pyplot as plt\n",
    "import numpy as np\n",
    "import pandas as pd\n",
    "import seaborn as sns\n",
    "import statsmodels.api as sm\n",
    "import statsmodels.formula.api as smf\n",
    "import statsmodels.stats as st\n",
    "import statsmodels.tsa as ts\n",
    "\n",
    "from sklearn.metrics import mean_squared_error\n",
    "from statsmodels.graphics.tsaplots import plot_acf, plot_pacf\n",
    "\n",
    "%matplotlib inline\n",
    "plt.style.use(\"ggplot\")\n",
    "sns.set_context(\"talk\")"
   ]
  },
  {
   "cell_type": "markdown",
   "metadata": {},
   "source": [
    "## Before you Start...\n",
    "The country data you will be analyzing is from Austria.\n",
    "\n",
    "Remember to have open the EViews workfile \"M6_data.wf1.\" and select the pagefile called AUT (i.e., our country code for Austria).  \n",
    "\n",
    "As you learned in Module 3, run the Augmented Dickey-Fuller unit root test for each one of the variables for the full sample: p, m and rgdp (all in logs)."
   ]
  },
  {
   "cell_type": "markdown",
   "metadata": {},
   "source": [
    "## Question 6.1\n",
    "\n",
    "Using only a constant term for the deterministic part of the regression, the maximum feasible sample (i.e., smpl @all) and the default SIC lag order selection criterion, report the probability (p-value) associated with the ADF test for each one of the variables (report the first two decimal places, no rounding). Can you reject or not the null hypothesis that each variable has a unit root at the 5% level?\n",
    "\n",
    "Log(m):\n",
    "\n",
    "Log(p):\n",
    "\n",
    "Log(rgdp):"
   ]
  },
  {
   "cell_type": "code",
   "execution_count": 3,
   "metadata": {},
   "outputs": [],
   "source": [
    "austria = pd.read_csv(\"data/Module6_Worfile_AUT.csv\")"
   ]
  },
  {
   "cell_type": "code",
   "execution_count": 5,
   "metadata": {},
   "outputs": [
    {
     "data": {
      "text/html": [
       "<div>\n",
       "<style scoped>\n",
       "    .dataframe tbody tr th:only-of-type {\n",
       "        vertical-align: middle;\n",
       "    }\n",
       "\n",
       "    .dataframe tbody tr th {\n",
       "        vertical-align: top;\n",
       "    }\n",
       "\n",
       "    .dataframe thead th {\n",
       "        text-align: right;\n",
       "    }\n",
       "</style>\n",
       "<table border=\"1\" class=\"dataframe\">\n",
       "  <thead>\n",
       "    <tr style=\"text-align: right;\">\n",
       "      <th></th>\n",
       "      <th>dateid01</th>\n",
       "      <th>dateid</th>\n",
       "      <th>i</th>\n",
       "      <th>m</th>\n",
       "      <th>p</th>\n",
       "      <th>rgdp</th>\n",
       "    </tr>\n",
       "  </thead>\n",
       "  <tbody>\n",
       "    <tr>\n",
       "      <th>0</th>\n",
       "      <td>1997-07-01</td>\n",
       "      <td>1997-09-30 23:59:59.999</td>\n",
       "      <td>NaN</td>\n",
       "      <td>116345</td>\n",
       "      <td>79.4</td>\n",
       "      <td>57.437</td>\n",
       "    </tr>\n",
       "    <tr>\n",
       "      <th>1</th>\n",
       "      <td>1997-10-01</td>\n",
       "      <td>1997-12-31 23:59:59.999</td>\n",
       "      <td>NaN</td>\n",
       "      <td>113770</td>\n",
       "      <td>80.0</td>\n",
       "      <td>58.223</td>\n",
       "    </tr>\n",
       "    <tr>\n",
       "      <th>2</th>\n",
       "      <td>1998-01-01</td>\n",
       "      <td>1998-03-31 23:59:59.999</td>\n",
       "      <td>NaN</td>\n",
       "      <td>110340</td>\n",
       "      <td>80.1</td>\n",
       "      <td>58.467</td>\n",
       "    </tr>\n",
       "    <tr>\n",
       "      <th>3</th>\n",
       "      <td>1998-04-01</td>\n",
       "      <td>1998-06-30 23:59:59.999</td>\n",
       "      <td>NaN</td>\n",
       "      <td>111698</td>\n",
       "      <td>80.2</td>\n",
       "      <td>59.268</td>\n",
       "    </tr>\n",
       "    <tr>\n",
       "      <th>4</th>\n",
       "      <td>1998-07-01</td>\n",
       "      <td>1998-09-30 23:59:59.999</td>\n",
       "      <td>NaN</td>\n",
       "      <td>112180</td>\n",
       "      <td>80.2</td>\n",
       "      <td>59.444</td>\n",
       "    </tr>\n",
       "  </tbody>\n",
       "</table>\n",
       "</div>"
      ],
      "text/plain": [
       "     dateid01                   dateid   i       m     p    rgdp\n",
       "0  1997-07-01  1997-09-30 23:59:59.999 NaN  116345  79.4  57.437\n",
       "1  1997-10-01  1997-12-31 23:59:59.999 NaN  113770  80.0  58.223\n",
       "2  1998-01-01  1998-03-31 23:59:59.999 NaN  110340  80.1  58.467\n",
       "3  1998-04-01  1998-06-30 23:59:59.999 NaN  111698  80.2  59.268\n",
       "4  1998-07-01  1998-09-30 23:59:59.999 NaN  112180  80.2  59.444"
      ]
     },
     "execution_count": 5,
     "metadata": {},
     "output_type": "execute_result"
    }
   ],
   "source": [
    "austria.head()"
   ]
  },
  {
   "cell_type": "code",
   "execution_count": 7,
   "metadata": {},
   "outputs": [
    {
     "data": {
      "text/plain": [
       "(-0.8978526585055102,\n",
       " 0.7886787454812515,\n",
       " 1,\n",
       " 68,\n",
       " {'1%': -3.530398990560757,\n",
       "  '5%': -2.9050874099328317,\n",
       "  '10%': -2.5900010121107266},\n",
       " -318.02454569854916)"
      ]
     },
     "execution_count": 7,
     "metadata": {},
     "output_type": "execute_result"
    }
   ],
   "source": [
    "ts.stattools.adfuller(np.log(austria.m))"
   ]
  },
  {
   "cell_type": "code",
   "execution_count": 8,
   "metadata": {},
   "outputs": [
    {
     "data": {
      "text/plain": [
       "(0.6211708785895624,\n",
       " 0.9881259952668974,\n",
       " 8,\n",
       " 61,\n",
       " {'1%': -3.542412746661615,\n",
       "  '5%': -2.910236235808284,\n",
       "  '10%': -2.5927445767266866},\n",
       " -513.1083951210302)"
      ]
     },
     "execution_count": 8,
     "metadata": {},
     "output_type": "execute_result"
    }
   ],
   "source": [
    "ts.stattools.adfuller(np.log(austria.p))"
   ]
  },
  {
   "cell_type": "code",
   "execution_count": 9,
   "metadata": {},
   "outputs": [
    {
     "data": {
      "text/plain": [
       "(-2.4499455309709175,\n",
       " 0.12813277092684466,\n",
       " 0,\n",
       " 69,\n",
       " {'1%': -3.528889992207215,\n",
       "  '5%': -2.9044395987933362,\n",
       "  '10%': -2.589655654274312},\n",
       " -381.39023785689545)"
      ]
     },
     "execution_count": 9,
     "metadata": {},
     "output_type": "execute_result"
    }
   ],
   "source": [
    "ts.stattools.adfuller(np.log(austria.rgdp))"
   ]
  },
  {
   "cell_type": "markdown",
   "metadata": {},
   "source": [
    "## Instructions for Question 6.2:\n",
    "\n",
    "Generate the following variable which is an arbitrary linear combination of the I(1) variables log(m), log(p) and log(rgdp) using the following command: \n",
    "\n",
    "genr arbitrary_linc=0.3*log(m)-0.5*log(p)+0.1*log(rgdp)\n",
    "\n",
    "Plot the graph of this new variable and run the ADF unit root test with the same specification as in question Q6.1 above."
   ]
  },
  {
   "cell_type": "markdown",
   "metadata": {},
   "source": [
    "## Question 6.2\n",
    "\n",
    "Report below the result of your unit root test for variable \"arbitrary_linc\" (see instructions above), in terms of probability (p-value) and whether you can reject or not the null hypothesis of a unit root (report the first two decimal places, no rounding):\n",
    "\n",
    "Probability:"
   ]
  },
  {
   "cell_type": "code",
   "execution_count": 11,
   "metadata": {},
   "outputs": [],
   "source": [
    "austria[\"arbitrary_linc\"] = 0.3 * np.log(austria.m) - 0.5 * np.log(austria.p) + 0.1 * np.log(austria.rgdp)"
   ]
  },
  {
   "cell_type": "code",
   "execution_count": 13,
   "metadata": {},
   "outputs": [
    {
     "data": {
      "text/plain": [
       "(-1.6448212720727282,\n",
       " 0.4597426642922367,\n",
       " 3,\n",
       " 66,\n",
       " {'1%': -3.5335601309235605,\n",
       "  '5%': -2.9064436883991434,\n",
       "  '10%': -2.590723948576676},\n",
       " -447.03658240400625)"
      ]
     },
     "execution_count": 13,
     "metadata": {},
     "output_type": "execute_result"
    }
   ],
   "source": [
    "ts.stattools.adfuller(austria.arbitrary_linc)"
   ]
  },
  {
   "cell_type": "code",
   "execution_count": 14,
   "metadata": {},
   "outputs": [
    {
     "data": {
      "image/png": "[encoded data removed]",
      "text/plain": [
       "<Figure size 432x288 with 1 Axes>"
      ]
     },
     "metadata": {
      "needs_background": "light"
     },
     "output_type": "display_data"
    }
   ],
   "source": [
    "austria.arbitrary_linc.plot()\n",
    "plt.show()"
   ]
  },
  {
   "cell_type": "markdown",
   "metadata": {},
   "source": [
    "## Session 3 Questions\n",
    "\n",
    "From now on we will use the sample 2000q1 to 2012q4 and we will keep working with the data for Austria (AUT pagefile). As explained in the lecture, we suspect that joining the Euro might have resulted in a structural break. Run the following command to change the sample: smpl 2000q1 2012q4"
   ]
  },
  {
   "cell_type": "markdown",
   "metadata": {},
   "source": [
    "## Question 6.14\n",
    "\n",
    "As mentioned in the Session 3 video, it is necessary to select the lag length of the VECM. To do so we need first to select the lag length of the VAR in levels using the same endogenous variables, then subtract one.\n",
    "\n",
    "As you learned in Module 5, run a VAR in levels using log(m), log(p) and log(rgdp) as endogenous variables (using two lags, say, initially).\n",
    "\n",
    "Check the lag order selection criteria. Using a maximum lag setting length of 8, what is:\n",
    "\n",
    "the recommended number of lags according to the SC criterion?"
   ]
  },
  {
   "cell_type": "code",
   "execution_count": 35,
   "metadata": {},
   "outputs": [
    {
     "data": {
      "text/html": [
       "<div>\n",
       "<style scoped>\n",
       "    .dataframe tbody tr th:only-of-type {\n",
       "        vertical-align: middle;\n",
       "    }\n",
       "\n",
       "    .dataframe tbody tr th {\n",
       "        vertical-align: top;\n",
       "    }\n",
       "\n",
       "    .dataframe thead th {\n",
       "        text-align: right;\n",
       "    }\n",
       "</style>\n",
       "<table border=\"1\" class=\"dataframe\">\n",
       "  <thead>\n",
       "    <tr style=\"text-align: right;\">\n",
       "      <th></th>\n",
       "      <th>i</th>\n",
       "      <th>m</th>\n",
       "      <th>p</th>\n",
       "      <th>rgdp</th>\n",
       "      <th>arbitrary_linc</th>\n",
       "    </tr>\n",
       "    <tr>\n",
       "      <th>dateid01</th>\n",
       "      <th></th>\n",
       "      <th></th>\n",
       "      <th></th>\n",
       "      <th></th>\n",
       "      <th></th>\n",
       "    </tr>\n",
       "  </thead>\n",
       "  <tbody>\n",
       "    <tr>\n",
       "      <th>2000-01-01</th>\n",
       "      <td>3.50</td>\n",
       "      <td>124845</td>\n",
       "      <td>81.7</td>\n",
       "      <td>62.606</td>\n",
       "      <td>1.732608</td>\n",
       "    </tr>\n",
       "    <tr>\n",
       "      <th>2000-04-01</th>\n",
       "      <td>4.25</td>\n",
       "      <td>127505</td>\n",
       "      <td>82.2</td>\n",
       "      <td>63.175</td>\n",
       "      <td>1.736786</td>\n",
       "    </tr>\n",
       "    <tr>\n",
       "      <th>2000-07-01</th>\n",
       "      <td>4.50</td>\n",
       "      <td>128959</td>\n",
       "      <td>82.9</td>\n",
       "      <td>63.648</td>\n",
       "      <td>1.736694</td>\n",
       "    </tr>\n",
       "    <tr>\n",
       "      <th>2000-10-01</th>\n",
       "      <td>4.75</td>\n",
       "      <td>126464</td>\n",
       "      <td>83.6</td>\n",
       "      <td>64.493</td>\n",
       "      <td>1.727948</td>\n",
       "    </tr>\n",
       "    <tr>\n",
       "      <th>2001-01-01</th>\n",
       "      <td>4.75</td>\n",
       "      <td>129573</td>\n",
       "      <td>84.0</td>\n",
       "      <td>64.299</td>\n",
       "      <td>1.732546</td>\n",
       "    </tr>\n",
       "  </tbody>\n",
       "</table>\n",
       "</div>"
      ],
      "text/plain": [
       "               i       m     p    rgdp  arbitrary_linc\n",
       "dateid01                                              \n",
       "2000-01-01  3.50  124845  81.7  62.606        1.732608\n",
       "2000-04-01  4.25  127505  82.2  63.175        1.736786\n",
       "2000-07-01  4.50  128959  82.9  63.648        1.736694\n",
       "2000-10-01  4.75  126464  83.6  64.493        1.727948\n",
       "2001-01-01  4.75  129573  84.0  64.299        1.732546"
      ]
     },
     "execution_count": 35,
     "metadata": {},
     "output_type": "execute_result"
    }
   ],
   "source": [
    "data = austria[10:62]\n",
    "data.dateid01 = pd.to_datetime(data.copy().dateid01)\n",
    "data.index = data.dateid01\n",
    "data.drop(columns=[\"dateid01\", \"dateid\"], inplace=True)\n",
    "data.head()"
   ]
  },
  {
   "cell_type": "code",
   "execution_count": 48,
   "metadata": {},
   "outputs": [
    {
     "data": {
      "image/png": "[encoded data removed]",
      "text/plain": [
       "<Figure size 864x864 with 4 Axes>"
      ]
     },
     "metadata": {
      "needs_background": "light"
     },
     "output_type": "display_data"
    }
   ],
   "source": [
    "fig, axes = plt.subplots(2, 2, figsize=(12,12))\n",
    "axes[0, 0].plot(data.i)\n",
    "axes[1, 0].plot(np.log(data.m))\n",
    "axes[0, 1].plot(np.log(data.p))\n",
    "axes[1, 1].plot(np.log(data.rgdp))\n",
    "plt.show()"
   ]
  },
  {
   "cell_type": "code",
   "execution_count": 52,
   "metadata": {},
   "outputs": [
    {
     "name": "stderr",
     "output_type": "stream",
     "text": [
      "/Users/kmiyaki/anaconda3/lib/python3.7/site-packages/ipykernel_launcher.py:1: SettingWithCopyWarning: \n",
      "A value is trying to be set on a copy of a slice from a DataFrame.\n",
      "Try using .loc[row_indexer,col_indexer] = value instead\n",
      "\n",
      "See the caveats in the documentation: http://pandas.pydata.org/pandas-docs/stable/indexing.html#indexing-view-versus-copy\n",
      "  \"\"\"Entry point for launching an IPython kernel.\n",
      "/Users/kmiyaki/anaconda3/lib/python3.7/site-packages/ipykernel_launcher.py:2: SettingWithCopyWarning: \n",
      "A value is trying to be set on a copy of a slice from a DataFrame.\n",
      "Try using .loc[row_indexer,col_indexer] = value instead\n",
      "\n",
      "See the caveats in the documentation: http://pandas.pydata.org/pandas-docs/stable/indexing.html#indexing-view-versus-copy\n",
      "  \n",
      "/Users/kmiyaki/anaconda3/lib/python3.7/site-packages/ipykernel_launcher.py:3: SettingWithCopyWarning: \n",
      "A value is trying to be set on a copy of a slice from a DataFrame.\n",
      "Try using .loc[row_indexer,col_indexer] = value instead\n",
      "\n",
      "See the caveats in the documentation: http://pandas.pydata.org/pandas-docs/stable/indexing.html#indexing-view-versus-copy\n",
      "  This is separate from the ipykernel package so we can avoid doing imports until\n"
     ]
    }
   ],
   "source": [
    "data[\"logm\"] = np.log(data.m)\n",
    "data[\"logp\"] = np.log(data.p)\n",
    "data[\"logrgdp\"] = np.log(data.rgdp)"
   ]
  },
  {
   "cell_type": "code",
   "execution_count": 54,
   "metadata": {},
   "outputs": [
    {
     "name": "stdout",
     "output_type": "stream",
     "text": [
      "Lag Order = 1\n",
      "AIC :  -29.32789302986037\n",
      "BIC :  -28.873345822160527\n",
      "FPE :  1.8343344062826005e-13\n",
      "HQIC:  -29.154197097810545 \n",
      "\n",
      "Lag Order = 2\n",
      "AIC :  -29.147572503551185\n",
      "BIC :  -28.344522841271363\n",
      "FPE :  2.2068963496191525e-13\n",
      "HQIC:  -28.84176661192489 \n",
      "\n",
      "Lag Order = 3\n",
      "AIC :  -29.495109063642186\n",
      "BIC :  -28.336851738268333\n",
      "FPE :  1.5776473883829032e-13\n",
      "HQIC:  -29.055667850003545 \n",
      "\n",
      "Lag Order = 4\n",
      "AIC :  -29.32175858757684\n",
      "BIC :  -27.80140776621418\n",
      "FPE :  1.92211286094194e-13\n",
      "HQIC:  -28.74721579142407 \n",
      "\n",
      "Lag Order = 5\n",
      "AIC :  -29.241614166718215\n",
      "BIC :  -27.35210172241858\n",
      "FPE :  2.174679758946451e-13\n",
      "HQIC:  -28.530577940666166 \n",
      "\n",
      "Lag Order = 6\n",
      "AIC :  -29.55517010242103\n",
      "BIC :  -27.28924489372802\n",
      "FPE :  1.7088599437501475e-13\n",
      "HQIC:  -28.70634093853745 \n",
      "\n",
      "Lag Order = 7\n",
      "AIC :  -29.773705583401277\n",
      "BIC :  -27.123933931738144\n",
      "FPE :  1.5436696980341418e-13\n",
      "HQIC:  -28.785897316385253 \n",
      "\n",
      "Lag Order = 8\n",
      "AIC :  -29.689128547464232\n",
      "BIC :  -26.647896216921744\n",
      "FPE :  2.022611157044255e-13\n",
      "HQIC:  -28.56129298630817 \n",
      "\n"
     ]
    },
    {
     "name": "stderr",
     "output_type": "stream",
     "text": [
      "/Users/kmiyaki/anaconda3/lib/python3.7/site-packages/statsmodels/tsa/base/tsa_model.py:171: ValueWarning: No frequency information was provided, so inferred frequency QS-OCT will be used.\n",
      "  % freq, ValueWarning)\n",
      "/Users/kmiyaki/anaconda3/lib/python3.7/site-packages/statsmodels/tsa/base/tsa_model.py:191: FutureWarning: Creating a DatetimeIndex by passing range endpoints is deprecated.  Use `pandas.date_range` instead.\n",
      "  start=index[0], end=index[-1], freq=freq)\n"
     ]
    }
   ],
   "source": [
    "model = ts.vector_ar.var_model.VAR(endog=data.loc[:,[\"logm\", \"logp\", \"logrgdp\"]])\n",
    "for i in range(1,9):\n",
    "    result = model.fit(maxlags=i)\n",
    "    print('Lag Order =', i)\n",
    "    print('AIC : ', result.aic)\n",
    "    print('BIC : ', result.bic)\n",
    "    print('FPE : ', result.fpe)\n",
    "    print('HQIC: ', result.hqic, '\\n')"
   ]
  },
  {
   "cell_type": "code",
   "execution_count": 55,
   "metadata": {},
   "outputs": [
    {
     "name": "stderr",
     "output_type": "stream",
     "text": [
      "/Users/kmiyaki/anaconda3/lib/python3.7/site-packages/statsmodels/tsa/base/tsa_model.py:171: ValueWarning: No frequency information was provided, so inferred frequency QS-OCT will be used.\n",
      "  % freq, ValueWarning)\n",
      "/Users/kmiyaki/anaconda3/lib/python3.7/site-packages/statsmodels/tsa/base/tsa_model.py:191: FutureWarning: Creating a DatetimeIndex by passing range endpoints is deprecated.  Use `pandas.date_range` instead.\n",
      "  start=index[0], end=index[-1], freq=freq)\n",
      "/Users/kmiyaki/anaconda3/lib/python3.7/site-packages/statsmodels/tsa/base/tsa_model.py:171: ValueWarning: No frequency information was provided, so inferred frequency QS-OCT will be used.\n",
      "  % freq, ValueWarning)\n"
     ]
    }
   ],
   "source": [
    "aus1 = ts.vector_ar.var_model.VAR(endog=data.loc[:,[\"logm\", \"logp\", \"logrgdp\"]]).fit(maxlags=1)\n",
    "aus2 = ts.vector_ar.var_model.VAR(endog=data.loc[:,[\"logm\", \"logp\", \"logrgdp\"]]).fit(maxlags=2)"
   ]
  },
  {
   "cell_type": "code",
   "execution_count": 59,
   "metadata": {},
   "outputs": [
    {
     "data": {
      "text/plain": [
       "array([[[ 1.        , -0.21173803,  0.18888011],\n",
       "        [-0.21173803,  1.        ,  0.31060066],\n",
       "        [ 0.18888011,  0.31060066,  1.        ]],\n",
       "\n",
       "       [[ 0.06633006,  0.00789363, -0.18289607],\n",
       "        [-0.12270317,  0.27729958,  0.07445212],\n",
       "        [ 0.1020477 ,  0.18308615,  0.08854511]],\n",
       "\n",
       "       [[-0.22787973, -0.08318232, -0.2622408 ],\n",
       "        [ 0.16638276,  0.05435555,  0.3786727 ],\n",
       "        [ 0.22747948, -0.27493823,  0.17045528]],\n",
       "\n",
       "       [[-0.0853082 ,  0.04786873,  0.17781987],\n",
       "        [ 0.04610842,  0.00139076, -0.0433668 ],\n",
       "        [ 0.10406769, -0.19897853, -0.03638   ]],\n",
       "\n",
       "       [[-0.23985857,  0.07095363,  0.14494382],\n",
       "        [-0.04679734, -0.28320255, -0.13917306],\n",
       "        [-0.12444536, -0.20751551, -0.01904283]]])"
      ]
     },
     "execution_count": 59,
     "metadata": {},
     "output_type": "execute_result"
    }
   ],
   "source": [
    "aus1.resid_acorr(nlags=4)"
   ]
  },
  {
   "cell_type": "code",
   "execution_count": 58,
   "metadata": {},
   "outputs": [
    {
     "data": {
      "text/plain": [
       "array([[[ 1.00000000e+00, -2.33513076e-01,  1.88313151e-01],\n",
       "        [-2.33513076e-01,  1.00000000e+00,  2.85212795e-01],\n",
       "        [ 1.88313151e-01,  2.85212795e-01,  1.00000000e+00]],\n",
       "\n",
       "       [[-6.57563815e-02,  2.18881234e-02,  5.63994247e-02],\n",
       "        [ 7.83351430e-02, -1.22073582e-02, -4.13548605e-02],\n",
       "        [ 7.20081998e-02,  1.14756676e-01,  3.69914898e-02]],\n",
       "\n",
       "       [[-1.27527921e-01, -5.59591984e-02, -2.88133951e-01],\n",
       "        [ 1.67284245e-01, -2.04903447e-02,  3.87428191e-01],\n",
       "        [ 2.50276166e-01, -2.95857813e-01,  2.29098835e-01]],\n",
       "\n",
       "       [[ 2.29452467e-02, -8.88128529e-02,  1.77877858e-01],\n",
       "        [ 1.72559021e-02,  8.43435523e-02, -8.26469138e-02],\n",
       "        [ 1.77284434e-01, -1.41724251e-01,  1.75625963e-04]],\n",
       "\n",
       "       [[-1.76284299e-01,  1.44651043e-02,  5.98735049e-02],\n",
       "        [-4.86024097e-02, -3.04030006e-01, -4.94431561e-02],\n",
       "        [-3.07281825e-02, -2.00824433e-01,  3.92905834e-02]]])"
      ]
     },
     "execution_count": 58,
     "metadata": {},
     "output_type": "execute_result"
    }
   ],
   "source": [
    "aus2.resid_acorr(nlags=4)"
   ]
  },
  {
   "cell_type": "markdown",
   "metadata": {},
   "source": [
    "Recall that we are still using the sample 2000q1 to 2012q4 and we will keep working with the data for Austria (AUT pagefile). Estimate the VECM model for the endogenous variables log(m), log(p) and log(rgdp) over the period 2000q1 to 2012q4. Click on \"Quick, Estimate VAR.\" Then make sure to choose Vector Error Correction as shown below. Change the Lag Intervals for D(endogenous) to the appropriate order i.e. it should be [1 2] instead of [0 0]. Note that we chose 2 because in the previous session we found that 3 was the appropriate lag length for the VAR in levels.\n",
    "\n",
    "## Question 6.23\n",
    "\n",
    "What is the number of independent cointegrating equations using a 5 percent level of significance:"
   ]
  },
  {
   "cell_type": "code",
   "execution_count": 68,
   "metadata": {},
   "outputs": [
    {
     "name": "stdout",
     "output_type": "stream",
     "text": [
      "[36.66864937  4.55313628  1.05692587]\n",
      "[[27.0669 29.7961 35.4628]\n",
      " [13.4294 15.4943 19.9349]\n",
      " [ 2.7055  3.8415  6.6349]]\n",
      "[32.11551309  3.49621041  1.05692587]\n",
      "[[18.8928 21.1314 25.865 ]\n",
      " [12.2971 14.2639 18.52  ]\n",
      " [ 2.7055  3.8415  6.6349]]\n"
     ]
    }
   ],
   "source": [
    "print(ts.vector_ar.vecm.coint_johansen(endog=data.loc[:,[\"logm\", \"logp\", \"logrgdp\"]], det_order=0, k_ar_diff=2).lr1)\n",
    "print(ts.vector_ar.vecm.coint_johansen(endog=data.loc[:,[\"logm\", \"logp\", \"logrgdp\"]], det_order=0, k_ar_diff=2).cvt)\n",
    "\n",
    "print(ts.vector_ar.vecm.coint_johansen(endog=data.loc[:,[\"logm\", \"logp\", \"logrgdp\"]], det_order=0, k_ar_diff=2).lr2)\n",
    "print(ts.vector_ar.vecm.coint_johansen(endog=data.loc[:,[\"logm\", \"logp\", \"logrgdp\"]], det_order=0, k_ar_diff=2).cvm)"
   ]
  },
  {
   "cell_type": "markdown",
   "metadata": {},
   "source": [
    "## Question 6.24\n",
    "\n",
    "Change the lag order of the VECM from 2 to 3 and then run the cointegration test again using the same specifications (option 3, no exogenous variables).\n",
    "\n",
    "What is the number of independent cointegrating equations using a 10 percent level of significance?"
   ]
  },
  {
   "cell_type": "code",
   "execution_count": 69,
   "metadata": {
    "scrolled": true
   },
   "outputs": [
    {
     "name": "stdout",
     "output_type": "stream",
     "text": [
      "[28.02443914  5.54110315  1.3221891 ]\n",
      "[[27.0669 29.7961 35.4628]\n",
      " [13.4294 15.4943 19.9349]\n",
      " [ 2.7055  3.8415  6.6349]]\n",
      "[22.48333599  4.21891405  1.3221891 ]\n",
      "[[18.8928 21.1314 25.865 ]\n",
      " [12.2971 14.2639 18.52  ]\n",
      " [ 2.7055  3.8415  6.6349]]\n"
     ]
    }
   ],
   "source": [
    "print(ts.vector_ar.vecm.coint_johansen(endog=data.loc[:,[\"logm\", \"logp\", \"logrgdp\"]], det_order=0, k_ar_diff=3).lr1)\n",
    "print(ts.vector_ar.vecm.coint_johansen(endog=data.loc[:,[\"logm\", \"logp\", \"logrgdp\"]], det_order=0, k_ar_diff=3).cvt)\n",
    "\n",
    "print(ts.vector_ar.vecm.coint_johansen(endog=data.loc[:,[\"logm\", \"logp\", \"logrgdp\"]], det_order=0, k_ar_diff=3).lr2)\n",
    "print(ts.vector_ar.vecm.coint_johansen(endog=data.loc[:,[\"logm\", \"logp\", \"logrgdp\"]], det_order=0, k_ar_diff=3).cvm)"
   ]
  },
  {
   "cell_type": "markdown",
   "metadata": {},
   "source": [
    "## Session 5 Questions\n",
    "\n",
    "In the following questions (6.25-6.29), you will apply what you have seen in the videos of Session 5 to the case of Sweden. You will keep the same model and apply different restrictions and test them."
   ]
  },
  {
   "cell_type": "markdown",
   "metadata": {},
   "source": [
    "## Question 6.25\n",
    "\n",
    "The test of weak exogeneity of RGDP is a test where the null hypothesis states that:"
   ]
  },
  {
   "cell_type": "code",
   "execution_count": 74,
   "metadata": {},
   "outputs": [
    {
     "data": {
      "text/html": [
       "<div>\n",
       "<style scoped>\n",
       "    .dataframe tbody tr th:only-of-type {\n",
       "        vertical-align: middle;\n",
       "    }\n",
       "\n",
       "    .dataframe tbody tr th {\n",
       "        vertical-align: top;\n",
       "    }\n",
       "\n",
       "    .dataframe thead th {\n",
       "        text-align: right;\n",
       "    }\n",
       "</style>\n",
       "<table border=\"1\" class=\"dataframe\">\n",
       "  <thead>\n",
       "    <tr style=\"text-align: right;\">\n",
       "      <th></th>\n",
       "      <th>dateid01</th>\n",
       "      <th>dateid</th>\n",
       "      <th>i</th>\n",
       "      <th>m</th>\n",
       "      <th>p</th>\n",
       "      <th>rgdp</th>\n",
       "    </tr>\n",
       "  </thead>\n",
       "  <tbody>\n",
       "    <tr>\n",
       "      <th>0</th>\n",
       "      <td>1997-07-01</td>\n",
       "      <td>1997-09-30 23:59:59.999</td>\n",
       "      <td>NaN</td>\n",
       "      <td>NaN</td>\n",
       "      <td>NaN</td>\n",
       "      <td>NaN</td>\n",
       "    </tr>\n",
       "    <tr>\n",
       "      <th>1</th>\n",
       "      <td>1997-10-01</td>\n",
       "      <td>1997-12-31 23:59:59.999</td>\n",
       "      <td>NaN</td>\n",
       "      <td>NaN</td>\n",
       "      <td>NaN</td>\n",
       "      <td>NaN</td>\n",
       "    </tr>\n",
       "    <tr>\n",
       "      <th>2</th>\n",
       "      <td>1998-01-01</td>\n",
       "      <td>1998-03-31 23:59:59.999</td>\n",
       "      <td>4.35</td>\n",
       "      <td>853782.0</td>\n",
       "      <td>257.52</td>\n",
       "      <td>663830.0</td>\n",
       "    </tr>\n",
       "    <tr>\n",
       "      <th>3</th>\n",
       "      <td>1998-04-01</td>\n",
       "      <td>1998-06-30 23:59:59.999</td>\n",
       "      <td>4.10</td>\n",
       "      <td>873226.0</td>\n",
       "      <td>257.14</td>\n",
       "      <td>674616.0</td>\n",
       "    </tr>\n",
       "    <tr>\n",
       "      <th>4</th>\n",
       "      <td>1998-07-01</td>\n",
       "      <td>1998-09-30 23:59:59.999</td>\n",
       "      <td>4.10</td>\n",
       "      <td>878843.0</td>\n",
       "      <td>256.68</td>\n",
       "      <td>678045.0</td>\n",
       "    </tr>\n",
       "  </tbody>\n",
       "</table>\n",
       "</div>"
      ],
      "text/plain": [
       "     dateid01                   dateid     i         m       p      rgdp\n",
       "0  1997-07-01  1997-09-30 23:59:59.999   NaN       NaN     NaN       NaN\n",
       "1  1997-10-01  1997-12-31 23:59:59.999   NaN       NaN     NaN       NaN\n",
       "2  1998-01-01  1998-03-31 23:59:59.999  4.35  853782.0  257.52  663830.0\n",
       "3  1998-04-01  1998-06-30 23:59:59.999  4.10  873226.0  257.14  674616.0\n",
       "4  1998-07-01  1998-09-30 23:59:59.999  4.10  878843.0  256.68  678045.0"
      ]
     },
     "execution_count": 74,
     "metadata": {},
     "output_type": "execute_result"
    }
   ],
   "source": [
    "sweden = pd.read_csv(\"data/Module6_Worfile_SWE.csv\")\n",
    "sweden.head()"
   ]
  },
  {
   "cell_type": "code",
   "execution_count": 79,
   "metadata": {},
   "outputs": [
    {
     "name": "stderr",
     "output_type": "stream",
     "text": [
      "/Users/kmiyaki/anaconda3/lib/python3.7/site-packages/ipykernel_launcher.py:6: SettingWithCopyWarning: \n",
      "A value is trying to be set on a copy of a slice from a DataFrame.\n",
      "Try using .loc[row_indexer,col_indexer] = value instead\n",
      "\n",
      "See the caveats in the documentation: http://pandas.pydata.org/pandas-docs/stable/indexing.html#indexing-view-versus-copy\n",
      "  \n",
      "/Users/kmiyaki/anaconda3/lib/python3.7/site-packages/ipykernel_launcher.py:7: SettingWithCopyWarning: \n",
      "A value is trying to be set on a copy of a slice from a DataFrame.\n",
      "Try using .loc[row_indexer,col_indexer] = value instead\n",
      "\n",
      "See the caveats in the documentation: http://pandas.pydata.org/pandas-docs/stable/indexing.html#indexing-view-versus-copy\n",
      "  import sys\n",
      "/Users/kmiyaki/anaconda3/lib/python3.7/site-packages/ipykernel_launcher.py:8: SettingWithCopyWarning: \n",
      "A value is trying to be set on a copy of a slice from a DataFrame.\n",
      "Try using .loc[row_indexer,col_indexer] = value instead\n",
      "\n",
      "See the caveats in the documentation: http://pandas.pydata.org/pandas-docs/stable/indexing.html#indexing-view-versus-copy\n",
      "  \n"
     ]
    },
    {
     "data": {
      "text/html": [
       "<div>\n",
       "<style scoped>\n",
       "    .dataframe tbody tr th:only-of-type {\n",
       "        vertical-align: middle;\n",
       "    }\n",
       "\n",
       "    .dataframe tbody tr th {\n",
       "        vertical-align: top;\n",
       "    }\n",
       "\n",
       "    .dataframe thead th {\n",
       "        text-align: right;\n",
       "    }\n",
       "</style>\n",
       "<table border=\"1\" class=\"dataframe\">\n",
       "  <thead>\n",
       "    <tr style=\"text-align: right;\">\n",
       "      <th></th>\n",
       "      <th>i</th>\n",
       "      <th>m</th>\n",
       "      <th>p</th>\n",
       "      <th>rgdp</th>\n",
       "      <th>logm</th>\n",
       "      <th>logp</th>\n",
       "      <th>logrgdp</th>\n",
       "    </tr>\n",
       "    <tr>\n",
       "      <th>dateid01</th>\n",
       "      <th></th>\n",
       "      <th></th>\n",
       "      <th></th>\n",
       "      <th></th>\n",
       "      <th></th>\n",
       "      <th></th>\n",
       "      <th></th>\n",
       "    </tr>\n",
       "  </thead>\n",
       "  <tbody>\n",
       "    <tr>\n",
       "      <th>2000-01-01</th>\n",
       "      <td>3.75</td>\n",
       "      <td>980275.0</td>\n",
       "      <td>259.44</td>\n",
       "      <td>723308.0</td>\n",
       "      <td>13.795588</td>\n",
       "      <td>5.558525</td>\n",
       "      <td>13.491590</td>\n",
       "    </tr>\n",
       "    <tr>\n",
       "      <th>2000-04-01</th>\n",
       "      <td>3.75</td>\n",
       "      <td>981380.0</td>\n",
       "      <td>260.03</td>\n",
       "      <td>739187.0</td>\n",
       "      <td>13.796715</td>\n",
       "      <td>5.560797</td>\n",
       "      <td>13.513306</td>\n",
       "    </tr>\n",
       "    <tr>\n",
       "      <th>2000-07-01</th>\n",
       "      <td>3.75</td>\n",
       "      <td>988604.0</td>\n",
       "      <td>260.99</td>\n",
       "      <td>745478.0</td>\n",
       "      <td>13.804049</td>\n",
       "      <td>5.564482</td>\n",
       "      <td>13.521781</td>\n",
       "    </tr>\n",
       "    <tr>\n",
       "      <th>2000-10-01</th>\n",
       "      <td>4.00</td>\n",
       "      <td>987592.0</td>\n",
       "      <td>262.44</td>\n",
       "      <td>747511.0</td>\n",
       "      <td>13.803025</td>\n",
       "      <td>5.570022</td>\n",
       "      <td>13.524504</td>\n",
       "    </tr>\n",
       "    <tr>\n",
       "      <th>2001-01-01</th>\n",
       "      <td>4.00</td>\n",
       "      <td>1012069.0</td>\n",
       "      <td>263.67</td>\n",
       "      <td>745543.0</td>\n",
       "      <td>13.827507</td>\n",
       "      <td>5.574698</td>\n",
       "      <td>13.521868</td>\n",
       "    </tr>\n",
       "  </tbody>\n",
       "</table>\n",
       "</div>"
      ],
      "text/plain": [
       "               i          m       p      rgdp       logm      logp    logrgdp\n",
       "dateid01                                                                     \n",
       "2000-01-01  3.75   980275.0  259.44  723308.0  13.795588  5.558525  13.491590\n",
       "2000-04-01  3.75   981380.0  260.03  739187.0  13.796715  5.560797  13.513306\n",
       "2000-07-01  3.75   988604.0  260.99  745478.0  13.804049  5.564482  13.521781\n",
       "2000-10-01  4.00   987592.0  262.44  747511.0  13.803025  5.570022  13.524504\n",
       "2001-01-01  4.00  1012069.0  263.67  745543.0  13.827507  5.574698  13.521868"
      ]
     },
     "execution_count": 79,
     "metadata": {},
     "output_type": "execute_result"
    }
   ],
   "source": [
    "data = sweden[10:62]\n",
    "data.dateid01 = pd.to_datetime(data.copy().dateid01)\n",
    "data.index = data.dateid01\n",
    "data.drop(columns=[\"dateid01\", \"dateid\"], inplace=True)\n",
    "\n",
    "data[\"logm\"] = np.log(data.m)\n",
    "data[\"logp\"] = np.log(data.p)\n",
    "data[\"logrgdp\"] = np.log(data.rgdp)\n",
    "data.head()"
   ]
  },
  {
   "cell_type": "markdown",
   "metadata": {},
   "source": [
    "Run the replication code \"MF_M6_session_6.prg\" followed by \"MF_M6_session_6_forecast\" to replicate the results shown in the video for Austria. You will first work with Swedish data. Replace the country with Sweden by replacing the command pageselect AUT with pageselect SWE at the beginning of the script \"MF_M6_session_6.prg\". Then, run \"MF_M6_session_6.prg\" followed by \"MF_M6_session_6_forecast\". "
   ]
  },
  {
   "cell_type": "markdown",
   "metadata": {},
   "source": [
    "## Question 6.31\n",
    "\n",
    "In terms of RMSEs, which model delivers the best forecasting performance for each variable? (Hint: open the object \"Forecast_Performance\")\n",
    "P:"
   ]
  },
  {
   "cell_type": "code",
   "execution_count": 81,
   "metadata": {},
   "outputs": [
    {
     "data": {
      "image/png": "[encoded data removed]",
      "text/plain": [
       "<Figure size 864x864 with 4 Axes>"
      ]
     },
     "metadata": {
      "needs_background": "light"
     },
     "output_type": "display_data"
    }
   ],
   "source": [
    "fig, axes = plt.subplots(2, 2, figsize=(12,12))\n",
    "axes[0, 0].plot(data.i)\n",
    "axes[1, 0].plot(np.log(data.m))\n",
    "axes[0, 1].plot(np.log(data.p))\n",
    "axes[1, 1].plot(np.log(data.rgdp))\n",
    "plt.show()"
   ]
  },
  {
   "cell_type": "code",
   "execution_count": 83,
   "metadata": {},
   "outputs": [
    {
     "data": {
      "text/html": [
       "<table class=\"simpletable\">\n",
       "<caption>Johansen cointegration test using trace test statistic with 5% significance level</caption>\n",
       "<tr>\n",
       "  <th>r_0</th> <th>r_1</th> <th>test statistic</th> <th>critical value</th>\n",
       "</tr>\n",
       "<tr>\n",
       "    <td>0</td>   <td>3</td>          <td>47.17</td>          <td>35.01</td>\n",
       "</tr>\n",
       "<tr>\n",
       "    <td>1</td>   <td>3</td>          <td>26.76</td>          <td>18.40</td>\n",
       "</tr>\n",
       "<tr>\n",
       "    <td>2</td>   <td>3</td>          <td>7.403</td>          <td>3.841</td>\n",
       "</tr>\n",
       "</table>"
      ],
      "text/plain": [
       "<class 'statsmodels.iolib.table.SimpleTable'>"
      ]
     },
     "execution_count": 83,
     "metadata": {},
     "output_type": "execute_result"
    }
   ],
   "source": [
    "ts.vector_ar.vecm.select_coint_rank(endog=data.loc[:,[\"logm\", \"logp\", \"logrgdp\"]],\n",
    "                                    det_order=1,\n",
    "                                    k_ar_diff=2,\n",
    "                                    method=\"trace\",\n",
    "                                    signif=0.05\n",
    "                                   ).summary()"
   ]
  },
  {
   "cell_type": "code",
   "execution_count": 84,
   "metadata": {},
   "outputs": [
    {
     "data": {
      "text/html": [
       "<table class=\"simpletable\">\n",
       "<caption>Johansen cointegration test using maximum eigenvalue test statistic with 5% significance level</caption>\n",
       "<tr>\n",
       "  <th>r_0</th> <th>r_1</th> <th>test statistic</th> <th>critical value</th>\n",
       "</tr>\n",
       "<tr>\n",
       "    <td>0</td>   <td>1</td>          <td>20.42</td>          <td>24.25</td>\n",
       "</tr>\n",
       "</table>"
      ],
      "text/plain": [
       "<class 'statsmodels.iolib.table.SimpleTable'>"
      ]
     },
     "execution_count": 84,
     "metadata": {},
     "output_type": "execute_result"
    }
   ],
   "source": [
    "ts.vector_ar.vecm.select_coint_rank(endog=data.loc[:,[\"logm\", \"logp\", \"logrgdp\"]],\n",
    "                                    det_order=1,\n",
    "                                    k_ar_diff=2,\n",
    "                                    method=\"maxeig\",\n",
    "                                    signif=0.05\n",
    "                                   ).summary()"
   ]
  },
  {
   "cell_type": "code",
   "execution_count": 88,
   "metadata": {},
   "outputs": [
    {
     "name": "stderr",
     "output_type": "stream",
     "text": [
      "/Users/kmiyaki/anaconda3/lib/python3.7/site-packages/statsmodels/tsa/base/tsa_model.py:171: ValueWarning: No frequency information was provided, so inferred frequency QS-OCT will be used.\n",
      "  % freq, ValueWarning)\n"
     ]
    }
   ],
   "source": [
    "swe_constrained = ts.vector_ar.vecm.VECM(endog=data.loc[:,[\"logm\", \"logp\", \"logrgdp\"]],\n",
    "                       k_ar_diff=2,\n",
    "                       coint_rank=3,\n",
    "                       deterministic=\"co\"\n",
    "                      ).fit()"
   ]
  },
  {
   "cell_type": "code",
   "execution_count": 89,
   "metadata": {},
   "outputs": [
    {
     "name": "stderr",
     "output_type": "stream",
     "text": [
      "/Users/kmiyaki/anaconda3/lib/python3.7/site-packages/statsmodels/tsa/base/tsa_model.py:171: ValueWarning: No frequency information was provided, so inferred frequency QS-OCT will be used.\n",
      "  % freq, ValueWarning)\n"
     ]
    }
   ],
   "source": [
    "swe_unconstrained = ts.vector_ar.vecm.VECM(endog=data.loc[:,[\"logm\", \"logp\", \"logrgdp\"]],\n",
    "                       k_ar_diff=2,\n",
    "                       deterministic=\"co\"\n",
    "                      ).fit()"
   ]
  },
  {
   "cell_type": "code",
   "execution_count": null,
   "metadata": {},
   "outputs": [],
   "source": []
  }
 ],
 "metadata": {
  "kernelspec": {
   "display_name": "Python 3",
   "language": "python",
   "name": "python3"
  },
  "language_info": {
   "codemirror_mode": {
    "name": "ipython",
    "version": 3
   },
   "file_extension": ".py",
   "mimetype": "text/x-python",
   "name": "python",
   "nbconvert_exporter": "python",
   "pygments_lexer": "ipython3",
   "version": "3.7.3"
  }
 },
 "nbformat": 4,
 "nbformat_minor": 2
}
