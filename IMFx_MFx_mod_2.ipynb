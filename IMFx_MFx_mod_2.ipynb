{
 "cells": [
  {
   "cell_type": "markdown",
   "metadata": {},
   "source": [
    "# Module 2: Introduction to Forecasting with EViews"
   ]
  },
  {
   "cell_type": "code",
   "execution_count": 91,
   "metadata": {},
   "outputs": [],
   "source": [
    "import matplotlib.pyplot as plt\n",
    "import numpy as np\n",
    "import pandas as pd\n",
    "import seaborn as sns\n",
    "import statsmodels.api as sm\n",
    "import statsmodels.formula.api as smf\n",
    "import statsmodels.stats as st\n",
    "import statsmodels.tsa as ts\n",
    "%matplotlib inline\n",
    "plt.style.use(\"ggplot\")\n",
    "sns.set_context(\"talk\")"
   ]
  },
  {
   "cell_type": "code",
   "execution_count": 13,
   "metadata": {},
   "outputs": [],
   "source": [
    "bahamas = pd.read_excel(\"data/Module2_Caribbean_Assessment_File.xlsx\", \n",
    "                        sheet_name=\"Bahamas\",\n",
    "                        index_col=0, \n",
    "                        header=[0, 1])"
   ]
  },
  {
   "cell_type": "code",
   "execution_count": 15,
   "metadata": {},
   "outputs": [],
   "source": [
    "jamaica = pd.read_excel(\"data/Module2_Caribbean_Assessment_File.xlsx\", \n",
    "                        sheet_name=\"Jamaica\",\n",
    "                        index_col=0, \n",
    "                        header=[0, 1])"
   ]
  },
  {
   "cell_type": "code",
   "execution_count": 16,
   "metadata": {},
   "outputs": [],
   "source": [
    "trinidad = pd.read_excel(\"data/Module2_Caribbean_Assessment_File.xlsx\", \n",
    "                        sheet_name=\"Trinidad\",\n",
    "                        index_col=0, \n",
    "                        header=[0, 1])"
   ]
  },
  {
   "cell_type": "code",
   "execution_count": 17,
   "metadata": {},
   "outputs": [],
   "source": [
    "dominican = pd.read_excel(\"data/Module2_Caribbean_Assessment_File.xlsx\", \n",
    "                        sheet_name=\"Dominican\",\n",
    "                        index_col=0, \n",
    "                        header=[0, 1])"
   ]
  },
  {
   "cell_type": "code",
   "execution_count": 18,
   "metadata": {},
   "outputs": [],
   "source": [
    "atlantis = pd.read_excel(\"data/Module2_Caribbean_Assessment_File.xlsx\", \n",
    "                        sheet_name=\"Atlantis\",\n",
    "                        index_col=0, \n",
    "                        header=[0, 1])"
   ]
  },
  {
   "cell_type": "code",
   "execution_count": 26,
   "metadata": {},
   "outputs": [],
   "source": [
    "df = pd.merge(jamaica.jam_cpi_eop, bahamas.bah_cpi_eop, right_index=True, left_index=True)"
   ]
  },
  {
   "cell_type": "code",
   "execution_count": 31,
   "metadata": {},
   "outputs": [
    {
     "data": {
      "text/plain": [
       "array([0.04676358, 0.06768942, 0.15407067, 0.27123376, 0.20793783,\n",
       "       0.10185001, 0.0803224 , 0.08207556, 0.15851117, 0.26089771,\n",
       "       0.58885646, 0.33789979, 0.2631332 , 0.23744086, 0.22793207,\n",
       "       0.14669438, 0.08770634, 0.07558198, 0.0656187 , 0.03177221,\n",
       "       0.11111666, 0.06671511, 0.13214511, 0.14682596, 0.09999   ,\n",
       "       0.05347678, 0.15545586, 0.15567065, 0.09726098, 0.11103956,\n",
       "       0.05834316, 0.07698091, 0.0905117 , 0.07788654])"
      ]
     },
     "execution_count": 31,
     "metadata": {},
     "output_type": "execute_result"
    }
   ],
   "source": [
    "np.diff(np.log(df.iloc[:, 0]))"
   ]
  },
  {
   "cell_type": "code",
   "execution_count": 36,
   "metadata": {},
   "outputs": [
    {
     "data": {
      "text/plain": [
       "array([0.08605922, 0.04455085, 0.03426451, 0.04487263, 0.04689979,\n",
       "       0.06595794, 0.0397271 , 0.04939285, 0.04263672, 0.06799861,\n",
       "       0.06213178, 0.03656321, 0.02399698, 0.01432983, 0.01712888,\n",
       "       0.01092907, 0.00787406, 0.01845608, 0.01433374, 0.01019454,\n",
       "       0.02520946, 0.01874657, 0.02077552, 0.01834465, 0.01824993,\n",
       "       0.02131687, 0.02913597, 0.04399982, 0.01572935, 0.01505897,\n",
       "       0.03124618, 0.00734996, 0.00820488, 0.01413257])"
      ]
     },
     "execution_count": 36,
     "metadata": {},
     "output_type": "execute_result"
    }
   ],
   "source": [
    "np.diff(np.log(df.iloc[:, 1]))"
   ]
  },
  {
   "cell_type": "code",
   "execution_count": 37,
   "metadata": {},
   "outputs": [
    {
     "data": {
      "text/plain": [
       "<matplotlib.collections.PathCollection at 0x1c1a9a3fd0>"
      ]
     },
     "execution_count": 37,
     "metadata": {},
     "output_type": "execute_result"
    },
    {
     "data": {
      "image/png": "[encoded data removed]",
      "text/plain": [
       "<Figure size 432x288 with 1 Axes>"
      ]
     },
     "metadata": {
      "needs_background": "light"
     },
     "output_type": "display_data"
    }
   ],
   "source": [
    "plt.scatter(np.diff(np.log(df.iloc[:, 0])), np.diff(np.log(df.iloc[:, 1])))"
   ]
  },
  {
   "cell_type": "code",
   "execution_count": 39,
   "metadata": {},
   "outputs": [
    {
     "data": {
      "text/html": [
       "<table class=\"simpletable\">\n",
       "<caption>OLS Regression Results</caption>\n",
       "<tr>\n",
       "  <th>Dep. Variable:</th>            <td>y</td>        <th>  R-squared:         </th> <td>   0.104</td>\n",
       "</tr>\n",
       "<tr>\n",
       "  <th>Model:</th>                   <td>OLS</td>       <th>  Adj. R-squared:    </th> <td>   0.076</td>\n",
       "</tr>\n",
       "<tr>\n",
       "  <th>Method:</th>             <td>Least Squares</td>  <th>  F-statistic:       </th> <td>   3.703</td>\n",
       "</tr>\n",
       "<tr>\n",
       "  <th>Date:</th>             <td>Tue, 05 Nov 2019</td> <th>  Prob (F-statistic):</th>  <td>0.0632</td> \n",
       "</tr>\n",
       "<tr>\n",
       "  <th>Time:</th>                 <td>11:22:12</td>     <th>  Log-Likelihood:    </th> <td>  87.602</td>\n",
       "</tr>\n",
       "<tr>\n",
       "  <th>No. Observations:</th>      <td>    34</td>      <th>  AIC:               </th> <td>  -171.2</td>\n",
       "</tr>\n",
       "<tr>\n",
       "  <th>Df Residuals:</th>          <td>    32</td>      <th>  BIC:               </th> <td>  -168.2</td>\n",
       "</tr>\n",
       "<tr>\n",
       "  <th>Df Model:</th>              <td>     1</td>      <th>                     </th>     <td> </td>   \n",
       "</tr>\n",
       "<tr>\n",
       "  <th>Covariance Type:</th>      <td>nonrobust</td>    <th>                     </th>     <td> </td>   \n",
       "</tr>\n",
       "</table>\n",
       "<table class=\"simpletable\">\n",
       "<tr>\n",
       "    <td></td>       <th>coef</th>     <th>std err</th>      <th>t</th>      <th>P>|t|</th>  <th>[0.025</th>    <th>0.975]</th>  \n",
       "</tr>\n",
       "<tr>\n",
       "  <th>const</th> <td>    0.0217</td> <td>    0.005</td> <td>    3.972</td> <td> 0.000</td> <td>    0.011</td> <td>    0.033</td>\n",
       "</tr>\n",
       "<tr>\n",
       "  <th>x1</th>    <td>    0.0584</td> <td>    0.030</td> <td>    1.924</td> <td> 0.063</td> <td>   -0.003</td> <td>    0.120</td>\n",
       "</tr>\n",
       "</table>\n",
       "<table class=\"simpletable\">\n",
       "<tr>\n",
       "  <th>Omnibus:</th>       <td>14.678</td> <th>  Durbin-Watson:     </th> <td>   0.613</td>\n",
       "</tr>\n",
       "<tr>\n",
       "  <th>Prob(Omnibus):</th> <td> 0.001</td> <th>  Jarque-Bera (JB):  </th> <td>  15.632</td>\n",
       "</tr>\n",
       "<tr>\n",
       "  <th>Skew:</th>          <td> 1.368</td> <th>  Prob(JB):          </th> <td>0.000403</td>\n",
       "</tr>\n",
       "<tr>\n",
       "  <th>Kurtosis:</th>      <td> 4.883</td> <th>  Cond. No.          </th> <td>    9.52</td>\n",
       "</tr>\n",
       "</table><br/><br/>Warnings:<br/>[1] Standard Errors assume that the covariance matrix of the errors is correctly specified."
      ],
      "text/plain": [
       "<class 'statsmodels.iolib.summary.Summary'>\n",
       "\"\"\"\n",
       "                            OLS Regression Results                            \n",
       "==============================================================================\n",
       "Dep. Variable:                      y   R-squared:                       0.104\n",
       "Model:                            OLS   Adj. R-squared:                  0.076\n",
       "Method:                 Least Squares   F-statistic:                     3.703\n",
       "Date:                Tue, 05 Nov 2019   Prob (F-statistic):             0.0632\n",
       "Time:                        11:22:12   Log-Likelihood:                 87.602\n",
       "No. Observations:                  34   AIC:                            -171.2\n",
       "Df Residuals:                      32   BIC:                            -168.2\n",
       "Df Model:                           1                                         \n",
       "Covariance Type:            nonrobust                                         \n",
       "==============================================================================\n",
       "                 coef    std err          t      P>|t|      [0.025      0.975]\n",
       "------------------------------------------------------------------------------\n",
       "const          0.0217      0.005      3.972      0.000       0.011       0.033\n",
       "x1             0.0584      0.030      1.924      0.063      -0.003       0.120\n",
       "==============================================================================\n",
       "Omnibus:                       14.678   Durbin-Watson:                   0.613\n",
       "Prob(Omnibus):                  0.001   Jarque-Bera (JB):               15.632\n",
       "Skew:                           1.368   Prob(JB):                     0.000403\n",
       "Kurtosis:                       4.883   Cond. No.                         9.52\n",
       "==============================================================================\n",
       "\n",
       "Warnings:\n",
       "[1] Standard Errors assume that the covariance matrix of the errors is correctly specified.\n",
       "\"\"\""
      ]
     },
     "execution_count": 39,
     "metadata": {},
     "output_type": "execute_result"
    }
   ],
   "source": [
    "model = sm.regression.linear_model.OLS(np.diff(np.log(df.iloc[:, 1])), \n",
    "                                       sm.add_constant(np.diff(np.log(df.iloc[:, 0]))), \n",
    "                                       hasconst=True).fit()\n",
    "model.summary()"
   ]
  },
  {
   "cell_type": "markdown",
   "metadata": {},
   "source": [
    "## Question 2.6"
   ]
  },
  {
   "cell_type": "code",
   "execution_count": 43,
   "metadata": {},
   "outputs": [
    {
     "data": {
      "text/html": [
       "<div>\n",
       "<style scoped>\n",
       "    .dataframe tbody tr th:only-of-type {\n",
       "        vertical-align: middle;\n",
       "    }\n",
       "\n",
       "    .dataframe tbody tr th {\n",
       "        vertical-align: top;\n",
       "    }\n",
       "\n",
       "    .dataframe thead th {\n",
       "        text-align: right;\n",
       "    }\n",
       "</style>\n",
       "<table border=\"1\" class=\"dataframe\">\n",
       "  <thead>\n",
       "    <tr style=\"text-align: right;\">\n",
       "      <th></th>\n",
       "      <th>Consumer Prices, end of period  (Units)</th>\n",
       "    </tr>\n",
       "  </thead>\n",
       "  <tbody>\n",
       "    <tr>\n",
       "      <th>1980</th>\n",
       "      <td>NaN</td>\n",
       "    </tr>\n",
       "    <tr>\n",
       "      <th>1981</th>\n",
       "      <td>0.047874</td>\n",
       "    </tr>\n",
       "    <tr>\n",
       "      <th>1982</th>\n",
       "      <td>0.070033</td>\n",
       "    </tr>\n",
       "    <tr>\n",
       "      <th>1983</th>\n",
       "      <td>0.166573</td>\n",
       "    </tr>\n",
       "    <tr>\n",
       "      <th>1984</th>\n",
       "      <td>0.311582</td>\n",
       "    </tr>\n",
       "    <tr>\n",
       "      <th>1985</th>\n",
       "      <td>0.231137</td>\n",
       "    </tr>\n",
       "    <tr>\n",
       "      <th>1986</th>\n",
       "      <td>0.107217</td>\n",
       "    </tr>\n",
       "    <tr>\n",
       "      <th>1987</th>\n",
       "      <td>0.083636</td>\n",
       "    </tr>\n",
       "    <tr>\n",
       "      <th>1988</th>\n",
       "      <td>0.085538</td>\n",
       "    </tr>\n",
       "    <tr>\n",
       "      <th>1989</th>\n",
       "      <td>0.171765</td>\n",
       "    </tr>\n",
       "    <tr>\n",
       "      <th>1990</th>\n",
       "      <td>0.298095</td>\n",
       "    </tr>\n",
       "    <tr>\n",
       "      <th>1991</th>\n",
       "      <td>0.801927</td>\n",
       "    </tr>\n",
       "    <tr>\n",
       "      <th>1992</th>\n",
       "      <td>0.402000</td>\n",
       "    </tr>\n",
       "    <tr>\n",
       "      <th>1993</th>\n",
       "      <td>0.301000</td>\n",
       "    </tr>\n",
       "    <tr>\n",
       "      <th>1994</th>\n",
       "      <td>0.268000</td>\n",
       "    </tr>\n",
       "    <tr>\n",
       "      <th>1995</th>\n",
       "      <td>0.256000</td>\n",
       "    </tr>\n",
       "    <tr>\n",
       "      <th>1996</th>\n",
       "      <td>0.158000</td>\n",
       "    </tr>\n",
       "    <tr>\n",
       "      <th>1997</th>\n",
       "      <td>0.091667</td>\n",
       "    </tr>\n",
       "    <tr>\n",
       "      <th>1998</th>\n",
       "      <td>0.078512</td>\n",
       "    </tr>\n",
       "    <tr>\n",
       "      <th>1999</th>\n",
       "      <td>0.067819</td>\n",
       "    </tr>\n",
       "    <tr>\n",
       "      <th>2000</th>\n",
       "      <td>0.032282</td>\n",
       "    </tr>\n",
       "    <tr>\n",
       "      <th>2001</th>\n",
       "      <td>0.117525</td>\n",
       "    </tr>\n",
       "    <tr>\n",
       "      <th>2002</th>\n",
       "      <td>0.068991</td>\n",
       "    </tr>\n",
       "    <tr>\n",
       "      <th>2003</th>\n",
       "      <td>0.141274</td>\n",
       "    </tr>\n",
       "    <tr>\n",
       "      <th>2004</th>\n",
       "      <td>0.158152</td>\n",
       "    </tr>\n",
       "    <tr>\n",
       "      <th>2005</th>\n",
       "      <td>0.105160</td>\n",
       "    </tr>\n",
       "    <tr>\n",
       "      <th>2006</th>\n",
       "      <td>0.054932</td>\n",
       "    </tr>\n",
       "    <tr>\n",
       "      <th>2007</th>\n",
       "      <td>0.168190</td>\n",
       "    </tr>\n",
       "    <tr>\n",
       "      <th>2008</th>\n",
       "      <td>0.168441</td>\n",
       "    </tr>\n",
       "    <tr>\n",
       "      <th>2009</th>\n",
       "      <td>0.102148</td>\n",
       "    </tr>\n",
       "    <tr>\n",
       "      <th>2010</th>\n",
       "      <td>0.117439</td>\n",
       "    </tr>\n",
       "    <tr>\n",
       "      <th>2011</th>\n",
       "      <td>0.060079</td>\n",
       "    </tr>\n",
       "    <tr>\n",
       "      <th>2012</th>\n",
       "      <td>0.080021</td>\n",
       "    </tr>\n",
       "    <tr>\n",
       "      <th>2013</th>\n",
       "      <td>0.094734</td>\n",
       "    </tr>\n",
       "    <tr>\n",
       "      <th>2014</th>\n",
       "      <td>0.081000</td>\n",
       "    </tr>\n",
       "  </tbody>\n",
       "</table>\n",
       "</div>"
      ],
      "text/plain": [
       "      Consumer Prices, end of period  (Units)\n",
       "1980                                      NaN\n",
       "1981                                 0.047874\n",
       "1982                                 0.070033\n",
       "1983                                 0.166573\n",
       "1984                                 0.311582\n",
       "1985                                 0.231137\n",
       "1986                                 0.107217\n",
       "1987                                 0.083636\n",
       "1988                                 0.085538\n",
       "1989                                 0.171765\n",
       "1990                                 0.298095\n",
       "1991                                 0.801927\n",
       "1992                                 0.402000\n",
       "1993                                 0.301000\n",
       "1994                                 0.268000\n",
       "1995                                 0.256000\n",
       "1996                                 0.158000\n",
       "1997                                 0.091667\n",
       "1998                                 0.078512\n",
       "1999                                 0.067819\n",
       "2000                                 0.032282\n",
       "2001                                 0.117525\n",
       "2002                                 0.068991\n",
       "2003                                 0.141274\n",
       "2004                                 0.158152\n",
       "2005                                 0.105160\n",
       "2006                                 0.054932\n",
       "2007                                 0.168190\n",
       "2008                                 0.168441\n",
       "2009                                 0.102148\n",
       "2010                                 0.117439\n",
       "2011                                 0.060079\n",
       "2012                                 0.080021\n",
       "2013                                 0.094734\n",
       "2014                                 0.081000"
      ]
     },
     "execution_count": 43,
     "metadata": {},
     "output_type": "execute_result"
    }
   ],
   "source": [
    "jamaica.jam_cpi_eop.pct_change()"
   ]
  },
  {
   "cell_type": "code",
   "execution_count": 42,
   "metadata": {
    "scrolled": true
   },
   "outputs": [
    {
     "data": {
      "text/plain": [
       "[<matplotlib.lines.Line2D at 0x1c1abba518>]"
      ]
     },
     "execution_count": 42,
     "metadata": {},
     "output_type": "execute_result"
    },
    {
     "data": {
      "image/png": "[encoded data removed]",
      "text/plain": [
       "<Figure size 432x288 with 1 Axes>"
      ]
     },
     "metadata": {
      "needs_background": "light"
     },
     "output_type": "display_data"
    }
   ],
   "source": [
    "plt.plot(jamaica.jam_cpi_eop.pct_change())"
   ]
  },
  {
   "cell_type": "markdown",
   "metadata": {},
   "source": [
    "## Question 2.7"
   ]
  },
  {
   "cell_type": "code",
   "execution_count": 50,
   "metadata": {
    "scrolled": true
   },
   "outputs": [
    {
     "name": "stderr",
     "output_type": "stream",
     "text": [
      "/Users/kmiyaki/anaconda3/lib/python3.7/site-packages/numpy/core/fromnumeric.py:2389: FutureWarning: Method .ptp is deprecated and will be removed in a future version. Use numpy.ptp instead.\n",
      "  return ptp(axis=axis, out=out, **kwargs)\n"
     ]
    },
    {
     "data": {
      "text/html": [
       "<table class=\"simpletable\">\n",
       "<caption>OLS Regression Results</caption>\n",
       "<tr>\n",
       "  <th>Dep. Variable:</th>        <td>Inflation</td>    <th>  R-squared:         </th> <td>   0.216</td>\n",
       "</tr>\n",
       "<tr>\n",
       "  <th>Model:</th>                   <td>OLS</td>       <th>  Adj. R-squared:    </th> <td>   0.181</td>\n",
       "</tr>\n",
       "<tr>\n",
       "  <th>Method:</th>             <td>Least Squares</td>  <th>  F-statistic:       </th> <td>   6.070</td>\n",
       "</tr>\n",
       "<tr>\n",
       "  <th>Date:</th>             <td>Tue, 05 Nov 2019</td> <th>  Prob (F-statistic):</th>  <td>0.0220</td> \n",
       "</tr>\n",
       "<tr>\n",
       "  <th>Time:</th>                 <td>11:53:36</td>     <th>  Log-Likelihood:    </th> <td> -46.509</td>\n",
       "</tr>\n",
       "<tr>\n",
       "  <th>No. Observations:</th>      <td>    24</td>      <th>  AIC:               </th> <td>   97.02</td>\n",
       "</tr>\n",
       "<tr>\n",
       "  <th>Df Residuals:</th>          <td>    22</td>      <th>  BIC:               </th> <td>   99.37</td>\n",
       "</tr>\n",
       "<tr>\n",
       "  <th>Df Model:</th>              <td>     1</td>      <th>                     </th>     <td> </td>   \n",
       "</tr>\n",
       "<tr>\n",
       "  <th>Covariance Type:</th>      <td>nonrobust</td>    <th>                     </th>     <td> </td>   \n",
       "</tr>\n",
       "</table>\n",
       "<table class=\"simpletable\">\n",
       "<tr>\n",
       "              <td></td>                 <th>coef</th>     <th>std err</th>      <th>t</th>      <th>P>|t|</th>  <th>[0.025</th>    <th>0.975]</th>  \n",
       "</tr>\n",
       "<tr>\n",
       "  <th>const</th>                     <td>   11.8593</td> <td>    1.925</td> <td>    6.160</td> <td> 0.000</td> <td>    7.867</td> <td>   15.852</td>\n",
       "</tr>\n",
       "<tr>\n",
       "  <th>Unemployment rate (Units)</th> <td>   -0.6917</td> <td>    0.281</td> <td>   -2.464</td> <td> 0.022</td> <td>   -1.274</td> <td>   -0.109</td>\n",
       "</tr>\n",
       "</table>\n",
       "<table class=\"simpletable\">\n",
       "<tr>\n",
       "  <th>Omnibus:</th>       <td> 1.966</td> <th>  Durbin-Watson:     </th> <td>   2.019</td>\n",
       "</tr>\n",
       "<tr>\n",
       "  <th>Prob(Omnibus):</th> <td> 0.374</td> <th>  Jarque-Bera (JB):  </th> <td>   1.189</td>\n",
       "</tr>\n",
       "<tr>\n",
       "  <th>Skew:</th>          <td> 0.221</td> <th>  Prob(JB):          </th> <td>   0.552</td>\n",
       "</tr>\n",
       "<tr>\n",
       "  <th>Kurtosis:</th>      <td> 2.003</td> <th>  Cond. No.          </th> <td>    37.6</td>\n",
       "</tr>\n",
       "</table><br/><br/>Warnings:<br/>[1] Standard Errors assume that the covariance matrix of the errors is correctly specified."
      ],
      "text/plain": [
       "<class 'statsmodels.iolib.summary.Summary'>\n",
       "\"\"\"\n",
       "                            OLS Regression Results                            \n",
       "==============================================================================\n",
       "Dep. Variable:              Inflation   R-squared:                       0.216\n",
       "Model:                            OLS   Adj. R-squared:                  0.181\n",
       "Method:                 Least Squares   F-statistic:                     6.070\n",
       "Date:                Tue, 05 Nov 2019   Prob (F-statistic):             0.0220\n",
       "Time:                        11:53:36   Log-Likelihood:                -46.509\n",
       "No. Observations:                  24   AIC:                             97.02\n",
       "Df Residuals:                      22   BIC:                             99.37\n",
       "Df Model:                           1                                         \n",
       "Covariance Type:            nonrobust                                         \n",
       "=============================================================================================\n",
       "                                coef    std err          t      P>|t|      [0.025      0.975]\n",
       "---------------------------------------------------------------------------------------------\n",
       "const                        11.8593      1.925      6.160      0.000       7.867      15.852\n",
       "Unemployment rate (Units)    -0.6917      0.281     -2.464      0.022      -1.274      -0.109\n",
       "==============================================================================\n",
       "Omnibus:                        1.966   Durbin-Watson:                   2.019\n",
       "Prob(Omnibus):                  0.374   Jarque-Bera (JB):                1.189\n",
       "Skew:                           0.221   Prob(JB):                        0.552\n",
       "Kurtosis:                       2.003   Cond. No.                         37.6\n",
       "==============================================================================\n",
       "\n",
       "Warnings:\n",
       "[1] Standard Errors assume that the covariance matrix of the errors is correctly specified.\n",
       "\"\"\""
      ]
     },
     "execution_count": 50,
     "metadata": {},
     "output_type": "execute_result"
    }
   ],
   "source": [
    "model = sm.regression.linear_model.OLS(atlantis.atl_infl, \n",
    "                                       sm.add_constant(atlantis.atl_unemp_rate), \n",
    "                                       hasconst=True,\n",
    "                                       missing=\"drop\").fit()\n",
    "model.summary()"
   ]
  },
  {
   "cell_type": "code",
   "execution_count": 52,
   "metadata": {},
   "outputs": [
    {
     "data": {
      "text/plain": [
       "Text(0, 0.5, 'Unemployment')"
      ]
     },
     "execution_count": 52,
     "metadata": {},
     "output_type": "execute_result"
    },
    {
     "data": {
      "image/png": "[encoded data removed]",
      "text/plain": [
       "<Figure size 432x288 with 1 Axes>"
      ]
     },
     "metadata": {
      "needs_background": "light"
     },
     "output_type": "display_data"
    }
   ],
   "source": [
    "plt.scatter(atlantis.atl_infl, atlantis.atl_unemp_rate)\n",
    "plt.xlabel(\"Inflation\")\n",
    "plt.ylabel(\"Unemployment\")"
   ]
  },
  {
   "cell_type": "markdown",
   "metadata": {},
   "source": [
    "## Question 2-9"
   ]
  },
  {
   "cell_type": "code",
   "execution_count": 67,
   "metadata": {},
   "outputs": [
    {
     "data": {
      "text/plain": [
       "array([[       nan, 0.        ],\n",
       "       [       nan,        nan],\n",
       "       [       nan,        nan],\n",
       "       [       nan,        nan],\n",
       "       [       nan,        nan],\n",
       "       [       nan,        nan],\n",
       "       [       nan,        nan],\n",
       "       [       nan,        nan],\n",
       "       [       nan,        nan],\n",
       "       [       nan,        nan],\n",
       "       [       nan,        nan],\n",
       "       [9.23716126,        nan],\n",
       "       [9.53716126, 9.23716126],\n",
       "       [9.33716126, 9.53716126],\n",
       "       [7.38716126, 9.33716126],\n",
       "       [7.28716126, 7.38716126],\n",
       "       [7.53716126, 7.28716126],\n",
       "       [7.18716126, 7.53716126],\n",
       "       [7.38716126, 7.18716126],\n",
       "       [6.28716126, 7.38716126],\n",
       "       [6.34312816, 6.28716126],\n",
       "       [7.17870949, 6.34312816],\n",
       "       [6.61882557, 7.17870949],\n",
       "       [6.76431834, 6.61882557],\n",
       "       [6.14490622, 6.76431834],\n",
       "       [6.41031447, 6.14490622],\n",
       "       [5.49120247, 6.41031447],\n",
       "       [5.00804601, 5.49120247],\n",
       "       [4.63783751, 5.00804601],\n",
       "       [5.31040683, 4.63783751],\n",
       "       [5.00115515, 5.31040683],\n",
       "       [5.78334381, 5.00115515],\n",
       "       [6.4446494 , 5.78334381],\n",
       "       [7.01889141, 6.4446494 ],\n",
       "       [6.36889141, 7.01889141]])"
      ]
     },
     "execution_count": 67,
     "metadata": {},
     "output_type": "execute_result"
    }
   ],
   "source": [
    "ts.tsatools.lagmat(atlantis.atl_unemp_rate, maxlag=1, original=\"in\")"
   ]
  },
  {
   "cell_type": "code",
   "execution_count": 66,
   "metadata": {},
   "outputs": [
    {
     "data": {
      "text/html": [
       "<table class=\"simpletable\">\n",
       "<caption>OLS Regression Results</caption>\n",
       "<tr>\n",
       "  <th>Dep. Variable:</th>        <td>Inflation</td>    <th>  R-squared:         </th> <td>   0.402</td>\n",
       "</tr>\n",
       "<tr>\n",
       "  <th>Model:</th>                   <td>OLS</td>       <th>  Adj. R-squared:    </th> <td>   0.342</td>\n",
       "</tr>\n",
       "<tr>\n",
       "  <th>Method:</th>             <td>Least Squares</td>  <th>  F-statistic:       </th> <td>   6.719</td>\n",
       "</tr>\n",
       "<tr>\n",
       "  <th>Date:</th>             <td>Tue, 05 Nov 2019</td> <th>  Prob (F-statistic):</th>  <td>0.00586</td>\n",
       "</tr>\n",
       "<tr>\n",
       "  <th>Time:</th>                 <td>12:47:57</td>     <th>  Log-Likelihood:    </th> <td> -41.569</td>\n",
       "</tr>\n",
       "<tr>\n",
       "  <th>No. Observations:</th>      <td>    23</td>      <th>  AIC:               </th> <td>   89.14</td>\n",
       "</tr>\n",
       "<tr>\n",
       "  <th>Df Residuals:</th>          <td>    20</td>      <th>  BIC:               </th> <td>   92.54</td>\n",
       "</tr>\n",
       "<tr>\n",
       "  <th>Df Model:</th>              <td>     2</td>      <th>                     </th>     <td> </td>   \n",
       "</tr>\n",
       "<tr>\n",
       "  <th>Covariance Type:</th>      <td>nonrobust</td>    <th>                     </th>     <td> </td>   \n",
       "</tr>\n",
       "</table>\n",
       "<table class=\"simpletable\">\n",
       "<tr>\n",
       "    <td></td>       <th>coef</th>     <th>std err</th>      <th>t</th>      <th>P>|t|</th>  <th>[0.025</th>    <th>0.975]</th>  \n",
       "</tr>\n",
       "<tr>\n",
       "  <th>const</th> <td>   11.2308</td> <td>    1.883</td> <td>    5.963</td> <td> 0.000</td> <td>    7.302</td> <td>   15.160</td>\n",
       "</tr>\n",
       "<tr>\n",
       "  <th>x1</th>    <td>   -1.9562</td> <td>    0.548</td> <td>   -3.572</td> <td> 0.002</td> <td>   -3.099</td> <td>   -0.814</td>\n",
       "</tr>\n",
       "<tr>\n",
       "  <th>x2</th>    <td>    1.3337</td> <td>    0.501</td> <td>    2.663</td> <td> 0.015</td> <td>    0.289</td> <td>    2.378</td>\n",
       "</tr>\n",
       "</table>\n",
       "<table class=\"simpletable\">\n",
       "<tr>\n",
       "  <th>Omnibus:</th>       <td> 0.252</td> <th>  Durbin-Watson:     </th> <td>   1.950</td>\n",
       "</tr>\n",
       "<tr>\n",
       "  <th>Prob(Omnibus):</th> <td> 0.881</td> <th>  Jarque-Bera (JB):  </th> <td>   0.440</td>\n",
       "</tr>\n",
       "<tr>\n",
       "  <th>Skew:</th>          <td> 0.130</td> <th>  Prob(JB):          </th> <td>   0.803</td>\n",
       "</tr>\n",
       "<tr>\n",
       "  <th>Kurtosis:</th>      <td> 2.374</td> <th>  Cond. No.          </th> <td>    55.6</td>\n",
       "</tr>\n",
       "</table><br/><br/>Warnings:<br/>[1] Standard Errors assume that the covariance matrix of the errors is correctly specified."
      ],
      "text/plain": [
       "<class 'statsmodels.iolib.summary.Summary'>\n",
       "\"\"\"\n",
       "                            OLS Regression Results                            \n",
       "==============================================================================\n",
       "Dep. Variable:              Inflation   R-squared:                       0.402\n",
       "Model:                            OLS   Adj. R-squared:                  0.342\n",
       "Method:                 Least Squares   F-statistic:                     6.719\n",
       "Date:                Tue, 05 Nov 2019   Prob (F-statistic):            0.00586\n",
       "Time:                        12:47:57   Log-Likelihood:                -41.569\n",
       "No. Observations:                  23   AIC:                             89.14\n",
       "Df Residuals:                      20   BIC:                             92.54\n",
       "Df Model:                           2                                         \n",
       "Covariance Type:            nonrobust                                         \n",
       "==============================================================================\n",
       "                 coef    std err          t      P>|t|      [0.025      0.975]\n",
       "------------------------------------------------------------------------------\n",
       "const         11.2308      1.883      5.963      0.000       7.302      15.160\n",
       "x1            -1.9562      0.548     -3.572      0.002      -3.099      -0.814\n",
       "x2             1.3337      0.501      2.663      0.015       0.289       2.378\n",
       "==============================================================================\n",
       "Omnibus:                        0.252   Durbin-Watson:                   1.950\n",
       "Prob(Omnibus):                  0.881   Jarque-Bera (JB):                0.440\n",
       "Skew:                           0.130   Prob(JB):                        0.803\n",
       "Kurtosis:                       2.374   Cond. No.                         55.6\n",
       "==============================================================================\n",
       "\n",
       "Warnings:\n",
       "[1] Standard Errors assume that the covariance matrix of the errors is correctly specified.\n",
       "\"\"\""
      ]
     },
     "execution_count": 66,
     "metadata": {},
     "output_type": "execute_result"
    }
   ],
   "source": [
    "model = sm.regression.linear_model.OLS(atlantis.atl_infl, \n",
    "                                       sm.add_constant(ts.tsatools.lagmat(atlantis.atl_unemp_rate, \n",
    "                                                                          maxlag=1, \n",
    "                                                                          original=\"in\")), \n",
    "                                       hasconst=True,\n",
    "                                       missing=\"drop\").fit()\n",
    "model.summary()"
   ]
  },
  {
   "cell_type": "markdown",
   "metadata": {},
   "source": [
    "## Question 2-11"
   ]
  },
  {
   "cell_type": "code",
   "execution_count": 89,
   "metadata": {},
   "outputs": [
    {
     "data": {
      "text/plain": [
       "array([[        nan,  0.        ,  0.        ],\n",
       "       [        nan,         nan,         nan],\n",
       "       [        nan,         nan,         nan],\n",
       "       [        nan,         nan,         nan],\n",
       "       [        nan,         nan,         nan],\n",
       "       [        nan,         nan,         nan],\n",
       "       [        nan,         nan,         nan],\n",
       "       [        nan,         nan,         nan],\n",
       "       [        nan,         nan,         nan],\n",
       "       [        nan,         nan,         nan],\n",
       "       [        nan,         nan,         nan],\n",
       "       [ 9.23716126,         nan,         nan],\n",
       "       [ 9.53716126,  9.23716126,  5.55194408],\n",
       "       [ 9.33716126,  9.53716126,  4.31194408],\n",
       "       [ 7.38716126,  9.33716126,  3.73861075],\n",
       "       [ 7.28716126,  7.38716126,  9.06527742],\n",
       "       [ 7.53716126,  7.28716126,  6.51194408],\n",
       "       [ 7.18716126,  7.53716126,  7.31194408],\n",
       "       [ 7.38716126,  7.18716126,  8.25861075],\n",
       "       [ 6.28716126,  7.38716126,  8.73194408],\n",
       "       [ 6.34312816,  6.28716126,  8.87861075],\n",
       "       [ 7.17870949,  6.34312816,  4.76717057],\n",
       "       [ 6.61882557,  7.17870949,  5.76537217],\n",
       "       [ 6.76431834,  6.61882557, 10.44661264],\n",
       "       [ 6.14490622,  6.76431834,  7.59688509],\n",
       "       [ 6.41031447,  6.14490622,  7.19241478],\n",
       "       [ 5.49120247,  6.41031447,  5.78008819],\n",
       "       [ 5.00804601,  5.49120247,  6.24871112],\n",
       "       [ 4.63783751,  5.00804601, 11.43523629],\n",
       "       [ 5.31040683,  4.63783751,  7.89806975],\n",
       "       [ 5.00115515,  5.31040683,  6.3600143 ],\n",
       "       [ 5.78334381,  5.00115515,  9.07408231],\n",
       "       [ 6.4446494 ,  5.78334381,  5.34833138],\n",
       "       [ 7.01889141,  6.4446494 ,  5.71928691],\n",
       "       [ 6.36889141,  7.01889141,  7.89322664]])"
      ]
     },
     "execution_count": 89,
     "metadata": {},
     "output_type": "execute_result"
    }
   ],
   "source": [
    "np.concatenate((ts.tsatools.lagmat(atlantis.atl_unemp_rate, \n",
    "                                   maxlag=1, \n",
    "                                   original=\"in\"), \n",
    "                ts.tsatools.lagmat(atlantis.atl_infl, maxlag=1)), axis=1)"
   ]
  },
  {
   "cell_type": "code",
   "execution_count": 90,
   "metadata": {},
   "outputs": [
    {
     "data": {
      "text/html": [
       "<table class=\"simpletable\">\n",
       "<caption>OLS Regression Results</caption>\n",
       "<tr>\n",
       "  <th>Dep. Variable:</th>        <td>Inflation</td>    <th>  R-squared:         </th> <td>   0.405</td>\n",
       "</tr>\n",
       "<tr>\n",
       "  <th>Model:</th>                   <td>OLS</td>       <th>  Adj. R-squared:    </th> <td>   0.311</td>\n",
       "</tr>\n",
       "<tr>\n",
       "  <th>Method:</th>             <td>Least Squares</td>  <th>  F-statistic:       </th> <td>   4.314</td>\n",
       "</tr>\n",
       "<tr>\n",
       "  <th>Date:</th>             <td>Tue, 05 Nov 2019</td> <th>  Prob (F-statistic):</th>  <td>0.0176</td> \n",
       "</tr>\n",
       "<tr>\n",
       "  <th>Time:</th>                 <td>13:35:30</td>     <th>  Log-Likelihood:    </th> <td> -41.506</td>\n",
       "</tr>\n",
       "<tr>\n",
       "  <th>No. Observations:</th>      <td>    23</td>      <th>  AIC:               </th> <td>   91.01</td>\n",
       "</tr>\n",
       "<tr>\n",
       "  <th>Df Residuals:</th>          <td>    19</td>      <th>  BIC:               </th> <td>   95.55</td>\n",
       "</tr>\n",
       "<tr>\n",
       "  <th>Df Model:</th>              <td>     3</td>      <th>                     </th>     <td> </td>   \n",
       "</tr>\n",
       "<tr>\n",
       "  <th>Covariance Type:</th>      <td>nonrobust</td>    <th>                     </th>     <td> </td>   \n",
       "</tr>\n",
       "</table>\n",
       "<table class=\"simpletable\">\n",
       "<tr>\n",
       "    <td></td>       <th>coef</th>     <th>std err</th>      <th>t</th>      <th>P>|t|</th>  <th>[0.025</th>    <th>0.975]</th>  \n",
       "</tr>\n",
       "<tr>\n",
       "  <th>const</th> <td>   12.0097</td> <td>    3.080</td> <td>    3.899</td> <td> 0.001</td> <td>    5.562</td> <td>   18.457</td>\n",
       "</tr>\n",
       "<tr>\n",
       "  <th>x1</th>    <td>   -1.9708</td> <td>    0.562</td> <td>   -3.506</td> <td> 0.002</td> <td>   -3.147</td> <td>   -0.794</td>\n",
       "</tr>\n",
       "<tr>\n",
       "  <th>x2</th>    <td>    1.3011</td> <td>    0.522</td> <td>    2.492</td> <td> 0.022</td> <td>    0.208</td> <td>    2.394</td>\n",
       "</tr>\n",
       "<tr>\n",
       "  <th>x3</th>    <td>   -0.0649</td> <td>    0.200</td> <td>   -0.324</td> <td> 0.749</td> <td>   -0.484</td> <td>    0.354</td>\n",
       "</tr>\n",
       "</table>\n",
       "<table class=\"simpletable\">\n",
       "<tr>\n",
       "  <th>Omnibus:</th>       <td> 0.195</td> <th>  Durbin-Watson:     </th> <td>   1.872</td>\n",
       "</tr>\n",
       "<tr>\n",
       "  <th>Prob(Omnibus):</th> <td> 0.907</td> <th>  Jarque-Bera (JB):  </th> <td>   0.400</td>\n",
       "</tr>\n",
       "<tr>\n",
       "  <th>Skew:</th>          <td> 0.078</td> <th>  Prob(JB):          </th> <td>   0.819</td>\n",
       "</tr>\n",
       "<tr>\n",
       "  <th>Kurtosis:</th>      <td> 2.373</td> <th>  Cond. No.          </th> <td>    110.</td>\n",
       "</tr>\n",
       "</table><br/><br/>Warnings:<br/>[1] Standard Errors assume that the covariance matrix of the errors is correctly specified."
      ],
      "text/plain": [
       "<class 'statsmodels.iolib.summary.Summary'>\n",
       "\"\"\"\n",
       "                            OLS Regression Results                            \n",
       "==============================================================================\n",
       "Dep. Variable:              Inflation   R-squared:                       0.405\n",
       "Model:                            OLS   Adj. R-squared:                  0.311\n",
       "Method:                 Least Squares   F-statistic:                     4.314\n",
       "Date:                Tue, 05 Nov 2019   Prob (F-statistic):             0.0176\n",
       "Time:                        13:35:30   Log-Likelihood:                -41.506\n",
       "No. Observations:                  23   AIC:                             91.01\n",
       "Df Residuals:                      19   BIC:                             95.55\n",
       "Df Model:                           3                                         \n",
       "Covariance Type:            nonrobust                                         \n",
       "==============================================================================\n",
       "                 coef    std err          t      P>|t|      [0.025      0.975]\n",
       "------------------------------------------------------------------------------\n",
       "const         12.0097      3.080      3.899      0.001       5.562      18.457\n",
       "x1            -1.9708      0.562     -3.506      0.002      -3.147      -0.794\n",
       "x2             1.3011      0.522      2.492      0.022       0.208       2.394\n",
       "x3            -0.0649      0.200     -0.324      0.749      -0.484       0.354\n",
       "==============================================================================\n",
       "Omnibus:                        0.195   Durbin-Watson:                   1.872\n",
       "Prob(Omnibus):                  0.907   Jarque-Bera (JB):                0.400\n",
       "Skew:                           0.078   Prob(JB):                        0.819\n",
       "Kurtosis:                       2.373   Cond. No.                         110.\n",
       "==============================================================================\n",
       "\n",
       "Warnings:\n",
       "[1] Standard Errors assume that the covariance matrix of the errors is correctly specified.\n",
       "\"\"\""
      ]
     },
     "execution_count": 90,
     "metadata": {},
     "output_type": "execute_result"
    }
   ],
   "source": [
    "model = sm.regression.linear_model.OLS(atlantis.atl_infl, \n",
    "                                       sm.add_constant(np.concatenate((ts.tsatools.lagmat(atlantis.atl_unemp_rate,\n",
    "                                                                                          maxlag=1, \n",
    "                                                                                          original=\"in\"), \n",
    "                                                                       ts.tsatools.lagmat(atlantis.atl_infl,\n",
    "                                                                                          maxlag=1)), \n",
    "                                                                      axis=1)), \n",
    "                                       hasconst=True,\n",
    "                                       missing=\"drop\").fit()\n",
    "model.summary()"
   ]
  },
  {
   "cell_type": "markdown",
   "metadata": {},
   "source": [
    "## Question 2-12"
   ]
  },
  {
   "cell_type": "code",
   "execution_count": 96,
   "metadata": {},
   "outputs": [
    {
     "data": {
      "text/html": [
       "<div>\n",
       "<style scoped>\n",
       "    .dataframe tbody tr th:only-of-type {\n",
       "        vertical-align: middle;\n",
       "    }\n",
       "\n",
       "    .dataframe tbody tr th {\n",
       "        vertical-align: top;\n",
       "    }\n",
       "\n",
       "    .dataframe thead th {\n",
       "        text-align: right;\n",
       "    }\n",
       "</style>\n",
       "<table border=\"1\" class=\"dataframe\">\n",
       "  <thead>\n",
       "    <tr style=\"text-align: right;\">\n",
       "      <th></th>\n",
       "      <th>0</th>\n",
       "    </tr>\n",
       "  </thead>\n",
       "  <tbody>\n",
       "    <tr>\n",
       "      <th>Lagrange Multiplier</th>\n",
       "      <td>3.525199</td>\n",
       "    </tr>\n",
       "    <tr>\n",
       "      <th>LM p-value</th>\n",
       "      <td>0.317509</td>\n",
       "    </tr>\n",
       "    <tr>\n",
       "      <th>F-test</th>\n",
       "      <td>0.965405</td>\n",
       "    </tr>\n",
       "    <tr>\n",
       "      <th>F-test p-value</th>\n",
       "      <td>0.433153</td>\n",
       "    </tr>\n",
       "  </tbody>\n",
       "</table>\n",
       "</div>"
      ],
      "text/plain": [
       "                            0\n",
       "Lagrange Multiplier  3.525199\n",
       "LM p-value           0.317509\n",
       "F-test               0.965405\n",
       "F-test p-value       0.433153"
      ]
     },
     "execution_count": 96,
     "metadata": {},
     "output_type": "execute_result"
    }
   ],
   "source": [
    "pd.DataFrame(st.diagnostic.acorr_breusch_godfrey(model, nlags=3), \n",
    "             index=[\"Lagrange Multiplier\", \"LM p-value\", \"F-test\", \"F-test p-value\"])"
   ]
  },
  {
   "cell_type": "markdown",
   "metadata": {},
   "source": [
    "## Question 2.16"
   ]
  },
  {
   "cell_type": "code",
   "execution_count": 107,
   "metadata": {},
   "outputs": [
    {
     "name": "stderr",
     "output_type": "stream",
     "text": [
      "/Users/kmiyaki/anaconda3/lib/python3.7/site-packages/statsmodels/tsa/base/tsa_model.py:221: ValueWarning: An unsupported index was provided and will be ignored when e.g. forecasting.\n",
      "  ' ignored when e.g. forecasting.', ValueWarning)\n"
     ]
    },
    {
     "data": {
      "text/html": [
       "<table class=\"simpletable\">\n",
       "<caption>ARMA Model Results</caption>\n",
       "<tr>\n",
       "  <th>Dep. Variable:</th>     <td>Inflation</td>    <th>  No. Observations:  </th>   <td>23</td>   \n",
       "</tr>\n",
       "<tr>\n",
       "  <th>Model:</th>            <td>ARMA(1, 0)</td>    <th>  Log Likelihood     </th> <td>-41.566</td>\n",
       "</tr>\n",
       "<tr>\n",
       "  <th>Method:</th>             <td>css-mle</td>     <th>  S.D. of innovations</th>  <td>1.474</td> \n",
       "</tr>\n",
       "<tr>\n",
       "  <th>Date:</th>          <td>Wed, 06 Nov 2019</td> <th>  AIC                </th> <td>93.132</td> \n",
       "</tr>\n",
       "<tr>\n",
       "  <th>Time:</th>              <td>15:08:44</td>     <th>  BIC                </th> <td>98.810</td> \n",
       "</tr>\n",
       "<tr>\n",
       "  <th>Sample:</th>                <td>0</td>        <th>  HQIC               </th> <td>94.560</td> \n",
       "</tr>\n",
       "<tr>\n",
       "  <th></th>                       <td> </td>        <th>                     </th>    <td> </td>   \n",
       "</tr>\n",
       "</table>\n",
       "<table class=\"simpletable\">\n",
       "<tr>\n",
       "         <td></td>            <th>coef</th>     <th>std err</th>      <th>z</th>      <th>P>|z|</th>  <th>[0.025</th>    <th>0.975]</th>  \n",
       "</tr>\n",
       "<tr>\n",
       "  <th>const</th>           <td>   11.2275</td> <td>    1.779</td> <td>    6.311</td> <td> 0.000</td> <td>    7.741</td> <td>   14.714</td>\n",
       "</tr>\n",
       "<tr>\n",
       "  <th>x1</th>              <td>   -1.9579</td> <td>    0.510</td> <td>   -3.837</td> <td> 0.001</td> <td>   -2.958</td> <td>   -0.958</td>\n",
       "</tr>\n",
       "<tr>\n",
       "  <th>x2</th>              <td>    1.3358</td> <td>    0.468</td> <td>    2.857</td> <td> 0.010</td> <td>    0.419</td> <td>    2.252</td>\n",
       "</tr>\n",
       "<tr>\n",
       "  <th>ar.L1.Inflation</th> <td>    0.0157</td> <td>    0.206</td> <td>    0.076</td> <td> 0.940</td> <td>   -0.389</td> <td>    0.420</td>\n",
       "</tr>\n",
       "</table>\n",
       "<table class=\"simpletable\">\n",
       "<caption>Roots</caption>\n",
       "<tr>\n",
       "    <td></td>   <th>            Real</th>  <th>         Imaginary</th> <th>         Modulus</th>  <th>        Frequency</th>\n",
       "</tr>\n",
       "<tr>\n",
       "  <th>AR.1</th> <td>          63.7736</td> <td>          +0.0000j</td> <td>          63.7736</td> <td>           0.0000</td>\n",
       "</tr>\n",
       "</table>"
      ],
      "text/plain": [
       "<class 'statsmodels.iolib.summary.Summary'>\n",
       "\"\"\"\n",
       "                              ARMA Model Results                              \n",
       "==============================================================================\n",
       "Dep. Variable:              Inflation   No. Observations:                   23\n",
       "Model:                     ARMA(1, 0)   Log Likelihood                 -41.566\n",
       "Method:                       css-mle   S.D. of innovations              1.474\n",
       "Date:                Wed, 06 Nov 2019   AIC                             93.132\n",
       "Time:                        15:08:44   BIC                             98.810\n",
       "Sample:                             0   HQIC                            94.560\n",
       "                                                                              \n",
       "===================================================================================\n",
       "                      coef    std err          z      P>|z|      [0.025      0.975]\n",
       "-----------------------------------------------------------------------------------\n",
       "const              11.2275      1.779      6.311      0.000       7.741      14.714\n",
       "x1                 -1.9579      0.510     -3.837      0.001      -2.958      -0.958\n",
       "x2                  1.3358      0.468      2.857      0.010       0.419       2.252\n",
       "ar.L1.Inflation     0.0157      0.206      0.076      0.940      -0.389       0.420\n",
       "                                    Roots                                    \n",
       "=============================================================================\n",
       "                  Real          Imaginary           Modulus         Frequency\n",
       "-----------------------------------------------------------------------------\n",
       "AR.1           63.7736           +0.0000j           63.7736            0.0000\n",
       "-----------------------------------------------------------------------------\n",
       "\"\"\""
      ]
     },
     "execution_count": 107,
     "metadata": {},
     "output_type": "execute_result"
    }
   ],
   "source": [
    "model = ts.arima_model.ARMA(endog=atlantis.atl_infl,\n",
    "                            order=(1, 0),\n",
    "                            exog=ts.tsatools.lagmat(atlantis.atl_unemp_rate,\n",
    "                                                    maxlag=1, \n",
    "                                                    original=\"in\"),\n",
    "                            missing=\"drop\"\n",
    "                           ).fit()\n",
    "model.summary()"
   ]
  },
  {
   "cell_type": "code",
   "execution_count": null,
   "metadata": {},
   "outputs": [],
   "source": []
  }
 ],
 "metadata": {
  "kernelspec": {
   "display_name": "Python 3",
   "language": "python",
   "name": "python3"
  },
  "language_info": {
   "codemirror_mode": {
    "name": "ipython",
    "version": 3
   },
   "file_extension": ".py",
   "mimetype": "text/x-python",
   "name": "python",
   "nbconvert_exporter": "python",
   "pygments_lexer": "ipython3",
   "version": "3.7.3"
  }
 },
 "nbformat": 4,
 "nbformat_minor": 2
}
