{
 "cells": [
  {
   "cell_type": "code",
   "execution_count": 28,
   "metadata": {},
   "outputs": [],
   "source": [
    "import matplotlib.pyplot as plt\n",
    "import numpy as np\n",
    "import pandas as pd\n",
    "import seaborn as sns\n",
    "import statsmodels.api as sm\n",
    "import statsmodels.formula.api as smf\n",
    "import statsmodels.stats as st\n",
    "import statsmodels.tsa as ts\n",
    "\n",
    "from statsmodels.graphics.tsaplots import plot_acf, plot_pacf\n",
    "\n",
    "%matplotlib inline\n",
    "plt.style.use(\"ggplot\")\n",
    "sns.set_context(\"talk\")"
   ]
  },
  {
   "cell_type": "markdown",
   "metadata": {},
   "source": [
    "## Question 3.8"
   ]
  },
  {
   "cell_type": "code",
   "execution_count": 3,
   "metadata": {},
   "outputs": [],
   "source": [
    "df = pd.read_csv(\"data/module3_data_Identifying_ARMA.csv\")"
   ]
  },
  {
   "cell_type": "code",
   "execution_count": 4,
   "metadata": {},
   "outputs": [
    {
     "data": {
      "text/html": [
       "<div>\n",
       "<style scoped>\n",
       "    .dataframe tbody tr th:only-of-type {\n",
       "        vertical-align: middle;\n",
       "    }\n",
       "\n",
       "    .dataframe tbody tr th {\n",
       "        vertical-align: top;\n",
       "    }\n",
       "\n",
       "    .dataframe thead th {\n",
       "        text-align: right;\n",
       "    }\n",
       "</style>\n",
       "<table border=\"1\" class=\"dataframe\">\n",
       "  <thead>\n",
       "    <tr style=\"text-align: right;\">\n",
       "      <th></th>\n",
       "      <th>et</th>\n",
       "    </tr>\n",
       "  </thead>\n",
       "  <tbody>\n",
       "    <tr>\n",
       "      <th>count</th>\n",
       "      <td>500.000000</td>\n",
       "    </tr>\n",
       "    <tr>\n",
       "      <th>mean</th>\n",
       "      <td>-0.028460</td>\n",
       "    </tr>\n",
       "    <tr>\n",
       "      <th>std</th>\n",
       "      <td>0.982000</td>\n",
       "    </tr>\n",
       "    <tr>\n",
       "      <th>min</th>\n",
       "      <td>-3.106688</td>\n",
       "    </tr>\n",
       "    <tr>\n",
       "      <th>25%</th>\n",
       "      <td>-0.722506</td>\n",
       "    </tr>\n",
       "    <tr>\n",
       "      <th>50%</th>\n",
       "      <td>-0.025935</td>\n",
       "    </tr>\n",
       "    <tr>\n",
       "      <th>75%</th>\n",
       "      <td>0.620061</td>\n",
       "    </tr>\n",
       "    <tr>\n",
       "      <th>max</th>\n",
       "      <td>2.988090</td>\n",
       "    </tr>\n",
       "  </tbody>\n",
       "</table>\n",
       "</div>"
      ],
      "text/plain": [
       "               et\n",
       "count  500.000000\n",
       "mean    -0.028460\n",
       "std      0.982000\n",
       "min     -3.106688\n",
       "25%     -0.722506\n",
       "50%     -0.025935\n",
       "75%      0.620061\n",
       "max      2.988090"
      ]
     },
     "execution_count": 4,
     "metadata": {},
     "output_type": "execute_result"
    }
   ],
   "source": [
    "df.describe()"
   ]
  },
  {
   "cell_type": "code",
   "execution_count": 6,
   "metadata": {},
   "outputs": [
    {
     "data": {
      "image/png": "[encoded data removed]",
      "text/plain": [
       "<Figure size 432x288 with 1 Axes>"
      ]
     },
     "metadata": {
      "needs_background": "light"
     },
     "output_type": "display_data"
    }
   ],
   "source": [
    "plt.plot(df.et)\n",
    "plt.show()"
   ]
  },
  {
   "cell_type": "code",
   "execution_count": 9,
   "metadata": {},
   "outputs": [
    {
     "data": {
      "text/html": [
       "<div>\n",
       "<style scoped>\n",
       "    .dataframe tbody tr th:only-of-type {\n",
       "        vertical-align: middle;\n",
       "    }\n",
       "\n",
       "    .dataframe tbody tr th {\n",
       "        vertical-align: top;\n",
       "    }\n",
       "\n",
       "    .dataframe thead th {\n",
       "        text-align: right;\n",
       "    }\n",
       "</style>\n",
       "<table border=\"1\" class=\"dataframe\">\n",
       "  <thead>\n",
       "    <tr style=\"text-align: right;\">\n",
       "      <th></th>\n",
       "      <th>et</th>\n",
       "    </tr>\n",
       "  </thead>\n",
       "  <tbody>\n",
       "    <tr>\n",
       "      <th>0</th>\n",
       "      <td>-1.213866</td>\n",
       "    </tr>\n",
       "    <tr>\n",
       "      <th>1</th>\n",
       "      <td>-0.285460</td>\n",
       "    </tr>\n",
       "    <tr>\n",
       "      <th>2</th>\n",
       "      <td>0.590270</td>\n",
       "    </tr>\n",
       "    <tr>\n",
       "      <th>3</th>\n",
       "      <td>0.828546</td>\n",
       "    </tr>\n",
       "    <tr>\n",
       "      <th>4</th>\n",
       "      <td>-0.995426</td>\n",
       "    </tr>\n",
       "  </tbody>\n",
       "</table>\n",
       "</div>"
      ],
      "text/plain": [
       "         et\n",
       "0 -1.213866\n",
       "1 -0.285460\n",
       "2  0.590270\n",
       "3  0.828546\n",
       "4 -0.995426"
      ]
     },
     "execution_count": 9,
     "metadata": {},
     "output_type": "execute_result"
    }
   ],
   "source": [
    "df.head()"
   ]
  },
  {
   "cell_type": "markdown",
   "metadata": {},
   "source": [
    "## Question 3.9\n",
    "\n",
    "Using et as the white noise disturbance, and assuming the initial value of y to be equal to zero generate a new random variable yar, which follows the following AR(1) process:\n",
    "\n",
    "yt = 3.0 + 0.55 yt-1 + et\n",
    "\n",
    "Enter the value of the 5th observation of variable yar (to three decimal places, without any rounding):"
   ]
  },
  {
   "cell_type": "code",
   "execution_count": 20,
   "metadata": {},
   "outputs": [],
   "source": [
    "y = [0]\n",
    "for i in range(1, 500):\n",
    "    y.append(3+0.55*y[i-1]+df.et.iloc[i])\n",
    "ar = pd.DataFrame(y)"
   ]
  },
  {
   "cell_type": "code",
   "execution_count": 22,
   "metadata": {},
   "outputs": [
    {
     "data": {
      "text/html": [
       "<div>\n",
       "<style scoped>\n",
       "    .dataframe tbody tr th:only-of-type {\n",
       "        vertical-align: middle;\n",
       "    }\n",
       "\n",
       "    .dataframe tbody tr th {\n",
       "        vertical-align: top;\n",
       "    }\n",
       "\n",
       "    .dataframe thead th {\n",
       "        text-align: right;\n",
       "    }\n",
       "</style>\n",
       "<table border=\"1\" class=\"dataframe\">\n",
       "  <thead>\n",
       "    <tr style=\"text-align: right;\">\n",
       "      <th></th>\n",
       "      <th>0</th>\n",
       "    </tr>\n",
       "  </thead>\n",
       "  <tbody>\n",
       "    <tr>\n",
       "      <th>0</th>\n",
       "      <td>0.000000</td>\n",
       "    </tr>\n",
       "    <tr>\n",
       "      <th>1</th>\n",
       "      <td>2.714540</td>\n",
       "    </tr>\n",
       "    <tr>\n",
       "      <th>2</th>\n",
       "      <td>5.083267</td>\n",
       "    </tr>\n",
       "    <tr>\n",
       "      <th>3</th>\n",
       "      <td>6.624343</td>\n",
       "    </tr>\n",
       "    <tr>\n",
       "      <th>4</th>\n",
       "      <td>5.647963</td>\n",
       "    </tr>\n",
       "  </tbody>\n",
       "</table>\n",
       "</div>"
      ],
      "text/plain": [
       "          0\n",
       "0  0.000000\n",
       "1  2.714540\n",
       "2  5.083267\n",
       "3  6.624343\n",
       "4  5.647963"
      ]
     },
     "execution_count": 22,
     "metadata": {},
     "output_type": "execute_result"
    }
   ],
   "source": [
    "ar.head()"
   ]
  },
  {
   "cell_type": "markdown",
   "metadata": {},
   "source": [
    "## Question 3.10\n",
    "Also using et as the white noise disturbance and again assuming that the initial value of y is equal to zero, generate the variable yma which follows the following MA(1) process:\n",
    "\n",
    "yt = -2.5 + et + 0.70et-1\n",
    "\n",
    "Enter the value of the 5th observation of variable yma (to three decimal places, without any rounding):"
   ]
  },
  {
   "cell_type": "code",
   "execution_count": 23,
   "metadata": {},
   "outputs": [
    {
     "data": {
      "text/html": [
       "<div>\n",
       "<style scoped>\n",
       "    .dataframe tbody tr th:only-of-type {\n",
       "        vertical-align: middle;\n",
       "    }\n",
       "\n",
       "    .dataframe tbody tr th {\n",
       "        vertical-align: top;\n",
       "    }\n",
       "\n",
       "    .dataframe thead th {\n",
       "        text-align: right;\n",
       "    }\n",
       "</style>\n",
       "<table border=\"1\" class=\"dataframe\">\n",
       "  <thead>\n",
       "    <tr style=\"text-align: right;\">\n",
       "      <th></th>\n",
       "      <th>0</th>\n",
       "    </tr>\n",
       "  </thead>\n",
       "  <tbody>\n",
       "    <tr>\n",
       "      <th>0</th>\n",
       "      <td>0.000000</td>\n",
       "    </tr>\n",
       "    <tr>\n",
       "      <th>1</th>\n",
       "      <td>-3.635166</td>\n",
       "    </tr>\n",
       "    <tr>\n",
       "      <th>2</th>\n",
       "      <td>-2.109552</td>\n",
       "    </tr>\n",
       "    <tr>\n",
       "      <th>3</th>\n",
       "      <td>-1.258265</td>\n",
       "    </tr>\n",
       "    <tr>\n",
       "      <th>4</th>\n",
       "      <td>-2.915444</td>\n",
       "    </tr>\n",
       "  </tbody>\n",
       "</table>\n",
       "</div>"
      ],
      "text/plain": [
       "          0\n",
       "0  0.000000\n",
       "1 -3.635166\n",
       "2 -2.109552\n",
       "3 -1.258265\n",
       "4 -2.915444"
      ]
     },
     "execution_count": 23,
     "metadata": {},
     "output_type": "execute_result"
    }
   ],
   "source": [
    "y = [0]\n",
    "for i in range(1, 500):\n",
    "    y.append(-2.5+df.et.iloc[i]+0.7*df.et.iloc[i-1])\n",
    "ma = pd.DataFrame(y)\n",
    "ma.head()"
   ]
  },
  {
   "cell_type": "markdown",
   "metadata": {},
   "source": [
    "## Question 3.11\n",
    "\n",
    "Based on the patterns of ACF and PACF observed in the past lecture for an AR(1) process, which of the following statements is true?"
   ]
  },
  {
   "cell_type": "code",
   "execution_count": 47,
   "metadata": {},
   "outputs": [
    {
     "name": "stderr",
     "output_type": "stream",
     "text": [
      "/Users/kmiyaki/anaconda3/lib/python3.7/site-packages/statsmodels/regression/linear_model.py:1283: RuntimeWarning: invalid value encountered in sqrt\n",
      "  return rho, np.sqrt(sigmasq)\n"
     ]
    },
    {
     "data": {
      "image/png": "[encoded data removed]",
      "text/plain": [
       "<Figure size 864x576 with 2 Axes>"
      ]
     },
     "metadata": {},
     "output_type": "display_data"
    }
   ],
   "source": [
    "fig, ax = plt.subplots(2, 1, figsize=(12,8))\n",
    "\n",
    "plot_acf(ar[:20], ax = ax[0])\n",
    "plot_pacf(ar[:20], ax = ax[1])\n",
    "plt.tight_layout()\n",
    "plt.show()"
   ]
  },
  {
   "cell_type": "code",
   "execution_count": 48,
   "metadata": {
    "scrolled": true
   },
   "outputs": [
    {
     "data": {
      "image/png": "[encoded data removed]",
      "text/plain": [
       "<Figure size 864x576 with 2 Axes>"
      ]
     },
     "metadata": {},
     "output_type": "display_data"
    }
   ],
   "source": [
    "fig, ax = plt.subplots(2, 1, figsize=(12,8))\n",
    "\n",
    "plot_acf(ma[:20], ax = ax[0])\n",
    "plot_pacf(ma[:20], ax = ax[1])\n",
    "plt.tight_layout()\n",
    "plt.show()"
   ]
  },
  {
   "cell_type": "markdown",
   "metadata": {},
   "source": [
    "## Question 3.12\n",
    "\n",
    "Lastly, also using et as the white noise disturbance and assuming that the initial value of y is equal to zero, generate variable yarma which follows an ARMA(1,1) process:\n",
    "\n",
    "yt = 0.5 + 0.55yt-1 + et + 0.70et-1\n",
    "\n",
    "Enter the value of the 5th observation of yarma (to three decimal places, without any rounding):"
   ]
  },
  {
   "cell_type": "code",
   "execution_count": 50,
   "metadata": {},
   "outputs": [
    {
     "data": {
      "text/html": [
       "<div>\n",
       "<style scoped>\n",
       "    .dataframe tbody tr th:only-of-type {\n",
       "        vertical-align: middle;\n",
       "    }\n",
       "\n",
       "    .dataframe tbody tr th {\n",
       "        vertical-align: top;\n",
       "    }\n",
       "\n",
       "    .dataframe thead th {\n",
       "        text-align: right;\n",
       "    }\n",
       "</style>\n",
       "<table border=\"1\" class=\"dataframe\">\n",
       "  <thead>\n",
       "    <tr style=\"text-align: right;\">\n",
       "      <th></th>\n",
       "      <th>0</th>\n",
       "    </tr>\n",
       "  </thead>\n",
       "  <tbody>\n",
       "    <tr>\n",
       "      <th>0</th>\n",
       "      <td>0.000000</td>\n",
       "    </tr>\n",
       "    <tr>\n",
       "      <th>1</th>\n",
       "      <td>-0.635166</td>\n",
       "    </tr>\n",
       "    <tr>\n",
       "      <th>2</th>\n",
       "      <td>0.541107</td>\n",
       "    </tr>\n",
       "    <tr>\n",
       "      <th>3</th>\n",
       "      <td>2.039344</td>\n",
       "    </tr>\n",
       "    <tr>\n",
       "      <th>4</th>\n",
       "      <td>1.206196</td>\n",
       "    </tr>\n",
       "  </tbody>\n",
       "</table>\n",
       "</div>"
      ],
      "text/plain": [
       "          0\n",
       "0  0.000000\n",
       "1 -0.635166\n",
       "2  0.541107\n",
       "3  2.039344\n",
       "4  1.206196"
      ]
     },
     "execution_count": 50,
     "metadata": {},
     "output_type": "execute_result"
    }
   ],
   "source": [
    "y = [0]\n",
    "for i in range(1, 500):\n",
    "    y.append(0.5+0.55*y[i-1]+df.et.iloc[i]+0.7*df.et.iloc[i-1])\n",
    "arma = pd.DataFrame(y)\n",
    "arma.head()"
   ]
  },
  {
   "cell_type": "markdown",
   "metadata": {},
   "source": [
    "## Question 3.13\n",
    "\n",
    "Using EViews, compute the ACF at lags 1-20 for the four series: et and Variables yar,yma and yarma.\n",
    "\n",
    "Enter the values (using 3 decimal places, without rounding) of the ACF at one lag for each series below:"
   ]
  },
  {
   "cell_type": "code",
   "execution_count": 51,
   "metadata": {},
   "outputs": [
    {
     "data": {
      "image/png": "[encoded data removed]",
      "text/plain": [
       "<Figure size 864x576 with 2 Axes>"
      ]
     },
     "metadata": {},
     "output_type": "display_data"
    }
   ],
   "source": [
    "fig, ax = plt.subplots(2, 1, figsize=(12,8))\n",
    "\n",
    "plot_acf(arma[:20], ax = ax[0])\n",
    "plot_pacf(arma[:20], ax = ax[1])\n",
    "plt.tight_layout()\n",
    "plt.show()"
   ]
  },
  {
   "cell_type": "code",
   "execution_count": 57,
   "metadata": {},
   "outputs": [
    {
     "data": {
      "text/html": [
       "<div>\n",
       "<style scoped>\n",
       "    .dataframe tbody tr th:only-of-type {\n",
       "        vertical-align: middle;\n",
       "    }\n",
       "\n",
       "    .dataframe tbody tr th {\n",
       "        vertical-align: top;\n",
       "    }\n",
       "\n",
       "    .dataframe thead th {\n",
       "        text-align: right;\n",
       "    }\n",
       "</style>\n",
       "<table border=\"1\" class=\"dataframe\">\n",
       "  <thead>\n",
       "    <tr style=\"text-align: right;\">\n",
       "      <th></th>\n",
       "      <th>e_acf</th>\n",
       "      <th>e_pacf</th>\n",
       "      <th>ar_acf</th>\n",
       "      <th>ar_pacf</th>\n",
       "      <th>ma_acf</th>\n",
       "      <th>ma_pacf</th>\n",
       "      <th>arma_acf</th>\n",
       "      <th>arma_pacf</th>\n",
       "    </tr>\n",
       "  </thead>\n",
       "  <tbody>\n",
       "    <tr>\n",
       "      <th>0</th>\n",
       "      <td>1.000000</td>\n",
       "      <td>1.000000</td>\n",
       "      <td>1.000000</td>\n",
       "      <td>1.000000</td>\n",
       "      <td>1.000000</td>\n",
       "      <td>1.000000</td>\n",
       "      <td>1.000000</td>\n",
       "      <td>1.000000</td>\n",
       "    </tr>\n",
       "    <tr>\n",
       "      <th>1</th>\n",
       "      <td>0.023594</td>\n",
       "      <td>0.023641</td>\n",
       "      <td>0.521210</td>\n",
       "      <td>0.522255</td>\n",
       "      <td>0.426138</td>\n",
       "      <td>0.426992</td>\n",
       "      <td>0.726569</td>\n",
       "      <td>0.728025</td>\n",
       "    </tr>\n",
       "    <tr>\n",
       "      <th>2</th>\n",
       "      <td>-0.099056</td>\n",
       "      <td>-0.100069</td>\n",
       "      <td>0.206370</td>\n",
       "      <td>-0.090136</td>\n",
       "      <td>-0.101540</td>\n",
       "      <td>-0.347655</td>\n",
       "      <td>0.330865</td>\n",
       "      <td>-0.420928</td>\n",
       "    </tr>\n",
       "    <tr>\n",
       "      <th>3</th>\n",
       "      <td>-0.035888</td>\n",
       "      <td>-0.031485</td>\n",
       "      <td>0.101498</td>\n",
       "      <td>0.043281</td>\n",
       "      <td>-0.068151</td>\n",
       "      <td>0.192736</td>\n",
       "      <td>0.155564</td>\n",
       "      <td>0.308512</td>\n",
       "    </tr>\n",
       "    <tr>\n",
       "      <th>4</th>\n",
       "      <td>0.013577</td>\n",
       "      <td>0.005448</td>\n",
       "      <td>0.088785</td>\n",
       "      <td>0.044648</td>\n",
       "      <td>0.016686</td>\n",
       "      <td>-0.098503</td>\n",
       "      <td>0.107213</td>\n",
       "      <td>-0.151185</td>\n",
       "    </tr>\n",
       "    <tr>\n",
       "      <th>5</th>\n",
       "      <td>0.051095</td>\n",
       "      <td>0.044981</td>\n",
       "      <td>0.082768</td>\n",
       "      <td>0.023223</td>\n",
       "      <td>0.050354</td>\n",
       "      <td>0.107029</td>\n",
       "      <td>0.084684</td>\n",
       "      <td>0.108509</td>\n",
       "    </tr>\n",
       "    <tr>\n",
       "      <th>6</th>\n",
       "      <td>-0.001467</td>\n",
       "      <td>-0.002975</td>\n",
       "      <td>0.041493</td>\n",
       "      <td>-0.023010</td>\n",
       "      <td>0.008557</td>\n",
       "      <td>-0.086032</td>\n",
       "      <td>0.042258</td>\n",
       "      <td>-0.118035</td>\n",
       "    </tr>\n",
       "    <tr>\n",
       "      <th>7</th>\n",
       "      <td>-0.023221</td>\n",
       "      <td>-0.013609</td>\n",
       "      <td>0.007945</td>\n",
       "      <td>-0.009869</td>\n",
       "      <td>-0.028397</td>\n",
       "      <td>0.038946</td>\n",
       "      <td>0.002135</td>\n",
       "      <td>0.067002</td>\n",
       "    </tr>\n",
       "    <tr>\n",
       "      <th>8</th>\n",
       "      <td>-0.003434</td>\n",
       "      <td>-0.000108</td>\n",
       "      <td>-0.002512</td>\n",
       "      <td>-0.002472</td>\n",
       "      <td>-0.033987</td>\n",
       "      <td>-0.058222</td>\n",
       "      <td>-0.017059</td>\n",
       "      <td>-0.064260</td>\n",
       "    </tr>\n",
       "    <tr>\n",
       "      <th>9</th>\n",
       "      <td>-0.037518</td>\n",
       "      <td>-0.043278</td>\n",
       "      <td>-0.018883</td>\n",
       "      <td>-0.025816</td>\n",
       "      <td>-0.037287</td>\n",
       "      <td>-0.002448</td>\n",
       "      <td>-0.017943</td>\n",
       "      <td>0.046820</td>\n",
       "    </tr>\n",
       "    <tr>\n",
       "      <th>10</th>\n",
       "      <td>0.001835</td>\n",
       "      <td>0.000029</td>\n",
       "      <td>0.002684</td>\n",
       "      <td>0.031525</td>\n",
       "      <td>0.001880</td>\n",
       "      <td>0.020287</td>\n",
       "      <td>0.005007</td>\n",
       "      <td>0.018002</td>\n",
       "    </tr>\n",
       "    <tr>\n",
       "      <th>11</th>\n",
       "      <td>0.028262</td>\n",
       "      <td>0.021751</td>\n",
       "      <td>0.028925</td>\n",
       "      <td>0.024881</td>\n",
       "      <td>0.045005</td>\n",
       "      <td>0.029324</td>\n",
       "      <td>0.029184</td>\n",
       "      <td>0.009750</td>\n",
       "    </tr>\n",
       "    <tr>\n",
       "      <th>12</th>\n",
       "      <td>0.044674</td>\n",
       "      <td>0.044877</td>\n",
       "      <td>0.016417</td>\n",
       "      <td>-0.015999</td>\n",
       "      <td>0.034280</td>\n",
       "      <td>0.002227</td>\n",
       "      <td>0.020376</td>\n",
       "      <td>-0.040492</td>\n",
       "    </tr>\n",
       "    <tr>\n",
       "      <th>13</th>\n",
       "      <td>-0.043683</td>\n",
       "      <td>-0.041907</td>\n",
       "      <td>-0.036357</td>\n",
       "      <td>-0.056400</td>\n",
       "      <td>-0.034548</td>\n",
       "      <td>-0.054869</td>\n",
       "      <td>-0.011830</td>\n",
       "      <td>-0.011319</td>\n",
       "    </tr>\n",
       "    <tr>\n",
       "      <th>14</th>\n",
       "      <td>-0.030778</td>\n",
       "      <td>-0.016450</td>\n",
       "      <td>-0.044318</td>\n",
       "      <td>0.002521</td>\n",
       "      <td>-0.030963</td>\n",
       "      <td>0.043457</td>\n",
       "      <td>-0.011339</td>\n",
       "      <td>0.058674</td>\n",
       "    </tr>\n",
       "    <tr>\n",
       "      <th>15</th>\n",
       "      <td>0.023208</td>\n",
       "      <td>0.018952</td>\n",
       "      <td>-0.002812</td>\n",
       "      <td>0.033648</td>\n",
       "      <td>0.042402</td>\n",
       "      <td>0.024267</td>\n",
       "      <td>0.026633</td>\n",
       "      <td>0.012813</td>\n",
       "    </tr>\n",
       "    <tr>\n",
       "      <th>16</th>\n",
       "      <td>0.052657</td>\n",
       "      <td>0.042428</td>\n",
       "      <td>0.024062</td>\n",
       "      <td>0.011554</td>\n",
       "      <td>0.079839</td>\n",
       "      <td>0.051561</td>\n",
       "      <td>0.045915</td>\n",
       "      <td>-0.012032</td>\n",
       "    </tr>\n",
       "    <tr>\n",
       "      <th>17</th>\n",
       "      <td>0.023081</td>\n",
       "      <td>0.021495</td>\n",
       "      <td>-0.000590</td>\n",
       "      <td>-0.028850</td>\n",
       "      <td>0.028564</td>\n",
       "      <td>-0.034904</td>\n",
       "      <td>0.009815</td>\n",
       "      <td>-0.068672</td>\n",
       "    </tr>\n",
       "    <tr>\n",
       "      <th>18</th>\n",
       "      <td>-0.054474</td>\n",
       "      <td>-0.044087</td>\n",
       "      <td>-0.041326</td>\n",
       "      <td>-0.036069</td>\n",
       "      <td>-0.039571</td>\n",
       "      <td>-0.010143</td>\n",
       "      <td>-0.042540</td>\n",
       "      <td>-0.000150</td>\n",
       "    </tr>\n",
       "    <tr>\n",
       "      <th>19</th>\n",
       "      <td>0.003674</td>\n",
       "      <td>0.016976</td>\n",
       "      <td>-0.032638</td>\n",
       "      <td>0.014198</td>\n",
       "      <td>-0.074931</td>\n",
       "      <td>-0.067063</td>\n",
       "      <td>-0.070750</td>\n",
       "      <td>-0.047335</td>\n",
       "    </tr>\n",
       "  </tbody>\n",
       "</table>\n",
       "</div>"
      ],
      "text/plain": [
       "       e_acf    e_pacf    ar_acf   ar_pacf    ma_acf   ma_pacf  arma_acf  \\\n",
       "0   1.000000  1.000000  1.000000  1.000000  1.000000  1.000000  1.000000   \n",
       "1   0.023594  0.023641  0.521210  0.522255  0.426138  0.426992  0.726569   \n",
       "2  -0.099056 -0.100069  0.206370 -0.090136 -0.101540 -0.347655  0.330865   \n",
       "3  -0.035888 -0.031485  0.101498  0.043281 -0.068151  0.192736  0.155564   \n",
       "4   0.013577  0.005448  0.088785  0.044648  0.016686 -0.098503  0.107213   \n",
       "5   0.051095  0.044981  0.082768  0.023223  0.050354  0.107029  0.084684   \n",
       "6  -0.001467 -0.002975  0.041493 -0.023010  0.008557 -0.086032  0.042258   \n",
       "7  -0.023221 -0.013609  0.007945 -0.009869 -0.028397  0.038946  0.002135   \n",
       "8  -0.003434 -0.000108 -0.002512 -0.002472 -0.033987 -0.058222 -0.017059   \n",
       "9  -0.037518 -0.043278 -0.018883 -0.025816 -0.037287 -0.002448 -0.017943   \n",
       "10  0.001835  0.000029  0.002684  0.031525  0.001880  0.020287  0.005007   \n",
       "11  0.028262  0.021751  0.028925  0.024881  0.045005  0.029324  0.029184   \n",
       "12  0.044674  0.044877  0.016417 -0.015999  0.034280  0.002227  0.020376   \n",
       "13 -0.043683 -0.041907 -0.036357 -0.056400 -0.034548 -0.054869 -0.011830   \n",
       "14 -0.030778 -0.016450 -0.044318  0.002521 -0.030963  0.043457 -0.011339   \n",
       "15  0.023208  0.018952 -0.002812  0.033648  0.042402  0.024267  0.026633   \n",
       "16  0.052657  0.042428  0.024062  0.011554  0.079839  0.051561  0.045915   \n",
       "17  0.023081  0.021495 -0.000590 -0.028850  0.028564 -0.034904  0.009815   \n",
       "18 -0.054474 -0.044087 -0.041326 -0.036069 -0.039571 -0.010143 -0.042540   \n",
       "19  0.003674  0.016976 -0.032638  0.014198 -0.074931 -0.067063 -0.070750   \n",
       "\n",
       "    arma_pacf  \n",
       "0    1.000000  \n",
       "1    0.728025  \n",
       "2   -0.420928  \n",
       "3    0.308512  \n",
       "4   -0.151185  \n",
       "5    0.108509  \n",
       "6   -0.118035  \n",
       "7    0.067002  \n",
       "8   -0.064260  \n",
       "9    0.046820  \n",
       "10   0.018002  \n",
       "11   0.009750  \n",
       "12  -0.040492  \n",
       "13  -0.011319  \n",
       "14   0.058674  \n",
       "15   0.012813  \n",
       "16  -0.012032  \n",
       "17  -0.068672  \n",
       "18  -0.000150  \n",
       "19  -0.047335  "
      ]
     },
     "execution_count": 57,
     "metadata": {},
     "output_type": "execute_result"
    }
   ],
   "source": [
    "pd.DataFrame([ts.stattools.acf(df.et),\n",
    "              ts.stattools.pacf(df.et),\n",
    "              ts.stattools.acf(ar),\n",
    "              ts.stattools.pacf(ar),\n",
    "              ts.stattools.acf(ma),\n",
    "              ts.stattools.pacf(ma),\n",
    "              ts.stattools.acf(arma),\n",
    "              ts.stattools.pacf(arma)\n",
    "             ],\n",
    "             index=[\"e_acf\",\n",
    "                    \"e_pacf\",\n",
    "                    \"ar_acf\",\n",
    "                    \"ar_pacf\",\n",
    "                    \"ma_acf\",\n",
    "                    \"ma_pacf\",\n",
    "                    \"arma_acf\",\n",
    "                    \"arma_pacf\"\n",
    "                   ]\n",
    "            ).T.head(20)"
   ]
  },
  {
   "cell_type": "markdown",
   "metadata": {},
   "source": [
    "Consider the following three models that have been estimated for pe_ind (the stock market price-earnings ratio in India).\n",
    "\n",
    "Model 1 is an AR(1); \n",
    "Model 2 has AR terms at lags 1 and 8 only;\n",
    "Model 3 has AR terms at lags 1 and 8, and an MA term at lag 8.\n",
    "\n",
    "For each model, the regression results and the ACF, PACF and Q-Statistics for the residuals are shown below:\n",
    "\n",
    "## Question 3.20\n",
    "\n",
    "Which model has the lowest Sum of Squared Residuals (SSR)?"
   ]
  },
  {
   "cell_type": "code",
   "execution_count": 84,
   "metadata": {},
   "outputs": [],
   "source": [
    "df_pe = pd.read_csv(\"data/module3_data_PE_Ratios.csv\")"
   ]
  },
  {
   "cell_type": "code",
   "execution_count": 85,
   "metadata": {},
   "outputs": [
    {
     "name": "stderr",
     "output_type": "stream",
     "text": [
      "/Users/kmiyaki/anaconda3/lib/python3.7/site-packages/statsmodels/tsa/base/tsa_model.py:221: ValueWarning: An unsupported index was provided and will be ignored when e.g. forecasting.\n",
      "  ' ignored when e.g. forecasting.', ValueWarning)\n"
     ]
    },
    {
     "data": {
      "text/html": [
       "<table class=\"simpletable\">\n",
       "<caption>ARMA Model Results</caption>\n",
       "<tr>\n",
       "  <th>Dep. Variable:</th>      <td>pe_ind</td>      <th>  No. Observations:  </th>    <td>182</td>  \n",
       "</tr>\n",
       "<tr>\n",
       "  <th>Model:</th>            <td>ARMA(1, 0)</td>    <th>  Log Likelihood     </th> <td>-311.138</td>\n",
       "</tr>\n",
       "<tr>\n",
       "  <th>Method:</th>             <td>css-mle</td>     <th>  S.D. of innovations</th>   <td>1.331</td> \n",
       "</tr>\n",
       "<tr>\n",
       "  <th>Date:</th>          <td>Thu, 07 Nov 2019</td> <th>  AIC                </th>  <td>628.276</td>\n",
       "</tr>\n",
       "<tr>\n",
       "  <th>Time:</th>              <td>16:53:36</td>     <th>  BIC                </th>  <td>637.888</td>\n",
       "</tr>\n",
       "<tr>\n",
       "  <th>Sample:</th>                <td>0</td>        <th>  HQIC               </th>  <td>632.173</td>\n",
       "</tr>\n",
       "<tr>\n",
       "  <th></th>                       <td> </td>        <th>                     </th>     <td> </td>   \n",
       "</tr>\n",
       "</table>\n",
       "<table class=\"simpletable\">\n",
       "<tr>\n",
       "        <td></td>          <th>coef</th>     <th>std err</th>      <th>z</th>      <th>P>|z|</th>  <th>[0.025</th>    <th>0.975]</th>  \n",
       "</tr>\n",
       "<tr>\n",
       "  <th>const</th>        <td>   17.3198</td> <td>    1.019</td> <td>   16.998</td> <td> 0.000</td> <td>   15.323</td> <td>   19.317</td>\n",
       "</tr>\n",
       "<tr>\n",
       "  <th>ar.L1.pe_ind</th> <td>    0.9079</td> <td>    0.030</td> <td>   30.223</td> <td> 0.000</td> <td>    0.849</td> <td>    0.967</td>\n",
       "</tr>\n",
       "</table>\n",
       "<table class=\"simpletable\">\n",
       "<caption>Roots</caption>\n",
       "<tr>\n",
       "    <td></td>   <th>            Real</th>  <th>         Imaginary</th> <th>         Modulus</th>  <th>        Frequency</th>\n",
       "</tr>\n",
       "<tr>\n",
       "  <th>AR.1</th> <td>           1.1014</td> <td>          +0.0000j</td> <td>           1.1014</td> <td>           0.0000</td>\n",
       "</tr>\n",
       "</table>"
      ],
      "text/plain": [
       "<class 'statsmodels.iolib.summary.Summary'>\n",
       "\"\"\"\n",
       "                              ARMA Model Results                              \n",
       "==============================================================================\n",
       "Dep. Variable:                 pe_ind   No. Observations:                  182\n",
       "Model:                     ARMA(1, 0)   Log Likelihood                -311.138\n",
       "Method:                       css-mle   S.D. of innovations              1.331\n",
       "Date:                Thu, 07 Nov 2019   AIC                            628.276\n",
       "Time:                        16:53:36   BIC                            637.888\n",
       "Sample:                             0   HQIC                           632.173\n",
       "                                                                              \n",
       "================================================================================\n",
       "                   coef    std err          z      P>|z|      [0.025      0.975]\n",
       "--------------------------------------------------------------------------------\n",
       "const           17.3198      1.019     16.998      0.000      15.323      19.317\n",
       "ar.L1.pe_ind     0.9079      0.030     30.223      0.000       0.849       0.967\n",
       "                                    Roots                                    \n",
       "=============================================================================\n",
       "                  Real          Imaginary           Modulus         Frequency\n",
       "-----------------------------------------------------------------------------\n",
       "AR.1            1.1014           +0.0000j            1.1014            0.0000\n",
       "-----------------------------------------------------------------------------\n",
       "\"\"\""
      ]
     },
     "execution_count": 85,
     "metadata": {},
     "output_type": "execute_result"
    }
   ],
   "source": [
    "ar = ts.arima_model.ARIMA(endog=df_pe.pe_ind, order=(1, 0, 0), missing=\"drop\").fit()\n",
    "ar.summary()"
   ]
  },
  {
   "cell_type": "code",
   "execution_count": 94,
   "metadata": {},
   "outputs": [
    {
     "data": {
      "text/plain": [
       "(array([ 1.97958632,  1.99696074,  2.00550771,  2.02633269,  2.46289892,\n",
       "         4.83156719,  5.17426507, 14.34508106, 14.80826028, 15.13254478,\n",
       "        15.95802307, 15.9660261 , 16.00478434, 18.09235257, 18.17716208,\n",
       "        18.31697917, 18.54284457, 19.08322555, 19.57415178, 19.72914719,\n",
       "        19.73268373, 19.87787148, 20.28219143, 22.63800446, 22.6466019 ,\n",
       "        23.53883281, 25.66089104, 25.93416729, 26.36153088, 28.68044963,\n",
       "        28.89150507, 29.42803505, 29.49242927, 29.65463936, 29.71296846,\n",
       "        29.85356627, 31.82167625, 32.22481134, 32.44273281, 36.8131937 ]),\n",
       " array([0.15943399, 0.36843891, 0.57126435, 0.73091539, 0.78207191,\n",
       "        0.56559048, 0.63870623, 0.07320269, 0.09633918, 0.12730372,\n",
       "        0.14269643, 0.19279709, 0.2488716 , 0.20260694, 0.25346622,\n",
       "        0.30566483, 0.35539419, 0.38671537, 0.42059995, 0.47498342,\n",
       "        0.53824533, 0.59067903, 0.62483425, 0.5412427 , 0.59819108,\n",
       "        0.60231696, 0.53747606, 0.57666333, 0.60610998, 0.53442561,\n",
       "        0.57488394, 0.59735758, 0.64250025, 0.68060539, 0.72107633,\n",
       "        0.75503222, 0.71023001, 0.73295439, 0.76177316, 0.61451094]))"
      ]
     },
     "execution_count": 94,
     "metadata": {},
     "output_type": "execute_result"
    }
   ],
   "source": [
    "st.diagnostic.acorr_ljungbox(ar.resid)"
   ]
  },
  {
   "cell_type": "markdown",
   "metadata": {},
   "source": [
    "## Question 3.25\n",
    "\n",
    "Note that the series y was simulated following the model (where the error term is a white noise):\n",
    "\n",
    "yt = 1.2yt-1 -0.5yt-2 +et\n",
    "\n",
    "Plot the series by double clicking on y and then View->Graph. Based on the equation above, series y is simulated as what of process?"
   ]
  },
  {
   "cell_type": "code",
   "execution_count": 74,
   "metadata": {},
   "outputs": [],
   "source": [
    "df_arma = pd.read_csv(\"data/module3_data_Simulated_ARMA.csv\")"
   ]
  },
  {
   "cell_type": "code",
   "execution_count": 75,
   "metadata": {},
   "outputs": [
    {
     "data": {
      "text/html": [
       "<div>\n",
       "<style scoped>\n",
       "    .dataframe tbody tr th:only-of-type {\n",
       "        vertical-align: middle;\n",
       "    }\n",
       "\n",
       "    .dataframe tbody tr th {\n",
       "        vertical-align: top;\n",
       "    }\n",
       "\n",
       "    .dataframe thead th {\n",
       "        text-align: right;\n",
       "    }\n",
       "</style>\n",
       "<table border=\"1\" class=\"dataframe\">\n",
       "  <thead>\n",
       "    <tr style=\"text-align: right;\">\n",
       "      <th></th>\n",
       "      <th>dateid01</th>\n",
       "      <th>dateid</th>\n",
       "      <th>y</th>\n",
       "      <th>z</th>\n",
       "    </tr>\n",
       "  </thead>\n",
       "  <tbody>\n",
       "    <tr>\n",
       "      <th>0</th>\n",
       "      <td>1900-01-01</td>\n",
       "      <td>1900-01-31 23:59:59.999</td>\n",
       "      <td>0.000000</td>\n",
       "      <td>0.000000</td>\n",
       "    </tr>\n",
       "    <tr>\n",
       "      <th>1</th>\n",
       "      <td>1900-02-01</td>\n",
       "      <td>1900-02-28 23:59:59.999</td>\n",
       "      <td>0.000000</td>\n",
       "      <td>-0.698508</td>\n",
       "    </tr>\n",
       "    <tr>\n",
       "      <th>2</th>\n",
       "      <td>1900-03-01</td>\n",
       "      <td>1900-03-31 23:59:59.999</td>\n",
       "      <td>-0.142965</td>\n",
       "      <td>0.290892</td>\n",
       "    </tr>\n",
       "    <tr>\n",
       "      <th>3</th>\n",
       "      <td>1900-04-01</td>\n",
       "      <td>1900-04-30 23:59:59.999</td>\n",
       "      <td>0.627469</td>\n",
       "      <td>0.418416</td>\n",
       "    </tr>\n",
       "    <tr>\n",
       "      <th>4</th>\n",
       "      <td>1900-05-01</td>\n",
       "      <td>1900-05-31 23:59:59.999</td>\n",
       "      <td>0.407678</td>\n",
       "      <td>2.434994</td>\n",
       "    </tr>\n",
       "  </tbody>\n",
       "</table>\n",
       "</div>"
      ],
      "text/plain": [
       "     dateid01                   dateid         y         z\n",
       "0  1900-01-01  1900-01-31 23:59:59.999  0.000000  0.000000\n",
       "1  1900-02-01  1900-02-28 23:59:59.999  0.000000 -0.698508\n",
       "2  1900-03-01  1900-03-31 23:59:59.999 -0.142965  0.290892\n",
       "3  1900-04-01  1900-04-30 23:59:59.999  0.627469  0.418416\n",
       "4  1900-05-01  1900-05-31 23:59:59.999  0.407678  2.434994"
      ]
     },
     "execution_count": 75,
     "metadata": {},
     "output_type": "execute_result"
    }
   ],
   "source": [
    "df_arma.head()"
   ]
  },
  {
   "cell_type": "code",
   "execution_count": 78,
   "metadata": {},
   "outputs": [
    {
     "data": {
      "image/png": "[encoded data removed]",
      "text/plain": [
       "<Figure size 864x432 with 1 Axes>"
      ]
     },
     "metadata": {},
     "output_type": "display_data"
    }
   ],
   "source": [
    "plt.figure(figsize=(12,6))\n",
    "plt.plot(df_arma.y)\n",
    "plt.show()"
   ]
  },
  {
   "cell_type": "markdown",
   "metadata": {},
   "source": [
    "## Question 3.26\n",
    "\n",
    "Enter the SBC (Schwarz criterion) for each model (to three decimal places, without any rounding):"
   ]
  },
  {
   "cell_type": "code",
   "execution_count": 97,
   "metadata": {
    "scrolled": true
   },
   "outputs": [
    {
     "data": {
      "text/html": [
       "<table class=\"simpletable\">\n",
       "<caption>ARMA Model Results</caption>\n",
       "<tr>\n",
       "  <th>Dep. Variable:</th>         <td>y</td>        <th>  No. Observations:  </th>   <td>1382</td>   \n",
       "</tr>\n",
       "<tr>\n",
       "  <th>Model:</th>            <td>ARMA(1, 0)</td>    <th>  Log Likelihood     </th> <td>-2133.221</td>\n",
       "</tr>\n",
       "<tr>\n",
       "  <th>Method:</th>             <td>css-mle</td>     <th>  S.D. of innovations</th>   <td>1.132</td>  \n",
       "</tr>\n",
       "<tr>\n",
       "  <th>Date:</th>          <td>Thu, 07 Nov 2019</td> <th>  AIC                </th> <td>4272.442</td> \n",
       "</tr>\n",
       "<tr>\n",
       "  <th>Time:</th>              <td>17:00:08</td>     <th>  BIC                </th> <td>4288.135</td> \n",
       "</tr>\n",
       "<tr>\n",
       "  <th>Sample:</th>                <td>0</td>        <th>  HQIC               </th> <td>4278.312</td> \n",
       "</tr>\n",
       "<tr>\n",
       "  <th></th>                       <td> </td>        <th>                     </th>     <td> </td>    \n",
       "</tr>\n",
       "</table>\n",
       "<table class=\"simpletable\">\n",
       "<tr>\n",
       "     <td></td>        <th>coef</th>     <th>std err</th>      <th>z</th>      <th>P>|z|</th>  <th>[0.025</th>    <th>0.975]</th>  \n",
       "</tr>\n",
       "<tr>\n",
       "  <th>const</th>   <td>    0.0711</td> <td>    0.158</td> <td>    0.449</td> <td> 0.654</td> <td>   -0.239</td> <td>    0.382</td>\n",
       "</tr>\n",
       "<tr>\n",
       "  <th>ar.L1.y</th> <td>    0.8083</td> <td>    0.016</td> <td>   51.159</td> <td> 0.000</td> <td>    0.777</td> <td>    0.839</td>\n",
       "</tr>\n",
       "</table>\n",
       "<table class=\"simpletable\">\n",
       "<caption>Roots</caption>\n",
       "<tr>\n",
       "    <td></td>   <th>            Real</th>  <th>         Imaginary</th> <th>         Modulus</th>  <th>        Frequency</th>\n",
       "</tr>\n",
       "<tr>\n",
       "  <th>AR.1</th> <td>           1.2371</td> <td>          +0.0000j</td> <td>           1.2371</td> <td>           0.0000</td>\n",
       "</tr>\n",
       "</table>"
      ],
      "text/plain": [
       "<class 'statsmodels.iolib.summary.Summary'>\n",
       "\"\"\"\n",
       "                              ARMA Model Results                              \n",
       "==============================================================================\n",
       "Dep. Variable:                      y   No. Observations:                 1382\n",
       "Model:                     ARMA(1, 0)   Log Likelihood               -2133.221\n",
       "Method:                       css-mle   S.D. of innovations              1.132\n",
       "Date:                Thu, 07 Nov 2019   AIC                           4272.442\n",
       "Time:                        17:00:08   BIC                           4288.135\n",
       "Sample:                             0   HQIC                          4278.312\n",
       "                                                                              \n",
       "==============================================================================\n",
       "                 coef    std err          z      P>|z|      [0.025      0.975]\n",
       "------------------------------------------------------------------------------\n",
       "const          0.0711      0.158      0.449      0.654      -0.239       0.382\n",
       "ar.L1.y        0.8083      0.016     51.159      0.000       0.777       0.839\n",
       "                                    Roots                                    \n",
       "=============================================================================\n",
       "                  Real          Imaginary           Modulus         Frequency\n",
       "-----------------------------------------------------------------------------\n",
       "AR.1            1.2371           +0.0000j            1.2371            0.0000\n",
       "-----------------------------------------------------------------------------\n",
       "\"\"\""
      ]
     },
     "execution_count": 97,
     "metadata": {},
     "output_type": "execute_result"
    }
   ],
   "source": [
    "ar1 = ts.arima_model.ARIMA(endog=df_arma.y, order=(1, 0, 0)).fit()\n",
    "ar1.summary()"
   ]
  },
  {
   "cell_type": "code",
   "execution_count": 82,
   "metadata": {},
   "outputs": [
    {
     "data": {
      "text/plain": [
       "3.1028473227206947"
      ]
     },
     "execution_count": 82,
     "metadata": {},
     "output_type": "execute_result"
    }
   ],
   "source": [
    "4288.135/1382"
   ]
  },
  {
   "cell_type": "code",
   "execution_count": 80,
   "metadata": {},
   "outputs": [
    {
     "data": {
      "text/html": [
       "<table class=\"simpletable\">\n",
       "<caption>ARMA Model Results</caption>\n",
       "<tr>\n",
       "  <th>Dep. Variable:</th>         <td>y</td>        <th>  No. Observations:  </th>   <td>1382</td>   \n",
       "</tr>\n",
       "<tr>\n",
       "  <th>Model:</th>            <td>ARMA(2, 0)</td>    <th>  Log Likelihood     </th> <td>-1939.334</td>\n",
       "</tr>\n",
       "<tr>\n",
       "  <th>Method:</th>             <td>css-mle</td>     <th>  S.D. of innovations</th>   <td>0.984</td>  \n",
       "</tr>\n",
       "<tr>\n",
       "  <th>Date:</th>          <td>Thu, 07 Nov 2019</td> <th>  AIC                </th> <td>3886.669</td> \n",
       "</tr>\n",
       "<tr>\n",
       "  <th>Time:</th>              <td>16:06:04</td>     <th>  BIC                </th> <td>3907.594</td> \n",
       "</tr>\n",
       "<tr>\n",
       "  <th>Sample:</th>                <td>0</td>        <th>  HQIC               </th> <td>3894.496</td> \n",
       "</tr>\n",
       "<tr>\n",
       "  <th></th>                       <td> </td>        <th>                     </th>     <td> </td>    \n",
       "</tr>\n",
       "</table>\n",
       "<table class=\"simpletable\">\n",
       "<tr>\n",
       "     <td></td>        <th>coef</th>     <th>std err</th>      <th>z</th>      <th>P>|z|</th>  <th>[0.025</th>    <th>0.975]</th>  \n",
       "</tr>\n",
       "<tr>\n",
       "  <th>const</th>   <td>    0.0692</td> <td>    0.093</td> <td>    0.747</td> <td> 0.455</td> <td>   -0.112</td> <td>    0.250</td>\n",
       "</tr>\n",
       "<tr>\n",
       "  <th>ar.L1.y</th> <td>    1.2087</td> <td>    0.023</td> <td>   51.716</td> <td> 0.000</td> <td>    1.163</td> <td>    1.254</td>\n",
       "</tr>\n",
       "<tr>\n",
       "  <th>ar.L2.y</th> <td>   -0.4946</td> <td>    0.023</td> <td>  -21.170</td> <td> 0.000</td> <td>   -0.540</td> <td>   -0.449</td>\n",
       "</tr>\n",
       "</table>\n",
       "<table class=\"simpletable\">\n",
       "<caption>Roots</caption>\n",
       "<tr>\n",
       "    <td></td>   <th>            Real</th>  <th>         Imaginary</th> <th>         Modulus</th>  <th>        Frequency</th>\n",
       "</tr>\n",
       "<tr>\n",
       "  <th>AR.1</th> <td>           1.2219</td> <td>          -0.7272j</td> <td>           1.4219</td> <td>          -0.0854</td>\n",
       "</tr>\n",
       "<tr>\n",
       "  <th>AR.2</th> <td>           1.2219</td> <td>          +0.7272j</td> <td>           1.4219</td> <td>           0.0854</td>\n",
       "</tr>\n",
       "</table>"
      ],
      "text/plain": [
       "<class 'statsmodels.iolib.summary.Summary'>\n",
       "\"\"\"\n",
       "                              ARMA Model Results                              \n",
       "==============================================================================\n",
       "Dep. Variable:                      y   No. Observations:                 1382\n",
       "Model:                     ARMA(2, 0)   Log Likelihood               -1939.334\n",
       "Method:                       css-mle   S.D. of innovations              0.984\n",
       "Date:                Thu, 07 Nov 2019   AIC                           3886.669\n",
       "Time:                        16:06:04   BIC                           3907.594\n",
       "Sample:                             0   HQIC                          3894.496\n",
       "                                                                              \n",
       "==============================================================================\n",
       "                 coef    std err          z      P>|z|      [0.025      0.975]\n",
       "------------------------------------------------------------------------------\n",
       "const          0.0692      0.093      0.747      0.455      -0.112       0.250\n",
       "ar.L1.y        1.2087      0.023     51.716      0.000       1.163       1.254\n",
       "ar.L2.y       -0.4946      0.023    -21.170      0.000      -0.540      -0.449\n",
       "                                    Roots                                    \n",
       "=============================================================================\n",
       "                  Real          Imaginary           Modulus         Frequency\n",
       "-----------------------------------------------------------------------------\n",
       "AR.1            1.2219           -0.7272j            1.4219           -0.0854\n",
       "AR.2            1.2219           +0.7272j            1.4219            0.0854\n",
       "-----------------------------------------------------------------------------\n",
       "\"\"\""
      ]
     },
     "execution_count": 80,
     "metadata": {},
     "output_type": "execute_result"
    }
   ],
   "source": [
    "ar2 = ts.arima_model.ARIMA(endog=df_arma.y, order=(2, 0, 0)).fit()\n",
    "ar2.summary()"
   ]
  },
  {
   "cell_type": "code",
   "execution_count": 83,
   "metadata": {},
   "outputs": [
    {
     "data": {
      "text/plain": [
       "2.8274920405209842"
      ]
     },
     "execution_count": 83,
     "metadata": {},
     "output_type": "execute_result"
    }
   ],
   "source": [
    "3907.594/1382"
   ]
  },
  {
   "cell_type": "markdown",
   "metadata": {},
   "source": [
    "## Question 3.27\n",
    "\n",
    "Enter the p-value (to three decimal places, without any rounding) for the lag 12 Q-test on the regression residuals for each model:"
   ]
  },
  {
   "cell_type": "code",
   "execution_count": 98,
   "metadata": {},
   "outputs": [
    {
     "data": {
      "text/plain": [
       "(array([222.00869244, 222.89680104, 297.23112342, 382.9535034 ,\n",
       "        420.78181115, 434.26330142, 434.96157928, 434.96269258,\n",
       "        436.273895  , 436.97149946, 437.13239117, 438.42152417,\n",
       "        443.50400614, 444.78323815, 445.02784967, 446.40382469,\n",
       "        450.97660533, 458.51596111, 461.18496801, 461.28325384,\n",
       "        462.11666394, 465.78398232, 469.22527699, 471.68002294,\n",
       "        472.53614526, 472.56751363, 472.85502152, 472.90676687,\n",
       "        473.25753649, 473.51573843, 473.72221749, 473.80922879,\n",
       "        474.89033325, 475.65860034, 479.32048717, 480.38103151,\n",
       "        480.38105756, 481.13056393, 481.65300101, 481.65687141]),\n",
       " array([3.29796005e-50, 3.96802716e-49, 3.95387248e-64, 1.33992844e-81,\n",
       "        9.82624424e-89, 1.19491979e-90, 7.52085400e-90, 6.15418583e-89,\n",
       "        2.46165690e-88, 1.25404468e-87, 7.87347920e-87, 2.71067517e-86,\n",
       "        1.40681700e-86, 4.50555063e-86, 2.30109617e-85, 6.55948766e-85,\n",
       "        3.86841806e-85, 5.33279020e-86, 7.56422649e-86, 3.60992248e-85,\n",
       "        1.17980607e-84, 9.70620269e-85, 8.74952869e-85, 1.24242825e-84,\n",
       "        3.71181639e-84, 1.60942636e-83, 6.05914553e-83, 2.50298676e-82,\n",
       "        8.81599481e-82, 3.18836053e-81, 1.16187723e-80, 4.40567630e-80,\n",
       "        1.03304949e-79, 2.76554061e-79, 1.89844541e-79, 4.33210283e-79,\n",
       "        1.59705458e-78, 4.10484587e-78, 1.15771046e-77, 4.09653532e-77]))"
      ]
     },
     "execution_count": 98,
     "metadata": {},
     "output_type": "execute_result"
    }
   ],
   "source": [
    "st.diagnostic.acorr_ljungbox(ar1.resid)"
   ]
  },
  {
   "cell_type": "code",
   "execution_count": 99,
   "metadata": {},
   "outputs": [
    {
     "data": {
      "text/plain": [
       "(array([ 0.22881801,  0.23569045,  0.46521062,  0.47025152,  2.7822248 ,\n",
       "         2.82780314,  4.15847134,  4.41378038,  5.19347105,  5.22743657,\n",
       "         5.52512849,  5.52746935,  8.44410369,  8.55777309,  9.29310791,\n",
       "         9.29531531,  9.55492291, 11.55991203, 12.04071559, 13.17782233,\n",
       "        13.17866474, 14.71182711, 15.35701685, 16.30679831, 16.86969749,\n",
       "        17.15352983, 17.2417439 , 17.8826151 , 18.94369308, 19.38225784,\n",
       "        19.46813271, 19.57201702, 22.46964715, 22.52611181, 26.69199563,\n",
       "        27.31639741, 28.01825672, 29.25360402, 29.562634  , 29.5646681 ]),\n",
       " array([0.63240165, 0.88883361, 0.92646524, 0.97633163, 0.73351663,\n",
       "        0.8301283 , 0.76135445, 0.81799585, 0.81712722, 0.87547628,\n",
       "        0.90309937, 0.93800745, 0.81351342, 0.85829465, 0.86169977,\n",
       "        0.90075523, 0.92123036, 0.86910624, 0.88387761, 0.86962472,\n",
       "        0.90223708, 0.87430528, 0.8813831 , 0.87668509, 0.88646552,\n",
       "        0.90437141, 0.92498977, 0.92906741, 0.92272335, 0.93163959,\n",
       "        0.94653206, 0.95829739, 0.91662093, 0.93384221, 0.84210783,\n",
       "        0.85065495, 0.85627946, 0.84481809, 0.86263368, 0.88699978]))"
      ]
     },
     "execution_count": 99,
     "metadata": {},
     "output_type": "execute_result"
    }
   ],
   "source": [
    "st.diagnostic.acorr_ljungbox(ar2.resid)"
   ]
  },
  {
   "cell_type": "markdown",
   "metadata": {},
   "source": [
    "## Question 3.30\n",
    "\n",
    "Which model was chosen as the best?"
   ]
  },
  {
   "cell_type": "code",
   "execution_count": 103,
   "metadata": {},
   "outputs": [
    {
     "name": "stderr",
     "output_type": "stream",
     "text": [
      "/Users/kmiyaki/anaconda3/lib/python3.7/site-packages/statsmodels/base/model.py:508: ConvergenceWarning: Maximum Likelihood optimization failed to converge. Check mle_retvals\n",
      "  \"Check mle_retvals\", ConvergenceWarning)\n",
      "/Users/kmiyaki/anaconda3/lib/python3.7/site-packages/statsmodels/base/model.py:508: ConvergenceWarning: Maximum Likelihood optimization failed to converge. Check mle_retvals\n",
      "  \"Check mle_retvals\", ConvergenceWarning)\n",
      "/Users/kmiyaki/anaconda3/lib/python3.7/site-packages/statsmodels/base/model.py:488: HessianInversionWarning: Inverting hessian failed, no bse or cov_params available\n",
      "  'available', HessianInversionWarning)\n",
      "/Users/kmiyaki/anaconda3/lib/python3.7/site-packages/statsmodels/base/model.py:488: HessianInversionWarning: Inverting hessian failed, no bse or cov_params available\n",
      "  'available', HessianInversionWarning)\n",
      "/Users/kmiyaki/anaconda3/lib/python3.7/site-packages/statsmodels/base/model.py:508: ConvergenceWarning: Maximum Likelihood optimization failed to converge. Check mle_retvals\n",
      "  \"Check mle_retvals\", ConvergenceWarning)\n",
      "/Users/kmiyaki/anaconda3/lib/python3.7/site-packages/statsmodels/base/model.py:488: HessianInversionWarning: Inverting hessian failed, no bse or cov_params available\n",
      "  'available', HessianInversionWarning)\n",
      "/Users/kmiyaki/anaconda3/lib/python3.7/site-packages/statsmodels/base/model.py:508: ConvergenceWarning: Maximum Likelihood optimization failed to converge. Check mle_retvals\n",
      "  \"Check mle_retvals\", ConvergenceWarning)\n",
      "/Users/kmiyaki/anaconda3/lib/python3.7/site-packages/statsmodels/base/model.py:488: HessianInversionWarning: Inverting hessian failed, no bse or cov_params available\n",
      "  'available', HessianInversionWarning)\n",
      "/Users/kmiyaki/anaconda3/lib/python3.7/site-packages/statsmodels/base/model.py:508: ConvergenceWarning: Maximum Likelihood optimization failed to converge. Check mle_retvals\n",
      "  \"Check mle_retvals\", ConvergenceWarning)\n",
      "/Users/kmiyaki/anaconda3/lib/python3.7/site-packages/statsmodels/base/model.py:508: ConvergenceWarning: Maximum Likelihood optimization failed to converge. Check mle_retvals\n",
      "  \"Check mle_retvals\", ConvergenceWarning)\n"
     ]
    }
   ],
   "source": [
    "results = []\n",
    "for p in range(1,7):\n",
    "    for q in range(1,7):\n",
    "        model = ts.arima_model.ARIMA(endog=df_arma.y, order=(p, 0, q)).fit()\n",
    "        results.append([p, q, model.aic, model.bic])"
   ]
  },
  {
   "cell_type": "code",
   "execution_count": 105,
   "metadata": {},
   "outputs": [
    {
     "data": {
      "text/html": [
       "<div>\n",
       "<style scoped>\n",
       "    .dataframe tbody tr th:only-of-type {\n",
       "        vertical-align: middle;\n",
       "    }\n",
       "\n",
       "    .dataframe tbody tr th {\n",
       "        vertical-align: top;\n",
       "    }\n",
       "\n",
       "    .dataframe thead th {\n",
       "        text-align: right;\n",
       "    }\n",
       "</style>\n",
       "<table border=\"1\" class=\"dataframe\">\n",
       "  <thead>\n",
       "    <tr style=\"text-align: right;\">\n",
       "      <th></th>\n",
       "      <th>p</th>\n",
       "      <th>q</th>\n",
       "      <th>aic</th>\n",
       "      <th>bic</th>\n",
       "    </tr>\n",
       "  </thead>\n",
       "  <tbody>\n",
       "    <tr>\n",
       "      <th>0</th>\n",
       "      <td>1</td>\n",
       "      <td>1</td>\n",
       "      <td>3971.577334</td>\n",
       "      <td>3992.502482</td>\n",
       "    </tr>\n",
       "    <tr>\n",
       "      <th>1</th>\n",
       "      <td>1</td>\n",
       "      <td>2</td>\n",
       "      <td>3912.376923</td>\n",
       "      <td>3938.533358</td>\n",
       "    </tr>\n",
       "    <tr>\n",
       "      <th>2</th>\n",
       "      <td>1</td>\n",
       "      <td>3</td>\n",
       "      <td>3895.518780</td>\n",
       "      <td>3926.906502</td>\n",
       "    </tr>\n",
       "    <tr>\n",
       "      <th>3</th>\n",
       "      <td>1</td>\n",
       "      <td>4</td>\n",
       "      <td>3896.125008</td>\n",
       "      <td>3932.744017</td>\n",
       "    </tr>\n",
       "    <tr>\n",
       "      <th>4</th>\n",
       "      <td>1</td>\n",
       "      <td>5</td>\n",
       "      <td>3893.848067</td>\n",
       "      <td>3935.698363</td>\n",
       "    </tr>\n",
       "    <tr>\n",
       "      <th>5</th>\n",
       "      <td>1</td>\n",
       "      <td>6</td>\n",
       "      <td>3893.612667</td>\n",
       "      <td>3940.694250</td>\n",
       "    </tr>\n",
       "    <tr>\n",
       "      <th>6</th>\n",
       "      <td>2</td>\n",
       "      <td>1</td>\n",
       "      <td>3887.932150</td>\n",
       "      <td>3914.088585</td>\n",
       "    </tr>\n",
       "    <tr>\n",
       "      <th>7</th>\n",
       "      <td>2</td>\n",
       "      <td>2</td>\n",
       "      <td>3889.039058</td>\n",
       "      <td>3920.426780</td>\n",
       "    </tr>\n",
       "    <tr>\n",
       "      <th>8</th>\n",
       "      <td>2</td>\n",
       "      <td>3</td>\n",
       "      <td>3890.929806</td>\n",
       "      <td>3927.548815</td>\n",
       "    </tr>\n",
       "    <tr>\n",
       "      <th>9</th>\n",
       "      <td>2</td>\n",
       "      <td>4</td>\n",
       "      <td>3892.498663</td>\n",
       "      <td>3934.348960</td>\n",
       "    </tr>\n",
       "    <tr>\n",
       "      <th>10</th>\n",
       "      <td>2</td>\n",
       "      <td>5</td>\n",
       "      <td>3893.684410</td>\n",
       "      <td>3940.765993</td>\n",
       "    </tr>\n",
       "    <tr>\n",
       "      <th>11</th>\n",
       "      <td>2</td>\n",
       "      <td>6</td>\n",
       "      <td>3895.132934</td>\n",
       "      <td>3947.445804</td>\n",
       "    </tr>\n",
       "    <tr>\n",
       "      <th>12</th>\n",
       "      <td>3</td>\n",
       "      <td>1</td>\n",
       "      <td>3889.538477</td>\n",
       "      <td>3920.926199</td>\n",
       "    </tr>\n",
       "    <tr>\n",
       "      <th>13</th>\n",
       "      <td>3</td>\n",
       "      <td>2</td>\n",
       "      <td>3890.992821</td>\n",
       "      <td>3927.611830</td>\n",
       "    </tr>\n",
       "    <tr>\n",
       "      <th>14</th>\n",
       "      <td>3</td>\n",
       "      <td>3</td>\n",
       "      <td>3890.881350</td>\n",
       "      <td>3932.731646</td>\n",
       "    </tr>\n",
       "    <tr>\n",
       "      <th>15</th>\n",
       "      <td>3</td>\n",
       "      <td>4</td>\n",
       "      <td>3892.460202</td>\n",
       "      <td>3939.541785</td>\n",
       "    </tr>\n",
       "    <tr>\n",
       "      <th>16</th>\n",
       "      <td>3</td>\n",
       "      <td>5</td>\n",
       "      <td>3894.157468</td>\n",
       "      <td>3946.470338</td>\n",
       "    </tr>\n",
       "    <tr>\n",
       "      <th>17</th>\n",
       "      <td>3</td>\n",
       "      <td>6</td>\n",
       "      <td>3896.093757</td>\n",
       "      <td>3953.637914</td>\n",
       "    </tr>\n",
       "    <tr>\n",
       "      <th>18</th>\n",
       "      <td>4</td>\n",
       "      <td>1</td>\n",
       "      <td>3891.027538</td>\n",
       "      <td>3927.646547</td>\n",
       "    </tr>\n",
       "    <tr>\n",
       "      <th>19</th>\n",
       "      <td>4</td>\n",
       "      <td>2</td>\n",
       "      <td>3881.803256</td>\n",
       "      <td>3923.653552</td>\n",
       "    </tr>\n",
       "    <tr>\n",
       "      <th>20</th>\n",
       "      <td>4</td>\n",
       "      <td>3</td>\n",
       "      <td>3891.950610</td>\n",
       "      <td>3939.032193</td>\n",
       "    </tr>\n",
       "    <tr>\n",
       "      <th>21</th>\n",
       "      <td>4</td>\n",
       "      <td>4</td>\n",
       "      <td>3884.631551</td>\n",
       "      <td>3936.944421</td>\n",
       "    </tr>\n",
       "    <tr>\n",
       "      <th>22</th>\n",
       "      <td>4</td>\n",
       "      <td>5</td>\n",
       "      <td>3885.418227</td>\n",
       "      <td>3942.962384</td>\n",
       "    </tr>\n",
       "    <tr>\n",
       "      <th>23</th>\n",
       "      <td>4</td>\n",
       "      <td>6</td>\n",
       "      <td>3888.312954</td>\n",
       "      <td>3951.088398</td>\n",
       "    </tr>\n",
       "    <tr>\n",
       "      <th>24</th>\n",
       "      <td>5</td>\n",
       "      <td>1</td>\n",
       "      <td>3891.092787</td>\n",
       "      <td>3932.943083</td>\n",
       "    </tr>\n",
       "    <tr>\n",
       "      <th>25</th>\n",
       "      <td>5</td>\n",
       "      <td>2</td>\n",
       "      <td>3891.919898</td>\n",
       "      <td>3939.001481</td>\n",
       "    </tr>\n",
       "    <tr>\n",
       "      <th>26</th>\n",
       "      <td>5</td>\n",
       "      <td>3</td>\n",
       "      <td>3895.576631</td>\n",
       "      <td>3947.889501</td>\n",
       "    </tr>\n",
       "    <tr>\n",
       "      <th>27</th>\n",
       "      <td>5</td>\n",
       "      <td>4</td>\n",
       "      <td>3886.804389</td>\n",
       "      <td>3944.348546</td>\n",
       "    </tr>\n",
       "    <tr>\n",
       "      <th>28</th>\n",
       "      <td>5</td>\n",
       "      <td>5</td>\n",
       "      <td>3899.605289</td>\n",
       "      <td>3962.380733</td>\n",
       "    </tr>\n",
       "    <tr>\n",
       "      <th>29</th>\n",
       "      <td>5</td>\n",
       "      <td>6</td>\n",
       "      <td>3901.444491</td>\n",
       "      <td>3969.451222</td>\n",
       "    </tr>\n",
       "    <tr>\n",
       "      <th>30</th>\n",
       "      <td>6</td>\n",
       "      <td>1</td>\n",
       "      <td>3892.371491</td>\n",
       "      <td>3939.453074</td>\n",
       "    </tr>\n",
       "    <tr>\n",
       "      <th>31</th>\n",
       "      <td>6</td>\n",
       "      <td>2</td>\n",
       "      <td>3893.919878</td>\n",
       "      <td>3946.232748</td>\n",
       "    </tr>\n",
       "    <tr>\n",
       "      <th>32</th>\n",
       "      <td>6</td>\n",
       "      <td>3</td>\n",
       "      <td>3895.626012</td>\n",
       "      <td>3953.170169</td>\n",
       "    </tr>\n",
       "    <tr>\n",
       "      <th>33</th>\n",
       "      <td>6</td>\n",
       "      <td>4</td>\n",
       "      <td>3880.020682</td>\n",
       "      <td>3942.796126</td>\n",
       "    </tr>\n",
       "    <tr>\n",
       "      <th>34</th>\n",
       "      <td>6</td>\n",
       "      <td>5</td>\n",
       "      <td>3881.991239</td>\n",
       "      <td>3949.997970</td>\n",
       "    </tr>\n",
       "    <tr>\n",
       "      <th>35</th>\n",
       "      <td>6</td>\n",
       "      <td>6</td>\n",
       "      <td>3887.934816</td>\n",
       "      <td>3961.172834</td>\n",
       "    </tr>\n",
       "  </tbody>\n",
       "</table>\n",
       "</div>"
      ],
      "text/plain": [
       "    p  q          aic          bic\n",
       "0   1  1  3971.577334  3992.502482\n",
       "1   1  2  3912.376923  3938.533358\n",
       "2   1  3  3895.518780  3926.906502\n",
       "3   1  4  3896.125008  3932.744017\n",
       "4   1  5  3893.848067  3935.698363\n",
       "5   1  6  3893.612667  3940.694250\n",
       "6   2  1  3887.932150  3914.088585\n",
       "7   2  2  3889.039058  3920.426780\n",
       "8   2  3  3890.929806  3927.548815\n",
       "9   2  4  3892.498663  3934.348960\n",
       "10  2  5  3893.684410  3940.765993\n",
       "11  2  6  3895.132934  3947.445804\n",
       "12  3  1  3889.538477  3920.926199\n",
       "13  3  2  3890.992821  3927.611830\n",
       "14  3  3  3890.881350  3932.731646\n",
       "15  3  4  3892.460202  3939.541785\n",
       "16  3  5  3894.157468  3946.470338\n",
       "17  3  6  3896.093757  3953.637914\n",
       "18  4  1  3891.027538  3927.646547\n",
       "19  4  2  3881.803256  3923.653552\n",
       "20  4  3  3891.950610  3939.032193\n",
       "21  4  4  3884.631551  3936.944421\n",
       "22  4  5  3885.418227  3942.962384\n",
       "23  4  6  3888.312954  3951.088398\n",
       "24  5  1  3891.092787  3932.943083\n",
       "25  5  2  3891.919898  3939.001481\n",
       "26  5  3  3895.576631  3947.889501\n",
       "27  5  4  3886.804389  3944.348546\n",
       "28  5  5  3899.605289  3962.380733\n",
       "29  5  6  3901.444491  3969.451222\n",
       "30  6  1  3892.371491  3939.453074\n",
       "31  6  2  3893.919878  3946.232748\n",
       "32  6  3  3895.626012  3953.170169\n",
       "33  6  4  3880.020682  3942.796126\n",
       "34  6  5  3881.991239  3949.997970\n",
       "35  6  6  3887.934816  3961.172834"
      ]
     },
     "execution_count": 105,
     "metadata": {},
     "output_type": "execute_result"
    }
   ],
   "source": [
    "pd.DataFrame(results, columns=[\"p\", \"q\", \"aic\", \"bic\"])"
   ]
  },
  {
   "cell_type": "markdown",
   "metadata": {},
   "source": [
    "## Question 3.32\n",
    "\n",
    "After viewing the ACF and PACF, which of the following statistical processes appears to be more likely? Select only one option."
   ]
  },
  {
   "cell_type": "code",
   "execution_count": 108,
   "metadata": {},
   "outputs": [
    {
     "data": {
      "image/png": "[encoded data removed]",
      "text/plain": [
       "<Figure size 864x576 with 2 Axes>"
      ]
     },
     "metadata": {},
     "output_type": "display_data"
    }
   ],
   "source": [
    "fig, ax = plt.subplots(2, 1, figsize=(12,8))\n",
    "\n",
    "plot_acf(df_pe.pe_ind.dropna(), lags=20, ax = ax[0])\n",
    "plot_pacf(df_pe.pe_ind.dropna(), lags=20, ax = ax[1])\n",
    "plt.tight_layout()\n",
    "plt.show()"
   ]
  },
  {
   "cell_type": "markdown",
   "metadata": {},
   "source": [
    "## Question 3.33\n",
    "\n",
    "Which model was chosen?"
   ]
  },
  {
   "cell_type": "code",
   "execution_count": 112,
   "metadata": {},
   "outputs": [
    {
     "name": "stderr",
     "output_type": "stream",
     "text": [
      "/Users/kmiyaki/anaconda3/lib/python3.7/site-packages/statsmodels/tsa/base/tsa_model.py:221: ValueWarning: An unsupported index was provided and will be ignored when e.g. forecasting.\n",
      "  ' ignored when e.g. forecasting.', ValueWarning)\n",
      "/Users/kmiyaki/anaconda3/lib/python3.7/site-packages/statsmodels/tsa/base/tsa_model.py:221: ValueWarning: An unsupported index was provided and will be ignored when e.g. forecasting.\n",
      "  ' ignored when e.g. forecasting.', ValueWarning)\n",
      "/Users/kmiyaki/anaconda3/lib/python3.7/site-packages/statsmodels/tsa/base/tsa_model.py:221: ValueWarning: An unsupported index was provided and will be ignored when e.g. forecasting.\n",
      "  ' ignored when e.g. forecasting.', ValueWarning)\n",
      "/Users/kmiyaki/anaconda3/lib/python3.7/site-packages/statsmodels/tsa/base/tsa_model.py:221: ValueWarning: An unsupported index was provided and will be ignored when e.g. forecasting.\n",
      "  ' ignored when e.g. forecasting.', ValueWarning)\n",
      "/Users/kmiyaki/anaconda3/lib/python3.7/site-packages/statsmodels/tsa/base/tsa_model.py:221: ValueWarning: An unsupported index was provided and will be ignored when e.g. forecasting.\n",
      "  ' ignored when e.g. forecasting.', ValueWarning)\n",
      "/Users/kmiyaki/anaconda3/lib/python3.7/site-packages/statsmodels/tsa/base/tsa_model.py:221: ValueWarning: An unsupported index was provided and will be ignored when e.g. forecasting.\n",
      "  ' ignored when e.g. forecasting.', ValueWarning)\n",
      "/Users/kmiyaki/anaconda3/lib/python3.7/site-packages/statsmodels/tsa/base/tsa_model.py:221: ValueWarning: An unsupported index was provided and will be ignored when e.g. forecasting.\n",
      "  ' ignored when e.g. forecasting.', ValueWarning)\n",
      "/Users/kmiyaki/anaconda3/lib/python3.7/site-packages/statsmodels/tsa/base/tsa_model.py:221: ValueWarning: An unsupported index was provided and will be ignored when e.g. forecasting.\n",
      "  ' ignored when e.g. forecasting.', ValueWarning)\n",
      "/Users/kmiyaki/anaconda3/lib/python3.7/site-packages/statsmodels/tsa/base/tsa_model.py:221: ValueWarning: An unsupported index was provided and will be ignored when e.g. forecasting.\n",
      "  ' ignored when e.g. forecasting.', ValueWarning)\n",
      "/Users/kmiyaki/anaconda3/lib/python3.7/site-packages/statsmodels/tsa/base/tsa_model.py:221: ValueWarning: An unsupported index was provided and will be ignored when e.g. forecasting.\n",
      "  ' ignored when e.g. forecasting.', ValueWarning)\n",
      "/Users/kmiyaki/anaconda3/lib/python3.7/site-packages/statsmodels/tsa/base/tsa_model.py:221: ValueWarning: An unsupported index was provided and will be ignored when e.g. forecasting.\n",
      "  ' ignored when e.g. forecasting.', ValueWarning)\n",
      "/Users/kmiyaki/anaconda3/lib/python3.7/site-packages/statsmodels/tsa/base/tsa_model.py:221: ValueWarning: An unsupported index was provided and will be ignored when e.g. forecasting.\n",
      "  ' ignored when e.g. forecasting.', ValueWarning)\n",
      "/Users/kmiyaki/anaconda3/lib/python3.7/site-packages/statsmodels/tsa/base/tsa_model.py:221: ValueWarning: An unsupported index was provided and will be ignored when e.g. forecasting.\n",
      "  ' ignored when e.g. forecasting.', ValueWarning)\n",
      "/Users/kmiyaki/anaconda3/lib/python3.7/site-packages/statsmodels/tsa/base/tsa_model.py:221: ValueWarning: An unsupported index was provided and will be ignored when e.g. forecasting.\n",
      "  ' ignored when e.g. forecasting.', ValueWarning)\n",
      "/Users/kmiyaki/anaconda3/lib/python3.7/site-packages/statsmodels/tsa/base/tsa_model.py:221: ValueWarning: An unsupported index was provided and will be ignored when e.g. forecasting.\n",
      "  ' ignored when e.g. forecasting.', ValueWarning)\n",
      "/Users/kmiyaki/anaconda3/lib/python3.7/site-packages/statsmodels/tsa/base/tsa_model.py:221: ValueWarning: An unsupported index was provided and will be ignored when e.g. forecasting.\n",
      "  ' ignored when e.g. forecasting.', ValueWarning)\n",
      "/Users/kmiyaki/anaconda3/lib/python3.7/site-packages/statsmodels/tsa/base/tsa_model.py:221: ValueWarning: An unsupported index was provided and will be ignored when e.g. forecasting.\n",
      "  ' ignored when e.g. forecasting.', ValueWarning)\n",
      "/Users/kmiyaki/anaconda3/lib/python3.7/site-packages/statsmodels/tsa/base/tsa_model.py:221: ValueWarning: An unsupported index was provided and will be ignored when e.g. forecasting.\n",
      "  ' ignored when e.g. forecasting.', ValueWarning)\n",
      "/Users/kmiyaki/anaconda3/lib/python3.7/site-packages/statsmodels/tsa/base/tsa_model.py:221: ValueWarning: An unsupported index was provided and will be ignored when e.g. forecasting.\n",
      "  ' ignored when e.g. forecasting.', ValueWarning)\n",
      "/Users/kmiyaki/anaconda3/lib/python3.7/site-packages/statsmodels/tsa/base/tsa_model.py:221: ValueWarning: An unsupported index was provided and will be ignored when e.g. forecasting.\n",
      "  ' ignored when e.g. forecasting.', ValueWarning)\n",
      "/Users/kmiyaki/anaconda3/lib/python3.7/site-packages/statsmodels/tsa/base/tsa_model.py:221: ValueWarning: An unsupported index was provided and will be ignored when e.g. forecasting.\n",
      "  ' ignored when e.g. forecasting.', ValueWarning)\n",
      "/Users/kmiyaki/anaconda3/lib/python3.7/site-packages/statsmodels/tsa/base/tsa_model.py:221: ValueWarning: An unsupported index was provided and will be ignored when e.g. forecasting.\n",
      "  ' ignored when e.g. forecasting.', ValueWarning)\n",
      "/Users/kmiyaki/anaconda3/lib/python3.7/site-packages/statsmodels/tsa/base/tsa_model.py:221: ValueWarning: An unsupported index was provided and will be ignored when e.g. forecasting.\n",
      "  ' ignored when e.g. forecasting.', ValueWarning)\n",
      "/Users/kmiyaki/anaconda3/lib/python3.7/site-packages/statsmodels/tsa/base/tsa_model.py:221: ValueWarning: An unsupported index was provided and will be ignored when e.g. forecasting.\n",
      "  ' ignored when e.g. forecasting.', ValueWarning)\n",
      "/Users/kmiyaki/anaconda3/lib/python3.7/site-packages/statsmodels/tsa/base/tsa_model.py:221: ValueWarning: An unsupported index was provided and will be ignored when e.g. forecasting.\n",
      "  ' ignored when e.g. forecasting.', ValueWarning)\n",
      "/Users/kmiyaki/anaconda3/lib/python3.7/site-packages/statsmodels/tsa/base/tsa_model.py:221: ValueWarning: An unsupported index was provided and will be ignored when e.g. forecasting.\n",
      "  ' ignored when e.g. forecasting.', ValueWarning)\n"
     ]
    },
    {
     "ename": "LinAlgError",
     "evalue": "SVD did not converge",
     "output_type": "error",
     "traceback": [
      "\u001b[0;31m---------------------------------------------------------------------------\u001b[0m",
      "\u001b[0;31mLinAlgError\u001b[0m                               Traceback (most recent call last)",
      "\u001b[0;32m<ipython-input-112-00d790085a50>\u001b[0m in \u001b[0;36m<module>\u001b[0;34m\u001b[0m\n\u001b[1;32m      2\u001b[0m \u001b[0;32mfor\u001b[0m \u001b[0mp\u001b[0m \u001b[0;32min\u001b[0m \u001b[0mrange\u001b[0m\u001b[0;34m(\u001b[0m\u001b[0;36m1\u001b[0m\u001b[0;34m,\u001b[0m\u001b[0;36m7\u001b[0m\u001b[0;34m)\u001b[0m\u001b[0;34m:\u001b[0m\u001b[0;34m\u001b[0m\u001b[0;34m\u001b[0m\u001b[0m\n\u001b[1;32m      3\u001b[0m     \u001b[0;32mfor\u001b[0m \u001b[0mq\u001b[0m \u001b[0;32min\u001b[0m \u001b[0mrange\u001b[0m\u001b[0;34m(\u001b[0m\u001b[0;36m0\u001b[0m\u001b[0;34m,\u001b[0m\u001b[0;36m7\u001b[0m\u001b[0;34m)\u001b[0m\u001b[0;34m:\u001b[0m\u001b[0;34m\u001b[0m\u001b[0;34m\u001b[0m\u001b[0m\n\u001b[0;32m----> 4\u001b[0;31m         \u001b[0mmodel\u001b[0m \u001b[0;34m=\u001b[0m \u001b[0mts\u001b[0m\u001b[0;34m.\u001b[0m\u001b[0marima_model\u001b[0m\u001b[0;34m.\u001b[0m\u001b[0mARIMA\u001b[0m\u001b[0;34m(\u001b[0m\u001b[0mdf_pe\u001b[0m\u001b[0;34m.\u001b[0m\u001b[0mpe_ind\u001b[0m\u001b[0;34m.\u001b[0m\u001b[0mdropna\u001b[0m\u001b[0;34m(\u001b[0m\u001b[0;34m)\u001b[0m\u001b[0;34m,\u001b[0m \u001b[0morder\u001b[0m\u001b[0;34m=\u001b[0m\u001b[0;34m(\u001b[0m\u001b[0mp\u001b[0m\u001b[0;34m,\u001b[0m \u001b[0;36m0\u001b[0m\u001b[0;34m,\u001b[0m \u001b[0mq\u001b[0m\u001b[0;34m)\u001b[0m\u001b[0;34m)\u001b[0m\u001b[0;34m.\u001b[0m\u001b[0mfit\u001b[0m\u001b[0;34m(\u001b[0m\u001b[0;34m)\u001b[0m\u001b[0;34m\u001b[0m\u001b[0;34m\u001b[0m\u001b[0m\n\u001b[0m\u001b[1;32m      5\u001b[0m         \u001b[0mresults\u001b[0m\u001b[0;34m.\u001b[0m\u001b[0mappend\u001b[0m\u001b[0;34m(\u001b[0m\u001b[0;34m[\u001b[0m\u001b[0mp\u001b[0m\u001b[0;34m,\u001b[0m \u001b[0mq\u001b[0m\u001b[0;34m,\u001b[0m \u001b[0mmodel\u001b[0m\u001b[0;34m.\u001b[0m\u001b[0maic\u001b[0m\u001b[0;34m,\u001b[0m \u001b[0mmodel\u001b[0m\u001b[0;34m.\u001b[0m\u001b[0mbic\u001b[0m\u001b[0;34m]\u001b[0m\u001b[0;34m)\u001b[0m\u001b[0;34m\u001b[0m\u001b[0;34m\u001b[0m\u001b[0m\n",
      "\u001b[0;32m~/anaconda3/lib/python3.7/site-packages/statsmodels/tsa/arima_model.py\u001b[0m in \u001b[0;36mfit\u001b[0;34m(self, start_params, trend, method, transparams, solver, maxiter, full_output, disp, callback, start_ar_lags, **kwargs)\u001b[0m\n\u001b[1;32m    957\u001b[0m                                        \u001b[0mmaxiter\u001b[0m\u001b[0;34m=\u001b[0m\u001b[0mmaxiter\u001b[0m\u001b[0;34m,\u001b[0m\u001b[0;34m\u001b[0m\u001b[0;34m\u001b[0m\u001b[0m\n\u001b[1;32m    958\u001b[0m                                        \u001b[0mfull_output\u001b[0m\u001b[0;34m=\u001b[0m\u001b[0mfull_output\u001b[0m\u001b[0;34m,\u001b[0m \u001b[0mdisp\u001b[0m\u001b[0;34m=\u001b[0m\u001b[0mdisp\u001b[0m\u001b[0;34m,\u001b[0m\u001b[0;34m\u001b[0m\u001b[0;34m\u001b[0m\u001b[0m\n\u001b[0;32m--> 959\u001b[0;31m                                        callback=callback, **kwargs)\n\u001b[0m\u001b[1;32m    960\u001b[0m         \u001b[0mparams\u001b[0m \u001b[0;34m=\u001b[0m \u001b[0mmlefit\u001b[0m\u001b[0;34m.\u001b[0m\u001b[0mparams\u001b[0m\u001b[0;34m\u001b[0m\u001b[0;34m\u001b[0m\u001b[0m\n\u001b[1;32m    961\u001b[0m \u001b[0;34m\u001b[0m\u001b[0m\n",
      "\u001b[0;32m~/anaconda3/lib/python3.7/site-packages/statsmodels/base/model.py\u001b[0m in \u001b[0;36mfit\u001b[0;34m(self, start_params, method, maxiter, full_output, disp, fargs, callback, retall, skip_hessian, **kwargs)\u001b[0m\n\u001b[1;32m    464\u001b[0m                                                        \u001b[0mcallback\u001b[0m\u001b[0;34m=\u001b[0m\u001b[0mcallback\u001b[0m\u001b[0;34m,\u001b[0m\u001b[0;34m\u001b[0m\u001b[0;34m\u001b[0m\u001b[0m\n\u001b[1;32m    465\u001b[0m                                                        \u001b[0mretall\u001b[0m\u001b[0;34m=\u001b[0m\u001b[0mretall\u001b[0m\u001b[0;34m,\u001b[0m\u001b[0;34m\u001b[0m\u001b[0;34m\u001b[0m\u001b[0m\n\u001b[0;32m--> 466\u001b[0;31m                                                        full_output=full_output)\n\u001b[0m\u001b[1;32m    467\u001b[0m \u001b[0;34m\u001b[0m\u001b[0m\n\u001b[1;32m    468\u001b[0m         \u001b[0;31m# NOTE: this is for fit_regularized and should be generalized\u001b[0m\u001b[0;34m\u001b[0m\u001b[0;34m\u001b[0m\u001b[0;34m\u001b[0m\u001b[0m\n",
      "\u001b[0;32m~/anaconda3/lib/python3.7/site-packages/statsmodels/base/optimizer.py\u001b[0m in \u001b[0;36m_fit\u001b[0;34m(self, objective, gradient, start_params, fargs, kwargs, hessian, method, maxiter, full_output, disp, callback, retall)\u001b[0m\n\u001b[1;32m    189\u001b[0m                             \u001b[0mdisp\u001b[0m\u001b[0;34m=\u001b[0m\u001b[0mdisp\u001b[0m\u001b[0;34m,\u001b[0m \u001b[0mmaxiter\u001b[0m\u001b[0;34m=\u001b[0m\u001b[0mmaxiter\u001b[0m\u001b[0;34m,\u001b[0m \u001b[0mcallback\u001b[0m\u001b[0;34m=\u001b[0m\u001b[0mcallback\u001b[0m\u001b[0;34m,\u001b[0m\u001b[0;34m\u001b[0m\u001b[0;34m\u001b[0m\u001b[0m\n\u001b[1;32m    190\u001b[0m                             \u001b[0mretall\u001b[0m\u001b[0;34m=\u001b[0m\u001b[0mretall\u001b[0m\u001b[0;34m,\u001b[0m \u001b[0mfull_output\u001b[0m\u001b[0;34m=\u001b[0m\u001b[0mfull_output\u001b[0m\u001b[0;34m,\u001b[0m\u001b[0;34m\u001b[0m\u001b[0;34m\u001b[0m\u001b[0m\n\u001b[0;32m--> 191\u001b[0;31m                             hess=hessian)\n\u001b[0m\u001b[1;32m    192\u001b[0m \u001b[0;34m\u001b[0m\u001b[0m\n\u001b[1;32m    193\u001b[0m         optim_settings = {'optimizer': method, 'start_params': start_params,\n",
      "\u001b[0;32m~/anaconda3/lib/python3.7/site-packages/statsmodels/base/optimizer.py\u001b[0m in \u001b[0;36m_fit_lbfgs\u001b[0;34m(f, score, start_params, fargs, kwargs, disp, maxiter, callback, retall, full_output, hess)\u001b[0m\n\u001b[1;32m    408\u001b[0m                                      \u001b[0mcallback\u001b[0m\u001b[0;34m=\u001b[0m\u001b[0mcallback\u001b[0m\u001b[0;34m,\u001b[0m \u001b[0margs\u001b[0m\u001b[0;34m=\u001b[0m\u001b[0mfargs\u001b[0m\u001b[0;34m,\u001b[0m\u001b[0;34m\u001b[0m\u001b[0;34m\u001b[0m\u001b[0m\n\u001b[1;32m    409\u001b[0m                                      \u001b[0mbounds\u001b[0m\u001b[0;34m=\u001b[0m\u001b[0mbounds\u001b[0m\u001b[0;34m,\u001b[0m \u001b[0mdisp\u001b[0m\u001b[0;34m=\u001b[0m\u001b[0mdisp\u001b[0m\u001b[0;34m,\u001b[0m\u001b[0;34m\u001b[0m\u001b[0;34m\u001b[0m\u001b[0m\n\u001b[0;32m--> 410\u001b[0;31m                                      **extra_kwargs)\n\u001b[0m\u001b[1;32m    411\u001b[0m \u001b[0;34m\u001b[0m\u001b[0m\n\u001b[1;32m    412\u001b[0m     \u001b[0;32mif\u001b[0m \u001b[0mfull_output\u001b[0m\u001b[0;34m:\u001b[0m\u001b[0;34m\u001b[0m\u001b[0;34m\u001b[0m\u001b[0m\n",
      "\u001b[0;32m~/anaconda3/lib/python3.7/site-packages/scipy/optimize/lbfgsb.py\u001b[0m in \u001b[0;36mfmin_l_bfgs_b\u001b[0;34m(func, x0, fprime, args, approx_grad, bounds, m, factr, pgtol, epsilon, iprint, maxfun, maxiter, disp, callback, maxls)\u001b[0m\n\u001b[1;32m    197\u001b[0m \u001b[0;34m\u001b[0m\u001b[0m\n\u001b[1;32m    198\u001b[0m     res = _minimize_lbfgsb(fun, x0, args=args, jac=jac, bounds=bounds,\n\u001b[0;32m--> 199\u001b[0;31m                            **opts)\n\u001b[0m\u001b[1;32m    200\u001b[0m     d = {'grad': res['jac'],\n\u001b[1;32m    201\u001b[0m          \u001b[0;34m'task'\u001b[0m\u001b[0;34m:\u001b[0m \u001b[0mres\u001b[0m\u001b[0;34m[\u001b[0m\u001b[0;34m'message'\u001b[0m\u001b[0;34m]\u001b[0m\u001b[0;34m,\u001b[0m\u001b[0;34m\u001b[0m\u001b[0;34m\u001b[0m\u001b[0m\n",
      "\u001b[0;32m~/anaconda3/lib/python3.7/site-packages/scipy/optimize/lbfgsb.py\u001b[0m in \u001b[0;36m_minimize_lbfgsb\u001b[0;34m(fun, x0, args, jac, bounds, disp, maxcor, ftol, gtol, eps, maxfun, maxiter, iprint, callback, maxls, **unknown_options)\u001b[0m\n\u001b[1;32m    333\u001b[0m             \u001b[0;31m# until the completion of the current minimization iteration.\u001b[0m\u001b[0;34m\u001b[0m\u001b[0;34m\u001b[0m\u001b[0;34m\u001b[0m\u001b[0m\n\u001b[1;32m    334\u001b[0m             \u001b[0;31m# Overwrite f and g:\u001b[0m\u001b[0;34m\u001b[0m\u001b[0;34m\u001b[0m\u001b[0;34m\u001b[0m\u001b[0m\n\u001b[0;32m--> 335\u001b[0;31m             \u001b[0mf\u001b[0m\u001b[0;34m,\u001b[0m \u001b[0mg\u001b[0m \u001b[0;34m=\u001b[0m \u001b[0mfunc_and_grad\u001b[0m\u001b[0;34m(\u001b[0m\u001b[0mx\u001b[0m\u001b[0;34m)\u001b[0m\u001b[0;34m\u001b[0m\u001b[0;34m\u001b[0m\u001b[0m\n\u001b[0m\u001b[1;32m    336\u001b[0m         \u001b[0;32melif\u001b[0m \u001b[0mtask_str\u001b[0m\u001b[0;34m.\u001b[0m\u001b[0mstartswith\u001b[0m\u001b[0;34m(\u001b[0m\u001b[0;34mb'NEW_X'\u001b[0m\u001b[0;34m)\u001b[0m\u001b[0;34m:\u001b[0m\u001b[0;34m\u001b[0m\u001b[0;34m\u001b[0m\u001b[0m\n\u001b[1;32m    337\u001b[0m             \u001b[0;31m# new iteration\u001b[0m\u001b[0;34m\u001b[0m\u001b[0;34m\u001b[0m\u001b[0;34m\u001b[0m\u001b[0m\n",
      "\u001b[0;32m~/anaconda3/lib/python3.7/site-packages/scipy/optimize/lbfgsb.py\u001b[0m in \u001b[0;36mfunc_and_grad\u001b[0;34m(x)\u001b[0m\n\u001b[1;32m    278\u001b[0m     \u001b[0;32mif\u001b[0m \u001b[0mjac\u001b[0m \u001b[0;32mis\u001b[0m \u001b[0;32mNone\u001b[0m\u001b[0;34m:\u001b[0m\u001b[0;34m\u001b[0m\u001b[0;34m\u001b[0m\u001b[0m\n\u001b[1;32m    279\u001b[0m         \u001b[0;32mdef\u001b[0m \u001b[0mfunc_and_grad\u001b[0m\u001b[0;34m(\u001b[0m\u001b[0mx\u001b[0m\u001b[0;34m)\u001b[0m\u001b[0;34m:\u001b[0m\u001b[0;34m\u001b[0m\u001b[0;34m\u001b[0m\u001b[0m\n\u001b[0;32m--> 280\u001b[0;31m             \u001b[0mf\u001b[0m \u001b[0;34m=\u001b[0m \u001b[0mfun\u001b[0m\u001b[0;34m(\u001b[0m\u001b[0mx\u001b[0m\u001b[0;34m,\u001b[0m \u001b[0;34m*\u001b[0m\u001b[0margs\u001b[0m\u001b[0;34m)\u001b[0m\u001b[0;34m\u001b[0m\u001b[0;34m\u001b[0m\u001b[0m\n\u001b[0m\u001b[1;32m    281\u001b[0m             \u001b[0mg\u001b[0m \u001b[0;34m=\u001b[0m \u001b[0m_approx_fprime_helper\u001b[0m\u001b[0;34m(\u001b[0m\u001b[0mx\u001b[0m\u001b[0;34m,\u001b[0m \u001b[0mfun\u001b[0m\u001b[0;34m,\u001b[0m \u001b[0mepsilon\u001b[0m\u001b[0;34m,\u001b[0m \u001b[0margs\u001b[0m\u001b[0;34m=\u001b[0m\u001b[0margs\u001b[0m\u001b[0;34m,\u001b[0m \u001b[0mf0\u001b[0m\u001b[0;34m=\u001b[0m\u001b[0mf\u001b[0m\u001b[0;34m)\u001b[0m\u001b[0;34m\u001b[0m\u001b[0;34m\u001b[0m\u001b[0m\n\u001b[1;32m    282\u001b[0m             \u001b[0;32mreturn\u001b[0m \u001b[0mf\u001b[0m\u001b[0;34m,\u001b[0m \u001b[0mg\u001b[0m\u001b[0;34m\u001b[0m\u001b[0;34m\u001b[0m\u001b[0m\n",
      "\u001b[0;32m~/anaconda3/lib/python3.7/site-packages/scipy/optimize/optimize.py\u001b[0m in \u001b[0;36mfunction_wrapper\u001b[0;34m(*wrapper_args)\u001b[0m\n\u001b[1;32m    298\u001b[0m     \u001b[0;32mdef\u001b[0m \u001b[0mfunction_wrapper\u001b[0m\u001b[0;34m(\u001b[0m\u001b[0;34m*\u001b[0m\u001b[0mwrapper_args\u001b[0m\u001b[0;34m)\u001b[0m\u001b[0;34m:\u001b[0m\u001b[0;34m\u001b[0m\u001b[0;34m\u001b[0m\u001b[0m\n\u001b[1;32m    299\u001b[0m         \u001b[0mncalls\u001b[0m\u001b[0;34m[\u001b[0m\u001b[0;36m0\u001b[0m\u001b[0;34m]\u001b[0m \u001b[0;34m+=\u001b[0m \u001b[0;36m1\u001b[0m\u001b[0;34m\u001b[0m\u001b[0;34m\u001b[0m\u001b[0m\n\u001b[0;32m--> 300\u001b[0;31m         \u001b[0;32mreturn\u001b[0m \u001b[0mfunction\u001b[0m\u001b[0;34m(\u001b[0m\u001b[0;34m*\u001b[0m\u001b[0;34m(\u001b[0m\u001b[0mwrapper_args\u001b[0m \u001b[0;34m+\u001b[0m \u001b[0margs\u001b[0m\u001b[0;34m)\u001b[0m\u001b[0;34m)\u001b[0m\u001b[0;34m\u001b[0m\u001b[0;34m\u001b[0m\u001b[0m\n\u001b[0m\u001b[1;32m    301\u001b[0m \u001b[0;34m\u001b[0m\u001b[0m\n\u001b[1;32m    302\u001b[0m     \u001b[0;32mreturn\u001b[0m \u001b[0mncalls\u001b[0m\u001b[0;34m,\u001b[0m \u001b[0mfunction_wrapper\u001b[0m\u001b[0;34m\u001b[0m\u001b[0;34m\u001b[0m\u001b[0m\n",
      "\u001b[0;32m~/anaconda3/lib/python3.7/site-packages/statsmodels/base/model.py\u001b[0m in \u001b[0;36mf\u001b[0;34m(params, *args)\u001b[0m\n\u001b[1;32m    438\u001b[0m \u001b[0;34m\u001b[0m\u001b[0m\n\u001b[1;32m    439\u001b[0m         \u001b[0;32mdef\u001b[0m \u001b[0mf\u001b[0m\u001b[0;34m(\u001b[0m\u001b[0mparams\u001b[0m\u001b[0;34m,\u001b[0m \u001b[0;34m*\u001b[0m\u001b[0margs\u001b[0m\u001b[0;34m)\u001b[0m\u001b[0;34m:\u001b[0m\u001b[0;34m\u001b[0m\u001b[0;34m\u001b[0m\u001b[0m\n\u001b[0;32m--> 440\u001b[0;31m             \u001b[0;32mreturn\u001b[0m \u001b[0;34m-\u001b[0m\u001b[0mself\u001b[0m\u001b[0;34m.\u001b[0m\u001b[0mloglike\u001b[0m\u001b[0;34m(\u001b[0m\u001b[0mparams\u001b[0m\u001b[0;34m,\u001b[0m \u001b[0;34m*\u001b[0m\u001b[0margs\u001b[0m\u001b[0;34m)\u001b[0m \u001b[0;34m/\u001b[0m \u001b[0mnobs\u001b[0m\u001b[0;34m\u001b[0m\u001b[0;34m\u001b[0m\u001b[0m\n\u001b[0m\u001b[1;32m    441\u001b[0m \u001b[0;34m\u001b[0m\u001b[0m\n\u001b[1;32m    442\u001b[0m         \u001b[0;32mif\u001b[0m \u001b[0mmethod\u001b[0m \u001b[0;34m==\u001b[0m \u001b[0;34m'newton'\u001b[0m\u001b[0;34m:\u001b[0m\u001b[0;34m\u001b[0m\u001b[0;34m\u001b[0m\u001b[0m\n",
      "\u001b[0;32m~/anaconda3/lib/python3.7/site-packages/statsmodels/tsa/arima_model.py\u001b[0m in \u001b[0;36mloglike\u001b[0;34m(self, params, set_sigma2)\u001b[0m\n\u001b[1;32m    778\u001b[0m         \u001b[0mmethod\u001b[0m \u001b[0;34m=\u001b[0m \u001b[0mself\u001b[0m\u001b[0;34m.\u001b[0m\u001b[0mmethod\u001b[0m\u001b[0;34m\u001b[0m\u001b[0;34m\u001b[0m\u001b[0m\n\u001b[1;32m    779\u001b[0m         \u001b[0;32mif\u001b[0m \u001b[0mmethod\u001b[0m \u001b[0;32min\u001b[0m \u001b[0;34m[\u001b[0m\u001b[0;34m'mle'\u001b[0m\u001b[0;34m,\u001b[0m \u001b[0;34m'css-mle'\u001b[0m\u001b[0;34m]\u001b[0m\u001b[0;34m:\u001b[0m\u001b[0;34m\u001b[0m\u001b[0;34m\u001b[0m\u001b[0m\n\u001b[0;32m--> 780\u001b[0;31m             \u001b[0;32mreturn\u001b[0m \u001b[0mself\u001b[0m\u001b[0;34m.\u001b[0m\u001b[0mloglike_kalman\u001b[0m\u001b[0;34m(\u001b[0m\u001b[0mparams\u001b[0m\u001b[0;34m,\u001b[0m \u001b[0mset_sigma2\u001b[0m\u001b[0;34m)\u001b[0m\u001b[0;34m\u001b[0m\u001b[0;34m\u001b[0m\u001b[0m\n\u001b[0m\u001b[1;32m    781\u001b[0m         \u001b[0;32melif\u001b[0m \u001b[0mmethod\u001b[0m \u001b[0;34m==\u001b[0m \u001b[0;34m'css'\u001b[0m\u001b[0;34m:\u001b[0m\u001b[0;34m\u001b[0m\u001b[0;34m\u001b[0m\u001b[0m\n\u001b[1;32m    782\u001b[0m             \u001b[0;32mreturn\u001b[0m \u001b[0mself\u001b[0m\u001b[0;34m.\u001b[0m\u001b[0mloglike_css\u001b[0m\u001b[0;34m(\u001b[0m\u001b[0mparams\u001b[0m\u001b[0;34m,\u001b[0m \u001b[0mset_sigma2\u001b[0m\u001b[0;34m)\u001b[0m\u001b[0;34m\u001b[0m\u001b[0;34m\u001b[0m\u001b[0m\n",
      "\u001b[0;32m~/anaconda3/lib/python3.7/site-packages/statsmodels/tsa/arima_model.py\u001b[0m in \u001b[0;36mloglike_kalman\u001b[0;34m(self, params, set_sigma2)\u001b[0m\n\u001b[1;32m    788\u001b[0m         \u001b[0mCompute\u001b[0m \u001b[0mexact\u001b[0m \u001b[0mloglikelihood\u001b[0m \u001b[0;32mfor\u001b[0m \u001b[0mARMA\u001b[0m\u001b[0;34m(\u001b[0m\u001b[0mp\u001b[0m\u001b[0;34m,\u001b[0m\u001b[0mq\u001b[0m\u001b[0;34m)\u001b[0m \u001b[0mmodel\u001b[0m \u001b[0mby\u001b[0m \u001b[0mthe\u001b[0m \u001b[0mKalman\u001b[0m \u001b[0mFilter\u001b[0m\u001b[0;34m.\u001b[0m\u001b[0;34m\u001b[0m\u001b[0;34m\u001b[0m\u001b[0m\n\u001b[1;32m    789\u001b[0m         \"\"\"\n\u001b[0;32m--> 790\u001b[0;31m         \u001b[0;32mreturn\u001b[0m \u001b[0mKalmanFilter\u001b[0m\u001b[0;34m.\u001b[0m\u001b[0mloglike\u001b[0m\u001b[0;34m(\u001b[0m\u001b[0mparams\u001b[0m\u001b[0;34m,\u001b[0m \u001b[0mself\u001b[0m\u001b[0;34m,\u001b[0m \u001b[0mset_sigma2\u001b[0m\u001b[0;34m)\u001b[0m\u001b[0;34m\u001b[0m\u001b[0;34m\u001b[0m\u001b[0m\n\u001b[0m\u001b[1;32m    791\u001b[0m \u001b[0;34m\u001b[0m\u001b[0m\n\u001b[1;32m    792\u001b[0m     \u001b[0;32mdef\u001b[0m \u001b[0mloglike_css\u001b[0m\u001b[0;34m(\u001b[0m\u001b[0mself\u001b[0m\u001b[0;34m,\u001b[0m \u001b[0mparams\u001b[0m\u001b[0;34m,\u001b[0m \u001b[0mset_sigma2\u001b[0m\u001b[0;34m=\u001b[0m\u001b[0;32mTrue\u001b[0m\u001b[0;34m)\u001b[0m\u001b[0;34m:\u001b[0m\u001b[0;34m\u001b[0m\u001b[0;34m\u001b[0m\u001b[0m\n",
      "\u001b[0;32m~/anaconda3/lib/python3.7/site-packages/statsmodels/tsa/kalmanf/kalmanfilter.py\u001b[0m in \u001b[0;36mloglike\u001b[0;34m(cls, params, arma_model, set_sigma2)\u001b[0m\n\u001b[1;32m    647\u001b[0m             loglike, sigma2 =  kalman_loglike.kalman_loglike_double(y, k,\n\u001b[1;32m    648\u001b[0m                                     \u001b[0mk_ar\u001b[0m\u001b[0;34m,\u001b[0m \u001b[0mk_ma\u001b[0m\u001b[0;34m,\u001b[0m \u001b[0mk_lags\u001b[0m\u001b[0;34m,\u001b[0m \u001b[0mint\u001b[0m\u001b[0;34m(\u001b[0m\u001b[0mnobs\u001b[0m\u001b[0;34m)\u001b[0m\u001b[0;34m,\u001b[0m \u001b[0mZ_mat\u001b[0m\u001b[0;34m,\u001b[0m\u001b[0;34m\u001b[0m\u001b[0;34m\u001b[0m\u001b[0m\n\u001b[0;32m--> 649\u001b[0;31m                                     R_mat, T_mat)\n\u001b[0m\u001b[1;32m    650\u001b[0m         \u001b[0;32melif\u001b[0m \u001b[0missubdtype\u001b[0m\u001b[0;34m(\u001b[0m\u001b[0mparamsdtype\u001b[0m\u001b[0;34m,\u001b[0m \u001b[0mnp\u001b[0m\u001b[0;34m.\u001b[0m\u001b[0mcomplex128\u001b[0m\u001b[0;34m)\u001b[0m\u001b[0;34m:\u001b[0m\u001b[0;34m\u001b[0m\u001b[0;34m\u001b[0m\u001b[0m\n\u001b[1;32m    651\u001b[0m             loglike, sigma2 =  kalman_loglike.kalman_loglike_complex(y, k,\n",
      "\u001b[0;32mkalman_loglike.pyx\u001b[0m in \u001b[0;36mstatsmodels.tsa.kalmanf.kalman_loglike.kalman_loglike_double\u001b[0;34m()\u001b[0m\n",
      "\u001b[0;32mkalman_loglike.pyx\u001b[0m in \u001b[0;36mstatsmodels.tsa.kalmanf.kalman_loglike.kalman_filter_double\u001b[0;34m()\u001b[0m\n",
      "\u001b[0;32m~/anaconda3/lib/python3.7/site-packages/numpy/linalg/linalg.py\u001b[0m in \u001b[0;36mpinv\u001b[0;34m(a, rcond)\u001b[0m\n\u001b[1;32m   1936\u001b[0m         \u001b[0;32mreturn\u001b[0m \u001b[0mwrap\u001b[0m\u001b[0;34m(\u001b[0m\u001b[0mres\u001b[0m\u001b[0;34m)\u001b[0m\u001b[0;34m\u001b[0m\u001b[0;34m\u001b[0m\u001b[0m\n\u001b[1;32m   1937\u001b[0m     \u001b[0ma\u001b[0m \u001b[0;34m=\u001b[0m \u001b[0ma\u001b[0m\u001b[0;34m.\u001b[0m\u001b[0mconjugate\u001b[0m\u001b[0;34m(\u001b[0m\u001b[0;34m)\u001b[0m\u001b[0;34m\u001b[0m\u001b[0;34m\u001b[0m\u001b[0m\n\u001b[0;32m-> 1938\u001b[0;31m     \u001b[0mu\u001b[0m\u001b[0;34m,\u001b[0m \u001b[0ms\u001b[0m\u001b[0;34m,\u001b[0m \u001b[0mvt\u001b[0m \u001b[0;34m=\u001b[0m \u001b[0msvd\u001b[0m\u001b[0;34m(\u001b[0m\u001b[0ma\u001b[0m\u001b[0;34m,\u001b[0m \u001b[0mfull_matrices\u001b[0m\u001b[0;34m=\u001b[0m\u001b[0;32mFalse\u001b[0m\u001b[0;34m)\u001b[0m\u001b[0;34m\u001b[0m\u001b[0;34m\u001b[0m\u001b[0m\n\u001b[0m\u001b[1;32m   1939\u001b[0m \u001b[0;34m\u001b[0m\u001b[0m\n\u001b[1;32m   1940\u001b[0m     \u001b[0;31m# discard small singular values\u001b[0m\u001b[0;34m\u001b[0m\u001b[0;34m\u001b[0m\u001b[0;34m\u001b[0m\u001b[0m\n",
      "\u001b[0;32m~/anaconda3/lib/python3.7/site-packages/numpy/linalg/linalg.py\u001b[0m in \u001b[0;36msvd\u001b[0;34m(a, full_matrices, compute_uv)\u001b[0m\n\u001b[1;32m   1610\u001b[0m \u001b[0;34m\u001b[0m\u001b[0m\n\u001b[1;32m   1611\u001b[0m         \u001b[0msignature\u001b[0m \u001b[0;34m=\u001b[0m \u001b[0;34m'D->DdD'\u001b[0m \u001b[0;32mif\u001b[0m \u001b[0misComplexType\u001b[0m\u001b[0;34m(\u001b[0m\u001b[0mt\u001b[0m\u001b[0;34m)\u001b[0m \u001b[0;32melse\u001b[0m \u001b[0;34m'd->ddd'\u001b[0m\u001b[0;34m\u001b[0m\u001b[0;34m\u001b[0m\u001b[0m\n\u001b[0;32m-> 1612\u001b[0;31m         \u001b[0mu\u001b[0m\u001b[0;34m,\u001b[0m \u001b[0ms\u001b[0m\u001b[0;34m,\u001b[0m \u001b[0mvh\u001b[0m \u001b[0;34m=\u001b[0m \u001b[0mgufunc\u001b[0m\u001b[0;34m(\u001b[0m\u001b[0ma\u001b[0m\u001b[0;34m,\u001b[0m \u001b[0msignature\u001b[0m\u001b[0;34m=\u001b[0m\u001b[0msignature\u001b[0m\u001b[0;34m,\u001b[0m \u001b[0mextobj\u001b[0m\u001b[0;34m=\u001b[0m\u001b[0mextobj\u001b[0m\u001b[0;34m)\u001b[0m\u001b[0;34m\u001b[0m\u001b[0;34m\u001b[0m\u001b[0m\n\u001b[0m\u001b[1;32m   1613\u001b[0m         \u001b[0mu\u001b[0m \u001b[0;34m=\u001b[0m \u001b[0mu\u001b[0m\u001b[0;34m.\u001b[0m\u001b[0mastype\u001b[0m\u001b[0;34m(\u001b[0m\u001b[0mresult_t\u001b[0m\u001b[0;34m,\u001b[0m \u001b[0mcopy\u001b[0m\u001b[0;34m=\u001b[0m\u001b[0;32mFalse\u001b[0m\u001b[0;34m)\u001b[0m\u001b[0;34m\u001b[0m\u001b[0;34m\u001b[0m\u001b[0m\n\u001b[1;32m   1614\u001b[0m         \u001b[0ms\u001b[0m \u001b[0;34m=\u001b[0m \u001b[0ms\u001b[0m\u001b[0;34m.\u001b[0m\u001b[0mastype\u001b[0m\u001b[0;34m(\u001b[0m\u001b[0m_realType\u001b[0m\u001b[0;34m(\u001b[0m\u001b[0mresult_t\u001b[0m\u001b[0;34m)\u001b[0m\u001b[0;34m,\u001b[0m \u001b[0mcopy\u001b[0m\u001b[0;34m=\u001b[0m\u001b[0;32mFalse\u001b[0m\u001b[0;34m)\u001b[0m\u001b[0;34m\u001b[0m\u001b[0;34m\u001b[0m\u001b[0m\n",
      "\u001b[0;32m~/anaconda3/lib/python3.7/site-packages/numpy/linalg/linalg.py\u001b[0m in \u001b[0;36m_raise_linalgerror_svd_nonconvergence\u001b[0;34m(err, flag)\u001b[0m\n\u001b[1;32m    104\u001b[0m \u001b[0;34m\u001b[0m\u001b[0m\n\u001b[1;32m    105\u001b[0m \u001b[0;32mdef\u001b[0m \u001b[0m_raise_linalgerror_svd_nonconvergence\u001b[0m\u001b[0;34m(\u001b[0m\u001b[0merr\u001b[0m\u001b[0;34m,\u001b[0m \u001b[0mflag\u001b[0m\u001b[0;34m)\u001b[0m\u001b[0;34m:\u001b[0m\u001b[0;34m\u001b[0m\u001b[0;34m\u001b[0m\u001b[0m\n\u001b[0;32m--> 106\u001b[0;31m     \u001b[0;32mraise\u001b[0m \u001b[0mLinAlgError\u001b[0m\u001b[0;34m(\u001b[0m\u001b[0;34m\"SVD did not converge\"\u001b[0m\u001b[0;34m)\u001b[0m\u001b[0;34m\u001b[0m\u001b[0;34m\u001b[0m\u001b[0m\n\u001b[0m\u001b[1;32m    107\u001b[0m \u001b[0;34m\u001b[0m\u001b[0m\n\u001b[1;32m    108\u001b[0m \u001b[0;32mdef\u001b[0m \u001b[0m_raise_linalgerror_lstsq\u001b[0m\u001b[0;34m(\u001b[0m\u001b[0merr\u001b[0m\u001b[0;34m,\u001b[0m \u001b[0mflag\u001b[0m\u001b[0;34m)\u001b[0m\u001b[0;34m:\u001b[0m\u001b[0;34m\u001b[0m\u001b[0;34m\u001b[0m\u001b[0m\n",
      "\u001b[0;31mLinAlgError\u001b[0m: SVD did not converge"
     ]
    }
   ],
   "source": [
    "results = []\n",
    "for p in range(1,7):\n",
    "    for q in range(0,7):\n",
    "        model = ts.arima_model.ARIMA(df_pe.pe_ind.dropna(), order=(p, 0, q)).fit()\n",
    "        results.append([p, q, model.aic, model.bic])"
   ]
  },
  {
   "cell_type": "code",
   "execution_count": 113,
   "metadata": {},
   "outputs": [
    {
     "data": {
      "text/html": [
       "<div>\n",
       "<style scoped>\n",
       "    .dataframe tbody tr th:only-of-type {\n",
       "        vertical-align: middle;\n",
       "    }\n",
       "\n",
       "    .dataframe tbody tr th {\n",
       "        vertical-align: top;\n",
       "    }\n",
       "\n",
       "    .dataframe thead th {\n",
       "        text-align: right;\n",
       "    }\n",
       "</style>\n",
       "<table border=\"1\" class=\"dataframe\">\n",
       "  <thead>\n",
       "    <tr style=\"text-align: right;\">\n",
       "      <th></th>\n",
       "      <th>p</th>\n",
       "      <th>q</th>\n",
       "      <th>aic</th>\n",
       "      <th>bic</th>\n",
       "    </tr>\n",
       "  </thead>\n",
       "  <tbody>\n",
       "    <tr>\n",
       "      <th>0</th>\n",
       "      <td>1</td>\n",
       "      <td>0</td>\n",
       "      <td>628.276151</td>\n",
       "      <td>637.888171</td>\n",
       "    </tr>\n",
       "    <tr>\n",
       "      <th>1</th>\n",
       "      <td>1</td>\n",
       "      <td>1</td>\n",
       "      <td>628.098512</td>\n",
       "      <td>640.914539</td>\n",
       "    </tr>\n",
       "    <tr>\n",
       "      <th>2</th>\n",
       "      <td>1</td>\n",
       "      <td>2</td>\n",
       "      <td>630.051854</td>\n",
       "      <td>646.071887</td>\n",
       "    </tr>\n",
       "    <tr>\n",
       "      <th>3</th>\n",
       "      <td>1</td>\n",
       "      <td>3</td>\n",
       "      <td>631.998478</td>\n",
       "      <td>651.222518</td>\n",
       "    </tr>\n",
       "    <tr>\n",
       "      <th>4</th>\n",
       "      <td>1</td>\n",
       "      <td>4</td>\n",
       "      <td>633.947339</td>\n",
       "      <td>656.375386</td>\n",
       "    </tr>\n",
       "    <tr>\n",
       "      <th>5</th>\n",
       "      <td>1</td>\n",
       "      <td>5</td>\n",
       "      <td>635.547417</td>\n",
       "      <td>661.179470</td>\n",
       "    </tr>\n",
       "    <tr>\n",
       "      <th>6</th>\n",
       "      <td>1</td>\n",
       "      <td>6</td>\n",
       "      <td>630.350407</td>\n",
       "      <td>659.186467</td>\n",
       "    </tr>\n",
       "    <tr>\n",
       "      <th>7</th>\n",
       "      <td>2</td>\n",
       "      <td>0</td>\n",
       "      <td>628.040292</td>\n",
       "      <td>640.856319</td>\n",
       "    </tr>\n",
       "    <tr>\n",
       "      <th>8</th>\n",
       "      <td>2</td>\n",
       "      <td>1</td>\n",
       "      <td>629.215697</td>\n",
       "      <td>645.235731</td>\n",
       "    </tr>\n",
       "    <tr>\n",
       "      <th>9</th>\n",
       "      <td>2</td>\n",
       "      <td>2</td>\n",
       "      <td>630.701125</td>\n",
       "      <td>649.925165</td>\n",
       "    </tr>\n",
       "    <tr>\n",
       "      <th>10</th>\n",
       "      <td>2</td>\n",
       "      <td>3</td>\n",
       "      <td>632.338999</td>\n",
       "      <td>654.767046</td>\n",
       "    </tr>\n",
       "    <tr>\n",
       "      <th>11</th>\n",
       "      <td>2</td>\n",
       "      <td>4</td>\n",
       "      <td>635.960689</td>\n",
       "      <td>661.592743</td>\n",
       "    </tr>\n",
       "    <tr>\n",
       "      <th>12</th>\n",
       "      <td>2</td>\n",
       "      <td>5</td>\n",
       "      <td>636.136402</td>\n",
       "      <td>664.972462</td>\n",
       "    </tr>\n",
       "    <tr>\n",
       "      <th>13</th>\n",
       "      <td>2</td>\n",
       "      <td>6</td>\n",
       "      <td>631.840077</td>\n",
       "      <td>663.880144</td>\n",
       "    </tr>\n",
       "    <tr>\n",
       "      <th>14</th>\n",
       "      <td>3</td>\n",
       "      <td>0</td>\n",
       "      <td>630.027715</td>\n",
       "      <td>646.047749</td>\n",
       "    </tr>\n",
       "    <tr>\n",
       "      <th>15</th>\n",
       "      <td>3</td>\n",
       "      <td>1</td>\n",
       "      <td>630.749854</td>\n",
       "      <td>649.973894</td>\n",
       "    </tr>\n",
       "    <tr>\n",
       "      <th>16</th>\n",
       "      <td>3</td>\n",
       "      <td>2</td>\n",
       "      <td>632.251039</td>\n",
       "      <td>654.679086</td>\n",
       "    </tr>\n",
       "    <tr>\n",
       "      <th>17</th>\n",
       "      <td>3</td>\n",
       "      <td>3</td>\n",
       "      <td>631.216870</td>\n",
       "      <td>656.848924</td>\n",
       "    </tr>\n",
       "    <tr>\n",
       "      <th>18</th>\n",
       "      <td>3</td>\n",
       "      <td>4</td>\n",
       "      <td>632.633476</td>\n",
       "      <td>661.469537</td>\n",
       "    </tr>\n",
       "    <tr>\n",
       "      <th>19</th>\n",
       "      <td>3</td>\n",
       "      <td>5</td>\n",
       "      <td>632.255579</td>\n",
       "      <td>664.295646</td>\n",
       "    </tr>\n",
       "    <tr>\n",
       "      <th>20</th>\n",
       "      <td>3</td>\n",
       "      <td>6</td>\n",
       "      <td>630.526786</td>\n",
       "      <td>665.770859</td>\n",
       "    </tr>\n",
       "    <tr>\n",
       "      <th>21</th>\n",
       "      <td>4</td>\n",
       "      <td>0</td>\n",
       "      <td>631.924324</td>\n",
       "      <td>651.148364</td>\n",
       "    </tr>\n",
       "    <tr>\n",
       "      <th>22</th>\n",
       "      <td>4</td>\n",
       "      <td>1</td>\n",
       "      <td>632.314599</td>\n",
       "      <td>654.742646</td>\n",
       "    </tr>\n",
       "    <tr>\n",
       "      <th>23</th>\n",
       "      <td>4</td>\n",
       "      <td>2</td>\n",
       "      <td>633.010039</td>\n",
       "      <td>658.642092</td>\n",
       "    </tr>\n",
       "    <tr>\n",
       "      <th>24</th>\n",
       "      <td>4</td>\n",
       "      <td>3</td>\n",
       "      <td>634.978695</td>\n",
       "      <td>663.814755</td>\n",
       "    </tr>\n",
       "  </tbody>\n",
       "</table>\n",
       "</div>"
      ],
      "text/plain": [
       "    p  q         aic         bic\n",
       "0   1  0  628.276151  637.888171\n",
       "1   1  1  628.098512  640.914539\n",
       "2   1  2  630.051854  646.071887\n",
       "3   1  3  631.998478  651.222518\n",
       "4   1  4  633.947339  656.375386\n",
       "5   1  5  635.547417  661.179470\n",
       "6   1  6  630.350407  659.186467\n",
       "7   2  0  628.040292  640.856319\n",
       "8   2  1  629.215697  645.235731\n",
       "9   2  2  630.701125  649.925165\n",
       "10  2  3  632.338999  654.767046\n",
       "11  2  4  635.960689  661.592743\n",
       "12  2  5  636.136402  664.972462\n",
       "13  2  6  631.840077  663.880144\n",
       "14  3  0  630.027715  646.047749\n",
       "15  3  1  630.749854  649.973894\n",
       "16  3  2  632.251039  654.679086\n",
       "17  3  3  631.216870  656.848924\n",
       "18  3  4  632.633476  661.469537\n",
       "19  3  5  632.255579  664.295646\n",
       "20  3  6  630.526786  665.770859\n",
       "21  4  0  631.924324  651.148364\n",
       "22  4  1  632.314599  654.742646\n",
       "23  4  2  633.010039  658.642092\n",
       "24  4  3  634.978695  663.814755"
      ]
     },
     "execution_count": 113,
     "metadata": {},
     "output_type": "execute_result"
    }
   ],
   "source": [
    "pd.DataFrame(results, columns=[\"p\", \"q\", \"aic\", \"bic\"])"
   ]
  },
  {
   "cell_type": "markdown",
   "metadata": {},
   "source": [
    "## Identifying Non-Stationarity\n",
    "Given two series mt and nt defined by the following equations:\n",
    "\n",
    "mt= 1.5 + mt-1 + emt\n",
    "\n",
    "nt= -2 + nt-1 + ent\n",
    "\n",
    "where emt and ent are both white noise. Open the workfile Module3B_data.wf1 pagefile “Simulated_Nonstationary”. You are given the series em and en representing emt and ent respectively. Study the graphs of the series mt and nt.\n",
    "\n",
    "Optional: You are encouraged to generate mt and nt where the initial values of mt and nt are zero (see Module 3A Question 3.9 for an example of how to generate the series). "
   ]
  },
  {
   "cell_type": "markdown",
   "metadata": {},
   "source": [
    "## Question 3.36\n",
    "\n",
    "These two series, m and n, are stationary:"
   ]
  },
  {
   "cell_type": "code",
   "execution_count": 115,
   "metadata": {},
   "outputs": [],
   "source": [
    "df_non_staionary = pd.read_csv(\"data/module3b_data_Simulated_Nonstationary.CSV\")"
   ]
  },
  {
   "cell_type": "code",
   "execution_count": 117,
   "metadata": {},
   "outputs": [
    {
     "data": {
      "text/plain": [
       "(500, 9)"
      ]
     },
     "execution_count": 117,
     "metadata": {},
     "output_type": "execute_result"
    }
   ],
   "source": [
    "df_non_staionary.shape"
   ]
  },
  {
   "cell_type": "code",
   "execution_count": 119,
   "metadata": {
    "scrolled": true
   },
   "outputs": [
    {
     "data": {
      "text/html": [
       "<div>\n",
       "<style scoped>\n",
       "    .dataframe tbody tr th:only-of-type {\n",
       "        vertical-align: middle;\n",
       "    }\n",
       "\n",
       "    .dataframe tbody tr th {\n",
       "        vertical-align: top;\n",
       "    }\n",
       "\n",
       "    .dataframe thead th {\n",
       "        text-align: right;\n",
       "    }\n",
       "</style>\n",
       "<table border=\"1\" class=\"dataframe\">\n",
       "  <thead>\n",
       "    <tr style=\"text-align: right;\">\n",
       "      <th></th>\n",
       "      <th>dateid01</th>\n",
       "      <th>dateid</th>\n",
       "      <th>em</th>\n",
       "      <th>en</th>\n",
       "      <th>m</th>\n",
       "      <th>n</th>\n",
       "      <th>x</th>\n",
       "      <th>y</th>\n",
       "      <th>z</th>\n",
       "    </tr>\n",
       "  </thead>\n",
       "  <tbody>\n",
       "    <tr>\n",
       "      <th>0</th>\n",
       "      <td>1973-07-01</td>\n",
       "      <td>1973-07-31 23:59:59.999</td>\n",
       "      <td>0.000000</td>\n",
       "      <td>0.000000</td>\n",
       "      <td>0.0</td>\n",
       "      <td>0</td>\n",
       "      <td>39.575176</td>\n",
       "      <td>15.113905</td>\n",
       "      <td>727.921639</td>\n",
       "    </tr>\n",
       "    <tr>\n",
       "      <th>1</th>\n",
       "      <td>1973-08-01</td>\n",
       "      <td>1973-08-31 23:59:59.999</td>\n",
       "      <td>0.211908</td>\n",
       "      <td>-1.455569</td>\n",
       "      <td>1.5</td>\n",
       "      <td>-2</td>\n",
       "      <td>38.962416</td>\n",
       "      <td>16.584622</td>\n",
       "      <td>729.480429</td>\n",
       "    </tr>\n",
       "    <tr>\n",
       "      <th>2</th>\n",
       "      <td>1973-09-01</td>\n",
       "      <td>1973-09-30 23:59:59.999</td>\n",
       "      <td>1.633812</td>\n",
       "      <td>0.379432</td>\n",
       "      <td>3.0</td>\n",
       "      <td>-4</td>\n",
       "      <td>37.219141</td>\n",
       "      <td>17.310910</td>\n",
       "      <td>727.280262</td>\n",
       "    </tr>\n",
       "    <tr>\n",
       "      <th>3</th>\n",
       "      <td>1973-10-01</td>\n",
       "      <td>1973-10-31 23:59:59.999</td>\n",
       "      <td>2.398119</td>\n",
       "      <td>0.342120</td>\n",
       "      <td>4.5</td>\n",
       "      <td>-6</td>\n",
       "      <td>35.104100</td>\n",
       "      <td>17.691245</td>\n",
       "      <td>729.819402</td>\n",
       "    </tr>\n",
       "    <tr>\n",
       "      <th>4</th>\n",
       "      <td>1973-11-01</td>\n",
       "      <td>1973-11-30 23:59:59.999</td>\n",
       "      <td>-0.023755</td>\n",
       "      <td>-1.083531</td>\n",
       "      <td>6.0</td>\n",
       "      <td>-8</td>\n",
       "      <td>33.766806</td>\n",
       "      <td>16.803657</td>\n",
       "      <td>727.948215</td>\n",
       "    </tr>\n",
       "  </tbody>\n",
       "</table>\n",
       "</div>"
      ],
      "text/plain": [
       "     dateid01                   dateid        em        en    m  n          x  \\\n",
       "0  1973-07-01  1973-07-31 23:59:59.999  0.000000  0.000000  0.0  0  39.575176   \n",
       "1  1973-08-01  1973-08-31 23:59:59.999  0.211908 -1.455569  1.5 -2  38.962416   \n",
       "2  1973-09-01  1973-09-30 23:59:59.999  1.633812  0.379432  3.0 -4  37.219141   \n",
       "3  1973-10-01  1973-10-31 23:59:59.999  2.398119  0.342120  4.5 -6  35.104100   \n",
       "4  1973-11-01  1973-11-30 23:59:59.999 -0.023755 -1.083531  6.0 -8  33.766806   \n",
       "\n",
       "           y           z  \n",
       "0  15.113905  727.921639  \n",
       "1  16.584622  729.480429  \n",
       "2  17.310910  727.280262  \n",
       "3  17.691245  729.819402  \n",
       "4  16.803657  727.948215  "
      ]
     },
     "execution_count": 119,
     "metadata": {},
     "output_type": "execute_result"
    }
   ],
   "source": [
    "df_non_staionary.head()"
   ]
  },
  {
   "cell_type": "code",
   "execution_count": 122,
   "metadata": {},
   "outputs": [],
   "source": [
    "m = [0]\n",
    "for i in range(1, 500):\n",
    "    m.append(1.5+m[i-1]+df_non_staionary.em[i])\n",
    "    \n",
    "n = [0]\n",
    "for i in range(1, 500):\n",
    "    n.append(-2+n[i-1]+df_non_staionary.en[i])"
   ]
  },
  {
   "cell_type": "code",
   "execution_count": 125,
   "metadata": {},
   "outputs": [],
   "source": [
    "df_mn = pd.DataFrame([m, n], index=[\"m\", 'n']).T"
   ]
  },
  {
   "cell_type": "code",
   "execution_count": 126,
   "metadata": {},
   "outputs": [
    {
     "data": {
      "image/png": "[encoded data removed]",
      "text/plain": [
       "<Figure size 864x576 with 2 Axes>"
      ]
     },
     "metadata": {},
     "output_type": "display_data"
    }
   ],
   "source": [
    "fig, ax = plt.subplots(2, 1, figsize=(12,8))\n",
    "\n",
    "plot_acf(df_mn.m, lags=20, ax = ax[0])\n",
    "plot_pacf(df_mn.m, lags=20, ax = ax[1])\n",
    "plt.tight_layout()\n",
    "plt.show()"
   ]
  },
  {
   "cell_type": "code",
   "execution_count": 127,
   "metadata": {},
   "outputs": [
    {
     "data": {
      "image/png": "[encoded data removed]",
      "text/plain": [
       "<Figure size 864x576 with 2 Axes>"
      ]
     },
     "metadata": {},
     "output_type": "display_data"
    }
   ],
   "source": [
    "fig, ax = plt.subplots(2, 1, figsize=(12,8))\n",
    "\n",
    "plot_acf(df_mn.n, lags=20, ax = ax[0])\n",
    "plot_pacf(df_mn.n, lags=20, ax = ax[1])\n",
    "plt.tight_layout()\n",
    "plt.show()"
   ]
  },
  {
   "cell_type": "markdown",
   "metadata": {},
   "source": [
    "## Question 3.38\n",
    "\n",
    "Estimate an AR(1) model for m and then for n (Hint: run the command ls m c ar(1) to estimate the AR(1) model for variable 'm'). Enter the corresponding estimated autoregressive coefficient (to four decimal places, without any rounding):"
   ]
  },
  {
   "cell_type": "code",
   "execution_count": 129,
   "metadata": {},
   "outputs": [
    {
     "data": {
      "text/html": [
       "<table class=\"simpletable\">\n",
       "<caption>ARMA Model Results</caption>\n",
       "<tr>\n",
       "  <th>Dep. Variable:</th>         <td>m</td>        <th>  No. Observations:  </th>    <td>500</td>  \n",
       "</tr>\n",
       "<tr>\n",
       "  <th>Model:</th>            <td>ARMA(1, 0)</td>    <th>  Log Likelihood     </th> <td>-984.515</td>\n",
       "</tr>\n",
       "<tr>\n",
       "  <th>Method:</th>             <td>css-mle</td>     <th>  S.D. of innovations</th>   <td>1.715</td> \n",
       "</tr>\n",
       "<tr>\n",
       "  <th>Date:</th>          <td>Fri, 08 Nov 2019</td> <th>  AIC                </th> <td>1975.031</td>\n",
       "</tr>\n",
       "<tr>\n",
       "  <th>Time:</th>              <td>09:58:05</td>     <th>  BIC                </th> <td>1987.675</td>\n",
       "</tr>\n",
       "<tr>\n",
       "  <th>Sample:</th>                <td>0</td>        <th>  HQIC               </th> <td>1979.992</td>\n",
       "</tr>\n",
       "<tr>\n",
       "  <th></th>                       <td> </td>        <th>                     </th>     <td> </td>   \n",
       "</tr>\n",
       "</table>\n",
       "<table class=\"simpletable\">\n",
       "<tr>\n",
       "     <td></td>        <th>coef</th>     <th>std err</th>      <th>z</th>      <th>P>|z|</th>  <th>[0.025</th>    <th>0.975]</th>  \n",
       "</tr>\n",
       "<tr>\n",
       "  <th>const</th>   <td>  351.0266</td> <td>  347.928</td> <td>    1.009</td> <td> 0.314</td> <td> -330.900</td> <td> 1032.953</td>\n",
       "</tr>\n",
       "<tr>\n",
       "  <th>ar.L1.m</th> <td>    1.0000</td> <td> 1.78e-05</td> <td> 5.62e+04</td> <td> 0.000</td> <td>    1.000</td> <td>    1.000</td>\n",
       "</tr>\n",
       "</table>\n",
       "<table class=\"simpletable\">\n",
       "<caption>Roots</caption>\n",
       "<tr>\n",
       "    <td></td>   <th>            Real</th>  <th>         Imaginary</th> <th>         Modulus</th>  <th>        Frequency</th>\n",
       "</tr>\n",
       "<tr>\n",
       "  <th>AR.1</th> <td>           1.0000</td> <td>          +0.0000j</td> <td>           1.0000</td> <td>           0.0000</td>\n",
       "</tr>\n",
       "</table>"
      ],
      "text/plain": [
       "<class 'statsmodels.iolib.summary.Summary'>\n",
       "\"\"\"\n",
       "                              ARMA Model Results                              \n",
       "==============================================================================\n",
       "Dep. Variable:                      m   No. Observations:                  500\n",
       "Model:                     ARMA(1, 0)   Log Likelihood                -984.515\n",
       "Method:                       css-mle   S.D. of innovations              1.715\n",
       "Date:                Fri, 08 Nov 2019   AIC                           1975.031\n",
       "Time:                        09:58:05   BIC                           1987.675\n",
       "Sample:                             0   HQIC                          1979.992\n",
       "                                                                              \n",
       "==============================================================================\n",
       "                 coef    std err          z      P>|z|      [0.025      0.975]\n",
       "------------------------------------------------------------------------------\n",
       "const        351.0266    347.928      1.009      0.314    -330.900    1032.953\n",
       "ar.L1.m        1.0000   1.78e-05   5.62e+04      0.000       1.000       1.000\n",
       "                                    Roots                                    \n",
       "=============================================================================\n",
       "                  Real          Imaginary           Modulus         Frequency\n",
       "-----------------------------------------------------------------------------\n",
       "AR.1            1.0000           +0.0000j            1.0000            0.0000\n",
       "-----------------------------------------------------------------------------\n",
       "\"\"\""
      ]
     },
     "execution_count": 129,
     "metadata": {},
     "output_type": "execute_result"
    }
   ],
   "source": [
    "model = ts.arima_model.ARIMA(endog=df_mn.m, order=(1, 0, 0)).fit()\n",
    "model.summary()"
   ]
  },
  {
   "cell_type": "code",
   "execution_count": 130,
   "metadata": {},
   "outputs": [
    {
     "name": "stderr",
     "output_type": "stream",
     "text": [
      "/Users/kmiyaki/anaconda3/lib/python3.7/site-packages/statsmodels/base/model.py:488: HessianInversionWarning: Inverting hessian failed, no bse or cov_params available\n",
      "  'available', HessianInversionWarning)\n",
      "/Users/kmiyaki/anaconda3/lib/python3.7/site-packages/statsmodels/tsa/arima_model.py:1455: RuntimeWarning: invalid value encountered in sqrt\n",
      "  return np.sqrt(np.diag(-inv(hess)))\n",
      "/Users/kmiyaki/anaconda3/lib/python3.7/site-packages/scipy/stats/_distn_infrastructure.py:877: RuntimeWarning: invalid value encountered in greater\n",
      "  return (self.a < x) & (x < self.b)\n",
      "/Users/kmiyaki/anaconda3/lib/python3.7/site-packages/scipy/stats/_distn_infrastructure.py:877: RuntimeWarning: invalid value encountered in less\n",
      "  return (self.a < x) & (x < self.b)\n",
      "/Users/kmiyaki/anaconda3/lib/python3.7/site-packages/scipy/stats/_distn_infrastructure.py:1831: RuntimeWarning: invalid value encountered in less_equal\n",
      "  cond2 = cond0 & (x <= self.a)\n"
     ]
    },
    {
     "data": {
      "text/html": [
       "<table class=\"simpletable\">\n",
       "<caption>ARMA Model Results</caption>\n",
       "<tr>\n",
       "  <th>Dep. Variable:</th>         <td>n</td>        <th>  No. Observations:  </th>    <td>500</td>   \n",
       "</tr>\n",
       "<tr>\n",
       "  <th>Model:</th>            <td>ARMA(1, 0)</td>    <th>  Log Likelihood     </th> <td>-1115.213</td>\n",
       "</tr>\n",
       "<tr>\n",
       "  <th>Method:</th>             <td>css-mle</td>     <th>  S.D. of innovations</th>   <td>2.217</td>  \n",
       "</tr>\n",
       "<tr>\n",
       "  <th>Date:</th>          <td>Fri, 08 Nov 2019</td> <th>  AIC                </th> <td>2236.425</td> \n",
       "</tr>\n",
       "<tr>\n",
       "  <th>Time:</th>              <td>09:58:13</td>     <th>  BIC                </th> <td>2249.069</td> \n",
       "</tr>\n",
       "<tr>\n",
       "  <th>Sample:</th>                <td>0</td>        <th>  HQIC               </th> <td>2241.387</td> \n",
       "</tr>\n",
       "<tr>\n",
       "  <th></th>                       <td> </td>        <th>                     </th>     <td> </td>    \n",
       "</tr>\n",
       "</table>\n",
       "<table class=\"simpletable\">\n",
       "<tr>\n",
       "     <td></td>        <th>coef</th>     <th>std err</th>      <th>z</th>      <th>P>|z|</th>  <th>[0.025</th>    <th>0.975]</th>  \n",
       "</tr>\n",
       "<tr>\n",
       "  <th>const</th>   <td>-5676.2604</td> <td>    0.087</td> <td>-6.51e+04</td> <td> 0.000</td> <td>-5676.431</td> <td>-5676.089</td>\n",
       "</tr>\n",
       "<tr>\n",
       "  <th>ar.L1.n</th> <td>    1.0000</td> <td>      nan</td> <td>      nan</td> <td>   nan</td> <td>      nan</td> <td>      nan</td>\n",
       "</tr>\n",
       "</table>\n",
       "<table class=\"simpletable\">\n",
       "<caption>Roots</caption>\n",
       "<tr>\n",
       "    <td></td>   <th>            Real</th>  <th>         Imaginary</th> <th>         Modulus</th>  <th>        Frequency</th>\n",
       "</tr>\n",
       "<tr>\n",
       "  <th>AR.1</th> <td>           1.0000</td> <td>          +0.0000j</td> <td>           1.0000</td> <td>           0.0000</td>\n",
       "</tr>\n",
       "</table>"
      ],
      "text/plain": [
       "<class 'statsmodels.iolib.summary.Summary'>\n",
       "\"\"\"\n",
       "                              ARMA Model Results                              \n",
       "==============================================================================\n",
       "Dep. Variable:                      n   No. Observations:                  500\n",
       "Model:                     ARMA(1, 0)   Log Likelihood               -1115.213\n",
       "Method:                       css-mle   S.D. of innovations              2.217\n",
       "Date:                Fri, 08 Nov 2019   AIC                           2236.425\n",
       "Time:                        09:58:13   BIC                           2249.069\n",
       "Sample:                             0   HQIC                          2241.387\n",
       "                                                                              \n",
       "==============================================================================\n",
       "                 coef    std err          z      P>|z|      [0.025      0.975]\n",
       "------------------------------------------------------------------------------\n",
       "const      -5676.2604      0.087  -6.51e+04      0.000   -5676.431   -5676.089\n",
       "ar.L1.n        1.0000        nan        nan        nan         nan         nan\n",
       "                                    Roots                                    \n",
       "=============================================================================\n",
       "                  Real          Imaginary           Modulus         Frequency\n",
       "-----------------------------------------------------------------------------\n",
       "AR.1            1.0000           +0.0000j            1.0000            0.0000\n",
       "-----------------------------------------------------------------------------\n",
       "\"\"\""
      ]
     },
     "execution_count": 130,
     "metadata": {},
     "output_type": "execute_result"
    }
   ],
   "source": [
    "model = ts.arima_model.ARIMA(endog=df_mn.n, order=(1, 0, 0)).fit()\n",
    "model.summary()"
   ]
  },
  {
   "cell_type": "markdown",
   "metadata": {},
   "source": [
    "## Question 3.39\n",
    "\n",
    "Run a regression of m on n , together with a constant term. Which of the following statements accurately represents the regression results? (Choose all that apply) (Optional question)"
   ]
  },
  {
   "cell_type": "code",
   "execution_count": 134,
   "metadata": {},
   "outputs": [],
   "source": [
    "df_mn[\"const\"] = 1"
   ]
  },
  {
   "cell_type": "code",
   "execution_count": 137,
   "metadata": {},
   "outputs": [
    {
     "data": {
      "text/html": [
       "<table class=\"simpletable\">\n",
       "<caption>OLS Regression Results</caption>\n",
       "<tr>\n",
       "  <th>Dep. Variable:</th>            <td>m</td>        <th>  R-squared:         </th>  <td>   1.000</td> \n",
       "</tr>\n",
       "<tr>\n",
       "  <th>Model:</th>                   <td>OLS</td>       <th>  Adj. R-squared:    </th>  <td>   1.000</td> \n",
       "</tr>\n",
       "<tr>\n",
       "  <th>Method:</th>             <td>Least Squares</td>  <th>  F-statistic:       </th>  <td>2.785e+32</td>\n",
       "</tr>\n",
       "<tr>\n",
       "  <th>Date:</th>             <td>Fri, 08 Nov 2019</td> <th>  Prob (F-statistic):</th>   <td>  0.00</td>  \n",
       "</tr>\n",
       "<tr>\n",
       "  <th>Time:</th>                 <td>10:12:53</td>     <th>  Log-Likelihood:    </th>  <td>  13756.</td> \n",
       "</tr>\n",
       "<tr>\n",
       "  <th>No. Observations:</th>      <td>   500</td>      <th>  AIC:               </th> <td>-2.751e+04</td>\n",
       "</tr>\n",
       "<tr>\n",
       "  <th>Df Residuals:</th>          <td>   498</td>      <th>  BIC:               </th> <td>-2.750e+04</td>\n",
       "</tr>\n",
       "<tr>\n",
       "  <th>Df Model:</th>              <td>     1</td>      <th>                     </th>      <td> </td>    \n",
       "</tr>\n",
       "<tr>\n",
       "  <th>Covariance Type:</th>      <td>nonrobust</td>    <th>                     </th>      <td> </td>    \n",
       "</tr>\n",
       "</table>\n",
       "<table class=\"simpletable\">\n",
       "<tr>\n",
       "    <td></td>       <th>coef</th>     <th>std err</th>      <th>t</th>      <th>P>|t|</th>  <th>[0.025</th>    <th>0.975]</th>  \n",
       "</tr>\n",
       "<tr>\n",
       "  <th>m</th>     <td>    1.0000</td> <td> 5.99e-17</td> <td> 1.67e+16</td> <td> 0.000</td> <td>    1.000</td> <td>    1.000</td>\n",
       "</tr>\n",
       "<tr>\n",
       "  <th>const</th> <td>-9.859e-14</td> <td> 2.48e-14</td> <td>   -3.975</td> <td> 0.000</td> <td>-1.47e-13</td> <td>-4.99e-14</td>\n",
       "</tr>\n",
       "</table>\n",
       "<table class=\"simpletable\">\n",
       "<tr>\n",
       "  <th>Omnibus:</th>       <td>251.531</td> <th>  Durbin-Watson:     </th> <td>   0.001</td>\n",
       "</tr>\n",
       "<tr>\n",
       "  <th>Prob(Omnibus):</th> <td> 0.000</td>  <th>  Jarque-Bera (JB):  </th> <td>  28.618</td>\n",
       "</tr>\n",
       "<tr>\n",
       "  <th>Skew:</th>          <td> 0.060</td>  <th>  Prob(JB):          </th> <td>6.10e-07</td>\n",
       "</tr>\n",
       "<tr>\n",
       "  <th>Kurtosis:</th>      <td> 1.834</td>  <th>  Cond. No.          </th> <td>    840.</td>\n",
       "</tr>\n",
       "</table><br/><br/>Warnings:<br/>[1] Standard Errors assume that the covariance matrix of the errors is correctly specified."
      ],
      "text/plain": [
       "<class 'statsmodels.iolib.summary.Summary'>\n",
       "\"\"\"\n",
       "                            OLS Regression Results                            \n",
       "==============================================================================\n",
       "Dep. Variable:                      m   R-squared:                       1.000\n",
       "Model:                            OLS   Adj. R-squared:                  1.000\n",
       "Method:                 Least Squares   F-statistic:                 2.785e+32\n",
       "Date:                Fri, 08 Nov 2019   Prob (F-statistic):               0.00\n",
       "Time:                        10:12:53   Log-Likelihood:                 13756.\n",
       "No. Observations:                 500   AIC:                        -2.751e+04\n",
       "Df Residuals:                     498   BIC:                        -2.750e+04\n",
       "Df Model:                           1                                         \n",
       "Covariance Type:            nonrobust                                         \n",
       "==============================================================================\n",
       "                 coef    std err          t      P>|t|      [0.025      0.975]\n",
       "------------------------------------------------------------------------------\n",
       "m              1.0000   5.99e-17   1.67e+16      0.000       1.000       1.000\n",
       "const      -9.859e-14   2.48e-14     -3.975      0.000   -1.47e-13   -4.99e-14\n",
       "==============================================================================\n",
       "Omnibus:                      251.531   Durbin-Watson:                   0.001\n",
       "Prob(Omnibus):                  0.000   Jarque-Bera (JB):               28.618\n",
       "Skew:                           0.060   Prob(JB):                     6.10e-07\n",
       "Kurtosis:                       1.834   Cond. No.                         840.\n",
       "==============================================================================\n",
       "\n",
       "Warnings:\n",
       "[1] Standard Errors assume that the covariance matrix of the errors is correctly specified.\n",
       "\"\"\""
      ]
     },
     "execution_count": 137,
     "metadata": {},
     "output_type": "execute_result"
    }
   ],
   "source": [
    "model = sm.OLS(endog=df_mn.m, \n",
    "               exog=df_mn.loc[:, [\"m\", \"const\"]]\n",
    "              ).fit()\n",
    "model.summary()"
   ]
  },
  {
   "cell_type": "code",
   "execution_count": 139,
   "metadata": {},
   "outputs": [
    {
     "data": {
      "image/png": "[encoded data removed]",
      "text/plain": [
       "<Figure size 864x576 with 2 Axes>"
      ]
     },
     "metadata": {},
     "output_type": "display_data"
    }
   ],
   "source": [
    "fig, ax = plt.subplots(2, 1, figsize=(12,8))\n",
    "\n",
    "plot_acf(model.resid, lags=20, ax = ax[0])\n",
    "plot_pacf(model.resid, lags=20, ax = ax[1])\n",
    "plt.tight_layout()\n",
    "plt.show()"
   ]
  },
  {
   "cell_type": "markdown",
   "metadata": {},
   "source": [
    "## Stationary or Nonstationary?\n",
    "\n",
    "## Question 3.40\n",
    "\n",
    "Given that in both cases the coefficient on the trend term is not statistically significant, using a 10 percent level of significance, the test results suggest that pe_ind is (see the results in the table above):"
   ]
  },
  {
   "cell_type": "code",
   "execution_count": 144,
   "metadata": {},
   "outputs": [
    {
     "data": {
      "text/plain": [
       "(-2.8058176866448545,\n",
       " 0.05744754628177443,\n",
       " 0,\n",
       " 181,\n",
       " {'1%': -3.467004502498507,\n",
       "  '5%': -2.8776444997243558,\n",
       "  '10%': -2.575355189707274},\n",
       " 536.4630212977505)"
      ]
     },
     "execution_count": 144,
     "metadata": {},
     "output_type": "execute_result"
    }
   ],
   "source": [
    "ts.stattools.adfuller(df_pe.pe_ind.dropna())"
   ]
  },
  {
   "cell_type": "code",
   "execution_count": 145,
   "metadata": {},
   "outputs": [
    {
     "data": {
      "text/plain": [
       "(-2.9567389453201214,\n",
       " 0.1445801348266556,\n",
       " 0,\n",
       " 181,\n",
       " {'1%': -4.0096774902428285,\n",
       "  '5%': -3.435029821283931,\n",
       "  '10%': -3.1414586641558206},\n",
       " 536.7354687172152)"
      ]
     },
     "execution_count": 145,
     "metadata": {},
     "output_type": "execute_result"
    }
   ],
   "source": [
    "ts.stattools.adfuller(df_pe.pe_ind.dropna(), regression=\"ct\")"
   ]
  },
  {
   "cell_type": "markdown",
   "metadata": {},
   "source": [
    "## Question 3.41\n",
    "\n",
    "Run the KPSS test for pe_ind (see question 3.40 and replace “adf” with “kpss” in the command options of uroot). Based on the result, the variable pe_ind is (Hint: If the KPSS statistic is smaller than the x% level critical value then one cannot reject the null-hypothesis at the x% level and recall that the null hypothesis is that pe_ind is stationary):\n",
    "\n",
    "Using a 10 percent level of significance, the KPSS test implies that pe_ind is:"
   ]
  },
  {
   "cell_type": "code",
   "execution_count": 146,
   "metadata": {
    "scrolled": true
   },
   "outputs": [
    {
     "name": "stderr",
     "output_type": "stream",
     "text": [
      "/Users/kmiyaki/anaconda3/lib/python3.7/site-packages/statsmodels/tsa/stattools.py:1278: InterpolationWarning: p-value is greater than the indicated p-value\n",
      "  warn(\"p-value is greater than the indicated p-value\", InterpolationWarning)\n"
     ]
    },
    {
     "data": {
      "text/plain": [
       "(0.23081599999254485,\n",
       " 0.1,\n",
       " 14,\n",
       " {'10%': 0.347, '5%': 0.463, '2.5%': 0.574, '1%': 0.739})"
      ]
     },
     "execution_count": 146,
     "metadata": {},
     "output_type": "execute_result"
    }
   ],
   "source": [
    "ts.stattools.kpss(df_pe.pe_ind.dropna())"
   ]
  },
  {
   "cell_type": "code",
   "execution_count": 147,
   "metadata": {},
   "outputs": [
    {
     "name": "stderr",
     "output_type": "stream",
     "text": [
      "/Users/kmiyaki/anaconda3/lib/python3.7/site-packages/statsmodels/tsa/stattools.py:1278: InterpolationWarning: p-value is greater than the indicated p-value\n",
      "  warn(\"p-value is greater than the indicated p-value\", InterpolationWarning)\n"
     ]
    },
    {
     "data": {
      "text/plain": [
       "(0.08025239419300374,\n",
       " 0.1,\n",
       " 14,\n",
       " {'10%': 0.119, '5%': 0.146, '2.5%': 0.176, '1%': 0.216})"
      ]
     },
     "execution_count": 147,
     "metadata": {},
     "output_type": "execute_result"
    }
   ],
   "source": [
    "ts.stattools.kpss(df_pe.pe_ind.dropna(), regression=\"ct\")"
   ]
  },
  {
   "cell_type": "markdown",
   "metadata": {},
   "source": [
    "## Running Different Tests\n",
    "Open the EViews workfile “Module3B_data.wf1”, pagefile “Simulated_full_sample”. \n",
    "\n",
    "During the video lecture, we conducted tests on three simulated series: y (a near-unit root series), z (a random walk) and x (a trend stationary series). Using the full sample of data (1,382 observations), the goal of this section is to ascertain that z is I(1) by running the three tests (ADF, PP, and KPSS) on its first-difference.\n",
    "\n",
    "Hint: You can ensure that use the full sample (i.e., 1382 observations) by issuing the command smpl @all before you calculate the required statistics."
   ]
  },
  {
   "cell_type": "markdown",
   "metadata": {},
   "source": [
    "## Question 3.42\n",
    "\n",
    "For the first difference of z, do the ADF or PP tests fail to reject the null hypothesis of a unit root for any of the specifications (constant/constant and trend)?\n",
    "\n",
    "Hint: Please note that by adding the option “dif=1” in the uroot command, EViews runs the test for the first difference of the variable e.g. z.uroot(adf,exog=trend,dif=1) for the ADF test of z with a constant and a trend (with a constant only replace \"exog=trend\" with \"exog=const\"). You can change the “adf” option to “pp” to produce the PP tests."
   ]
  },
  {
   "cell_type": "code",
   "execution_count": 150,
   "metadata": {},
   "outputs": [],
   "source": [
    "df_simulated_sample = pd.read_csv(\"data/module3b_data_Simulated_full_sample.csv\")"
   ]
  },
  {
   "cell_type": "code",
   "execution_count": 151,
   "metadata": {},
   "outputs": [
    {
     "data": {
      "text/html": [
       "<div>\n",
       "<style scoped>\n",
       "    .dataframe tbody tr th:only-of-type {\n",
       "        vertical-align: middle;\n",
       "    }\n",
       "\n",
       "    .dataframe tbody tr th {\n",
       "        vertical-align: top;\n",
       "    }\n",
       "\n",
       "    .dataframe thead th {\n",
       "        text-align: right;\n",
       "    }\n",
       "</style>\n",
       "<table border=\"1\" class=\"dataframe\">\n",
       "  <thead>\n",
       "    <tr style=\"text-align: right;\">\n",
       "      <th></th>\n",
       "      <th>dateid01</th>\n",
       "      <th>dateid</th>\n",
       "      <th>x</th>\n",
       "      <th>y</th>\n",
       "      <th>z</th>\n",
       "    </tr>\n",
       "  </thead>\n",
       "  <tbody>\n",
       "    <tr>\n",
       "      <th>0</th>\n",
       "      <td>1900-01-01</td>\n",
       "      <td>1900-01-31 23:59:59.999</td>\n",
       "      <td>0.000000</td>\n",
       "      <td>0.000000</td>\n",
       "      <td>0.000000</td>\n",
       "    </tr>\n",
       "    <tr>\n",
       "      <th>1</th>\n",
       "      <td>1900-02-01</td>\n",
       "      <td>1900-02-28 23:59:59.999</td>\n",
       "      <td>2.644404</td>\n",
       "      <td>-0.723371</td>\n",
       "      <td>2.538293</td>\n",
       "    </tr>\n",
       "    <tr>\n",
       "      <th>2</th>\n",
       "      <td>1900-03-01</td>\n",
       "      <td>1900-03-31 23:59:59.999</td>\n",
       "      <td>3.439934</td>\n",
       "      <td>2.142096</td>\n",
       "      <td>2.227375</td>\n",
       "    </tr>\n",
       "    <tr>\n",
       "      <th>3</th>\n",
       "      <td>1900-04-01</td>\n",
       "      <td>1900-04-30 23:59:59.999</td>\n",
       "      <td>3.615788</td>\n",
       "      <td>4.493112</td>\n",
       "      <td>4.767550</td>\n",
       "    </tr>\n",
       "    <tr>\n",
       "      <th>4</th>\n",
       "      <td>1900-05-01</td>\n",
       "      <td>1900-05-31 23:59:59.999</td>\n",
       "      <td>4.764565</td>\n",
       "      <td>5.088569</td>\n",
       "      <td>4.051969</td>\n",
       "    </tr>\n",
       "  </tbody>\n",
       "</table>\n",
       "</div>"
      ],
      "text/plain": [
       "     dateid01                   dateid         x         y         z\n",
       "0  1900-01-01  1900-01-31 23:59:59.999  0.000000  0.000000  0.000000\n",
       "1  1900-02-01  1900-02-28 23:59:59.999  2.644404 -0.723371  2.538293\n",
       "2  1900-03-01  1900-03-31 23:59:59.999  3.439934  2.142096  2.227375\n",
       "3  1900-04-01  1900-04-30 23:59:59.999  3.615788  4.493112  4.767550\n",
       "4  1900-05-01  1900-05-31 23:59:59.999  4.764565  5.088569  4.051969"
      ]
     },
     "execution_count": 151,
     "metadata": {},
     "output_type": "execute_result"
    }
   ],
   "source": [
    "df_simulated_sample.head()"
   ]
  },
  {
   "cell_type": "code",
   "execution_count": 152,
   "metadata": {},
   "outputs": [],
   "source": [
    "df_simulated_sample[\"z_diff\"] = df_simulated_sample.z.diff()"
   ]
  },
  {
   "cell_type": "code",
   "execution_count": 153,
   "metadata": {},
   "outputs": [
    {
     "data": {
      "text/html": [
       "<div>\n",
       "<style scoped>\n",
       "    .dataframe tbody tr th:only-of-type {\n",
       "        vertical-align: middle;\n",
       "    }\n",
       "\n",
       "    .dataframe tbody tr th {\n",
       "        vertical-align: top;\n",
       "    }\n",
       "\n",
       "    .dataframe thead th {\n",
       "        text-align: right;\n",
       "    }\n",
       "</style>\n",
       "<table border=\"1\" class=\"dataframe\">\n",
       "  <thead>\n",
       "    <tr style=\"text-align: right;\">\n",
       "      <th></th>\n",
       "      <th>dateid01</th>\n",
       "      <th>dateid</th>\n",
       "      <th>x</th>\n",
       "      <th>y</th>\n",
       "      <th>z</th>\n",
       "      <th>z_diff</th>\n",
       "    </tr>\n",
       "  </thead>\n",
       "  <tbody>\n",
       "    <tr>\n",
       "      <th>0</th>\n",
       "      <td>1900-01-01</td>\n",
       "      <td>1900-01-31 23:59:59.999</td>\n",
       "      <td>0.000000</td>\n",
       "      <td>0.000000</td>\n",
       "      <td>0.000000</td>\n",
       "      <td>NaN</td>\n",
       "    </tr>\n",
       "    <tr>\n",
       "      <th>1</th>\n",
       "      <td>1900-02-01</td>\n",
       "      <td>1900-02-28 23:59:59.999</td>\n",
       "      <td>2.644404</td>\n",
       "      <td>-0.723371</td>\n",
       "      <td>2.538293</td>\n",
       "      <td>2.538293</td>\n",
       "    </tr>\n",
       "    <tr>\n",
       "      <th>2</th>\n",
       "      <td>1900-03-01</td>\n",
       "      <td>1900-03-31 23:59:59.999</td>\n",
       "      <td>3.439934</td>\n",
       "      <td>2.142096</td>\n",
       "      <td>2.227375</td>\n",
       "      <td>-0.310919</td>\n",
       "    </tr>\n",
       "    <tr>\n",
       "      <th>3</th>\n",
       "      <td>1900-04-01</td>\n",
       "      <td>1900-04-30 23:59:59.999</td>\n",
       "      <td>3.615788</td>\n",
       "      <td>4.493112</td>\n",
       "      <td>4.767550</td>\n",
       "      <td>2.540175</td>\n",
       "    </tr>\n",
       "    <tr>\n",
       "      <th>4</th>\n",
       "      <td>1900-05-01</td>\n",
       "      <td>1900-05-31 23:59:59.999</td>\n",
       "      <td>4.764565</td>\n",
       "      <td>5.088569</td>\n",
       "      <td>4.051969</td>\n",
       "      <td>-0.715581</td>\n",
       "    </tr>\n",
       "  </tbody>\n",
       "</table>\n",
       "</div>"
      ],
      "text/plain": [
       "     dateid01                   dateid         x         y         z    z_diff\n",
       "0  1900-01-01  1900-01-31 23:59:59.999  0.000000  0.000000  0.000000       NaN\n",
       "1  1900-02-01  1900-02-28 23:59:59.999  2.644404 -0.723371  2.538293  2.538293\n",
       "2  1900-03-01  1900-03-31 23:59:59.999  3.439934  2.142096  2.227375 -0.310919\n",
       "3  1900-04-01  1900-04-30 23:59:59.999  3.615788  4.493112  4.767550  2.540175\n",
       "4  1900-05-01  1900-05-31 23:59:59.999  4.764565  5.088569  4.051969 -0.715581"
      ]
     },
     "execution_count": 153,
     "metadata": {},
     "output_type": "execute_result"
    }
   ],
   "source": [
    "df_simulated_sample.head()"
   ]
  },
  {
   "cell_type": "code",
   "execution_count": 154,
   "metadata": {
    "scrolled": false
   },
   "outputs": [
    {
     "data": {
      "text/plain": [
       "(-37.26201076756311,\n",
       " 0.0,\n",
       " 0,\n",
       " 1380,\n",
       " {'1%': -3.435097467737946,\n",
       "  '5%': -2.8636366587977804,\n",
       "  '10%': -2.5678862576139467},\n",
       " 6325.677899539061)"
      ]
     },
     "execution_count": 154,
     "metadata": {},
     "output_type": "execute_result"
    }
   ],
   "source": [
    "ts.stattools.adfuller(df_simulated_sample.z_diff.dropna())"
   ]
  },
  {
   "cell_type": "code",
   "execution_count": 155,
   "metadata": {
    "scrolled": true
   },
   "outputs": [
    {
     "data": {
      "text/plain": [
       "(-37.250519729633645,\n",
       " 0.0,\n",
       " 0,\n",
       " 1380,\n",
       " {'1%': -3.9653451959744634,\n",
       "  '5%': -3.4136762113420027,\n",
       "  '10%': -3.1289256927207476},\n",
       " 6327.67781323692)"
      ]
     },
     "execution_count": 155,
     "metadata": {},
     "output_type": "execute_result"
    }
   ],
   "source": [
    "ts.stattools.adfuller(df_simulated_sample.z_diff.dropna(), regression=\"ct\")"
   ]
  },
  {
   "cell_type": "code",
   "execution_count": 158,
   "metadata": {
    "scrolled": true
   },
   "outputs": [
    {
     "data": {
      "text/plain": [
       "[<matplotlib.lines.Line2D at 0x1c21bb5f60>]"
      ]
     },
     "execution_count": 158,
     "metadata": {},
     "output_type": "execute_result"
    },
    {
     "data": {
      "image/png": "[encoded data removed]",
      "text/plain": [
       "<Figure size 1080x432 with 1 Axes>"
      ]
     },
     "metadata": {},
     "output_type": "display_data"
    }
   ],
   "source": [
    "plt.figure(figsize=(15,6))\n",
    "plt.plot(df_simulated_sample.z_diff)"
   ]
  },
  {
   "cell_type": "markdown",
   "metadata": {},
   "source": [
    "## Question 3.43\n",
    "\n",
    "Do both specifications of the KPSS test yield results consistent with those of the ADF and PP tests?"
   ]
  },
  {
   "cell_type": "code",
   "execution_count": 159,
   "metadata": {},
   "outputs": [
    {
     "name": "stderr",
     "output_type": "stream",
     "text": [
      "/Users/kmiyaki/anaconda3/lib/python3.7/site-packages/statsmodels/tsa/stattools.py:1278: InterpolationWarning: p-value is greater than the indicated p-value\n",
      "  warn(\"p-value is greater than the indicated p-value\", InterpolationWarning)\n"
     ]
    },
    {
     "data": {
      "text/plain": [
       "(0.0360782162918628,\n",
       " 0.1,\n",
       " 24,\n",
       " {'10%': 0.347, '5%': 0.463, '2.5%': 0.574, '1%': 0.739})"
      ]
     },
     "execution_count": 159,
     "metadata": {},
     "output_type": "execute_result"
    }
   ],
   "source": [
    "ts.stattools.kpss(df_simulated_sample.z_diff.dropna())"
   ]
  },
  {
   "cell_type": "code",
   "execution_count": 160,
   "metadata": {},
   "outputs": [
    {
     "name": "stderr",
     "output_type": "stream",
     "text": [
      "/Users/kmiyaki/anaconda3/lib/python3.7/site-packages/statsmodels/tsa/stattools.py:1278: InterpolationWarning: p-value is greater than the indicated p-value\n",
      "  warn(\"p-value is greater than the indicated p-value\", InterpolationWarning)\n"
     ]
    },
    {
     "data": {
      "text/plain": [
       "(0.0327667355343489,\n",
       " 0.1,\n",
       " 24,\n",
       " {'10%': 0.119, '5%': 0.146, '2.5%': 0.176, '1%': 0.216})"
      ]
     },
     "execution_count": 160,
     "metadata": {},
     "output_type": "execute_result"
    }
   ],
   "source": [
    "ts.stattools.kpss(df_simulated_sample.z_diff.dropna(), regression=\"ct\")"
   ]
  },
  {
   "cell_type": "markdown",
   "metadata": {},
   "source": [
    "## Comprehensive Tests and Specification\n",
    "\n",
    "Open the series “pe_aus”, the price-earnings ratio for Australia. For the sample period 2000M4 - 2015M2, conduct the three unit root/stationarity tests covered in the lecture (ADF, PP, and KPSS) for all specifications (Intercept, Intercept and Trend, and None), using the AIC to determine the maximum lag included. Hint: As in previous questions adapt the command pe_aus.uroot(adf,exog=trend,lagmethod=aic) where we added the option “lagmethod=aic” to make sure EViews uses the Aikeke criterion instead of the Schwarz criterion to determine the number of lags in the test. Also, make sure you change the sample before running the test.\n",
    "\n",
    "Enter the p-values of your results in the corresponding yellow shaded area in the Excel file. Note that the p-values for the KPSS test should be included as ranges, such “p>0.10”, “0.01<p<0.05”, etc."
   ]
  },
  {
   "cell_type": "code",
   "execution_count": 177,
   "metadata": {
    "scrolled": true
   },
   "outputs": [
    {
     "data": {
      "text/html": [
       "<div>\n",
       "<style scoped>\n",
       "    .dataframe tbody tr th:only-of-type {\n",
       "        vertical-align: middle;\n",
       "    }\n",
       "\n",
       "    .dataframe tbody tr th {\n",
       "        vertical-align: top;\n",
       "    }\n",
       "\n",
       "    .dataframe thead th {\n",
       "        text-align: right;\n",
       "    }\n",
       "</style>\n",
       "<table border=\"1\" class=\"dataframe\">\n",
       "  <thead>\n",
       "    <tr style=\"text-align: right;\">\n",
       "      <th></th>\n",
       "      <th>dateid01</th>\n",
       "      <th>dateid</th>\n",
       "      <th>date</th>\n",
       "      <th>pe_aus</th>\n",
       "      <th>pe_ind</th>\n",
       "      <th>pe_ndo</th>\n",
       "      <th>pe_saf</th>\n",
       "      <th>pe_usa</th>\n",
       "    </tr>\n",
       "  </thead>\n",
       "  <tbody>\n",
       "    <tr>\n",
       "      <th>0</th>\n",
       "      <td>1954-02-01</td>\n",
       "      <td>1954-02-28 23:59:59.999</td>\n",
       "      <td>1954-02-26</td>\n",
       "      <td>NaN</td>\n",
       "      <td>NaN</td>\n",
       "      <td>NaN</td>\n",
       "      <td>NaN</td>\n",
       "      <td>9.92</td>\n",
       "    </tr>\n",
       "    <tr>\n",
       "      <th>1</th>\n",
       "      <td>1954-03-01</td>\n",
       "      <td>1954-03-31 23:59:59.999</td>\n",
       "      <td>1954-03-31</td>\n",
       "      <td>NaN</td>\n",
       "      <td>NaN</td>\n",
       "      <td>NaN</td>\n",
       "      <td>NaN</td>\n",
       "      <td>10.17</td>\n",
       "    </tr>\n",
       "    <tr>\n",
       "      <th>2</th>\n",
       "      <td>1954-04-01</td>\n",
       "      <td>1954-04-30 23:59:59.999</td>\n",
       "      <td>1954-04-30</td>\n",
       "      <td>NaN</td>\n",
       "      <td>NaN</td>\n",
       "      <td>NaN</td>\n",
       "      <td>NaN</td>\n",
       "      <td>10.57</td>\n",
       "    </tr>\n",
       "    <tr>\n",
       "      <th>3</th>\n",
       "      <td>1954-05-01</td>\n",
       "      <td>1954-05-31 23:59:59.999</td>\n",
       "      <td>1954-05-31</td>\n",
       "      <td>NaN</td>\n",
       "      <td>NaN</td>\n",
       "      <td>NaN</td>\n",
       "      <td>NaN</td>\n",
       "      <td>11.00</td>\n",
       "    </tr>\n",
       "    <tr>\n",
       "      <th>4</th>\n",
       "      <td>1954-06-01</td>\n",
       "      <td>1954-06-30 23:59:59.999</td>\n",
       "      <td>1954-06-30</td>\n",
       "      <td>NaN</td>\n",
       "      <td>NaN</td>\n",
       "      <td>NaN</td>\n",
       "      <td>NaN</td>\n",
       "      <td>11.08</td>\n",
       "    </tr>\n",
       "  </tbody>\n",
       "</table>\n",
       "</div>"
      ],
      "text/plain": [
       "     dateid01                   dateid        date  pe_aus  pe_ind  pe_ndo  \\\n",
       "0  1954-02-01  1954-02-28 23:59:59.999  1954-02-26     NaN     NaN     NaN   \n",
       "1  1954-03-01  1954-03-31 23:59:59.999  1954-03-31     NaN     NaN     NaN   \n",
       "2  1954-04-01  1954-04-30 23:59:59.999  1954-04-30     NaN     NaN     NaN   \n",
       "3  1954-05-01  1954-05-31 23:59:59.999  1954-05-31     NaN     NaN     NaN   \n",
       "4  1954-06-01  1954-06-30 23:59:59.999  1954-06-30     NaN     NaN     NaN   \n",
       "\n",
       "   pe_saf  pe_usa  \n",
       "0     NaN    9.92  \n",
       "1     NaN   10.17  \n",
       "2     NaN   10.57  \n",
       "3     NaN   11.00  \n",
       "4     NaN   11.08  "
      ]
     },
     "execution_count": 177,
     "metadata": {},
     "output_type": "execute_result"
    }
   ],
   "source": [
    "df_pe.head()"
   ]
  },
  {
   "cell_type": "code",
   "execution_count": 173,
   "metadata": {},
   "outputs": [
    {
     "name": "stdout",
     "output_type": "stream",
     "text": [
      "<class 'pandas.core.frame.DataFrame'>\n",
      "RangeIndex: 733 entries, 0 to 732\n",
      "Data columns (total 8 columns):\n",
      "dateid01    733 non-null object\n",
      "dateid      733 non-null object\n",
      "date        733 non-null object\n",
      "pe_aus      179 non-null float64\n",
      "pe_ind      182 non-null float64\n",
      "pe_ndo      244 non-null float64\n",
      "pe_saf      234 non-null float64\n",
      "pe_usa      733 non-null float64\n",
      "dtypes: float64(5), object(3)\n",
      "memory usage: 45.9+ KB\n"
     ]
    }
   ],
   "source": [
    "df_pe.info()"
   ]
  },
  {
   "cell_type": "code",
   "execution_count": 175,
   "metadata": {
    "scrolled": true
   },
   "outputs": [
    {
     "data": {
      "text/plain": [
       "[<matplotlib.lines.Line2D at 0x1c25b93a90>]"
      ]
     },
     "execution_count": 175,
     "metadata": {},
     "output_type": "execute_result"
    },
    {
     "data": {
      "image/png": "[encoded data removed]",
      "text/plain": [
       "<Figure size 432x288 with 1 Axes>"
      ]
     },
     "metadata": {},
     "output_type": "display_data"
    }
   ],
   "source": [
    "plt.plot(df_pe.pe_aus.dropna())"
   ]
  },
  {
   "cell_type": "markdown",
   "metadata": {},
   "source": [
    "## Question 3.44\n",
    "\n",
    "Which of the specifications appears to be most appropriate? Hint: Check the significance of the intercept and the trend terms in the regressions associated with the tests."
   ]
  },
  {
   "cell_type": "code",
   "execution_count": 164,
   "metadata": {},
   "outputs": [
    {
     "data": {
      "text/plain": [
       "(-4.161024975834389,\n",
       " 0.0007664687956573181,\n",
       " 6,\n",
       " 172,\n",
       " {'1%': -3.468952197801766,\n",
       "  '5%': -2.878495056473015,\n",
       "  '10%': -2.57580913601947},\n",
       " 966.9137524339865)"
      ]
     },
     "execution_count": 164,
     "metadata": {},
     "output_type": "execute_result"
    }
   ],
   "source": [
    "ts.stattools.adfuller(df_pe.pe_aus.dropna())"
   ]
  },
  {
   "cell_type": "code",
   "execution_count": 165,
   "metadata": {},
   "outputs": [
    {
     "data": {
      "text/plain": [
       "(-4.173755495882388,\n",
       " 0.004903077228050376,\n",
       " 6,\n",
       " 172,\n",
       " {'1%': -4.012391591770221,\n",
       "  '5%': -3.436329933826581,\n",
       "  '10%': -3.1422196294037006},\n",
       " 968.7634763553185)"
      ]
     },
     "execution_count": 165,
     "metadata": {},
     "output_type": "execute_result"
    }
   ],
   "source": [
    "ts.stattools.adfuller(df_pe.pe_aus.dropna(), regression=\"ct\")"
   ]
  },
  {
   "cell_type": "code",
   "execution_count": 166,
   "metadata": {},
   "outputs": [
    {
     "data": {
      "text/plain": [
       "(-1.4571945107694397,\n",
       " 0.135597918878207,\n",
       " 1,\n",
       " 177,\n",
       " {'1%': -2.5784874097481567,\n",
       "  '5%': -1.9426192919936818,\n",
       "  '10%': -1.6154014900113305},\n",
       " 971.8707442836811)"
      ]
     },
     "execution_count": 166,
     "metadata": {},
     "output_type": "execute_result"
    }
   ],
   "source": [
    "ts.stattools.adfuller(df_pe.pe_aus.dropna(), regression=\"nc\")"
   ]
  },
  {
   "cell_type": "markdown",
   "metadata": {},
   "source": [
    "## Question 3.46\n",
    "\n",
    "Note: See Module 7 for a more detailed treatment of structural breaks.\n",
    "\n",
    "However, there may be a structural break in the series that is distorting the tests. Based on the graph of pe_aus, when is the structural break likely to occur?"
   ]
  },
  {
   "cell_type": "code",
   "execution_count": 178,
   "metadata": {},
   "outputs": [
    {
     "data": {
      "text/html": [
       "<div>\n",
       "<style scoped>\n",
       "    .dataframe tbody tr th:only-of-type {\n",
       "        vertical-align: middle;\n",
       "    }\n",
       "\n",
       "    .dataframe tbody tr th {\n",
       "        vertical-align: top;\n",
       "    }\n",
       "\n",
       "    .dataframe thead th {\n",
       "        text-align: right;\n",
       "    }\n",
       "</style>\n",
       "<table border=\"1\" class=\"dataframe\">\n",
       "  <thead>\n",
       "    <tr style=\"text-align: right;\">\n",
       "      <th></th>\n",
       "      <th>dateid01</th>\n",
       "      <th>dateid</th>\n",
       "      <th>date</th>\n",
       "      <th>pe_aus</th>\n",
       "      <th>pe_ind</th>\n",
       "      <th>pe_ndo</th>\n",
       "      <th>pe_saf</th>\n",
       "      <th>pe_usa</th>\n",
       "    </tr>\n",
       "  </thead>\n",
       "  <tbody>\n",
       "    <tr>\n",
       "      <th>664</th>\n",
       "      <td>2009-06-01</td>\n",
       "      <td>2009-06-30 23:59:59.999</td>\n",
       "      <td>2009-06-30</td>\n",
       "      <td>37.5461</td>\n",
       "      <td>19.7442</td>\n",
       "      <td>9.88</td>\n",
       "      <td>14.9970</td>\n",
       "      <td>17.2707</td>\n",
       "    </tr>\n",
       "    <tr>\n",
       "      <th>665</th>\n",
       "      <td>2009-07-01</td>\n",
       "      <td>2009-07-31 23:59:59.999</td>\n",
       "      <td>2009-07-31</td>\n",
       "      <td>40.7591</td>\n",
       "      <td>21.3468</td>\n",
       "      <td>11.11</td>\n",
       "      <td>16.1822</td>\n",
       "      <td>18.5572</td>\n",
       "    </tr>\n",
       "    <tr>\n",
       "      <th>666</th>\n",
       "      <td>2009-08-01</td>\n",
       "      <td>2009-08-31 23:59:59.999</td>\n",
       "      <td>2009-08-31</td>\n",
       "      <td>45.7962</td>\n",
       "      <td>21.3707</td>\n",
       "      <td>15.42</td>\n",
       "      <td>16.6356</td>\n",
       "      <td>20.3518</td>\n",
       "    </tr>\n",
       "    <tr>\n",
       "      <th>667</th>\n",
       "      <td>2009-09-01</td>\n",
       "      <td>2009-09-30 23:59:59.999</td>\n",
       "      <td>2009-09-30</td>\n",
       "      <td>64.4114</td>\n",
       "      <td>25.3197</td>\n",
       "      <td>14.23</td>\n",
       "      <td>18.2758</td>\n",
       "      <td>21.8572</td>\n",
       "    </tr>\n",
       "    <tr>\n",
       "      <th>668</th>\n",
       "      <td>2009-10-01</td>\n",
       "      <td>2009-10-31 23:59:59.999</td>\n",
       "      <td>2009-10-30</td>\n",
       "      <td>70.2688</td>\n",
       "      <td>23.4858</td>\n",
       "      <td>14.45</td>\n",
       "      <td>19.5080</td>\n",
       "      <td>21.6086</td>\n",
       "    </tr>\n",
       "    <tr>\n",
       "      <th>669</th>\n",
       "      <td>2009-11-01</td>\n",
       "      <td>2009-11-30 23:59:59.999</td>\n",
       "      <td>2009-11-30</td>\n",
       "      <td>72.1423</td>\n",
       "      <td>25.1387</td>\n",
       "      <td>14.89</td>\n",
       "      <td>19.9553</td>\n",
       "      <td>22.8008</td>\n",
       "    </tr>\n",
       "    <tr>\n",
       "      <th>670</th>\n",
       "      <td>2009-12-01</td>\n",
       "      <td>2009-12-31 23:59:59.999</td>\n",
       "      <td>2009-12-31</td>\n",
       "      <td>74.7402</td>\n",
       "      <td>24.0815</td>\n",
       "      <td>16.08</td>\n",
       "      <td>18.5224</td>\n",
       "      <td>18.4396</td>\n",
       "    </tr>\n",
       "    <tr>\n",
       "      <th>671</th>\n",
       "      <td>2010-01-01</td>\n",
       "      <td>2010-01-31 23:59:59.999</td>\n",
       "      <td>2010-01-29</td>\n",
       "      <td>70.1213</td>\n",
       "      <td>22.5613</td>\n",
       "      <td>14.98</td>\n",
       "      <td>17.8435</td>\n",
       "      <td>17.5271</td>\n",
       "    </tr>\n",
       "    <tr>\n",
       "      <th>672</th>\n",
       "      <td>2010-02-01</td>\n",
       "      <td>2010-02-28 23:59:59.999</td>\n",
       "      <td>2010-02-26</td>\n",
       "      <td>71.1663</td>\n",
       "      <td>22.6532</td>\n",
       "      <td>15.55</td>\n",
       "      <td>17.9095</td>\n",
       "      <td>17.9998</td>\n",
       "    </tr>\n",
       "    <tr>\n",
       "      <th>673</th>\n",
       "      <td>2010-03-01</td>\n",
       "      <td>2010-03-31 23:59:59.999</td>\n",
       "      <td>2010-03-31</td>\n",
       "      <td>74.8154</td>\n",
       "      <td>20.4873</td>\n",
       "      <td>15.38</td>\n",
       "      <td>19.0850</td>\n",
       "      <td>17.1505</td>\n",
       "    </tr>\n",
       "    <tr>\n",
       "      <th>674</th>\n",
       "      <td>2010-04-01</td>\n",
       "      <td>2010-04-30 23:59:59.999</td>\n",
       "      <td>2010-04-30</td>\n",
       "      <td>73.7704</td>\n",
       "      <td>20.5182</td>\n",
       "      <td>14.53</td>\n",
       "      <td>19.0038</td>\n",
       "      <td>17.2631</td>\n",
       "    </tr>\n",
       "    <tr>\n",
       "      <th>675</th>\n",
       "      <td>2010-05-01</td>\n",
       "      <td>2010-05-31 23:59:59.999</td>\n",
       "      <td>2010-05-31</td>\n",
       "      <td>67.9746</td>\n",
       "      <td>20.2284</td>\n",
       "      <td>11.94</td>\n",
       "      <td>17.9796</td>\n",
       "      <td>15.7245</td>\n",
       "    </tr>\n",
       "  </tbody>\n",
       "</table>\n",
       "</div>"
      ],
      "text/plain": [
       "       dateid01                   dateid        date   pe_aus   pe_ind  \\\n",
       "664  2009-06-01  2009-06-30 23:59:59.999  2009-06-30  37.5461  19.7442   \n",
       "665  2009-07-01  2009-07-31 23:59:59.999  2009-07-31  40.7591  21.3468   \n",
       "666  2009-08-01  2009-08-31 23:59:59.999  2009-08-31  45.7962  21.3707   \n",
       "667  2009-09-01  2009-09-30 23:59:59.999  2009-09-30  64.4114  25.3197   \n",
       "668  2009-10-01  2009-10-31 23:59:59.999  2009-10-30  70.2688  23.4858   \n",
       "669  2009-11-01  2009-11-30 23:59:59.999  2009-11-30  72.1423  25.1387   \n",
       "670  2009-12-01  2009-12-31 23:59:59.999  2009-12-31  74.7402  24.0815   \n",
       "671  2010-01-01  2010-01-31 23:59:59.999  2010-01-29  70.1213  22.5613   \n",
       "672  2010-02-01  2010-02-28 23:59:59.999  2010-02-26  71.1663  22.6532   \n",
       "673  2010-03-01  2010-03-31 23:59:59.999  2010-03-31  74.8154  20.4873   \n",
       "674  2010-04-01  2010-04-30 23:59:59.999  2010-04-30  73.7704  20.5182   \n",
       "675  2010-05-01  2010-05-31 23:59:59.999  2010-05-31  67.9746  20.2284   \n",
       "\n",
       "     pe_ndo   pe_saf   pe_usa  \n",
       "664    9.88  14.9970  17.2707  \n",
       "665   11.11  16.1822  18.5572  \n",
       "666   15.42  16.6356  20.3518  \n",
       "667   14.23  18.2758  21.8572  \n",
       "668   14.45  19.5080  21.6086  \n",
       "669   14.89  19.9553  22.8008  \n",
       "670   16.08  18.5224  18.4396  \n",
       "671   14.98  17.8435  17.5271  \n",
       "672   15.55  17.9095  17.9998  \n",
       "673   15.38  19.0850  17.1505  \n",
       "674   14.53  19.0038  17.2631  \n",
       "675   11.94  17.9796  15.7245  "
      ]
     },
     "execution_count": 178,
     "metadata": {},
     "output_type": "execute_result"
    }
   ],
   "source": [
    "df_pe.loc[df_pe.pe_aus>30]"
   ]
  },
  {
   "cell_type": "markdown",
   "metadata": {},
   "source": [
    "## Pre-Crisis Tests\n",
    "Repeat the unit root/stationarity tests, for the pre-Global Crisis period (from 2000:04 to 2009:05), and enter the p-values you obtain in the corresponding yellow-shaded cells in the Excel file.\n",
    "\n",
    "## Question 3.47\n",
    "\n",
    "Hint: See Q3.44\n",
    "\n",
    "Which of the specifications appears to be most appropriate? (Optional question)\n"
   ]
  },
  {
   "cell_type": "code",
   "execution_count": 187,
   "metadata": {},
   "outputs": [
    {
     "data": {
      "text/plain": [
       "[<matplotlib.lines.Line2D at 0x1c20727978>]"
      ]
     },
     "execution_count": 187,
     "metadata": {},
     "output_type": "execute_result"
    },
    {
     "data": {
      "image/png": "[encoded data removed]",
      "text/plain": [
       "<Figure size 432x288 with 1 Axes>"
      ]
     },
     "metadata": {},
     "output_type": "display_data"
    }
   ],
   "source": [
    "plt.plot(df_pe[554:664].pe_aus)"
   ]
  },
  {
   "cell_type": "code",
   "execution_count": 184,
   "metadata": {
    "scrolled": true
   },
   "outputs": [
    {
     "data": {
      "text/plain": [
       "(-0.685056054544276,\n",
       " 0.41890522140869846,\n",
       " 0,\n",
       " 109,\n",
       " {'1%': -2.586557203939062,\n",
       "  '5%': -1.9437233356164225,\n",
       "  '10%': -1.6145921490406778},\n",
       " 351.71139923115027)"
      ]
     },
     "execution_count": 184,
     "metadata": {},
     "output_type": "execute_result"
    }
   ],
   "source": [
    "ts.stattools.adfuller(df_pe[554:664].pe_aus, regression=\"nc\")"
   ]
  },
  {
   "cell_type": "code",
   "execution_count": 185,
   "metadata": {},
   "outputs": [
    {
     "data": {
      "text/plain": [
       "(-2.5528935864350135,\n",
       " 0.10312919227895206,\n",
       " 0,\n",
       " 109,\n",
       " {'1%': -3.49181775886872,\n",
       "  '5%': -2.8884437992971588,\n",
       "  '10%': -2.5811201893779985},\n",
       " 349.05263416666867)"
      ]
     },
     "execution_count": 185,
     "metadata": {},
     "output_type": "execute_result"
    }
   ],
   "source": [
    "ts.stattools.adfuller(df_pe[554:664].pe_aus, regression=\"c\")"
   ]
  },
  {
   "cell_type": "code",
   "execution_count": 186,
   "metadata": {},
   "outputs": [
    {
     "data": {
      "text/plain": [
       "(-2.973899693677282,\n",
       " 0.13952483839683344,\n",
       " 0,\n",
       " 109,\n",
       " {'1%': -4.044322283462378,\n",
       "  '5%': -3.4515644781777084,\n",
       "  '10%': -3.151118741781072},\n",
       " 345.0883414769617)"
      ]
     },
     "execution_count": 186,
     "metadata": {},
     "output_type": "execute_result"
    }
   ],
   "source": [
    "ts.stattools.adfuller(df_pe[554:664].pe_aus, regression=\"ct\")"
   ]
  },
  {
   "cell_type": "markdown",
   "metadata": {},
   "source": [
    "## Breakpoint Unit Root Tests\n",
    "\n",
    "First, note that you are testing for the level of the series. Since you found that there was a significant downward trend in the pre-crisis data, choose “Trend and Intercept” as the Basic Specification, and choose “Intercept” for the Breaking Specification. That is, you are assuming that the series has a trend and intercept, but only the intercept shifts with the break.\n",
    "Choose “Akaike criterion” to choose the maximum lag length, and choose “Additive Outlier”, which treats the effects of the break as being immediate.\n",
    "Choose “Dickey-Fuller min-t” as the criterion for finding the breakpoint. That is, EViews will look for a breakpoint that maximizes the probability that the ADF null hypothesis will be rejected, or equivalently, that the series will be stationary once the break is taken into account.\n",
    "Lastly, please ensure that these tests are conducted over 2000:04-2015:02, that is, the full sample period.\n",
    "\n",
    "## Question 3.49\n",
    "\n",
    "Enter the breakpoint found by EViews (using the \"2000M3\" date format to provide your answer):"
   ]
  },
  {
   "cell_type": "markdown",
   "metadata": {},
   "source": [
    "## Post-Crisis Tests\n",
    "Lastly, please return to the three standard (i.e., non break point) unit tests that we started with in this question set. Calculate the three unit root/stationarity tests for just the post-Global Crisis period (i.e., 2010:12 – 2015:02).\n",
    "\n",
    "Enter the resulting p-values in the corresponding yellow-shaded cells in the Excel file."
   ]
  },
  {
   "cell_type": "markdown",
   "metadata": {},
   "source": [
    "## Question 3.54\n",
    "\n",
    "Which of the specifications is most appropriate?"
   ]
  },
  {
   "cell_type": "code",
   "execution_count": 191,
   "metadata": {},
   "outputs": [
    {
     "data": {
      "text/plain": [
       "[<matplotlib.lines.Line2D at 0x1c21aad8d0>]"
      ]
     },
     "execution_count": 191,
     "metadata": {},
     "output_type": "execute_result"
    },
    {
     "data": {
      "image/png": "[encoded data removed]",
      "text/plain": [
       "<Figure size 432x288 with 1 Axes>"
      ]
     },
     "metadata": {},
     "output_type": "display_data"
    }
   ],
   "source": [
    "plt.plot(df_pe[682:].pe_aus)"
   ]
  },
  {
   "cell_type": "code",
   "execution_count": 192,
   "metadata": {},
   "outputs": [
    {
     "data": {
      "text/plain": [
       "(0.6248305945687092,\n",
       " 0.851991733322607,\n",
       " 0,\n",
       " 50,\n",
       " {'1%': -2.6119068, '5%': -1.947468216, '10%': -1.6123906879999998},\n",
       " 116.68141718390171)"
      ]
     },
     "execution_count": 192,
     "metadata": {},
     "output_type": "execute_result"
    }
   ],
   "source": [
    "ts.stattools.adfuller(df_pe[682:].pe_aus, regression=\"nc\")"
   ]
  },
  {
   "cell_type": "code",
   "execution_count": 193,
   "metadata": {},
   "outputs": [
    {
     "data": {
      "text/plain": [
       "(-0.7982082657633057,\n",
       " 0.8196478095105999,\n",
       " 0,\n",
       " 50,\n",
       " {'1%': -3.568485864, '5%': -2.92135992, '10%': -2.5986616},\n",
       " 114.89481929190144)"
      ]
     },
     "execution_count": 193,
     "metadata": {},
     "output_type": "execute_result"
    }
   ],
   "source": [
    "ts.stattools.adfuller(df_pe[682:].pe_aus, regression=\"c\")"
   ]
  },
  {
   "cell_type": "code",
   "execution_count": 194,
   "metadata": {},
   "outputs": [
    {
     "data": {
      "text/plain": [
       "(-1.9641452819789407,\n",
       " 0.6208211709741934,\n",
       " 0,\n",
       " 50,\n",
       " {'1%': -4.15227644, '5%': -3.5022753919999996, '10%': -3.1805110400000003},\n",
       " 116.19569181088926)"
      ]
     },
     "execution_count": 194,
     "metadata": {},
     "output_type": "execute_result"
    }
   ],
   "source": [
    "ts.stattools.adfuller(df_pe[682:].pe_aus, regression=\"ct\")"
   ]
  },
  {
   "cell_type": "code",
   "execution_count": null,
   "metadata": {},
   "outputs": [],
   "source": []
  }
 ],
 "metadata": {
  "kernelspec": {
   "display_name": "Python 3",
   "language": "python",
   "name": "python3"
  },
  "language_info": {
   "codemirror_mode": {
    "name": "ipython",
    "version": 3
   },
   "file_extension": ".py",
   "mimetype": "text/x-python",
   "name": "python",
   "nbconvert_exporter": "python",
   "pygments_lexer": "ipython3",
   "version": "3.7.3"
  }
 },
 "nbformat": 4,
 "nbformat_minor": 2
}
