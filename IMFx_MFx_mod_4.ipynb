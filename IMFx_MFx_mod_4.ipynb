{
 "cells": [
  {
   "cell_type": "code",
   "execution_count": 49,
   "metadata": {},
   "outputs": [],
   "source": [
    "import matplotlib.pyplot as plt\n",
    "import numpy as np\n",
    "import pandas as pd\n",
    "import seaborn as sns\n",
    "import statsmodels.api as sm\n",
    "import statsmodels.formula.api as smf\n",
    "import statsmodels.stats as st\n",
    "import statsmodels.tsa as ts\n",
    "\n",
    "from sklearn.metrics import mean_squared_error\n",
    "from statsmodels.graphics.tsaplots import plot_acf, plot_pacf\n",
    "\n",
    "%matplotlib inline\n",
    "plt.style.use(\"ggplot\")\n",
    "sns.set_context(\"talk\")"
   ]
  },
  {
   "cell_type": "code",
   "execution_count": 79,
   "metadata": {},
   "outputs": [],
   "source": [
    "data = pd.read_csv(\"data/M4_data.csv\", index_col=\"date\")[:72]"
   ]
  },
  {
   "cell_type": "code",
   "execution_count": 80,
   "metadata": {},
   "outputs": [
    {
     "name": "stdout",
     "output_type": "stream",
     "text": [
      "<class 'pandas.core.frame.DataFrame'>\n",
      "Index: 72 entries, 1/31/03 to 12/31/08\n",
      "Data columns (total 1 columns):\n",
      "cpi    72 non-null float64\n",
      "dtypes: float64(1)\n",
      "memory usage: 1.1+ KB\n"
     ]
    }
   ],
   "source": [
    "data.info()"
   ]
  },
  {
   "cell_type": "code",
   "execution_count": 81,
   "metadata": {
    "scrolled": false
   },
   "outputs": [
    {
     "data": {
      "text/html": [
       "<div>\n",
       "<style scoped>\n",
       "    .dataframe tbody tr th:only-of-type {\n",
       "        vertical-align: middle;\n",
       "    }\n",
       "\n",
       "    .dataframe tbody tr th {\n",
       "        vertical-align: top;\n",
       "    }\n",
       "\n",
       "    .dataframe thead th {\n",
       "        text-align: right;\n",
       "    }\n",
       "</style>\n",
       "<table border=\"1\" class=\"dataframe\">\n",
       "  <thead>\n",
       "    <tr style=\"text-align: right;\">\n",
       "      <th></th>\n",
       "      <th>cpi</th>\n",
       "    </tr>\n",
       "  </thead>\n",
       "  <tbody>\n",
       "    <tr>\n",
       "      <th>count</th>\n",
       "      <td>72.000000</td>\n",
       "    </tr>\n",
       "    <tr>\n",
       "      <th>mean</th>\n",
       "      <td>3.581944</td>\n",
       "    </tr>\n",
       "    <tr>\n",
       "      <th>std</th>\n",
       "      <td>1.896370</td>\n",
       "    </tr>\n",
       "    <tr>\n",
       "      <th>min</th>\n",
       "      <td>0.460000</td>\n",
       "    </tr>\n",
       "    <tr>\n",
       "      <th>25%</th>\n",
       "      <td>2.100000</td>\n",
       "    </tr>\n",
       "    <tr>\n",
       "      <th>50%</th>\n",
       "      <td>3.055000</td>\n",
       "    </tr>\n",
       "    <tr>\n",
       "      <th>75%</th>\n",
       "      <td>5.335000</td>\n",
       "    </tr>\n",
       "    <tr>\n",
       "      <th>max</th>\n",
       "      <td>9.170000</td>\n",
       "    </tr>\n",
       "  </tbody>\n",
       "</table>\n",
       "</div>"
      ],
      "text/plain": [
       "             cpi\n",
       "count  72.000000\n",
       "mean    3.581944\n",
       "std     1.896370\n",
       "min     0.460000\n",
       "25%     2.100000\n",
       "50%     3.055000\n",
       "75%     5.335000\n",
       "max     9.170000"
      ]
     },
     "execution_count": 81,
     "metadata": {},
     "output_type": "execute_result"
    }
   ],
   "source": [
    "data.describe()"
   ]
  },
  {
   "cell_type": "code",
   "execution_count": 85,
   "metadata": {},
   "outputs": [],
   "source": [
    "p = 2\n",
    "d = 0\n",
    "q = 0\n",
    "horizon=4\n",
    "window = 50"
   ]
  },
  {
   "cell_type": "code",
   "execution_count": 86,
   "metadata": {},
   "outputs": [
    {
     "name": "stderr",
     "output_type": "stream",
     "text": [
      "/Users/kmiyaki/anaconda3/lib/python3.7/site-packages/statsmodels/tsa/base/tsa_model.py:171: ValueWarning: No frequency information was provided, so inferred frequency M will be used.\n",
      "  % freq, ValueWarning)\n",
      "/Users/kmiyaki/anaconda3/lib/python3.7/site-packages/statsmodels/tsa/base/tsa_model.py:191: FutureWarning: Creating a DatetimeIndex by passing range endpoints is deprecated.  Use `pandas.date_range` instead.\n",
      "  start=index[0], end=index[-1], freq=freq)\n",
      "/Users/kmiyaki/anaconda3/lib/python3.7/site-packages/statsmodels/tsa/base/tsa_model.py:171: ValueWarning: No frequency information was provided, so inferred frequency M will be used.\n",
      "  % freq, ValueWarning)\n",
      "/Users/kmiyaki/anaconda3/lib/python3.7/site-packages/statsmodels/tsa/base/tsa_model.py:171: ValueWarning: No frequency information was provided, so inferred frequency M will be used.\n",
      "  % freq, ValueWarning)\n",
      "/Users/kmiyaki/anaconda3/lib/python3.7/site-packages/statsmodels/tsa/base/tsa_model.py:171: ValueWarning: No frequency information was provided, so inferred frequency M will be used.\n",
      "  % freq, ValueWarning)\n",
      "/Users/kmiyaki/anaconda3/lib/python3.7/site-packages/statsmodels/tsa/base/tsa_model.py:171: ValueWarning: No frequency information was provided, so inferred frequency M will be used.\n",
      "  % freq, ValueWarning)\n",
      "/Users/kmiyaki/anaconda3/lib/python3.7/site-packages/statsmodels/tsa/base/tsa_model.py:171: ValueWarning: No frequency information was provided, so inferred frequency M will be used.\n",
      "  % freq, ValueWarning)\n",
      "/Users/kmiyaki/anaconda3/lib/python3.7/site-packages/statsmodels/tsa/base/tsa_model.py:171: ValueWarning: No frequency information was provided, so inferred frequency M will be used.\n",
      "  % freq, ValueWarning)\n",
      "/Users/kmiyaki/anaconda3/lib/python3.7/site-packages/statsmodels/tsa/base/tsa_model.py:171: ValueWarning: No frequency information was provided, so inferred frequency M will be used.\n",
      "  % freq, ValueWarning)\n",
      "/Users/kmiyaki/anaconda3/lib/python3.7/site-packages/statsmodels/tsa/base/tsa_model.py:171: ValueWarning: No frequency information was provided, so inferred frequency M will be used.\n",
      "  % freq, ValueWarning)\n",
      "/Users/kmiyaki/anaconda3/lib/python3.7/site-packages/statsmodels/tsa/base/tsa_model.py:171: ValueWarning: No frequency information was provided, so inferred frequency M will be used.\n",
      "  % freq, ValueWarning)\n",
      "/Users/kmiyaki/anaconda3/lib/python3.7/site-packages/statsmodels/tsa/base/tsa_model.py:171: ValueWarning: No frequency information was provided, so inferred frequency M will be used.\n",
      "  % freq, ValueWarning)\n",
      "/Users/kmiyaki/anaconda3/lib/python3.7/site-packages/statsmodels/tsa/base/tsa_model.py:171: ValueWarning: No frequency information was provided, so inferred frequency M will be used.\n",
      "  % freq, ValueWarning)\n",
      "/Users/kmiyaki/anaconda3/lib/python3.7/site-packages/statsmodels/tsa/base/tsa_model.py:171: ValueWarning: No frequency information was provided, so inferred frequency M will be used.\n",
      "  % freq, ValueWarning)\n",
      "/Users/kmiyaki/anaconda3/lib/python3.7/site-packages/statsmodels/tsa/base/tsa_model.py:171: ValueWarning: No frequency information was provided, so inferred frequency M will be used.\n",
      "  % freq, ValueWarning)\n",
      "/Users/kmiyaki/anaconda3/lib/python3.7/site-packages/statsmodels/tsa/base/tsa_model.py:171: ValueWarning: No frequency information was provided, so inferred frequency M will be used.\n",
      "  % freq, ValueWarning)\n",
      "/Users/kmiyaki/anaconda3/lib/python3.7/site-packages/statsmodels/tsa/base/tsa_model.py:171: ValueWarning: No frequency information was provided, so inferred frequency M will be used.\n",
      "  % freq, ValueWarning)\n",
      "/Users/kmiyaki/anaconda3/lib/python3.7/site-packages/statsmodels/tsa/base/tsa_model.py:171: ValueWarning: No frequency information was provided, so inferred frequency M will be used.\n",
      "  % freq, ValueWarning)\n",
      "/Users/kmiyaki/anaconda3/lib/python3.7/site-packages/statsmodels/tsa/base/tsa_model.py:171: ValueWarning: No frequency information was provided, so inferred frequency M will be used.\n",
      "  % freq, ValueWarning)\n",
      "/Users/kmiyaki/anaconda3/lib/python3.7/site-packages/statsmodels/tsa/base/tsa_model.py:171: ValueWarning: No frequency information was provided, so inferred frequency M will be used.\n",
      "  % freq, ValueWarning)\n",
      "/Users/kmiyaki/anaconda3/lib/python3.7/site-packages/statsmodels/tsa/base/tsa_model.py:171: ValueWarning: No frequency information was provided, so inferred frequency M will be used.\n",
      "  % freq, ValueWarning)\n",
      "/Users/kmiyaki/anaconda3/lib/python3.7/site-packages/statsmodels/tsa/base/tsa_model.py:171: ValueWarning: No frequency information was provided, so inferred frequency M will be used.\n",
      "  % freq, ValueWarning)\n",
      "/Users/kmiyaki/anaconda3/lib/python3.7/site-packages/statsmodels/tsa/base/tsa_model.py:171: ValueWarning: No frequency information was provided, so inferred frequency M will be used.\n",
      "  % freq, ValueWarning)\n",
      "/Users/kmiyaki/anaconda3/lib/python3.7/site-packages/statsmodels/tsa/base/tsa_model.py:171: ValueWarning: No frequency information was provided, so inferred frequency M will be used.\n",
      "  % freq, ValueWarning)\n"
     ]
    }
   ],
   "source": [
    "# expansion\n",
    "forecast = []\n",
    "for i in range(0, len(data)-window+1):\n",
    "    data_use = data[0:i+window]\n",
    "    model = ts.arima_model.ARIMA(endog=data_use, order=(p, d, q)).fit()\n",
    "    horizon_forecast = model.forecast(steps=horizon)\n",
    "    forecast.append(horizon_forecast[0][horizon-1])\n",
    "    \n",
    "result = pd.concat([pd.DataFrame(data[window+horizon-1:]), \n",
    "                    pd.DataFrame(forecast[:-horizon], index=pd.DataFrame(data[window+horizon-1:]).index)], \n",
    "                   axis=1)\n",
    "result.rename(columns={\"cpi\":\"actual\", 0:\"forecast\"}, inplace=True)"
   ]
  },
  {
   "cell_type": "code",
   "execution_count": 89,
   "metadata": {},
   "outputs": [
    {
     "data": {
      "text/plain": [
       "(19, 2)"
      ]
     },
     "execution_count": 89,
     "metadata": {},
     "output_type": "execute_result"
    }
   ],
   "source": [
    "result.shape"
   ]
  },
  {
   "cell_type": "code",
   "execution_count": 87,
   "metadata": {
    "scrolled": true
   },
   "outputs": [
    {
     "data": {
      "text/plain": [
       "2.796225689848686"
      ]
     },
     "execution_count": 87,
     "metadata": {},
     "output_type": "execute_result"
    }
   ],
   "source": [
    "np.sqrt(mean_squared_error(result.actual, result.forecast))"
   ]
  },
  {
   "cell_type": "code",
   "execution_count": 94,
   "metadata": {},
   "outputs": [],
   "source": [
    "p = 1\n",
    "d = 0\n",
    "q = 0\n",
    "horizon=6\n",
    "window = 36"
   ]
  },
  {
   "cell_type": "code",
   "execution_count": 98,
   "metadata": {},
   "outputs": [
    {
     "name": "stderr",
     "output_type": "stream",
     "text": [
      "/Users/kmiyaki/anaconda3/lib/python3.7/site-packages/statsmodels/tsa/base/tsa_model.py:171: ValueWarning: No frequency information was provided, so inferred frequency M will be used.\n",
      "  % freq, ValueWarning)\n",
      "/Users/kmiyaki/anaconda3/lib/python3.7/site-packages/statsmodels/tsa/base/tsa_model.py:171: ValueWarning: No frequency information was provided, so inferred frequency M will be used.\n",
      "  % freq, ValueWarning)\n",
      "/Users/kmiyaki/anaconda3/lib/python3.7/site-packages/statsmodels/tsa/base/tsa_model.py:171: ValueWarning: No frequency information was provided, so inferred frequency M will be used.\n",
      "  % freq, ValueWarning)\n",
      "/Users/kmiyaki/anaconda3/lib/python3.7/site-packages/statsmodels/tsa/base/tsa_model.py:171: ValueWarning: No frequency information was provided, so inferred frequency M will be used.\n",
      "  % freq, ValueWarning)\n",
      "/Users/kmiyaki/anaconda3/lib/python3.7/site-packages/statsmodels/tsa/base/tsa_model.py:171: ValueWarning: No frequency information was provided, so inferred frequency M will be used.\n",
      "  % freq, ValueWarning)\n",
      "/Users/kmiyaki/anaconda3/lib/python3.7/site-packages/statsmodels/tsa/base/tsa_model.py:171: ValueWarning: No frequency information was provided, so inferred frequency M will be used.\n",
      "  % freq, ValueWarning)\n",
      "/Users/kmiyaki/anaconda3/lib/python3.7/site-packages/statsmodels/tsa/base/tsa_model.py:171: ValueWarning: No frequency information was provided, so inferred frequency M will be used.\n",
      "  % freq, ValueWarning)\n",
      "/Users/kmiyaki/anaconda3/lib/python3.7/site-packages/statsmodels/tsa/base/tsa_model.py:171: ValueWarning: No frequency information was provided, so inferred frequency M will be used.\n",
      "  % freq, ValueWarning)\n",
      "/Users/kmiyaki/anaconda3/lib/python3.7/site-packages/statsmodels/tsa/base/tsa_model.py:171: ValueWarning: No frequency information was provided, so inferred frequency M will be used.\n",
      "  % freq, ValueWarning)\n",
      "/Users/kmiyaki/anaconda3/lib/python3.7/site-packages/statsmodels/tsa/base/tsa_model.py:171: ValueWarning: No frequency information was provided, so inferred frequency M will be used.\n",
      "  % freq, ValueWarning)\n",
      "/Users/kmiyaki/anaconda3/lib/python3.7/site-packages/statsmodels/tsa/base/tsa_model.py:171: ValueWarning: No frequency information was provided, so inferred frequency M will be used.\n",
      "  % freq, ValueWarning)\n",
      "/Users/kmiyaki/anaconda3/lib/python3.7/site-packages/statsmodels/tsa/base/tsa_model.py:171: ValueWarning: No frequency information was provided, so inferred frequency M will be used.\n",
      "  % freq, ValueWarning)\n",
      "/Users/kmiyaki/anaconda3/lib/python3.7/site-packages/statsmodels/tsa/base/tsa_model.py:171: ValueWarning: No frequency information was provided, so inferred frequency M will be used.\n",
      "  % freq, ValueWarning)\n",
      "/Users/kmiyaki/anaconda3/lib/python3.7/site-packages/statsmodels/tsa/base/tsa_model.py:171: ValueWarning: No frequency information was provided, so inferred frequency M will be used.\n",
      "  % freq, ValueWarning)\n",
      "/Users/kmiyaki/anaconda3/lib/python3.7/site-packages/statsmodels/tsa/base/tsa_model.py:171: ValueWarning: No frequency information was provided, so inferred frequency M will be used.\n",
      "  % freq, ValueWarning)\n",
      "/Users/kmiyaki/anaconda3/lib/python3.7/site-packages/statsmodels/tsa/base/tsa_model.py:171: ValueWarning: No frequency information was provided, so inferred frequency M will be used.\n",
      "  % freq, ValueWarning)\n",
      "/Users/kmiyaki/anaconda3/lib/python3.7/site-packages/statsmodels/tsa/base/tsa_model.py:171: ValueWarning: No frequency information was provided, so inferred frequency M will be used.\n",
      "  % freq, ValueWarning)\n",
      "/Users/kmiyaki/anaconda3/lib/python3.7/site-packages/statsmodels/tsa/base/tsa_model.py:171: ValueWarning: No frequency information was provided, so inferred frequency M will be used.\n",
      "  % freq, ValueWarning)\n",
      "/Users/kmiyaki/anaconda3/lib/python3.7/site-packages/statsmodels/tsa/base/tsa_model.py:171: ValueWarning: No frequency information was provided, so inferred frequency M will be used.\n",
      "  % freq, ValueWarning)\n",
      "/Users/kmiyaki/anaconda3/lib/python3.7/site-packages/statsmodels/tsa/base/tsa_model.py:171: ValueWarning: No frequency information was provided, so inferred frequency M will be used.\n",
      "  % freq, ValueWarning)\n",
      "/Users/kmiyaki/anaconda3/lib/python3.7/site-packages/statsmodels/tsa/base/tsa_model.py:171: ValueWarning: No frequency information was provided, so inferred frequency M will be used.\n",
      "  % freq, ValueWarning)\n",
      "/Users/kmiyaki/anaconda3/lib/python3.7/site-packages/statsmodels/tsa/base/tsa_model.py:171: ValueWarning: No frequency information was provided, so inferred frequency M will be used.\n",
      "  % freq, ValueWarning)\n",
      "/Users/kmiyaki/anaconda3/lib/python3.7/site-packages/statsmodels/tsa/base/tsa_model.py:171: ValueWarning: No frequency information was provided, so inferred frequency M will be used.\n",
      "  % freq, ValueWarning)\n",
      "/Users/kmiyaki/anaconda3/lib/python3.7/site-packages/statsmodels/tsa/base/tsa_model.py:171: ValueWarning: No frequency information was provided, so inferred frequency M will be used.\n",
      "  % freq, ValueWarning)\n",
      "/Users/kmiyaki/anaconda3/lib/python3.7/site-packages/statsmodels/tsa/base/tsa_model.py:171: ValueWarning: No frequency information was provided, so inferred frequency M will be used.\n",
      "  % freq, ValueWarning)\n",
      "/Users/kmiyaki/anaconda3/lib/python3.7/site-packages/statsmodels/tsa/base/tsa_model.py:171: ValueWarning: No frequency information was provided, so inferred frequency M will be used.\n",
      "  % freq, ValueWarning)\n",
      "/Users/kmiyaki/anaconda3/lib/python3.7/site-packages/statsmodels/tsa/base/tsa_model.py:171: ValueWarning: No frequency information was provided, so inferred frequency M will be used.\n",
      "  % freq, ValueWarning)\n",
      "/Users/kmiyaki/anaconda3/lib/python3.7/site-packages/statsmodels/tsa/base/tsa_model.py:171: ValueWarning: No frequency information was provided, so inferred frequency M will be used.\n",
      "  % freq, ValueWarning)\n",
      "/Users/kmiyaki/anaconda3/lib/python3.7/site-packages/statsmodels/tsa/base/tsa_model.py:171: ValueWarning: No frequency information was provided, so inferred frequency M will be used.\n",
      "  % freq, ValueWarning)\n",
      "/Users/kmiyaki/anaconda3/lib/python3.7/site-packages/statsmodels/tsa/base/tsa_model.py:171: ValueWarning: No frequency information was provided, so inferred frequency M will be used.\n",
      "  % freq, ValueWarning)\n",
      "/Users/kmiyaki/anaconda3/lib/python3.7/site-packages/statsmodels/tsa/base/tsa_model.py:171: ValueWarning: No frequency information was provided, so inferred frequency M will be used.\n",
      "  % freq, ValueWarning)\n",
      "/Users/kmiyaki/anaconda3/lib/python3.7/site-packages/statsmodels/tsa/base/tsa_model.py:171: ValueWarning: No frequency information was provided, so inferred frequency M will be used.\n",
      "  % freq, ValueWarning)\n",
      "/Users/kmiyaki/anaconda3/lib/python3.7/site-packages/statsmodels/tsa/base/tsa_model.py:171: ValueWarning: No frequency information was provided, so inferred frequency M will be used.\n",
      "  % freq, ValueWarning)\n",
      "/Users/kmiyaki/anaconda3/lib/python3.7/site-packages/statsmodels/tsa/base/tsa_model.py:171: ValueWarning: No frequency information was provided, so inferred frequency M will be used.\n",
      "  % freq, ValueWarning)\n",
      "/Users/kmiyaki/anaconda3/lib/python3.7/site-packages/statsmodels/tsa/base/tsa_model.py:171: ValueWarning: No frequency information was provided, so inferred frequency M will be used.\n",
      "  % freq, ValueWarning)\n",
      "/Users/kmiyaki/anaconda3/lib/python3.7/site-packages/statsmodels/tsa/base/tsa_model.py:171: ValueWarning: No frequency information was provided, so inferred frequency M will be used.\n",
      "  % freq, ValueWarning)\n",
      "/Users/kmiyaki/anaconda3/lib/python3.7/site-packages/statsmodels/tsa/base/tsa_model.py:171: ValueWarning: No frequency information was provided, so inferred frequency M will be used.\n",
      "  % freq, ValueWarning)\n"
     ]
    }
   ],
   "source": [
    "# rolling\n",
    "forecast = []\n",
    "for i in range(0, len(data)-window+1):\n",
    "    data_use = data[i:i+window]\n",
    "    model = ts.arima_model.ARIMA(endog=data_use, order=(p, d, q)).fit()\n",
    "    horizon_forecast = model.forecast(steps=horizon)\n",
    "    forecast.append(horizon_forecast[0][horizon-1])\n",
    "    \n",
    "result = pd.concat([pd.DataFrame(data[window+horizon-1:]), \n",
    "                    pd.DataFrame(forecast[:-horizon], index=pd.DataFrame(data[window+horizon-1:]).index)], \n",
    "                   axis=1)\n",
    "result.rename(columns={\"cpi\":\"actual\", 0:\"forecast\"}, inplace=True)"
   ]
  },
  {
   "cell_type": "code",
   "execution_count": 101,
   "metadata": {
    "scrolled": true
   },
   "outputs": [
    {
     "data": {
      "text/plain": [
       "2.7734044532354525"
      ]
     },
     "execution_count": 101,
     "metadata": {},
     "output_type": "execute_result"
    }
   ],
   "source": [
    "np.sqrt(mean_squared_error(result.actual, result.forecast))"
   ]
  },
  {
   "cell_type": "markdown",
   "metadata": {},
   "source": [
    "## Question 4.49\n",
    "\n",
    "Estimate an AR(1) model of ygr on its first lag and a constant by changing the forecast model (locate the \"Run your forecast model here\" and change the equation \"equation eq1.ls {%v} c {%v}(-1) {%v}(-2)\" to \"equation eq1.ls {%v} c {%v}(-1)\"). We will use an AR(1) model throughout this exercise since more realistic models have not been discussed yet. \n",
    "\n",
    "We will first evaluate forecast performance of the AR(1) model using an expanding strategy (so set !strategy_rolling=0 in the code). Run the strategy for 21 estimation samples by setting !num_rolling =21 (the maximum possible is 22, because data for 2014q4 is not available).\n",
    "\n",
    "a) What is the implied MAE of this forecast strategy for half of a year ahead? Please enter the answer up to 3 decimals, no rounding."
   ]
  },
  {
   "cell_type": "code",
   "execution_count": 103,
   "metadata": {},
   "outputs": [],
   "source": [
    "india = pd.read_csv(\"data/India_Q.csv\")"
   ]
  },
  {
   "cell_type": "code",
   "execution_count": 105,
   "metadata": {
    "scrolled": true
   },
   "outputs": [
    {
     "data": {
      "text/html": [
       "<div>\n",
       "<style scoped>\n",
       "    .dataframe tbody tr th:only-of-type {\n",
       "        vertical-align: middle;\n",
       "    }\n",
       "\n",
       "    .dataframe tbody tr th {\n",
       "        vertical-align: top;\n",
       "    }\n",
       "\n",
       "    .dataframe thead th {\n",
       "        text-align: right;\n",
       "    }\n",
       "</style>\n",
       "<table border=\"1\" class=\"dataframe\">\n",
       "  <thead>\n",
       "    <tr style=\"text-align: right;\">\n",
       "      <th></th>\n",
       "      <th>dateid01</th>\n",
       "      <th>dateid</th>\n",
       "      <th>rgdp</th>\n",
       "      <th>ygr</th>\n",
       "    </tr>\n",
       "  </thead>\n",
       "  <tbody>\n",
       "    <tr>\n",
       "      <th>0</th>\n",
       "      <td>2003-01-01</td>\n",
       "      <td>2003-03-31 23:59:59.999</td>\n",
       "      <td>7028.06</td>\n",
       "      <td>3.210846</td>\n",
       "    </tr>\n",
       "    <tr>\n",
       "      <th>1</th>\n",
       "      <td>2003-04-01</td>\n",
       "      <td>2003-06-30 23:59:59.999</td>\n",
       "      <td>7221.13</td>\n",
       "      <td>5.046689</td>\n",
       "    </tr>\n",
       "    <tr>\n",
       "      <th>2</th>\n",
       "      <td>2003-07-01</td>\n",
       "      <td>2003-09-30 23:59:59.999</td>\n",
       "      <td>7412.13</td>\n",
       "      <td>7.369267</td>\n",
       "    </tr>\n",
       "    <tr>\n",
       "      <th>3</th>\n",
       "      <td>2003-10-01</td>\n",
       "      <td>2003-12-31 23:59:59.999</td>\n",
       "      <td>7748.63</td>\n",
       "      <td>11.823654</td>\n",
       "    </tr>\n",
       "    <tr>\n",
       "      <th>4</th>\n",
       "      <td>2004-01-01</td>\n",
       "      <td>2004-03-31 23:59:59.999</td>\n",
       "      <td>7635.01</td>\n",
       "      <td>8.636096</td>\n",
       "    </tr>\n",
       "    <tr>\n",
       "      <th>5</th>\n",
       "      <td>2004-04-01</td>\n",
       "      <td>2004-06-30 23:59:59.999</td>\n",
       "      <td>7841.48</td>\n",
       "      <td>8.590761</td>\n",
       "    </tr>\n",
       "    <tr>\n",
       "      <th>6</th>\n",
       "      <td>2004-07-01</td>\n",
       "      <td>2004-09-30 23:59:59.999</td>\n",
       "      <td>8060.99</td>\n",
       "      <td>8.754029</td>\n",
       "    </tr>\n",
       "    <tr>\n",
       "      <th>7</th>\n",
       "      <td>2004-10-01</td>\n",
       "      <td>2004-12-31 23:59:59.999</td>\n",
       "      <td>8148.17</td>\n",
       "      <td>5.156266</td>\n",
       "    </tr>\n",
       "    <tr>\n",
       "      <th>8</th>\n",
       "      <td>2005-01-01</td>\n",
       "      <td>2005-03-31 23:59:59.999</td>\n",
       "      <td>8334.76</td>\n",
       "      <td>9.165017</td>\n",
       "    </tr>\n",
       "    <tr>\n",
       "      <th>9</th>\n",
       "      <td>2005-04-01</td>\n",
       "      <td>2005-06-30 23:59:59.999</td>\n",
       "      <td>8578.76</td>\n",
       "      <td>9.402307</td>\n",
       "    </tr>\n",
       "    <tr>\n",
       "      <th>10</th>\n",
       "      <td>2005-07-01</td>\n",
       "      <td>2005-09-30 23:59:59.999</td>\n",
       "      <td>8717.41</td>\n",
       "      <td>8.143169</td>\n",
       "    </tr>\n",
       "    <tr>\n",
       "      <th>11</th>\n",
       "      <td>2005-10-01</td>\n",
       "      <td>2005-12-31 23:59:59.999</td>\n",
       "      <td>8914.83</td>\n",
       "      <td>9.408984</td>\n",
       "    </tr>\n",
       "    <tr>\n",
       "      <th>12</th>\n",
       "      <td>2006-01-01</td>\n",
       "      <td>2006-03-31 23:59:59.999</td>\n",
       "      <td>9169.71</td>\n",
       "      <td>10.017685</td>\n",
       "    </tr>\n",
       "    <tr>\n",
       "      <th>13</th>\n",
       "      <td>2006-04-01</td>\n",
       "      <td>2006-06-30 23:59:59.999</td>\n",
       "      <td>9231.55</td>\n",
       "      <td>7.609375</td>\n",
       "    </tr>\n",
       "    <tr>\n",
       "      <th>14</th>\n",
       "      <td>2006-07-01</td>\n",
       "      <td>2006-09-30 23:59:59.999</td>\n",
       "      <td>9583.48</td>\n",
       "      <td>9.934946</td>\n",
       "    </tr>\n",
       "    <tr>\n",
       "      <th>15</th>\n",
       "      <td>2006-10-01</td>\n",
       "      <td>2006-12-31 23:59:59.999</td>\n",
       "      <td>9790.03</td>\n",
       "      <td>9.817349</td>\n",
       "    </tr>\n",
       "    <tr>\n",
       "      <th>16</th>\n",
       "      <td>2007-01-01</td>\n",
       "      <td>2007-03-31 23:59:59.999</td>\n",
       "      <td>10057.94</td>\n",
       "      <td>9.686566</td>\n",
       "    </tr>\n",
       "    <tr>\n",
       "      <th>17</th>\n",
       "      <td>2007-04-01</td>\n",
       "      <td>2007-06-30 23:59:59.999</td>\n",
       "      <td>10229.08</td>\n",
       "      <td>10.805661</td>\n",
       "    </tr>\n",
       "    <tr>\n",
       "      <th>18</th>\n",
       "      <td>2007-07-01</td>\n",
       "      <td>2007-09-30 23:59:59.999</td>\n",
       "      <td>10437.15</td>\n",
       "      <td>8.907725</td>\n",
       "    </tr>\n",
       "    <tr>\n",
       "      <th>19</th>\n",
       "      <td>2007-10-01</td>\n",
       "      <td>2007-12-31 23:59:59.999</td>\n",
       "      <td>10849.78</td>\n",
       "      <td>10.824788</td>\n",
       "    </tr>\n",
       "    <tr>\n",
       "      <th>20</th>\n",
       "      <td>2008-01-01</td>\n",
       "      <td>2008-03-31 23:59:59.999</td>\n",
       "      <td>10947.90</td>\n",
       "      <td>8.848333</td>\n",
       "    </tr>\n",
       "    <tr>\n",
       "      <th>21</th>\n",
       "      <td>2008-04-01</td>\n",
       "      <td>2008-06-30 23:59:59.999</td>\n",
       "      <td>11047.35</td>\n",
       "      <td>7.999449</td>\n",
       "    </tr>\n",
       "    <tr>\n",
       "      <th>22</th>\n",
       "      <td>2008-07-01</td>\n",
       "      <td>2008-09-30 23:59:59.999</td>\n",
       "      <td>11104.22</td>\n",
       "      <td>6.391304</td>\n",
       "    </tr>\n",
       "    <tr>\n",
       "      <th>23</th>\n",
       "      <td>2008-10-01</td>\n",
       "      <td>2008-12-31 23:59:59.999</td>\n",
       "      <td>11064.87</td>\n",
       "      <td>1.982437</td>\n",
       "    </tr>\n",
       "    <tr>\n",
       "      <th>24</th>\n",
       "      <td>2009-01-01</td>\n",
       "      <td>2009-03-31 23:59:59.999</td>\n",
       "      <td>10965.61</td>\n",
       "      <td>0.161766</td>\n",
       "    </tr>\n",
       "    <tr>\n",
       "      <th>25</th>\n",
       "      <td>2009-04-01</td>\n",
       "      <td>2009-06-30 23:59:59.999</td>\n",
       "      <td>11578.02</td>\n",
       "      <td>4.803595</td>\n",
       "    </tr>\n",
       "    <tr>\n",
       "      <th>26</th>\n",
       "      <td>2009-07-01</td>\n",
       "      <td>2009-09-30 23:59:59.999</td>\n",
       "      <td>11867.18</td>\n",
       "      <td>6.870901</td>\n",
       "    </tr>\n",
       "    <tr>\n",
       "      <th>27</th>\n",
       "      <td>2009-10-01</td>\n",
       "      <td>2009-12-31 23:59:59.999</td>\n",
       "      <td>12019.46</td>\n",
       "      <td>8.627214</td>\n",
       "    </tr>\n",
       "    <tr>\n",
       "      <th>28</th>\n",
       "      <td>2010-01-01</td>\n",
       "      <td>2010-03-31 23:59:59.999</td>\n",
       "      <td>12385.69</td>\n",
       "      <td>12.950306</td>\n",
       "    </tr>\n",
       "    <tr>\n",
       "      <th>29</th>\n",
       "      <td>2010-04-01</td>\n",
       "      <td>2010-06-30 23:59:59.999</td>\n",
       "      <td>12759.80</td>\n",
       "      <td>10.207099</td>\n",
       "    </tr>\n",
       "    <tr>\n",
       "      <th>30</th>\n",
       "      <td>2010-07-01</td>\n",
       "      <td>2010-09-30 23:59:59.999</td>\n",
       "      <td>13037.89</td>\n",
       "      <td>9.865107</td>\n",
       "    </tr>\n",
       "    <tr>\n",
       "      <th>31</th>\n",
       "      <td>2010-10-01</td>\n",
       "      <td>2010-12-31 23:59:59.999</td>\n",
       "      <td>13329.02</td>\n",
       "      <td>10.895331</td>\n",
       "    </tr>\n",
       "    <tr>\n",
       "      <th>32</th>\n",
       "      <td>2011-01-01</td>\n",
       "      <td>2011-03-31 23:59:59.999</td>\n",
       "      <td>13610.51</td>\n",
       "      <td>9.888993</td>\n",
       "    </tr>\n",
       "    <tr>\n",
       "      <th>33</th>\n",
       "      <td>2011-04-01</td>\n",
       "      <td>2011-06-30 23:59:59.999</td>\n",
       "      <td>13836.57</td>\n",
       "      <td>8.438769</td>\n",
       "    </tr>\n",
       "    <tr>\n",
       "      <th>34</th>\n",
       "      <td>2011-07-01</td>\n",
       "      <td>2011-09-30 23:59:59.999</td>\n",
       "      <td>13946.05</td>\n",
       "      <td>6.965544</td>\n",
       "    </tr>\n",
       "    <tr>\n",
       "      <th>35</th>\n",
       "      <td>2011-10-01</td>\n",
       "      <td>2011-12-31 23:59:59.999</td>\n",
       "      <td>14151.31</td>\n",
       "      <td>6.169171</td>\n",
       "    </tr>\n",
       "    <tr>\n",
       "      <th>36</th>\n",
       "      <td>2012-01-01</td>\n",
       "      <td>2012-03-31 23:59:59.999</td>\n",
       "      <td>14320.53</td>\n",
       "      <td>5.216704</td>\n",
       "    </tr>\n",
       "    <tr>\n",
       "      <th>37</th>\n",
       "      <td>2012-04-01</td>\n",
       "      <td>2012-06-30 23:59:59.999</td>\n",
       "      <td>14425.12</td>\n",
       "      <td>4.253583</td>\n",
       "    </tr>\n",
       "    <tr>\n",
       "      <th>38</th>\n",
       "      <td>2012-07-01</td>\n",
       "      <td>2012-09-30 23:59:59.999</td>\n",
       "      <td>14620.60</td>\n",
       "      <td>4.836853</td>\n",
       "    </tr>\n",
       "    <tr>\n",
       "      <th>39</th>\n",
       "      <td>2012-10-01</td>\n",
       "      <td>2012-12-31 23:59:59.999</td>\n",
       "      <td>14896.50</td>\n",
       "      <td>5.265873</td>\n",
       "    </tr>\n",
       "    <tr>\n",
       "      <th>40</th>\n",
       "      <td>2013-01-01</td>\n",
       "      <td>2013-03-31 23:59:59.999</td>\n",
       "      <td>14979.57</td>\n",
       "      <td>4.602064</td>\n",
       "    </tr>\n",
       "    <tr>\n",
       "      <th>41</th>\n",
       "      <td>2013-04-01</td>\n",
       "      <td>2013-06-30 23:59:59.999</td>\n",
       "      <td>15075.86</td>\n",
       "      <td>4.511158</td>\n",
       "    </tr>\n",
       "    <tr>\n",
       "      <th>42</th>\n",
       "      <td>2013-07-01</td>\n",
       "      <td>2013-09-30 23:59:59.999</td>\n",
       "      <td>15374.32</td>\n",
       "      <td>5.155192</td>\n",
       "    </tr>\n",
       "    <tr>\n",
       "      <th>43</th>\n",
       "      <td>2013-10-01</td>\n",
       "      <td>2013-12-31 23:59:59.999</td>\n",
       "      <td>15561.92</td>\n",
       "      <td>4.466955</td>\n",
       "    </tr>\n",
       "    <tr>\n",
       "      <th>44</th>\n",
       "      <td>2014-01-01</td>\n",
       "      <td>2014-03-31 23:59:59.999</td>\n",
       "      <td>15865.85</td>\n",
       "      <td>5.916592</td>\n",
       "    </tr>\n",
       "    <tr>\n",
       "      <th>45</th>\n",
       "      <td>2014-04-01</td>\n",
       "      <td>2014-06-30 23:59:59.999</td>\n",
       "      <td>15985.67</td>\n",
       "      <td>6.034880</td>\n",
       "    </tr>\n",
       "    <tr>\n",
       "      <th>46</th>\n",
       "      <td>2014-07-01</td>\n",
       "      <td>2014-09-30 23:59:59.999</td>\n",
       "      <td>16299.59</td>\n",
       "      <td>6.018282</td>\n",
       "    </tr>\n",
       "    <tr>\n",
       "      <th>47</th>\n",
       "      <td>2014-10-01</td>\n",
       "      <td>2014-12-31 23:59:59.999</td>\n",
       "      <td>NaN</td>\n",
       "      <td>NaN</td>\n",
       "    </tr>\n",
       "  </tbody>\n",
       "</table>\n",
       "</div>"
      ],
      "text/plain": [
       "      dateid01                   dateid      rgdp        ygr\n",
       "0   2003-01-01  2003-03-31 23:59:59.999   7028.06   3.210846\n",
       "1   2003-04-01  2003-06-30 23:59:59.999   7221.13   5.046689\n",
       "2   2003-07-01  2003-09-30 23:59:59.999   7412.13   7.369267\n",
       "3   2003-10-01  2003-12-31 23:59:59.999   7748.63  11.823654\n",
       "4   2004-01-01  2004-03-31 23:59:59.999   7635.01   8.636096\n",
       "5   2004-04-01  2004-06-30 23:59:59.999   7841.48   8.590761\n",
       "6   2004-07-01  2004-09-30 23:59:59.999   8060.99   8.754029\n",
       "7   2004-10-01  2004-12-31 23:59:59.999   8148.17   5.156266\n",
       "8   2005-01-01  2005-03-31 23:59:59.999   8334.76   9.165017\n",
       "9   2005-04-01  2005-06-30 23:59:59.999   8578.76   9.402307\n",
       "10  2005-07-01  2005-09-30 23:59:59.999   8717.41   8.143169\n",
       "11  2005-10-01  2005-12-31 23:59:59.999   8914.83   9.408984\n",
       "12  2006-01-01  2006-03-31 23:59:59.999   9169.71  10.017685\n",
       "13  2006-04-01  2006-06-30 23:59:59.999   9231.55   7.609375\n",
       "14  2006-07-01  2006-09-30 23:59:59.999   9583.48   9.934946\n",
       "15  2006-10-01  2006-12-31 23:59:59.999   9790.03   9.817349\n",
       "16  2007-01-01  2007-03-31 23:59:59.999  10057.94   9.686566\n",
       "17  2007-04-01  2007-06-30 23:59:59.999  10229.08  10.805661\n",
       "18  2007-07-01  2007-09-30 23:59:59.999  10437.15   8.907725\n",
       "19  2007-10-01  2007-12-31 23:59:59.999  10849.78  10.824788\n",
       "20  2008-01-01  2008-03-31 23:59:59.999  10947.90   8.848333\n",
       "21  2008-04-01  2008-06-30 23:59:59.999  11047.35   7.999449\n",
       "22  2008-07-01  2008-09-30 23:59:59.999  11104.22   6.391304\n",
       "23  2008-10-01  2008-12-31 23:59:59.999  11064.87   1.982437\n",
       "24  2009-01-01  2009-03-31 23:59:59.999  10965.61   0.161766\n",
       "25  2009-04-01  2009-06-30 23:59:59.999  11578.02   4.803595\n",
       "26  2009-07-01  2009-09-30 23:59:59.999  11867.18   6.870901\n",
       "27  2009-10-01  2009-12-31 23:59:59.999  12019.46   8.627214\n",
       "28  2010-01-01  2010-03-31 23:59:59.999  12385.69  12.950306\n",
       "29  2010-04-01  2010-06-30 23:59:59.999  12759.80  10.207099\n",
       "30  2010-07-01  2010-09-30 23:59:59.999  13037.89   9.865107\n",
       "31  2010-10-01  2010-12-31 23:59:59.999  13329.02  10.895331\n",
       "32  2011-01-01  2011-03-31 23:59:59.999  13610.51   9.888993\n",
       "33  2011-04-01  2011-06-30 23:59:59.999  13836.57   8.438769\n",
       "34  2011-07-01  2011-09-30 23:59:59.999  13946.05   6.965544\n",
       "35  2011-10-01  2011-12-31 23:59:59.999  14151.31   6.169171\n",
       "36  2012-01-01  2012-03-31 23:59:59.999  14320.53   5.216704\n",
       "37  2012-04-01  2012-06-30 23:59:59.999  14425.12   4.253583\n",
       "38  2012-07-01  2012-09-30 23:59:59.999  14620.60   4.836853\n",
       "39  2012-10-01  2012-12-31 23:59:59.999  14896.50   5.265873\n",
       "40  2013-01-01  2013-03-31 23:59:59.999  14979.57   4.602064\n",
       "41  2013-04-01  2013-06-30 23:59:59.999  15075.86   4.511158\n",
       "42  2013-07-01  2013-09-30 23:59:59.999  15374.32   5.155192\n",
       "43  2013-10-01  2013-12-31 23:59:59.999  15561.92   4.466955\n",
       "44  2014-01-01  2014-03-31 23:59:59.999  15865.85   5.916592\n",
       "45  2014-04-01  2014-06-30 23:59:59.999  15985.67   6.034880\n",
       "46  2014-07-01  2014-09-30 23:59:59.999  16299.59   6.018282\n",
       "47  2014-10-01  2014-12-31 23:59:59.999       NaN        NaN"
      ]
     },
     "execution_count": 105,
     "metadata": {},
     "output_type": "execute_result"
    }
   ],
   "source": [
    "india"
   ]
  },
  {
   "cell_type": "code",
   "execution_count": 112,
   "metadata": {},
   "outputs": [],
   "source": [
    "p = 1\n",
    "d = 0\n",
    "q = 0\n",
    "horizon=2\n",
    "window = 24\n",
    "data = india[:47].ygr"
   ]
  },
  {
   "cell_type": "code",
   "execution_count": 114,
   "metadata": {},
   "outputs": [
    {
     "name": "stderr",
     "output_type": "stream",
     "text": [
      "/Users/kmiyaki/anaconda3/lib/python3.7/site-packages/statsmodels/base/model.py:508: ConvergenceWarning: Maximum Likelihood optimization failed to converge. Check mle_retvals\n",
      "  \"Check mle_retvals\", ConvergenceWarning)\n"
     ]
    }
   ],
   "source": [
    "# expansion\n",
    "forecast = []\n",
    "for i in range(0, len(data)-window+1):\n",
    "    data_use = data[0:i+window]\n",
    "    model = ts.arima_model.ARIMA(endog=data_use, order=(p, d, q)).fit()\n",
    "    horizon_forecast = model.forecast(steps=horizon)\n",
    "    forecast.append(horizon_forecast[0][horizon-1])\n",
    "    \n",
    "result = pd.concat([pd.DataFrame(data[window+horizon-1:]), \n",
    "                    pd.DataFrame(forecast[:-horizon], index=pd.DataFrame(data[window+horizon-1:]).index)], \n",
    "                   axis=1)\n",
    "result.rename(columns={\"ygr\":\"actual\", 0:\"forecast\"}, inplace=True)"
   ]
  },
  {
   "cell_type": "code",
   "execution_count": 115,
   "metadata": {},
   "outputs": [
    {
     "data": {
      "text/html": [
       "<div>\n",
       "<style scoped>\n",
       "    .dataframe tbody tr th:only-of-type {\n",
       "        vertical-align: middle;\n",
       "    }\n",
       "\n",
       "    .dataframe tbody tr th {\n",
       "        vertical-align: top;\n",
       "    }\n",
       "\n",
       "    .dataframe thead th {\n",
       "        text-align: right;\n",
       "    }\n",
       "</style>\n",
       "<table border=\"1\" class=\"dataframe\">\n",
       "  <thead>\n",
       "    <tr style=\"text-align: right;\">\n",
       "      <th></th>\n",
       "      <th>ygr</th>\n",
       "      <th>forecast</th>\n",
       "    </tr>\n",
       "  </thead>\n",
       "  <tbody>\n",
       "    <tr>\n",
       "      <th>25</th>\n",
       "      <td>4.803595</td>\n",
       "      <td>5.785756</td>\n",
       "    </tr>\n",
       "    <tr>\n",
       "      <th>26</th>\n",
       "      <td>6.870901</td>\n",
       "      <td>2.832901</td>\n",
       "    </tr>\n",
       "    <tr>\n",
       "      <th>27</th>\n",
       "      <td>8.627214</td>\n",
       "      <td>6.263709</td>\n",
       "    </tr>\n",
       "    <tr>\n",
       "      <th>28</th>\n",
       "      <td>12.950306</td>\n",
       "      <td>7.219759</td>\n",
       "    </tr>\n",
       "    <tr>\n",
       "      <th>29</th>\n",
       "      <td>10.207099</td>\n",
       "      <td>7.991891</td>\n",
       "    </tr>\n",
       "    <tr>\n",
       "      <th>30</th>\n",
       "      <td>9.865107</td>\n",
       "      <td>9.992776</td>\n",
       "    </tr>\n",
       "    <tr>\n",
       "      <th>31</th>\n",
       "      <td>10.895331</td>\n",
       "      <td>8.784735</td>\n",
       "    </tr>\n",
       "    <tr>\n",
       "      <th>32</th>\n",
       "      <td>9.888993</td>\n",
       "      <td>8.690959</td>\n",
       "    </tr>\n",
       "    <tr>\n",
       "      <th>33</th>\n",
       "      <td>8.438769</td>\n",
       "      <td>9.212956</td>\n",
       "    </tr>\n",
       "    <tr>\n",
       "      <th>34</th>\n",
       "      <td>6.965544</td>\n",
       "      <td>8.809349</td>\n",
       "    </tr>\n",
       "    <tr>\n",
       "      <th>35</th>\n",
       "      <td>6.169171</td>\n",
       "      <td>8.187613</td>\n",
       "    </tr>\n",
       "    <tr>\n",
       "      <th>36</th>\n",
       "      <td>5.216704</td>\n",
       "      <td>7.544016</td>\n",
       "    </tr>\n",
       "    <tr>\n",
       "      <th>37</th>\n",
       "      <td>4.253583</td>\n",
       "      <td>7.159790</td>\n",
       "    </tr>\n",
       "    <tr>\n",
       "      <th>38</th>\n",
       "      <td>4.836853</td>\n",
       "      <td>6.655842</td>\n",
       "    </tr>\n",
       "    <tr>\n",
       "      <th>39</th>\n",
       "      <td>5.265873</td>\n",
       "      <td>6.064649</td>\n",
       "    </tr>\n",
       "    <tr>\n",
       "      <th>40</th>\n",
       "      <td>4.602064</td>\n",
       "      <td>6.276186</td>\n",
       "    </tr>\n",
       "    <tr>\n",
       "      <th>41</th>\n",
       "      <td>4.511158</td>\n",
       "      <td>6.438683</td>\n",
       "    </tr>\n",
       "    <tr>\n",
       "      <th>42</th>\n",
       "      <td>5.155192</td>\n",
       "      <td>6.019861</td>\n",
       "    </tr>\n",
       "    <tr>\n",
       "      <th>43</th>\n",
       "      <td>4.466955</td>\n",
       "      <td>5.894811</td>\n",
       "    </tr>\n",
       "    <tr>\n",
       "      <th>44</th>\n",
       "      <td>5.916592</td>\n",
       "      <td>6.202825</td>\n",
       "    </tr>\n",
       "    <tr>\n",
       "      <th>45</th>\n",
       "      <td>6.034880</td>\n",
       "      <td>5.763903</td>\n",
       "    </tr>\n",
       "    <tr>\n",
       "      <th>46</th>\n",
       "      <td>6.018282</td>\n",
       "      <td>6.552618</td>\n",
       "    </tr>\n",
       "  </tbody>\n",
       "</table>\n",
       "</div>"
      ],
      "text/plain": [
       "          ygr  forecast\n",
       "25   4.803595  5.785756\n",
       "26   6.870901  2.832901\n",
       "27   8.627214  6.263709\n",
       "28  12.950306  7.219759\n",
       "29  10.207099  7.991891\n",
       "30   9.865107  9.992776\n",
       "31  10.895331  8.784735\n",
       "32   9.888993  8.690959\n",
       "33   8.438769  9.212956\n",
       "34   6.965544  8.809349\n",
       "35   6.169171  8.187613\n",
       "36   5.216704  7.544016\n",
       "37   4.253583  7.159790\n",
       "38   4.836853  6.655842\n",
       "39   5.265873  6.064649\n",
       "40   4.602064  6.276186\n",
       "41   4.511158  6.438683\n",
       "42   5.155192  6.019861\n",
       "43   4.466955  5.894811\n",
       "44   5.916592  6.202825\n",
       "45   6.034880  5.763903\n",
       "46   6.018282  6.552618"
      ]
     },
     "execution_count": 115,
     "metadata": {},
     "output_type": "execute_result"
    }
   ],
   "source": [
    "result"
   ]
  },
  {
   "cell_type": "code",
   "execution_count": 116,
   "metadata": {},
   "outputs": [],
   "source": [
    "result[\"AE\"] = np.absolute(result.actual-result.forecast)"
   ]
  },
  {
   "cell_type": "code",
   "execution_count": 118,
   "metadata": {},
   "outputs": [
    {
     "data": {
      "text/plain": [
       "1.7381433952037795"
      ]
     },
     "execution_count": 118,
     "metadata": {},
     "output_type": "execute_result"
    }
   ],
   "source": [
    "np.average(result.AE)"
   ]
  },
  {
   "cell_type": "code",
   "execution_count": 120,
   "metadata": {},
   "outputs": [],
   "source": [
    "p = 1\n",
    "d = 0\n",
    "q = 0\n",
    "horizon=1\n",
    "window = 24\n",
    "data = india[:47].ygr"
   ]
  },
  {
   "cell_type": "code",
   "execution_count": 123,
   "metadata": {},
   "outputs": [
    {
     "name": "stderr",
     "output_type": "stream",
     "text": [
      "/Users/kmiyaki/anaconda3/lib/python3.7/site-packages/statsmodels/base/model.py:508: ConvergenceWarning: Maximum Likelihood optimization failed to converge. Check mle_retvals\n",
      "  \"Check mle_retvals\", ConvergenceWarning)\n"
     ]
    }
   ],
   "source": [
    "# expansion\n",
    "forecast = []\n",
    "for i in range(0, len(data)-window+1):\n",
    "    data_use = data[0:i+window]\n",
    "    model = ts.arima_model.ARIMA(endog=data_use, order=(p, d, q)).fit()\n",
    "    horizon_forecast = model.forecast(steps=horizon)\n",
    "    forecast.append(horizon_forecast[0][horizon-1])\n",
    "    \n",
    "result = pd.concat([pd.DataFrame(data[window+horizon-1:]), \n",
    "                    pd.DataFrame(forecast[:-horizon], index=pd.DataFrame(data[window+horizon-1:]).index)], \n",
    "                   axis=1)\n",
    "result.rename(columns={\"ygr\":\"actual\", 0:\"forecast\"}, inplace=True)"
   ]
  },
  {
   "cell_type": "code",
   "execution_count": 126,
   "metadata": {},
   "outputs": [
    {
     "data": {
      "text/plain": [
       "1.781395487655124"
      ]
     },
     "execution_count": 126,
     "metadata": {},
     "output_type": "execute_result"
    }
   ],
   "source": [
    "np.sqrt(mean_squared_error(result.actual, result.forecast))"
   ]
  },
  {
   "cell_type": "code",
   "execution_count": 127,
   "metadata": {},
   "outputs": [],
   "source": [
    "p = 1\n",
    "d = 0\n",
    "q = 0\n",
    "horizon=1\n",
    "window = 24\n",
    "data = india[:47].ygr"
   ]
  },
  {
   "cell_type": "code",
   "execution_count": 128,
   "metadata": {},
   "outputs": [],
   "source": [
    "# rolling\n",
    "forecast = []\n",
    "for i in range(0, len(data)-window+1):\n",
    "    data_use = data[i:i+window]\n",
    "    model = ts.arima_model.ARIMA(endog=data_use, order=(p, d, q)).fit()\n",
    "    horizon_forecast = model.forecast(steps=horizon)\n",
    "    forecast.append(horizon_forecast[0][horizon-1])\n",
    "    \n",
    "result = pd.concat([pd.DataFrame(data[window+horizon-1:]), \n",
    "                    pd.DataFrame(forecast[:-horizon], index=pd.DataFrame(data[window+horizon-1:]).index)], \n",
    "                   axis=1)\n",
    "result.rename(columns={\"ygr\":\"actual\", 0:\"forecast\"}, inplace=True)"
   ]
  },
  {
   "cell_type": "code",
   "execution_count": 129,
   "metadata": {},
   "outputs": [
    {
     "data": {
      "text/plain": [
       "1.7078992318054262"
      ]
     },
     "execution_count": 129,
     "metadata": {},
     "output_type": "execute_result"
    }
   ],
   "source": [
    "np.sqrt(mean_squared_error(result.actual, result.forecast))"
   ]
  },
  {
   "cell_type": "code",
   "execution_count": 131,
   "metadata": {},
   "outputs": [],
   "source": [
    "p = 1\n",
    "d = 0\n",
    "q = 0\n",
    "horizon=2\n",
    "window = 24\n",
    "data = india[:47].ygr"
   ]
  },
  {
   "cell_type": "code",
   "execution_count": 132,
   "metadata": {},
   "outputs": [],
   "source": [
    "# rolling\n",
    "forecast = []\n",
    "for i in range(0, len(data)-window+1):\n",
    "    data_use = data[i:i+window]\n",
    "    model = ts.arima_model.ARIMA(endog=data_use, order=(p, d, q)).fit()\n",
    "    horizon_forecast = model.forecast(steps=horizon)\n",
    "    forecast.append(horizon_forecast[0][horizon-1])\n",
    "    \n",
    "result = pd.concat([pd.DataFrame(data[window+horizon-1:]), \n",
    "                    pd.DataFrame(forecast[:-horizon], index=pd.DataFrame(data[window+horizon-1:]).index)], \n",
    "                   axis=1)\n",
    "result.rename(columns={\"ygr\":\"actual\", 0:\"forecast\"}, inplace=True)"
   ]
  },
  {
   "cell_type": "code",
   "execution_count": 133,
   "metadata": {},
   "outputs": [],
   "source": [
    "result[\"AE\"] = np.absolute(result.actual-result.forecast)"
   ]
  },
  {
   "cell_type": "code",
   "execution_count": 134,
   "metadata": {},
   "outputs": [
    {
     "data": {
      "text/plain": [
       "1.643017678494302"
      ]
     },
     "execution_count": 134,
     "metadata": {},
     "output_type": "execute_result"
    }
   ],
   "source": [
    "np.average(result.AE)"
   ]
  },
  {
   "cell_type": "markdown",
   "metadata": {},
   "source": [
    "## Session 7 Workshop Questions: Fan Charts in EViews\n",
    "\n",
    "Open the Module 4 Workfile and go to the Thailand_M pagefile. We will use the Fan Charts Program file as well. As mentioned in lecture, you can change the model to your own specifications by changing the equation in the main program.\n",
    "\n",
    "Let’s apply the code to create a fan chart for an AR(1) model. Specify the model as such (line 29). Set the sample for estimation to be the entire dataset up to December 2012 (\"@first 2012m12\") and let’s construct the fan chart for 2013 (\"2013m1 2013m12\"). For now assume that the errors are bootstrapped, and there is coefficient uncertainty. Make a fan chart for 2013 with 3 bands (for 30, 60 and 90% confidence).\n",
    "\n",
    "Because construction of a fan chart relies on the EViews random number generator, please rerun the program if your confidence bands do not look smooth. This is an artifact of a specific sequence of random draws."
   ]
  },
  {
   "cell_type": "code",
   "execution_count": 137,
   "metadata": {},
   "outputs": [],
   "source": [
    "thailand = pd.read_csv(\"data/M4_data.csv\")"
   ]
  },
  {
   "cell_type": "code",
   "execution_count": 139,
   "metadata": {},
   "outputs": [
    {
     "data": {
      "text/html": [
       "<div>\n",
       "<style scoped>\n",
       "    .dataframe tbody tr th:only-of-type {\n",
       "        vertical-align: middle;\n",
       "    }\n",
       "\n",
       "    .dataframe tbody tr th {\n",
       "        vertical-align: top;\n",
       "    }\n",
       "\n",
       "    .dataframe thead th {\n",
       "        text-align: right;\n",
       "    }\n",
       "</style>\n",
       "<table border=\"1\" class=\"dataframe\">\n",
       "  <thead>\n",
       "    <tr style=\"text-align: right;\">\n",
       "      <th></th>\n",
       "      <th>date</th>\n",
       "      <th>cpi</th>\n",
       "    </tr>\n",
       "  </thead>\n",
       "  <tbody>\n",
       "    <tr>\n",
       "      <th>115</th>\n",
       "      <td>8/31/12</td>\n",
       "      <td>2.76</td>\n",
       "    </tr>\n",
       "    <tr>\n",
       "      <th>116</th>\n",
       "      <td>9/30/12</td>\n",
       "      <td>3.38</td>\n",
       "    </tr>\n",
       "    <tr>\n",
       "      <th>117</th>\n",
       "      <td>10/31/12</td>\n",
       "      <td>3.27</td>\n",
       "    </tr>\n",
       "    <tr>\n",
       "      <th>118</th>\n",
       "      <td>11/30/12</td>\n",
       "      <td>2.66</td>\n",
       "    </tr>\n",
       "    <tr>\n",
       "      <th>119</th>\n",
       "      <td>12/31/12</td>\n",
       "      <td>3.55</td>\n",
       "    </tr>\n",
       "  </tbody>\n",
       "</table>\n",
       "</div>"
      ],
      "text/plain": [
       "         date   cpi\n",
       "115   8/31/12  2.76\n",
       "116   9/30/12  3.38\n",
       "117  10/31/12  3.27\n",
       "118  11/30/12  2.66\n",
       "119  12/31/12  3.55"
      ]
     },
     "execution_count": 139,
     "metadata": {},
     "output_type": "execute_result"
    }
   ],
   "source": [
    "data = thailand[:120]\n",
    "data.tail()"
   ]
  },
  {
   "cell_type": "code",
   "execution_count": 140,
   "metadata": {},
   "outputs": [
    {
     "data": {
      "text/html": [
       "<table class=\"simpletable\">\n",
       "<caption>ARMA Model Results</caption>\n",
       "<tr>\n",
       "  <th>Dep. Variable:</th>        <td>cpi</td>       <th>  No. Observations:  </th>    <td>120</td>  \n",
       "</tr>\n",
       "<tr>\n",
       "  <th>Model:</th>            <td>ARMA(1, 0)</td>    <th>  Log Likelihood     </th> <td>-136.264</td>\n",
       "</tr>\n",
       "<tr>\n",
       "  <th>Method:</th>             <td>css-mle</td>     <th>  S.D. of innovations</th>   <td>0.747</td> \n",
       "</tr>\n",
       "<tr>\n",
       "  <th>Date:</th>          <td>Wed, 13 Nov 2019</td> <th>  AIC                </th>  <td>278.529</td>\n",
       "</tr>\n",
       "<tr>\n",
       "  <th>Time:</th>              <td>11:57:49</td>     <th>  BIC                </th>  <td>286.891</td>\n",
       "</tr>\n",
       "<tr>\n",
       "  <th>Sample:</th>                <td>0</td>        <th>  HQIC               </th>  <td>281.925</td>\n",
       "</tr>\n",
       "<tr>\n",
       "  <th></th>                       <td> </td>        <th>                     </th>     <td> </td>   \n",
       "</tr>\n",
       "</table>\n",
       "<table class=\"simpletable\">\n",
       "<tr>\n",
       "      <td></td>         <th>coef</th>     <th>std err</th>      <th>z</th>      <th>P>|z|</th>  <th>[0.025</th>    <th>0.975]</th>  \n",
       "</tr>\n",
       "<tr>\n",
       "  <th>const</th>     <td>    3.0561</td> <td>    0.856</td> <td>    3.570</td> <td> 0.001</td> <td>    1.378</td> <td>    4.734</td>\n",
       "</tr>\n",
       "<tr>\n",
       "  <th>ar.L1.cpi</th> <td>    0.9277</td> <td>    0.031</td> <td>   29.845</td> <td> 0.000</td> <td>    0.867</td> <td>    0.989</td>\n",
       "</tr>\n",
       "</table>\n",
       "<table class=\"simpletable\">\n",
       "<caption>Roots</caption>\n",
       "<tr>\n",
       "    <td></td>   <th>            Real</th>  <th>         Imaginary</th> <th>         Modulus</th>  <th>        Frequency</th>\n",
       "</tr>\n",
       "<tr>\n",
       "  <th>AR.1</th> <td>           1.0779</td> <td>          +0.0000j</td> <td>           1.0779</td> <td>           0.0000</td>\n",
       "</tr>\n",
       "</table>"
      ],
      "text/plain": [
       "<class 'statsmodels.iolib.summary.Summary'>\n",
       "\"\"\"\n",
       "                              ARMA Model Results                              \n",
       "==============================================================================\n",
       "Dep. Variable:                    cpi   No. Observations:                  120\n",
       "Model:                     ARMA(1, 0)   Log Likelihood                -136.264\n",
       "Method:                       css-mle   S.D. of innovations              0.747\n",
       "Date:                Wed, 13 Nov 2019   AIC                            278.529\n",
       "Time:                        11:57:49   BIC                            286.891\n",
       "Sample:                             0   HQIC                           281.925\n",
       "                                                                              \n",
       "==============================================================================\n",
       "                 coef    std err          z      P>|z|      [0.025      0.975]\n",
       "------------------------------------------------------------------------------\n",
       "const          3.0561      0.856      3.570      0.001       1.378       4.734\n",
       "ar.L1.cpi      0.9277      0.031     29.845      0.000       0.867       0.989\n",
       "                                    Roots                                    \n",
       "=============================================================================\n",
       "                  Real          Imaginary           Modulus         Frequency\n",
       "-----------------------------------------------------------------------------\n",
       "AR.1            1.0779           +0.0000j            1.0779            0.0000\n",
       "-----------------------------------------------------------------------------\n",
       "\"\"\""
      ]
     },
     "execution_count": 140,
     "metadata": {},
     "output_type": "execute_result"
    }
   ],
   "source": [
    "model = ts.arima_model.ARIMA(endog=data.cpi, order=(1, 0, 0)).fit()\n",
    "model.summary()"
   ]
  },
  {
   "cell_type": "code",
   "execution_count": 144,
   "metadata": {},
   "outputs": [
    {
     "data": {
      "text/plain": [
       "(array([3.51428208, 3.481147  , 3.45040799, 3.42189178, 3.39543763,\n",
       "        3.37089644, 3.34812988, 3.32700961, 3.30741659, 3.28924038,\n",
       "        3.27237853, 3.256736  ]),\n",
       " array([0.74705772, 1.01901654, 1.2048829 , 1.34442262, 1.45382758,\n",
       "        1.54177894, 1.61363685, 1.6730089 , 1.72246708, 1.76392112,\n",
       "        1.79883199, 1.82834284]),\n",
       " array([[2.28548149, 4.74308268],\n",
       "        [1.80501395, 5.15728006],\n",
       "        [1.46855199, 5.432264  ],\n",
       "        [1.21051336, 5.6332702 ],\n",
       "        [1.00410407, 5.7867712 ],\n",
       "        [0.83489576, 5.90689713],\n",
       "        [0.69393345, 6.0023263 ],\n",
       "        [0.57515484, 6.07886437],\n",
       "        [0.47421036, 6.14062282],\n",
       "        [0.38784833, 6.19063244],\n",
       "        [0.31356321, 6.23119386],\n",
       "        [0.24937965, 6.26409236]]))"
      ]
     },
     "execution_count": 144,
     "metadata": {},
     "output_type": "execute_result"
    }
   ],
   "source": [
    "model.forecast(steps=12, alpha = 0.1)"
   ]
  },
  {
   "cell_type": "code",
   "execution_count": 145,
   "metadata": {},
   "outputs": [
    {
     "data": {
      "text/plain": [
       "(array([3.51428208, 3.481147  , 3.45040799, 3.42189178, 3.39543763,\n",
       "        3.37089644, 3.34812988, 3.32700961, 3.30741659, 3.28924038,\n",
       "        3.27237853, 3.256736  ]),\n",
       " array([0.74705772, 1.01901654, 1.2048829 , 1.34442262, 1.45382758,\n",
       "        1.54177894, 1.61363685, 1.6730089 , 1.72246708, 1.76392112,\n",
       "        1.79883199, 1.82834284]),\n",
       " array([[2.88554245, 4.14302172],\n",
       "        [2.62352104, 4.33877296],\n",
       "        [2.43635296, 4.46446302],\n",
       "        [2.29039716, 4.5533864 ],\n",
       "        [2.17186547, 4.61900979],\n",
       "        [2.07330255, 4.66849034],\n",
       "        [1.99005884, 4.70620091],\n",
       "        [1.91896979, 4.73504943],\n",
       "        [1.85775172, 4.75708146],\n",
       "        [1.80468691, 4.77379385],\n",
       "        [1.75844333, 4.78631373],\n",
       "        [1.71796384, 4.79550816]]))"
      ]
     },
     "execution_count": 145,
     "metadata": {},
     "output_type": "execute_result"
    }
   ],
   "source": [
    "model.forecast(steps=12, alpha = 0.4)"
   ]
  },
  {
   "cell_type": "code",
   "execution_count": 146,
   "metadata": {},
   "outputs": [
    {
     "data": {
      "text/plain": [
       "(array([3.51428208, 3.481147  , 3.45040799, 3.42189178, 3.39543763,\n",
       "        3.37089644, 3.34812988, 3.32700961, 3.30741659, 3.28924038,\n",
       "        3.27237853, 3.256736  ]),\n",
       " array([0.74705772, 1.01901654, 1.2048829 , 1.34442262, 1.45382758,\n",
       "        1.54177894, 1.61363685, 1.6730089 , 1.72246708, 1.76392112,\n",
       "        1.79883199, 1.82834284]),\n",
       " array([[3.22642546, 3.80213871],\n",
       "        [3.08849907, 3.87379493],\n",
       "        [2.98614195, 3.91467403],\n",
       "        [2.90385823, 3.93992533],\n",
       "        [2.83524811, 3.95562715],\n",
       "        [2.77681746, 3.96497542],\n",
       "        [2.72636257, 3.96989718],\n",
       "        [2.68236504, 3.97165418],\n",
       "        [2.64371477, 3.97111841],\n",
       "        [2.60956547, 3.96891529],\n",
       "        [2.57925175, 3.96550532],\n",
       "        [2.55223809, 3.96123392]]))"
      ]
     },
     "execution_count": 146,
     "metadata": {},
     "output_type": "execute_result"
    }
   ],
   "source": [
    "model.forecast(steps=12, alpha = 0.7)"
   ]
  },
  {
   "cell_type": "code",
   "execution_count": 148,
   "metadata": {},
   "outputs": [
    {
     "data": {
      "text/plain": [
       "date    12/31/13\n",
       "cpi         1.66\n",
       "Name: 131, dtype: object"
      ]
     },
     "execution_count": 148,
     "metadata": {},
     "output_type": "execute_result"
    }
   ],
   "source": [
    "thailand.iloc[131]"
   ]
  },
  {
   "cell_type": "code",
   "execution_count": 149,
   "metadata": {},
   "outputs": [
    {
     "data": {
      "text/plain": [
       "date    12/31/14\n",
       "cpi         0.62\n",
       "Name: 143, dtype: object"
      ]
     },
     "execution_count": 149,
     "metadata": {},
     "output_type": "execute_result"
    }
   ],
   "source": [
    "thailand.iloc[143]"
   ]
  },
  {
   "cell_type": "code",
   "execution_count": null,
   "metadata": {},
   "outputs": [],
   "source": []
  }
 ],
 "metadata": {
  "kernelspec": {
   "display_name": "Python 3",
   "language": "python",
   "name": "python3"
  },
  "language_info": {
   "codemirror_mode": {
    "name": "ipython",
    "version": 3
   },
   "file_extension": ".py",
   "mimetype": "text/x-python",
   "name": "python",
   "nbconvert_exporter": "python",
   "pygments_lexer": "ipython3",
   "version": "3.7.3"
  }
 },
 "nbformat": 4,
 "nbformat_minor": 2
}
